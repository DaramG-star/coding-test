{
  "nbformat": 4,
  "nbformat_minor": 0,
  "metadata": {
    "colab": {
      "provenance": [],
      "authorship_tag": "ABX9TyPVE9po4fwwQAlXmYsVCZfG",
      "include_colab_link": true
    },
    "kernelspec": {
      "name": "python3",
      "display_name": "Python 3"
    },
    "language_info": {
      "name": "python"
    }
  },
  "cells": [
    {
      "cell_type": "markdown",
      "metadata": {
        "id": "view-in-github",
        "colab_type": "text"
      },
      "source": [
        "<a href=\"https://colab.research.google.com/github/DaramG-star/coding-test/blob/main/%EB%B0%B1%EC%A4%80_%EC%95%8C%EA%B3%A0%EB%A6%AC%EC%A6%98%5B%EB%B8%8C%EB%A3%A8%ED%8A%B8_%ED%8F%AC%EC%8A%A4%5D.ipynb\" target=\"_parent\"><img src=\"https://colab.research.google.com/assets/colab-badge.svg\" alt=\"Open In Colab\"/></a>"
      ]
    },
    {
      "cell_type": "markdown",
      "source": [
        "## 2875 - 대회 or 인턴\n",
        "\n",
        "문제\n",
        "\n",
        "백준대학교에서는 대회에 나갈 때 2명의 여학생과 1명의 남학생이 팀을 결성해서 나가는 것이 원칙이다. (왜인지는 총장님께 여쭈어보는 것이 좋겠다.)\n",
        "\n",
        "백준대학교는 뛰어난 인재들이 많아 올해에도 N명의 여학생과 M명의 남학생이 팀원을 찾고 있다. 대회에 참여하려는 학생들 중 K명은 반드시 인턴쉽 프로그램에 참여해야 한다. 인턴쉽에 참여하는 학생은 대회에 참여하지 못한다.\n",
        "\n",
        "백준대학교에서는 뛰어난 인재들이 많기 때문에, 많은 팀을 만드는 것이 최선이다.\n",
        "\n",
        "여러분은 여학생의 수 N, 남학생의 수 M, 인턴쉽에 참여해야하는 인원 K가 주어질 때 만들 수 있는 최대의 팀 수를 구하면 된다.\n",
        "\n",
        "입력\n",
        "\n",
        "첫째 줄에 N, M, K가 순서대로 주어진다. (0 ≤ M ≤ 100, 0 ≤ N ≤ 100, 0 ≤ K ≤ M+N),\n",
        "\n",
        "출력\n",
        "\n",
        "만들 수 있는 팀의 최대 개수을 출력하면 된다."
      ],
      "metadata": {
        "id": "ijAjlYQhRj7F"
      }
    },
    {
      "cell_type": "code",
      "execution_count": null,
      "metadata": {
        "id": "-FfumkIbRciH"
      },
      "outputs": [],
      "source": [
        "N, M, K = map(int, input().split())\n",
        "\n",
        "team = min(N //2, M)\n",
        "\n",
        "while (N + M - team * 3) < K:\n",
        "    team -=1\n",
        "\n",
        "print(team)"
      ]
    },
    {
      "cell_type": "markdown",
      "source": [
        "## 완전 제곱수\n",
        "\n",
        "문제\n",
        "\n",
        "상근이는 선영이와 함께 게임을 하고 있다. 먼저, 상근이는 두 양의 정수 A와 B를 고른다. (1 ≤ B ≤ A ≤ 500) 그 다음, 선영이는 상근이가 고른 수를 맞춰야 한다.\n",
        "\n",
        "상근이는 선영이에게 다음과 같은 힌트를 주었다.\n",
        "\n",
        "A의 제곱은 B의 제곱보다 N만큼 커 (1 ≤ N ≤ 1,000)\n",
        "\n",
        "위의 힌트 조건을 만족하는 A와 B 쌍의 개수를 구하는 프로그램을 작성하시오.\n",
        "\n",
        "입력\n",
        "\n",
        "첫째 줄에 N이 주어진다.\n",
        "\n",
        "출력\n",
        "\n",
        "상근이의 힌트 조건을 만족하는 (A,B) 쌍의 개수를 출력한다."
      ],
      "metadata": {
        "id": "Uo616dNNk6lm"
      }
    },
    {
      "cell_type": "code",
      "source": [
        "N = int(input())\n",
        "\n",
        "cnt = 0\n",
        "for A in range(1, 500):\n",
        "    for B in range(1, 500):\n",
        "        if (A ** 2 - B ** 2) == N:\n",
        "            cnt += 1\n",
        "\n",
        "print(cnt)"
      ],
      "metadata": {
        "id": "MK5bFCAAk_PB"
      },
      "execution_count": null,
      "outputs": []
    },
    {
      "cell_type": "markdown",
      "source": [],
      "metadata": {
        "id": "y8Y6QY4glBkM"
      }
    }
  ]
}