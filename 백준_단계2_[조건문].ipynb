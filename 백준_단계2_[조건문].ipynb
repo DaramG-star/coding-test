{
  "nbformat": 4,
  "nbformat_minor": 0,
  "metadata": {
    "colab": {
      "provenance": [],
      "authorship_tag": "ABX9TyP7P/SASKI3aX9I9qNhwCw7",
      "include_colab_link": true
    },
    "kernelspec": {
      "name": "python3",
      "display_name": "Python 3"
    },
    "language_info": {
      "name": "python"
    }
  },
  "cells": [
    {
      "cell_type": "markdown",
      "metadata": {
        "id": "view-in-github",
        "colab_type": "text"
      },
      "source": [
        "<a href=\"https://colab.research.google.com/github/DaramG-star/coding-test/blob/main/%EB%B0%B1%EC%A4%80_%EB%8B%A8%EA%B3%842_%5B%EC%A1%B0%EA%B1%B4%EB%AC%B8%5D.ipynb\" target=\"_parent\"><img src=\"https://colab.research.google.com/assets/colab-badge.svg\" alt=\"Open In Colab\"/></a>"
      ]
    },
    {
      "cell_type": "markdown",
      "source": [
        "## 1. 두 수 비교하기\n",
        "\n",
        "문제 :\n",
        "두 정수 A와 B가 주어졌을 때, A와 B를 비교하는 프로그램을 작성하시오.\n",
        "\n",
        "입력 :\n",
        "첫째 줄에 A와 B가 주어진다. A와 B는 공백 한 칸으로 구분되어져 있다.\n",
        "\n",
        "출력 :\n",
        "첫째 줄에 다음 세 가지 중 하나를 출력한다.\n",
        "\n",
        "A가 B보다 큰 경우에는 '>'를 출력한다.\n",
        "A가 B보다 작은 경우에는 '<'를 출력한다.\n",
        "A와 B가 같은 경우에는 '=='를 출력한다."
      ],
      "metadata": {
        "id": "l_F4zDjBUzek"
      }
    },
    {
      "cell_type": "markdown",
      "source": [
        "### 슈도코드 짜보기\n",
        "\n",
        "1. A, B 입력받기\n",
        "\n",
        "2. if문으로 A와 B 비교해서 코드 작성하기"
      ],
      "metadata": {
        "id": "YZ2vfVfQU7p2"
      }
    },
    {
      "cell_type": "code",
      "execution_count": 4,
      "metadata": {
        "colab": {
          "base_uri": "https://localhost:8080/"
        },
        "id": "TGB0BE7gUuo1",
        "outputId": "1c1af042-77a7-4f6f-c6e5-ba766e1b2513"
      },
      "outputs": [
        {
          "output_type": "stream",
          "name": "stdout",
          "text": [
            "2 2\n",
            "=\n"
          ]
        }
      ],
      "source": [
        "A, B = list(map(int, input().split()))\n",
        "\n",
        "if A > B :\n",
        "    print(\">\")\n",
        "elif A < B :\n",
        "    print(\"<\")\n",
        "else :\n",
        "    print(\"=\")"
      ]
    },
    {
      "cell_type": "markdown",
      "source": [
        "## 2. 시험 성적\n",
        "\n",
        "문제 :\n",
        "시험 점수를 입력받아 90 ~ 100점은 A, 80 ~ 89점은 B, 70 ~ 79점은 C, 60 ~ 69점은 D, 나머지 점수는 F를 출력하는 프로그램을 작성하시오.\n",
        "\n",
        "입력 :\n",
        "첫째 줄에 시험 점수가 주어진다. 시험 점수는 0보다 크거나 같고, 100보다 작거나 같은 정수이다.\n",
        "\n",
        "출력 :\n",
        "시험 성적을 출력한다."
      ],
      "metadata": {
        "id": "isW0d0-OVq-m"
      }
    },
    {
      "cell_type": "markdown",
      "source": [
        "### 슈도코드 짜보기\n",
        "\n",
        "1. 정수 입력받기\n",
        "\n",
        "2. 시험 점수 입력받아 구간별로 출력하기"
      ],
      "metadata": {
        "id": "6knpmc3wV3bI"
      }
    },
    {
      "cell_type": "code",
      "source": [
        "score = int(input())\n",
        "\n",
        "if score >= 90:\n",
        "    print(\"A\")\n",
        "elif score >= 80:\n",
        "    print(\"B\")\n",
        "elif score >= 70:\n",
        "    print(\"C\")\n",
        "elif score >= 60:\n",
        "    print(\"D\")\n",
        "else :\n",
        "    print(\"F\")"
      ],
      "metadata": {
        "colab": {
          "base_uri": "https://localhost:8080/"
        },
        "id": "8jYnZmFHWDjI",
        "outputId": "1506c9bf-57c1-4a0e-d2fd-1a82848c8d96"
      },
      "execution_count": 9,
      "outputs": [
        {
          "output_type": "stream",
          "name": "stdout",
          "text": [
            "95\n",
            "A\n"
          ]
        }
      ]
    },
    {
      "cell_type": "markdown",
      "source": [
        "## 3. 윤년\n",
        "\n",
        "문제 :\n",
        "연도가 주어졌을 때, 윤년이면 1, 아니면 0을 출력하는 프로그램을 작성하시오.\n",
        "\n",
        "윤년은 연도가 4의 배수이면서, 100의 배수가 아닐 때 또는 400의 배수일 때이다.\n",
        "\n",
        "예를 들어, 2012년은 4의 배수이면서 100의 배수가 아니라서 윤년이다. 1900년은 100의 배수이고 400의 배수는 아니기 때문에 윤년이 아니다. 하지만, 2000년은 400의 배수이기 때문에 윤년이다.\n",
        "\n",
        "입력 :\n",
        "첫째 줄에 연도가 주어진다. 연도는 1보다 크거나 같고, 4000보다 작거나 같은 자연수이다.\n",
        "\n",
        "출력 :\n",
        "첫째 줄에 윤년이면 1, 아니면 0을 출력한다."
      ],
      "metadata": {
        "id": "mH7dZIItWf8P"
      }
    },
    {
      "cell_type": "markdown",
      "source": [
        "### 슈도코드 짜보기\n",
        "\n",
        "1. 연도 입력받기\n",
        "\n",
        "2. 4의 배수이면서 100의 배수가 아닐 때 또는 400의 배수일 때 조건 설정\n",
        "\n",
        "3. if 문으로 0 or 1로 출력하기"
      ],
      "metadata": {
        "id": "bjVrPpfIWoi_"
      }
    },
    {
      "cell_type": "code",
      "source": [
        "Y = int(input())\n",
        "\n",
        "if (Y % 4 == 0 and Y % 100 != 0) or (Y % 400 == 0):\n",
        "    print(\"1\")\n",
        "else :\n",
        "    print(\"0\")"
      ],
      "metadata": {
        "colab": {
          "base_uri": "https://localhost:8080/"
        },
        "id": "H34242riWeTI",
        "outputId": "976e7219-617a-4e42-eea1-4171c2b8e25b"
      },
      "execution_count": 12,
      "outputs": [
        {
          "output_type": "stream",
          "name": "stdout",
          "text": [
            "2000\n",
            "1\n"
          ]
        }
      ]
    },
    {
      "cell_type": "markdown",
      "source": [
        "## 4. 사분면 고르기\n",
        "\n",
        "문제 :\n",
        "흔한 수학 문제 중 하나는 주어진 점이 어느 사분면에 속하는지 알아내는 것이다. 사분면은 아래 그림처럼 1부터 4까지 번호를 갖는다. \"Quadrant n\"은 \"제n사분면\"이라는 뜻이다.\n",
        "\n",
        "예를 들어, 좌표가 (12, 5)인 점 A는 x좌표와 y좌표가 모두 양수이므로 제1사분면에 속한다. 점 B는 x좌표가 음수이고 y좌표가 양수이므로 제2사분면에 속한다.\n",
        "\n",
        "점의 좌표를 입력받아 그 점이 어느 사분면에 속하는지 알아내는 프로그램을 작성하시오. 단, x좌표와 y좌표는 모두 양수나 음수라고 가정한다.\n",
        "\n",
        "입력 :\n",
        "첫 줄에는 정수 x가 주어진다. (−1000 ≤ x ≤ 1000; x ≠ 0) 다음 줄에는 정수 y가 주어진다. (−1000 ≤ y ≤ 1000; y ≠ 0)\n",
        "\n",
        "출력 :\n",
        "점 (x, y)의 사분면 번호(1, 2, 3, 4 중 하나)를 출력한다."
      ],
      "metadata": {
        "id": "Kdyozs9hXebD"
      }
    },
    {
      "cell_type": "markdown",
      "source": [
        "### 슈도코드 짜보기\n",
        "\n",
        "1. 정수 X와 Y 입력받기\n",
        "2. 1사분면은 두 수가 양수\n",
        "3. 2사분면은 X는 음수, Y는 양수\n",
        "4. 3사분면은 두 수가 음수\n",
        "5. 4사분면은 X는 양수, Y는 음수\n",
        "6. X, Y의 사분면 번호 중 하나 출력하기"
      ],
      "metadata": {
        "id": "-HMxC9QIXttJ"
      }
    },
    {
      "cell_type": "code",
      "source": [
        "X = int(input())\n",
        "Y = int(input())\n",
        "\n",
        "if X > 0 and Y > 0 :\n",
        "    print(\"1\")\n",
        "elif X < 0 and Y > 0 :\n",
        "    print(\"2\")\n",
        "elif X < 0 and Y < 0 :\n",
        "    print(\"3\")\n",
        "else :\n",
        "    print(\"4\")"
      ],
      "metadata": {
        "colab": {
          "base_uri": "https://localhost:8080/"
        },
        "id": "PqgYA4k1Xd5S",
        "outputId": "e8bf2822-7461-46c3-b2d8-748a1ffad908"
      },
      "execution_count": 14,
      "outputs": [
        {
          "output_type": "stream",
          "name": "stdout",
          "text": [
            "9\n",
            "-13\n",
            "4\n"
          ]
        }
      ]
    },
    {
      "cell_type": "markdown",
      "source": [
        "## 5. 알람시계\n",
        "\n",
        "문제 :\n",
        "상근이는 매일 아침 알람을 듣고 일어난다. 알람을 듣고 바로 일어나면 다행이겠지만, 항상 조금만 더 자려는 마음 때문에 매일 학교를 지각하고 있다.\n",
        "\n",
        "상근이는 모든 방법을 동원해보았지만, 조금만 더 자려는 마음은 그 어떤 것도 없앨 수가 없었다.\n",
        "\n",
        "이런 상근이를 불쌍하게 보던 창영이는 자신이 사용하는 방법을 추천해 주었다.\n",
        "\n",
        "바로 \"45분 일찍 알람 설정하기\"이다.\n",
        "\n",
        "이 방법은 단순하다. 원래 설정되어 있는 알람을 45분 앞서는 시간으로 바꾸는 것이다. 어차피 알람 소리를 들으면, 알람을 끄고 조금 더 잘 것이기 때문이다. 이 방법을 사용하면, 매일 아침 더 잤다는 기분을 느낄 수 있고, 학교도 지각하지 않게 된다.\n",
        "\n",
        "현재 상근이가 설정한 알람 시각이 주어졌을 때, 창영이의 방법을 사용한다면, 이를 언제로 고쳐야 하는지 구하는 프로그램을 작성하시오.\n",
        "\n",
        "입력 :\n",
        "첫째 줄에 두 정수 H와 M이 주어진다. (0 ≤ H ≤ 23, 0 ≤ M ≤ 59) 그리고 이것은 현재 상근이가 설정한 알람 시간 H시 M분을 의미한다.\n",
        "\n",
        "입력 시간은 24시간 표현을 사용한다. 24시간 표현에서 하루의 시작은 0:0(자정)이고, 끝은 23:59(다음날 자정 1분 전)이다. 시간을 나타낼 때, 불필요한 0은 사용하지 않는다.\n",
        "\n",
        "출력 :\n",
        "첫째 줄에 상근이가 창영이의 방법을 사용할 때, 설정해야 하는 알람 시간을 출력한다. (입력과 같은 형태로 출력하면 된다.)"
      ],
      "metadata": {
        "id": "G7EjQVyKYhpq"
      }
    },
    {
      "cell_type": "markdown",
      "source": [
        "### 슈도코드 짜보기\n",
        "\n",
        "1. 두 정수 H와 M 입력받기\n",
        "2. 45분과 같거나 크면, 단순히 M만 빼면 됨\n",
        "45분보다 작으면, 시간에서 1빼고 분에 15 더하기\n",
        "3. 0시일때는 1빼면 23으로 돌아가야 함\n",
        "\n"
      ],
      "metadata": {
        "id": "OGTifPt6Y3pr"
      }
    },
    {
      "cell_type": "code",
      "source": [
        "H, M = list(map(int, input().split()))\n",
        "\n",
        "if H == 0 and M < 45 :\n",
        "    print(f\"23 {M+15}\")\n",
        "elif M < 45 :\n",
        "    print(f\"{H-1} {M+15}\")\n",
        "else :\n",
        "    print(f\"{H} {M-45}\")"
      ],
      "metadata": {
        "colab": {
          "base_uri": "https://localhost:8080/"
        },
        "id": "_14Q7Ht4bCgx",
        "outputId": "21272f38-ea01-402a-d5e1-dca43f0b4457"
      },
      "execution_count": 17,
      "outputs": [
        {
          "output_type": "stream",
          "name": "stdout",
          "text": [
            "23 40\n",
            "22 55\n"
          ]
        }
      ]
    },
    {
      "cell_type": "markdown",
      "source": [
        "## 6. 오븐시계\n",
        "\n",
        "문제 :\n",
        "KOI 전자에서는 건강에 좋고 맛있는 훈제오리구이 요리를 간편하게 만드는 인공지능 오븐을 개발하려고 한다. 인공지능 오븐을 사용하는 방법은 적당한 양의 오리 훈제 재료를 인공지능 오븐에 넣으면 된다. 그러면 인공지능 오븐은 오븐구이가 끝나는 시간을 분 단위로 자동적으로 계산한다.\n",
        "\n",
        "또한, KOI 전자의 인공지능 오븐 앞면에는 사용자에게 훈제오리구이 요리가 끝나는 시각을 알려 주는 디지털 시계가 있다.\n",
        "\n",
        "훈제오리구이를 시작하는 시각과 오븐구이를 하는 데 필요한 시간이 분단위로 주어졌을 때, 오븐구이가 끝나는 시각을 계산하는 프로그램을 작성하시오.\n",
        "\n",
        "입력 :\n",
        "첫째 줄에는 현재 시각이 나온다. 현재 시각은 시 A (0 ≤ A ≤ 23) 와 분 B (0 ≤ B ≤ 59)가 정수로 빈칸을 사이에 두고 순서대로 주어진다. 두 번째 줄에는 요리하는 데 필요한 시간 C (0 ≤ C ≤ 1,000)가 분 단위로 주어진다.\n",
        "\n",
        "출력 :\n",
        "첫째 줄에 종료되는 시각의 시와 분을 공백을 사이에 두고 출력한다. (단, 시는 0부터 23까지의 정수, 분은 0부터 59까지의 정수이다. 디지털 시계는 23시 59분에서 1분이 지나면 0시 0분이 된다.)"
      ],
      "metadata": {
        "id": "uV9h2iUxee3p"
      }
    },
    {
      "cell_type": "markdown",
      "source": [
        "### 슈도코드 짜보기\n",
        "\n",
        "1. A, B로 시간 분 입력받기\n",
        "2. 현재 시간을 분으로 변환하기\n",
        "3. 시간은 60으로 나누고 24로 나머지 반환\n",
        "4. 분은 60로 나눈 나머지 반환\n",
        "5. 출력"
      ],
      "metadata": {
        "id": "oqbxc5eHeyW3"
      }
    },
    {
      "cell_type": "code",
      "source": [
        "A, B = list(map(int, input().split()))\n",
        "C = int(input())\n",
        "\n",
        "total_min = A * 60 + B + C\n",
        "\n",
        "end_hour = (total_min // 60) % 24\n",
        "end_min = total_min % 60\n",
        "\n",
        "print(f\"{end_hour} {end_min}\")"
      ],
      "metadata": {
        "colab": {
          "base_uri": "https://localhost:8080/"
        },
        "id": "Nje--COGf7Vh",
        "outputId": "073607b6-1631-4163-8609-224eb0a81b21"
      },
      "execution_count": 22,
      "outputs": [
        {
          "output_type": "stream",
          "name": "stdout",
          "text": [
            "23 48\n",
            "25\n",
            "0 13\n"
          ]
        }
      ]
    },
    {
      "cell_type": "markdown",
      "source": [
        "## 7. 주사위 세개\n",
        "\n",
        "문제 :\n",
        "1에서부터 6까지의 눈을 가진 3개의 주사위를 던져서 다음과 같은 규칙에 따라 상금을 받는 게임이 있다.\n",
        "\n",
        "같은 눈이 3개가 나오면 10,000원+(같은 눈)×1,000원의 상금을 받게 된다.\n",
        "같은 눈이 2개만 나오는 경우에는 1,000원+(같은 눈)×100원의 상금을 받게 된다.\n",
        "모두 다른 눈이 나오는 경우에는 (그 중 가장 큰 눈)×100원의 상금을 받게 된다.\n",
        "예를 들어, 3개의 눈 3, 3, 6이 주어지면 상금은 1,000+3×100으로 계산되어 1,300원을 받게 된다. 또 3개의 눈이 2, 2, 2로 주어지면 10,000+2×1,000 으로 계산되어 12,000원을 받게 된다. 3개의 눈이 6, 2, 5로 주어지면 그중 가장 큰 값이 6이므로 6×100으로 계산되어 600원을 상금으로 받게 된다.\n",
        "\n",
        "3개 주사위의 나온 눈이 주어질 때, 상금을 계산하는 프로그램을 작성 하시오.\n",
        "\n",
        "입력 :\n",
        "첫째 줄에 3개의 눈이 빈칸을 사이에 두고 각각 주어진다.\n",
        "\n",
        "출력 :\n",
        "첫째 줄에 게임의 상금을 출력 한다."
      ],
      "metadata": {
        "id": "VNJBWQxZg34L"
      }
    },
    {
      "cell_type": "markdown",
      "source": [
        "### 슈도코드 짜보기\n",
        "\n",
        "1. 주사위값 input받기\n",
        "2. if문으로 같은 눈 3개 나오면 받는 상금 작성\n",
        "3. 같은 눈 2개 나오면 받는 상금 작성\n",
        "4. 모두 다른 눈 나오면 max값 구하여 상금 출력"
      ],
      "metadata": {
        "id": "CJCPA4V5hAgq"
      }
    },
    {
      "cell_type": "code",
      "source": [
        "A, B, C = list(map(int, input().split()))\n",
        "\n",
        "if A == B == C :\n",
        "    print(f\"{10000 + (A *1000)}\")\n",
        "elif A == B or A == C:\n",
        "    print(f\"{1000 + (A * 100)}\")\n",
        "elif B == C:\n",
        "    print(f\"{1000 + (B * 100)}\")\n",
        "else :\n",
        "    print(max(A, B, C)* 100)"
      ],
      "metadata": {
        "colab": {
          "base_uri": "https://localhost:8080/"
        },
        "id": "6PwD4KynhZfC",
        "outputId": "4fba4bcc-b1a6-4e70-884e-415f7c3448d1"
      },
      "execution_count": 26,
      "outputs": [
        {
          "output_type": "stream",
          "name": "stdout",
          "text": [
            "6 2 5\n",
            "600\n"
          ]
        }
      ]
    }
  ]
}