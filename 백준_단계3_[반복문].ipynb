{
  "nbformat": 4,
  "nbformat_minor": 0,
  "metadata": {
    "colab": {
      "provenance": [],
      "authorship_tag": "ABX9TyOkJFlMtDN+iaTj1rlbyXfW",
      "include_colab_link": true
    },
    "kernelspec": {
      "name": "python3",
      "display_name": "Python 3"
    },
    "language_info": {
      "name": "python"
    }
  },
  "cells": [
    {
      "cell_type": "markdown",
      "metadata": {
        "id": "view-in-github",
        "colab_type": "text"
      },
      "source": [
        "<a href=\"https://colab.research.google.com/github/DaramG-star/coding-test/blob/main/%EB%B0%B1%EC%A4%80_%EB%8B%A8%EA%B3%843_%5B%EB%B0%98%EB%B3%B5%EB%AC%B8%5D.ipynb\" target=\"_parent\"><img src=\"https://colab.research.google.com/assets/colab-badge.svg\" alt=\"Open In Colab\"/></a>"
      ]
    },
    {
      "cell_type": "markdown",
      "source": [
        "## 1. 구구단\n",
        "\n",
        "문제 :\n",
        "N을 입력받은 뒤, 구구단 N단을 출력하는 프로그램을 작성하시오. 출력 형식에 맞춰서 출력하면 된다.\n",
        "\n",
        "입력 :\n",
        "첫째 줄에 N이 주어진다. N은 1보다 크거나 같고, 9보다 작거나 같다.\n",
        "\n",
        "출력 :\n",
        "출력형식과 같게 N*1부터 N*9까지 출력한다."
      ],
      "metadata": {
        "id": "NHbtWvD1jXQk"
      }
    },
    {
      "cell_type": "markdown",
      "source": [
        "### 슈도코드 짜보기\n",
        "\n",
        "1. N을 입력받기\n",
        "2. for문으로 구구단 출력하기"
      ],
      "metadata": {
        "id": "macl7kUAjoXW"
      }
    },
    {
      "cell_type": "code",
      "execution_count": 4,
      "metadata": {
        "colab": {
          "base_uri": "https://localhost:8080/"
        },
        "id": "mR1-ciETjUVj",
        "outputId": "8e06ec41-5cb8-467e-eddc-88c5864c7b8b"
      },
      "outputs": [
        {
          "output_type": "stream",
          "name": "stdout",
          "text": [
            "2\n",
            "2 * 1 = 2\n",
            "2 * 2 = 4\n",
            "2 * 3 = 6\n",
            "2 * 4 = 8\n",
            "2 * 5 = 10\n",
            "2 * 6 = 12\n",
            "2 * 7 = 14\n",
            "2 * 8 = 16\n",
            "2 * 9 = 18\n"
          ]
        }
      ],
      "source": [
        "N = int(input())\n",
        "for i in range(1, 10):\n",
        "\n",
        "    print(f\"{N} * {i} = {i*N}\")"
      ]
    },
    {
      "cell_type": "markdown",
      "source": [
        "## 2. A + B - 3\n",
        "\n",
        "문제 :\n",
        "두 정수 A와 B를 입력받은 다음, A+B를 출력하는 프로그램을 작성하시오.\n",
        "\n",
        "입력 :\n",
        "첫째 줄에 테스트 케이스의 개수 T가 주어진다.\n",
        "\n",
        "각 테스트 케이스는 한 줄로 이루어져 있으며, 각 줄에 A와 B가 주어진다. (0 < A, B < 10)\n",
        "\n",
        "출력 :\n",
        "각 테스트 케이스마다 A+B를 출력한다."
      ],
      "metadata": {
        "id": "k-EEZVjzk5yl"
      }
    },
    {
      "cell_type": "markdown",
      "source": [
        "### 슈도코드 짜보기\n",
        "\n",
        "1. A, B 입력받기\n",
        "2. 테스트케이스만큼 출력받는 for문 작성\n",
        "3. A + B 출력하기"
      ],
      "metadata": {
        "id": "RZ1TKldplJxN"
      }
    },
    {
      "cell_type": "code",
      "source": [
        "T = int(input())\n",
        "\n",
        "for _ in range(T):\n",
        "    A, B = (map(int, input().split()))\n",
        "    print(A + B)"
      ],
      "metadata": {
        "colab": {
          "base_uri": "https://localhost:8080/"
        },
        "id": "q9FtuLpzkzU-",
        "outputId": "5a00879d-c365-4902-940c-5ab05bb33900"
      },
      "execution_count": 6,
      "outputs": [
        {
          "output_type": "stream",
          "name": "stdout",
          "text": [
            "5 \n",
            "1 1\n",
            "2\n",
            "2 3\n",
            "5\n",
            "3 4\n",
            "7\n",
            "9 8\n",
            "17\n",
            "5 2\n",
            "7\n"
          ]
        }
      ]
    },
    {
      "cell_type": "markdown",
      "source": [
        "## 3. 합\n",
        "\n",
        "문제 :\n",
        "n이 주어졌을 때, 1부터 n까지 합을 구하는 프로그램을 작성하시오.\n",
        "\n",
        "입력 :\n",
        "첫째 줄에 n (1 ≤ n ≤ 10,000)이 주어진다.\n",
        "\n",
        "출력 :\n",
        "1부터 n까지 합을 출력한다."
      ],
      "metadata": {
        "id": "QyDWd1xylvEO"
      }
    },
    {
      "cell_type": "markdown",
      "source": [
        "### 슈도코드 짜보기\n",
        "\n",
        "1. n을 input받기\n",
        "2. result를 만들기\n",
        "3. 1부터 n까지 돌면서 합하기\n",
        "4. result 출력하기"
      ],
      "metadata": {
        "id": "dIR5pQc3mBkm"
      }
    },
    {
      "cell_type": "code",
      "source": [
        "n = int(input())\n",
        "\n",
        "result = 0\n",
        "for i in range(1, n+1):\n",
        "    result += i\n",
        "\n",
        "print(result)"
      ],
      "metadata": {
        "colab": {
          "base_uri": "https://localhost:8080/"
        },
        "id": "J5Mj9UBsmVG0",
        "outputId": "3c08e61a-3138-49bd-9d63-a02f567a5081"
      },
      "execution_count": 17,
      "outputs": [
        {
          "output_type": "stream",
          "name": "stdout",
          "text": [
            "250\n",
            "31375\n"
          ]
        }
      ]
    },
    {
      "cell_type": "markdown",
      "source": [
        "### 다른 슈도코드 짜보기 (수학 공식 이용)\n",
        "\n",
        "n * n+1 을 2로 나눈 값"
      ],
      "metadata": {
        "id": "lCxMQCN9nBVl"
      }
    },
    {
      "cell_type": "code",
      "source": [
        "n = int(input())\n",
        "\n",
        "S = (n * (n+1))\n",
        "\n",
        "print(int(S / 2))"
      ],
      "metadata": {
        "colab": {
          "base_uri": "https://localhost:8080/"
        },
        "id": "LTUtMuWhnK2_",
        "outputId": "fabc4fe0-a029-414e-a9df-dd6e57e34155"
      },
      "execution_count": 16,
      "outputs": [
        {
          "output_type": "stream",
          "name": "stdout",
          "text": [
            "250\n",
            "31375\n"
          ]
        }
      ]
    },
    {
      "cell_type": "markdown",
      "source": [
        "## 4. 영수증\n",
        "\n",
        "문제 :\n",
        "준원이는 저번 주에 살면서 처음으로 코스트코를 가 봤다. 정말 멋졌다. 그런데, 몇 개 담지도 않았는데 수상하게 높은 금액이 나오는 것이다! 준원이는 영수증을 보면서 정확하게 계산된 것이 맞는지 확인해보려 한다.\n",
        "\n",
        "영수증에 적힌,\n",
        "\n",
        "구매한 각 물건의 가격과 개수\n",
        "구매한 물건들의 총 금액\n",
        "을 보고, 구매한 물건의 가격과 개수로 계산한 총 금액이 영수증에 적힌 총 금액과 일치하는지 검사해보자.\n",
        "\n",
        "입력 :\n",
        "첫째 줄에는 영수증에 적힌 총 금액\n",
        "$X$가 주어진다.\n",
        "\n",
        "둘째 줄에는 영수증에 적힌 구매한 물건의 종류의 수\n",
        "$N$이 주어진다.\n",
        "\n",
        "이후\n",
        "$N$개의 줄에는 각 물건의 가격\n",
        "$a$와 개수\n",
        "$b$가 공백을 사이에 두고 주어진다.\n",
        "\n",
        "출력 :\n",
        "구매한 물건의 가격과 개수로 계산한 총 금액이 영수증에 적힌 총 금액과 일치하면 Yes를 출력한다. 일치하지 않는다면 No를 출력한다."
      ],
      "metadata": {
        "id": "N5tNM9Kdn9xo"
      }
    },
    {
      "cell_type": "markdown",
      "source": [
        "### 슈도코드 짜보기\n",
        "\n",
        "1. X 금액 input받기\n",
        "2. 영수증에 구매한 물건 종류의 수 N과 가격 a, 개수 b input받기\n",
        "3. N개만큼 a와 b를 곱하여 총금액 X와 맞으먼 Yes, 아니면 No 출력하기"
      ],
      "metadata": {
        "id": "FotATSyDoj5Y"
      }
    },
    {
      "cell_type": "code",
      "source": [
        "X = int(input())\n",
        "N = int(input())\n",
        "\n",
        "result = 0\n",
        "for _ in range(N):\n",
        "    A, B = list(map(int, input().split()))\n",
        "    result += A*B\n",
        "\n",
        "if X == result :\n",
        "    print(\"Yes\")\n",
        "else:\n",
        "    print(\"No\")"
      ],
      "metadata": {
        "colab": {
          "base_uri": "https://localhost:8080/"
        },
        "id": "0dKuQVwzo4SG",
        "outputId": "51eb474c-91f1-446a-8377-246642bc06a0"
      },
      "execution_count": 22,
      "outputs": [
        {
          "output_type": "stream",
          "name": "stdout",
          "text": [
            "250000\n",
            "4\n",
            "20000 5\n",
            "30000 2\n",
            "10000 6\n",
            "5000 8\n",
            "No\n"
          ]
        }
      ]
    },
    {
      "cell_type": "markdown",
      "source": [
        "## 5. 코딩은 체육과목 입니다\n",
        "\n",
        "문제 :\n",
        "오늘은 혜아의 면접 날이다. 면접 준비를 열심히 해서 앞선 질문들을 잘 대답한 혜아는 이제 마지막으로 칠판에 직접 코딩하는 문제를 받았다. 혜아가 받은 문제는 두 수를 더하는 문제였다. C++ 책을 열심히 읽었던 혜아는 간단히 두 수를 더하는 코드를 칠판에 적었다. 코드를 본 면접관은 다음 질문을 했다. “만약, 입출력이\n",
        "$N$바이트 크기의 정수라면 프로그램을 어떻게 구현해야 할까요?”\n",
        "\n",
        "혜아는 책에 있는 정수 자료형과 관련된 내용을 기억해 냈다. 책에는 long int는\n",
        "$4$바이트 정수까지 저장할 수 있는 정수 자료형이고 long long int는\n",
        "$8$바이트 정수까지 저장할 수 있는 정수 자료형이라고 적혀 있었다. 혜아는 이런 생각이 들었다. “int 앞에 long을 하나씩 더 붙일 때마다\n",
        "$4$바이트씩 저장할 수 있는 공간이 늘어나는 걸까? 분명 long long long int는\n",
        "$12$바이트, long long long long int는\n",
        "$16$바이트까지 저장할 수 있는 정수 자료형일 거야!” 그렇게 혜아는 당황하는 면접관의 얼굴을 뒤로한 채 칠판에 정수 자료형을 써 내려가기 시작했다.\n",
        "\n",
        "혜아가\n",
        "$N$바이트 정수까지 저장할 수 있다고 생각해서 칠판에 쓴 정수 자료형의 이름은 무엇일까?\n",
        "\n",
        "입력 :\n",
        "첫 번째 줄에는 문제의 정수\n",
        "$N$이 주어진다.\n",
        "$(4\\le N\\le 1\\, 000$;\n",
        "$N$은\n",
        "$4$의 배수\n",
        "$)$\n",
        "\n",
        "출력 :\n",
        "혜아가\n",
        "$N$바이트 정수까지 저장할 수 있다고 생각하는 정수 자료형의 이름을 출력하여라."
      ],
      "metadata": {
        "id": "wOpl_o8yo3su"
      }
    },
    {
      "cell_type": "markdown",
      "source": [
        "### 슈도코드 짜보기\n",
        "\n",
        "1. 정수를 입력받기\n",
        "2. 정수를 4로 나눈 후 그만큼 long을 넣기\n",
        "3. long * N int로 출력하기"
      ],
      "metadata": {
        "id": "MgkDmt5ZqSaX"
      }
    },
    {
      "cell_type": "code",
      "source": [
        "N = int(input())\n",
        "\n",
        "B = int(N // 4)\n",
        "C = \"long\" * B\n",
        "\n",
        "print(f\"{C} int\")"
      ],
      "metadata": {
        "colab": {
          "base_uri": "https://localhost:8080/"
        },
        "id": "Bnm1RWpYq71i",
        "outputId": "0ed7f72a-8b05-4da6-e4f1-acd2afc941d5"
      },
      "execution_count": 29,
      "outputs": [
        {
          "output_type": "stream",
          "name": "stdout",
          "text": [
            "25\n",
            "longlonglonglonglonglong int\n"
          ]
        }
      ]
    },
    {
      "cell_type": "markdown",
      "source": [
        "## 6. 빠른 A + B\n",
        "\n",
        "문제 :\n",
        "본격적으로 for문 문제를 풀기 전에 주의해야 할 점이 있다. 입출력 방식이 느리면 여러 줄을 입력받거나 출력할 때 시간초과가 날 수 있다는 점이다.\n",
        "\n",
        "C++을 사용하고 있고 cin/cout을 사용하고자 한다면, cin.tie(NULL)과 sync_with_stdio(false)를 둘 다 적용해 주고, endl 대신 개행문자(\\n)를 쓰자. 단, 이렇게 하면 더 이상 scanf/printf/puts/getchar/putchar 등 C의 입출력 방식을 사용하면 안 된다.\n",
        "\n",
        "Java를 사용하고 있다면, Scanner와 System.out.println 대신 BufferedReader와 BufferedWriter를 사용할 수 있다. BufferedWriter.flush는 맨 마지막에 한 번만 하면 된다.\n",
        "\n",
        "Python을 사용하고 있다면, input 대신 sys.stdin.readline을 사용할 수 있다. 단, 이때는 맨 끝의 개행문자까지 같이 입력받기 때문에 문자열을 저장하고 싶을 경우 .rstrip()을 추가로 해 주는 것이 좋다.\n",
        "\n",
        "또한 입력과 출력 스트림은 별개이므로, 테스트케이스를 전부 입력받아서 저장한 뒤 전부 출력할 필요는 없다. 테스트케이스를 하나 받은 뒤 하나 출력해도 된다.\n",
        "\n",
        "자세한 설명 및 다른 언어의 경우는 이 글에 설명되어 있다.\n",
        "\n",
        "이 블로그 글에서 BOJ의 기타 여러 가지 팁을 볼 수 있다.\n",
        "\n",
        "입력 :\n",
        "첫 줄에 테스트케이스의 개수 T가 주어진다. T는 최대 1,000,000이다. 다음 T줄에는 각각 두 정수 A와 B가 주어진다. A와 B는 1 이상, 1,000 이하이다.\n",
        "\n",
        "출력 :\n",
        "각 테스트케이스마다 A+B를 한 줄에 하나씩 순서대로 출력한다."
      ],
      "metadata": {
        "id": "A1ZNrJh8sKqC"
      }
    },
    {
      "cell_type": "code",
      "source": [
        "import sys\n",
        "input = sys.stdin.readline\n",
        "\n",
        "#첫 번째 줄에서 테스트 케이스 수 T를 받음\n",
        "T = int(input())\n",
        "\n",
        "#결과를 저장할 리스트\n",
        "results = []\n",
        "\n",
        "#T개의 테스트 케이스 처리\n",
        "for _ in range(T):\n",
        "    A, B = map(int, input().split())\n",
        "    results.append(str(A + B))\n",
        "\n",
        "#모든 결과를 한 번에 출력\n",
        "sys.stdout.write(\"\\n\".join(results) + \"\\n\")"
      ],
      "metadata": {
        "id": "0f8ktWAksX-z"
      },
      "execution_count": null,
      "outputs": []
    },
    {
      "cell_type": "markdown",
      "source": [
        "## 7. A + B\n",
        "\n",
        "문제 :\n",
        "두 정수 A와 B를 입력받은 다음, A+B를 출력하는 프로그램을 작성하시오.\n",
        "\n",
        "입력 :\n",
        "첫째 줄에 테스트 케이스의 개수 T가 주어진다.\n",
        "\n",
        "각 테스트 케이스는 한 줄로 이루어져 있으며, 각 줄에 A와 B가 주어진다. (0 < A, B < 10)\n",
        "\n",
        "출력 :\n",
        "각 테스트 케이스마다 \"Case #x: A + B = C\" 형식으로 출력한다. x는 테스트 케이스 번호이고 1부터 시작하며, C는 A+B이다."
      ],
      "metadata": {
        "id": "qoaHYPKlsXPb"
      }
    },
    {
      "cell_type": "markdown",
      "source": [
        "### 슈도코드 짜보기\n",
        "\n",
        "1. 주어진 테스트 케이스 개수 입력받아 반복하며 출력\n",
        "2. A, B를 입력받기\n",
        "3. 출력 시 f string 사용하여 출력"
      ],
      "metadata": {
        "id": "bztQPVNSwN--"
      }
    },
    {
      "cell_type": "code",
      "source": [
        "T = int(input())\n",
        "\n",
        "for t in range(T):\n",
        "    A, B = list(map(int, input().split()))\n",
        "    print(f\"Case #{t+1}: {A} + {B} = {A+B}\")"
      ],
      "metadata": {
        "colab": {
          "base_uri": "https://localhost:8080/"
        },
        "id": "p-fbX8NcwwmM",
        "outputId": "8b88460b-02d8-4a51-df65-94d6e6e27bfd"
      },
      "execution_count": 4,
      "outputs": [
        {
          "output_type": "stream",
          "name": "stdout",
          "text": [
            "5\n",
            "1 1\n",
            "Case #1: 1 + 1 = 2\n",
            "2 3\n",
            "Case #2: 2 + 3 = 5\n",
            "3 4\n",
            "Case #3: 3 + 4 = 7\n",
            "9 8\n",
            "Case #4: 9 + 8 = 17\n",
            "5 2\n",
            "Case #5: 5 + 2 = 7\n"
          ]
        }
      ]
    },
    {
      "cell_type": "markdown",
      "source": [
        "## 8. 별찍기\n",
        "\n",
        "문제 :\n",
        "첫째 줄에는 별 1개, 둘째 줄에는 별 2개, N번째 줄에는 별 N개를 찍는 문제\n",
        "\n",
        "입력 :\n",
        "첫째 줄에 N(1 ≤ N ≤ 100)이 주어진다.\n",
        "\n",
        "출력 :\n",
        "첫째 줄부터 N번째 줄까지 차례대로 별을 출력한다."
      ],
      "metadata": {
        "id": "5rpZNNdyyBwH"
      }
    },
    {
      "cell_type": "markdown",
      "source": [
        "### 슈도코드 짜보기\n",
        "\n",
        "1. N을 입력받기\n",
        "2. N이 1 늘어날 때마다 별 추가하기"
      ],
      "metadata": {
        "id": "jOXkw2QYyMF_"
      }
    },
    {
      "cell_type": "code",
      "source": [
        "N = int(input())\n",
        "\n",
        "for i in range(N):\n",
        "    i += 1\n",
        "\n",
        "    print(\"*\" * i)"
      ],
      "metadata": {
        "colab": {
          "base_uri": "https://localhost:8080/"
        },
        "id": "-1WjlC89x-9U",
        "outputId": "a36dd749-afed-47ab-9b21-58aa124cbbcb"
      },
      "execution_count": 7,
      "outputs": [
        {
          "output_type": "stream",
          "name": "stdout",
          "text": [
            "5\n",
            "*\n",
            "**\n",
            "***\n",
            "****\n",
            "*****\n"
          ]
        }
      ]
    },
    {
      "cell_type": "markdown",
      "source": [
        "## 9. 별찍기 2\n",
        "\n",
        "문제 :\n",
        "첫째 줄에는 별 1개, 둘째 줄에는 별 2개, N번째 줄에는 별 N개를 찍는 문제\n",
        "\n",
        "하지만, 오른쪽을 기준으로 정렬한 별(예제 참고)을 출력하시오.\n",
        "\n",
        "입력 :\n",
        "첫째 줄에 N(1 ≤ N ≤ 100)이 주어진다.\n",
        "\n",
        "출력 :\n",
        "첫째 줄부터 N번째 줄까지 차례대로 별을 출력한다."
      ],
      "metadata": {
        "id": "uZV8rJIazwNR"
      }
    },
    {
      "cell_type": "markdown",
      "source": [
        "### 슈도코드 짜보기\n",
        "\n",
        "1. N을 입력받기\n",
        "2. (N-i)만큼 공백 찍기, i만큼 별찍기"
      ],
      "metadata": {
        "id": "oJYaDyIy0Eqx"
      }
    },
    {
      "cell_type": "code",
      "source": [
        "N = int(input())\n",
        "\n",
        "for i in range(1, N+1):\n",
        "    print(' ' * (N-i) + '*'* i)"
      ],
      "metadata": {
        "colab": {
          "base_uri": "https://localhost:8080/"
        },
        "id": "cTqIMZZLz_LY",
        "outputId": "63dcce71-5c79-4c0f-a695-bd3c2b1fb2c7"
      },
      "execution_count": 9,
      "outputs": [
        {
          "output_type": "stream",
          "name": "stdout",
          "text": [
            "5\n",
            "    *\n",
            "   **\n",
            "  ***\n",
            " ****\n",
            "*****\n"
          ]
        }
      ]
    },
    {
      "cell_type": "markdown",
      "source": [
        "## 10. A + B\n",
        "\n",
        "문제 :\n",
        "두 정수 A와 B를 입력받은 다음, A+B를 출력하는 프로그램을 작성하시오.\n",
        "\n",
        "입력 :\n",
        "입력은 여러 개의 테스트 케이스로 이루어져 있다.\n",
        "\n",
        "각 테스트 케이스는 한 줄로 이루어져 있으며, 각 줄에 A와 B가 주어진다. (0 < A, B < 10)\n",
        "\n",
        "입력의 마지막에는 0 두 개가 들어온다.\n",
        "\n",
        "출력 :\n",
        "각 테스트 케이스마다 A+B를 출력한다."
      ],
      "metadata": {
        "id": "lRNszBiJ1dUz"
      }
    },
    {
      "cell_type": "code",
      "source": [
        "while True :\n",
        "    A, B = list(map(int, input().split()))\n",
        "\n",
        "    if A == 0 and B == 0:\n",
        "        break\n",
        "\n",
        "    print(A + B)"
      ],
      "metadata": {
        "colab": {
          "base_uri": "https://localhost:8080/"
        },
        "id": "Jfgj4vG10D6B",
        "outputId": "9886a02a-e63a-4a25-e224-7675fe1eb57c"
      },
      "execution_count": 11,
      "outputs": [
        {
          "name": "stdout",
          "output_type": "stream",
          "text": [
            "1 1\n",
            "2\n",
            "2 3\n",
            "5\n",
            "3 4\n",
            "7\n",
            "9 8\n",
            "17\n",
            "5 2\n",
            "7\n",
            "0 0\n"
          ]
        }
      ]
    },
    {
      "cell_type": "markdown",
      "source": [
        "## 11. A + B"
      ],
      "metadata": {
        "id": "nVB-Y_7-5hfD"
      }
    },
    {
      "cell_type": "code",
      "source": [
        "while True:\n",
        "    try:\n",
        "        A, B = map(int, input().split())\n",
        "        print(A + B)\n",
        "    except EOFError:  # EOF가 발생하면 프로그램 종료\n",
        "        break"
      ],
      "metadata": {
        "id": "eASr7D-q0E34"
      },
      "execution_count": null,
      "outputs": []
    }
  ]
}