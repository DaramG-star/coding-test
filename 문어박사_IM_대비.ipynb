{
  "nbformat": 4,
  "nbformat_minor": 0,
  "metadata": {
    "colab": {
      "provenance": [],
      "authorship_tag": "ABX9TyPzXGYqAgj+IJEwqp1WJszJ",
      "include_colab_link": true
    },
    "kernelspec": {
      "name": "python3",
      "display_name": "Python 3"
    },
    "language_info": {
      "name": "python"
    }
  },
  "cells": [
    {
      "cell_type": "markdown",
      "metadata": {
        "id": "view-in-github",
        "colab_type": "text"
      },
      "source": [
        "<a href=\"https://colab.research.google.com/github/DaramG-star/coding-test/blob/main/%EB%AC%B8%EC%96%B4%EB%B0%95%EC%82%AC_IM_%EB%8C%80%EB%B9%84.ipynb\" target=\"_parent\"><img src=\"https://colab.research.google.com/assets/colab-badge.svg\" alt=\"Open In Colab\"/></a>"
      ]
    },
    {
      "cell_type": "markdown",
      "source": [
        "## 부분집합의 합\n",
        "\n",
        "1부터 12까지의 숫자를 원소로 가진 집합 A가 있다. 집합 A의 부분 집합 중 N개의 원소를 갖고 있고, 원소의 합이 K인 부분집합의 개수를 출력하는 프로그램을 작성하시오.\n",
        "\n",
        "해당하는 부분집합이 없는 경우 0을 출력한다. 모든 부분 집합을 만들어 답을 찾아도 된다.\n",
        "\n",
        "\n",
        "예를 들어 N = 3, K = 6 경우, 부분집합은 { 1, 2, 3 } 경우 1가지가 존재한다.\n",
        "\n",
        "\n",
        "\n",
        "\n",
        "[입력]\n",
        "\n",
        "\n",
        "첫 줄에 테스트 케이스 개수 T가 주어진다.  ( 1 ≤ T ≤ 50 )\n",
        "\n",
        "\n",
        "테스트 케이스 별로 부분집합 원소의 수 N과 부분 집합의 합 K가 여백을 두고 주어진다. ( 1 ≤ N ≤ 12, 1 ≤ K ≤ 100 )\n",
        "\n",
        "\n",
        "\n",
        "[출력]\n",
        "\n",
        "\n",
        "각 줄마다 \"#T\" (T는 테스트 케이스 번호)를 출력한 뒤, 답을 출력한다.\n",
        "\n",
        ""
      ],
      "metadata": {
        "id": "mUeYsa0g0tCC"
      }
    },
    {
      "cell_type": "code",
      "source": [
        "T = int(input())\n",
        "\n",
        "for t in range(1, T + 1):\n",
        "    N, K = map(int, input().split())\n",
        "    A = list(range(1, 13))  # {1, 2, ..., 12}\n",
        "    count = 0  # 조건을 만족하는 부분집합 개수\n",
        "\n",
        "    for i in range(1 << 12):  # 2^12 = 4096개의 부분집합 탐색\n",
        "        subset = []\n",
        "        subset_sum = 0  # 부분집합의 합\n",
        "        subset_size = 0  # 부분집합 크기\n",
        "\n",
        "        for j in range(12):  # 12개의 원소에 대해 포함 여부 확인\n",
        "            if i & (1 << j):  # j번째 원소가 포함되었다면\n",
        "                subset.append(A[j])\n",
        "                subset_sum += A[j]\n",
        "                subset_size += 1\n",
        "\n",
        "        # 크기가 N이고 합이 K인 부분집합이면 카운트 증가\n",
        "        if subset_size == N and subset_sum == K:\n",
        "            count += 1\n",
        "\n",
        "    print(f\"#{t} {count}\")  # SWEA 출력 형식"
      ],
      "metadata": {
        "id": "zzocX8uY0vkZ"
      },
      "execution_count": null,
      "outputs": []
    },
    {
      "cell_type": "markdown",
      "source": [
        "## 1206. View\n",
        "\n",
        "강변에 빌딩들이 옆으로 빽빽하게 밀집한 지역이 있다.\n",
        "\n",
        "이곳에서는 빌딩들이 너무 좌우로 밀집하여, 강에 대한 조망은 모든 세대에서 좋지만 왼쪽 또는 오른쪽 창문을 열었을 때 바로 앞에 옆 건물이 보이는 경우가 허다하였다.\n",
        "\n",
        "그래서 이 지역에서는 왼쪽과 오른쪽으로 창문을 열었을 때, 양쪽 모두 거리 2 이상의 공간이 확보될 때 조망권이 확보된다고 말한다.\n",
        "\n",
        "빌딩들에 대한 정보가 주어질 때, 조망권이 확보된 세대의 수를 반환하는 프로그램을 작성하시오.\n",
        "\n",
        "아래와 같이 강변에 8채의 빌딩이 있을 때, 연두색으로 색칠된 여섯 세대에서는 좌우로 2칸 이상의 공백이 존재하므로 조망권이 확보된다. 따라서 답은 6이 된다.\n",
        "\n",
        "\n",
        "\n",
        "A와 B로 표시된 세대의 경우는 왼쪽 조망은 2칸 이상 확보가 되었지만 오른쪽 조망은 한 칸 밖에 확보가 되지 않으므로 조망권을 확보하지 못하였다.\n",
        "\n",
        "C의 경우는 반대로 오른쪽 조망은 2칸이 확보가 되었지만 왼쪽 조망이 한 칸 밖에 확보되지 않았다.\n",
        "\n",
        "[제약 사항]\n",
        "\n",
        "가로 길이는 항상 1000이하로 주어진다.\n",
        "\n",
        "맨 왼쪽 두 칸과 맨 오른쪽 두 칸에는 건물이 지어지지 않는다. (예시에서 빨간색 땅 부분)\n",
        "\n",
        "각 빌딩의 높이는 최대 255이다.\n",
        "\n",
        "[입력]\n",
        "\n",
        "총 10개의 테스트케이스가 주어진다.\n",
        "\n",
        "각 테스트케이스의 첫 번째 줄에는 건물의 개수 N이 주어진다. (4 ≤ N ≤ 1000)\n",
        "\n",
        "그 다음 줄에는 N개의 건물의 높이가 주어진다. (0 ≤ 각 건물의 높이 ≤ 255)\n",
        "\n",
        "맨 왼쪽 두 칸과 맨 오른쪽 두 칸에 있는 건물은 항상 높이가 0이다. (예시에서 빨간색 땅 부분)"
      ],
      "metadata": {
        "id": "Pp5TF7WdeQmZ"
      }
    },
    {
      "cell_type": "markdown",
      "source": [
        "### 다람쥐 풀이"
      ],
      "metadata": {
        "id": "keTtubXHe43U"
      }
    },
    {
      "cell_type": "code",
      "execution_count": null,
      "metadata": {
        "id": "nskhuFsVkE11"
      },
      "outputs": [],
      "source": [
        "T = 10\n",
        "for t in range(1, T+1):\n",
        "    N = int(input()) # 빌딩의 갯수\n",
        "    building = list(map(int, input().split())) # 빌딩의 높이 받기\n",
        "    light = 0 # 조망권 저장용\n",
        "\n",
        "    # 빌딩 중 양쪽 2칸은 빼고 돌려도 됨.\n",
        "    for i in range(2, N-2): #양쪽 두 칸 빼기\n",
        "        M_build = max(building[i-2], building[i-1],building[i+1],building[i+2]) #빌딩 양쪽 2칸의 max값 확보\n",
        "        if building[i] > M_build: #양쪽 두 칸보다 빌딩이 더 높다면\n",
        "            light += building[i] - M_build # 빌딩 높이 - 양쪽 중 제일 높은 값을 조망권에 더함\n",
        "\n",
        "    print(f\"#{t} {light}\")"
      ]
    },
    {
      "cell_type": "markdown",
      "source": [
        "### 문어박사 풀이"
      ],
      "metadata": {
        "id": "C8bFxOlze7h_"
      }
    },
    {
      "cell_type": "code",
      "source": [
        "T = 10\n",
        "for t in range(1, T+1):\n",
        "    N = int(input()) # 빌딩의 갯수\n",
        "    building = list(map(int, input().split())) # 빌딩의 높이 받기\n",
        "    ans = 0\n",
        "\n",
        "    for i in range(2, N-2):\n",
        "        mx = max(lst[i-2:i] + lst[i+1:i+3])\n",
        "\n",
        "        if lst[i] > mx:\n",
        "            ans += lst[i] - mx\n",
        "\n",
        "    print(f\"#{t} {ans}\")"
      ],
      "metadata": {
        "id": "NargU_Zbe9Fb"
      },
      "execution_count": null,
      "outputs": []
    },
    {
      "cell_type": "markdown",
      "source": [
        "## 스위치 조작\n",
        "\n",
        "N개의 전등이 설치되어 있다. 각 전등은 1번부터 N번까지 번호가 붙어있고, i번 스위치를 조작하면 i번부터 N번까지의 전등의 켜짐/꺼짐 상태가 반대가 된다고 한다.\n",
        "모든 전등의 현재 상태와 스위치 조작 후 상태가 주어지면 최소 몇 개의 스위치를 조작해야 하는지 알아내는 프로그램을 만드시오.\n",
        "\n",
        "전등이 켜진 상태는 1, 꺼진 상태는 0으로 주어진다.\n",
        "예를 들어 현재 상태 A가 0 0 0이고, 조작 후 상태 B가 0 1 0인 경우,\n",
        "\n",
        "초기상태가  0 0 0 이므로,\n",
        "2번 스위치를 조작해 0 1 1인 상태를 만들고,\n",
        "3번 스위치를 조작해 0 1 0인 상태를 만들 수 있으므로, 최소 2번의 조작이 필요하다.\n",
        "\n",
        "[입력]\n",
        "첫 줄에 테스트케이스 개수 T, 다음 줄 부터 케이스 별로 스위치 개수 N, 다음 두 줄에 조작 전 스위치 상태 Ai와 조작 후 상태 Bi가 각각 N개씩 주어진다.\n",
        "(1<=T<=10, 1<=N<=100)\n",
        "\n",
        "[출력]\n",
        "'#'과 케이스번호, 빈칸으로 구분된 답을 출력한다."
      ],
      "metadata": {
        "id": "NqXvx32_d7iC"
      }
    },
    {
      "cell_type": "markdown",
      "source": [
        "### 다람쥐 풀이"
      ],
      "metadata": {
        "id": "X8Y6AxPneFSX"
      }
    },
    {
      "cell_type": "code",
      "source": [
        "T = int(input())\n",
        "for t in range(1, T+1):\n",
        "    N = int(input())\n",
        "    ai = list(map(int, input().split()))\n",
        "    bi = list(map(int, input().split()))\n",
        "\n",
        "    cnt = 0\n",
        "    for i in range(N):\n",
        "        if ai[i] != bi[i]:\n",
        "            for j in range(i, N):\n",
        "                if ai[j] == 1:\n",
        "                    ai[j] = 0\n",
        "                else:\n",
        "                    ai[j] =1\n",
        "            cnt += 1\n",
        "\n",
        "        else:\n",
        "            pass\n",
        "\n",
        "    print(f'#{t} {cnt}')"
      ],
      "metadata": {
        "id": "2EuM4ZO9d6pw"
      },
      "execution_count": null,
      "outputs": []
    },
    {
      "cell_type": "markdown",
      "source": [
        "## 돌뒤집기 게임\n",
        "\n",
        "동전처럼 생긴 돌의 양면은 각각 흰색과 검은색으로 되어있고, 게임의 규칙은 다음과 같다.\n",
        "\n",
        "i번째 돌을 사이에 두고 마주보는 j개의 돌에 대해, 각각 같은 색이면 뒤집고, 다른 색이면 그대로 둔다.\n",
        "주어진 돌을 벗어나는 경우 뒤집기는 중지된다.\n",
        "\n",
        "[입력]\n",
        "첫 줄에 게임의 개수 T, 다음 줄부터 게임별로 첫 줄에 돌의 수 N, 뒤집기 횟수 M, 다음 줄에 N개 돌의 초기상태, 이후 M개의 줄에 걸쳐 i, j가 주어진다.\n",
        "(1<=T<=50, 3<=N<=20,   1<=M<=10, 1<=i, j<=N)\n",
        "\n",
        "[출력]\n",
        "'#'과 게임번호, 빈칸에 이어 빈칸으로 구분된 돌의 상태를 출력한다."
      ],
      "metadata": {
        "id": "DGOvQxrxeEqU"
      }
    },
    {
      "cell_type": "markdown",
      "source": [
        "### 다람쥐 풀이"
      ],
      "metadata": {
        "id": "nSATA0eheE3P"
      }
    },
    {
      "cell_type": "code",
      "source": [
        "testcase=int(input())\n",
        "for tc in range(1,testcase+1):\n",
        "    N,M=map(int,input().split())\n",
        "    lst=list(map(int,input().split()))\n",
        "\n",
        "    for _ in range(M):\n",
        "        i,j=map(int,input().split())\n",
        "        i-=1\n",
        "        for k in range(1,j+1):\n",
        "            left=i-k\n",
        "            right=i+k\n",
        "            if left<0 or right==len(lst):\n",
        "                break\n",
        "            if lst[left]==lst[right]:\n",
        "                lst[left]=1-lst[left]\n",
        "                lst[right]=1-lst[right]\n",
        "    print(f'#{tc}',*lst)"
      ],
      "metadata": {
        "id": "rm-Vf-L1eL37"
      },
      "execution_count": null,
      "outputs": []
    },
    {
      "cell_type": "markdown",
      "source": [
        "## [파이썬 SW문제해결 기본 - LIST1] 구간합\n",
        "\n",
        "N개의 정수가 들어있는 배열에서 이웃한 M개의 합을 계산하는 것은 디지털 필터링의 기초연산이다.\n",
        "\n",
        "M개의 합이 가장 큰 경우와 가장 작은 경우의 차이를 출력하는 프로그램을 작성하시오.\n",
        "\n",
        "\n",
        "다음은 N=5, M=3이고 5개의 숫자 1 2 3 4 5가 배열 v에 들어있는 경우이다.\n",
        "\n",
        "\n",
        "\n",
        "이웃한 M개의 합이 가장 작은 경우 1 + 2 + 3 = 6\n",
        "\n",
        "\n",
        "\n",
        "이웃한 M개의 합이 가장 큰 경우 3 + 4 + 5 = 12\n",
        "\n",
        "\n",
        "답은 12와 6의 차인 6을 출력한다.\n",
        "\n",
        "\n",
        "\n",
        "\n",
        "[입력]\n",
        "\n",
        "\n",
        "첫 줄에 테스트 케이스 개수 T가 주어진다.  ( 1 ≤ T ≤ 50 )\n",
        "\n",
        "\n",
        "다음 줄부터 테스트케이스의 첫 줄에 정수의 개수 N과 구간의 개수 M 주어진다. ( 10 ≤ N ≤ 100,  2 ≤ M ＜ N )\n",
        "\n",
        "\n",
        "다음 줄에 N개의 정수 ai가 주어진다. ( 1 ≤ a ≤ 10000 )\n",
        "\n",
        "\n",
        "\n",
        "[출력]\n",
        "\n",
        "\n",
        "각 줄마다 \"#T\" (T는 테스트 케이스 번호)를 출력한 뒤, 답을 출력한다.\n",
        "\n"
      ],
      "metadata": {
        "id": "1waR9uchQpoY"
      }
    },
    {
      "cell_type": "markdown",
      "source": [
        "### 다람쥐 풀이"
      ],
      "metadata": {
        "id": "jDXkOHgeUcTh"
      }
    },
    {
      "cell_type": "code",
      "source": [
        "T = int(input())\n",
        "for t in range(1, T+1):\n",
        "    N, M = list(map(int, input().split()))\n",
        "    ai = list(map(int, input().split()))\n",
        "    max_sum = 0\n",
        "    min_sum = float('inf')\n",
        "\n",
        "    for i in range(N-M+1):\n",
        "        curr_sum = sum(ai[i:i+M])\n",
        "\n",
        "        if curr_sum > max_sum:\n",
        "            max_sum = curr_sum\n",
        "\n",
        "        if curr_sum < min_sum:\n",
        "            min_sum = curr_sum\n",
        "\n",
        "    print(max_sum - min_sum)"
      ],
      "metadata": {
        "id": "G3_SwwTOQpzz"
      },
      "execution_count": null,
      "outputs": []
    },
    {
      "cell_type": "markdown",
      "source": [
        "## 중력\n",
        "\n",
        "상자들이 쌓여있는 방이 있다. 방이 오른쪽으로 90도 회전하여 상자들이 중력의 영향을 받아 낙하한다고 할 때, 낙차가 가장 큰 상자를 구하여 그 낙차를 리턴 하는 프로그램을 작성하시오.\n",
        "중력은 회전이 완료된 후 적용된다.\n",
        "상자들은 모두 한쪽 벽면에 붙여진 상태로 쌓여 2차원의 형태를 이루며 벽에서 떨어져서 쌓인 상자는 없다.\n",
        "\n",
        "아래 예) 총 26개의 상자가 회전 후, 오른쪽 방 그림의 상태가 된다. A 상자의 낙차가 7로 가장 크므로 7을 리턴하면 된다.\n",
        "회전 결과, B상자의 낙차는 6, C상자의 낙차는 1이다.\n",
        "\n",
        "\n",
        "\n",
        "<제한 조건>\n",
        "첫줄에는 테스트케이스의 수가 주어지고, 각 테스트 케이스 마다 가로길이 N이 주어지고,\n",
        "아래행에 상자의 높이가 주어진다.\n",
        "방의 가로길이( 5<=N<=100),\n",
        "상자는 최소 0, 최대 100 높이로 쌓을 수 있다."
      ],
      "metadata": {
        "id": "HQd9-vE6TUSr"
      }
    },
    {
      "cell_type": "markdown",
      "source": [
        "### 다람쥐 풀이"
      ],
      "metadata": {
        "id": "aOKMkZnOUZo8"
      }
    },
    {
      "cell_type": "code",
      "source": [
        "T = int(input())\n",
        "for t in range(1, T+1):\n",
        "    N = int(input())\n",
        "    box = list(map(int, input().split()))\n",
        "    max_fall = 0\n",
        "\n",
        "    for i in range(N):\n",
        "        fall = N - 1 - i\n",
        "\n",
        "        for j in range(i+1, N):\n",
        "            if box[i] <= box[j]:\n",
        "                fall -= 1\n",
        "\n",
        "        max_fall = max(max_fall, fall)\n",
        "\n",
        "    print(f\"#{t} {max_fall}\")\n"
      ],
      "metadata": {
        "id": "Fd_56onVTUeQ"
      },
      "execution_count": null,
      "outputs": []
    },
    {
      "cell_type": "markdown",
      "source": [
        "## 1208. [S/W 문제해결 기본] 1일차 - Flatten\n",
        "\n",
        "한 쪽 벽면에 다음과 같이 노란색 상자들이 쌓여 있다.\n",
        "\n",
        "높은 곳의 상자를 낮은 곳에 옮기는 방식으로 최고점과 최저점의 간격을 줄이는 작업을 평탄화라고 한다.\n",
        "\n",
        "평탄화를 모두 수행하고 나면, 가장 높은 곳과 가장 낮은 곳의 차이가 최대 1 이내가 된다.\n",
        "\n",
        "평탄화 작업을 위해서 상자를 옮기는 작업 횟수에 제한이 걸려있을 때, 제한된 횟수만큼 옮기는 작업을 한 후 최고점과 최저점의 차이를 반환하는 프로그램을 작성하시오.\n",
        "\n",
        "\n",
        "\n",
        "\n",
        "가장 높은 곳에 있는 상자를 가장 낮은 곳으로 옮기는 작업을 덤프라고 정의한다.\n",
        "\n",
        "위의 예시에서 제1회 덤프를 수행한 이후 화면은 다음과 같다.\n",
        "\n",
        "\n",
        "\n",
        "A부분의 상자를 가장 낮은 B부분에 덤프하였으며, A대신 A’부분의 상자를 사용해도 무방하다.\n",
        "\n",
        "다음은 제2회 덤프를 수행한 이후의 화면이다.\n",
        "\n",
        "\n",
        "\n",
        "A’부분의 상자를 옮겨서, C부분에 덤프하였다. 이때 C 대신 C’부분에 덤프해도 무방하다.\n",
        "\n",
        "2회의 덤프 후, 최고점과 최저점의 차이는 8 – 2 = 6 이 되었다 (최초덤프 이전에는 9 – 1 = 8 이었다).\n",
        "\n",
        "덤프 횟수가 2회로 제한된다면, 이 예시 문제의 정답은 6이 된다.\n",
        "\n",
        "[제약 사항]\n",
        "\n",
        "가로 길이는 항상 100으로 주어진다.\n",
        "\n",
        "모든 위치에서 상자의 높이는 1이상 100이하로 주어진다.\n",
        "\n",
        "덤프 횟수는 1이상 1000이하로 주어진다.\n",
        "\n",
        "주어진 덤프 횟수 이내에 평탄화가 완료되면 더 이상 덤프를 수행할 수 없으므로 그 때의 최고점과 최저점의 높이 차를 반환한다 (주어진 data에 따라 0 또는 1이 된다).\n",
        "\n",
        "[입력]\n",
        "\n",
        "총 10개의 테스트 케이스가 주어지며, 각 테스트 케이스의 첫 번째 줄에는 덤프 횟수가 주어진다. 그리고 다음 줄에 각 상자의 높이값이 주어진다.\n",
        "\n",
        "[출력]\n",
        "\n",
        "'#'부호와 함께 테스트 케이스의 번호를 출력하고, 공백 문자 후 테스트 케이스의 최고점과 최저점의 높이 차를 출력한다."
      ],
      "metadata": {
        "id": "-7Ky55VHlj8C"
      }
    },
    {
      "cell_type": "markdown",
      "source": [
        "### 다람쥐 풀이"
      ],
      "metadata": {
        "id": "PQ97RtpYmn14"
      }
    },
    {
      "cell_type": "code",
      "source": [
        "T = 10 # 테스트케이스 10개\n",
        "for t in range(1, T+1):\n",
        "    dump = int(input()) # 덤프 횟수\n",
        "    box = list(map(int, input().split())) #박스의 높이 받기\n",
        "\n",
        "    for i in range(dump): # 덤프 횟수만큼 max값 1 빼고 min 값 1 더하기\n",
        "        if max(box) - min(box) > 1: # 1보다 최고점 최저점 높이차가 있는지 확인해야함.\n",
        "            max_box = box.index(max(box))\n",
        "            min_box = box.index(min(box))\n",
        "\n",
        "            box[max_box] -=1\n",
        "            box[min_box] +=1\n",
        "\n",
        "    print(f\"#{t} {max(box) - min(box)}\")"
      ],
      "metadata": {
        "id": "hsKFS6NllkHO"
      },
      "execution_count": null,
      "outputs": []
    },
    {
      "cell_type": "markdown",
      "source": [
        "### 문어박사 풀이"
      ],
      "metadata": {
        "id": "bMwuxSnelkTA"
      }
    },
    {
      "cell_type": "code",
      "source": [
        "T = 10 # 테스트케이스 10개\n",
        "for t in range(1, T+1):\n",
        "    dump = int(input()) # 덤프 횟수\n",
        "    box = list(map(int, input().split())) #박스의 높이 받기\n",
        "    ans\n",
        "\n",
        "    for _ in range(dump):\n",
        "        if max(box) - min(box) > 1:\n",
        "            box.sort() # 아예 정렬을 해버림\n",
        "            box[0] += 1\n",
        "            box[-1] -= 1\n",
        "\n",
        "    print(f\"#{t} {max(box) - min(box)}\")"
      ],
      "metadata": {
        "id": "CGwGd4b0lkcd"
      },
      "execution_count": null,
      "outputs": []
    },
    {
      "cell_type": "markdown",
      "source": [
        "## 1954. 달팽이 숫자\n",
        "\n",
        "달팽이는 1부터 N*N까지의 숫자가 시계방향으로 이루어져 있다.\n",
        "\n",
        "다음과 같이 정수 N을 입력 받아 N크기의 달팽이를 출력하시오.\n",
        "\n",
        "\n",
        "[예제]\n",
        "\n",
        "N이 3일 경우,\n",
        "\n",
        "\n",
        "\n",
        "\n",
        "N이 4일 경우,\n",
        "\n",
        "\n",
        "\n",
        "[제약사항]\n",
        "\n",
        "달팽이의 크기 N은 1 이상 10 이하의 정수이다. (1 ≤ N ≤ 10)\n",
        "\n",
        "\n",
        "[입력]\n",
        "\n",
        "가장 첫 줄에는 테스트 케이스의 개수 T가 주어지고, 그 아래로 각 테스트 케이스가 주어진다.\n",
        "\n",
        "각 테스트 케이스에는 N이 주어진다.\n",
        "\n",
        "\n",
        "[출력]\n",
        "\n",
        "각 줄은 '#t'로 시작하고, 다음 줄부터 빈칸을 사이에 두고 달팽이 숫자를 출력한다.\n",
        "\n",
        "(t는 테스트 케이스의 번호를 의미하며 1부터 시작한다.)"
      ],
      "metadata": {
        "id": "usN4PBppqzbT"
      }
    },
    {
      "cell_type": "markdown",
      "source": [
        "### 다람쥐 풀이"
      ],
      "metadata": {
        "id": "1dNBoovIq4GH"
      }
    },
    {
      "cell_type": "code",
      "source": [
        "T = int(input())\n",
        "for t in range(1, T + 1):\n",
        "    N = int(input())  # 크기 입력받기\n",
        "    x, y = 0, 0  # 처음 시작하는 좌표\n",
        "    num = 1  # 처음 입력할 숫자\n",
        "    d = 0  # 방향전환용 d\n",
        "    snail = [[0] * N for _ in range(N)]  # 2D 배열 올바르게 초기화\n",
        "    dx = [0, 1, 0, -1]  # 우, 하, 좌, 상 방향\n",
        "    dy = [1, 0, -1, 0]\n",
        "\n",
        "    for _ in range(N * N):  # 몇 번 이동할 건지 (총 N*N번)\n",
        "        snail[x][y] = num  # 현재 위치에 숫자 입력\n",
        "        num += 1  # 다음 숫자 증가\n",
        "\n",
        "        # 다음 이동할 좌표 계산\n",
        "        nx, ny = x + dx[d], y + dy[d]\n",
        "\n",
        "        # 만약 배열 범위를 벗어나거나 이미 숫자가 있는 경우 → 방향 전환\n",
        "        if not (0 <= nx < N and 0 <= ny < N and snail[nx][ny] == 0):\n",
        "            d = (d + 1) % 4  # 방향 변경\n",
        "            nx, ny = x + dx[d], y + dy[d]  # 새로운 방향으로 이동\n",
        "\n",
        "        x, y = nx, ny  # 좌표 업데이트\n",
        "\n",
        "    # 출력\n",
        "    print(f\"#{t}\")\n",
        "    for row in snail:\n",
        "        print(\" \".join(map(str, row)))"
      ],
      "metadata": {
        "id": "5iN5NLkJqyn5"
      },
      "execution_count": null,
      "outputs": []
    },
    {
      "cell_type": "code",
      "source": [
        "T = int(input())\n",
        "for t in range(1, T + 1):\n",
        "    N = int(input())  # 크기 입력받기\n",
        "    x, y = 0, 0  # 처음 시작하는 좌표\n",
        "    num = 1  # 처음 입력할 숫자\n",
        "    d = 0  # 방향전환용 d\n",
        "    snail = [[0] * N for _ in range(N)]  # 2D 배열 초기화\n",
        "    dx = [0, 1, 0, -1]  # 우, 하, 좌, 상 방향\n",
        "    dy = [1, 0, -1, 0]\n",
        "\n",
        "    while num <= N * N:  # 총 N*N번 숫자를 입력할 때까지 반복\n",
        "        snail[x][y] = num  # 현재 위치에 숫자 입력\n",
        "        num += 1  # 다음 숫자 증가\n",
        "\n",
        "        # 다음 이동할 좌표 계산\n",
        "        nx, ny = x + dx[d], y + dy[d]\n",
        "\n",
        "        # 만약 배열 범위를 벗어나거나 이미 숫자가 있는 경우 → 방향 전환\n",
        "        if not (0 <= nx < N and 0 <= ny < N and snail[nx][ny] == 0):\n",
        "            d = (d + 1) % 4  # 방향 변경\n",
        "            nx, ny = x + dx[d], y + dy[d]  # 새로운 방향으로 이동\n",
        "\n",
        "        x, y = nx, ny  # 좌표 업데이트\n",
        "\n",
        "    # 출력\n",
        "    print(f\"#{t}\")\n",
        "    for row in snail:\n",
        "        print(\" \".join(map(str, row)))"
      ],
      "metadata": {
        "id": "nT2cGjfvwPyg"
      },
      "execution_count": null,
      "outputs": []
    },
    {
      "cell_type": "markdown",
      "source": [
        "### 문어박사 풀이"
      ],
      "metadata": {
        "id": "WJIZBslYq4qo"
      }
    },
    {
      "cell_type": "code",
      "source": [
        "T = int(input())\n",
        "\n",
        "for t in range(1, T + 1):\n",
        "    N = int(input())  # 크기 입력받기\n",
        "    arr = [[0] * N for _ in range(N)]\n",
        "    x, y, cnt, d = 0, 0, 1, 0\n",
        "    arr[x][y] = cnt\n",
        "    cnt += 1\n",
        "\n",
        "    dx = [0, 1, 0, -1] # 우하좌상\n",
        "    dy = [1, 0, -1, 0]\n",
        "\n",
        "    while cnt <= N*N:\n",
        "        nx, ny = x + dx[d], y + dy[d]\n",
        "\n",
        "        if 0 <= nx < N and 0 <= ny < N and arr[nx][ny] == 0:\n",
        "            x, y = nx, ny\n",
        "            arr[x][y] = cnt\n",
        "            cnt += 1\n",
        "\n",
        "        else:\n",
        "            d = (d+1)%4\n",
        "\n",
        "    print(f\"{t}\")\n",
        "    for lst in arr:\n",
        "        print(*lst)\n"
      ],
      "metadata": {
        "id": "llVtxX_9q40i"
      },
      "execution_count": null,
      "outputs": []
    },
    {
      "cell_type": "markdown",
      "source": [
        "## 풍선팡\n",
        "\n",
        "종이 꽃가루가 들어있는 풍선이 NxM 크기의 격자판에 붙어있는데, 어떤 풍선을 터뜨리면 상하좌우의 풍선이 추가로 터진다고 한다.\n",
        "\n",
        "다음의 경우 가운데 풍선을 터뜨리면 상하좌우의 풍선이 추가로 1개씩 터지면서 총 5개의 꽃가루가 날리게 된다.\n",
        "\n",
        "![image.png](data:image/png;base64,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)\n",
        "\n",
        "NxM개의 풍선에 들어있는 종이 꽃가루 개수A가 주어지면, 한 개의 풍선을 선택해 터뜨렸을 때 날릴 수 있는 꽃가루 수 중 최대값을 출력하는 프로그램을 만드시오.\n",
        "\n",
        "(3<=N, M<=100)\n",
        "\n",
        "\n",
        "\n",
        "입력\n",
        "\n",
        "첫 줄에 테스트케이스 수 T, 다음 줄부터 테스트케이스 별로 첫 줄에 N과 M, 이후 N줄에 걸쳐 M개씩 풍선에 든 종이 꽃가루 개수가 주어진다.\n",
        "\n",
        "\n",
        "\n",
        "출력\n",
        "\n",
        "'#'과 테스트케이스 번호, 빈칸에 이어 종이 꽃가루의 최대 개수를 출력한다."
      ],
      "metadata": {
        "id": "dxaD3le8UjDf"
      }
    },
    {
      "cell_type": "markdown",
      "source": [
        "### 다람쥐 풀이"
      ],
      "metadata": {
        "id": "buGzC-2_UvjG"
      }
    },
    {
      "cell_type": "code",
      "source": [
        "T = int(input())\n",
        "for t in range(1, T+1):\n",
        "    N, M = list(map(int, input().split()))\n",
        "    arr = [list(map(int, input().split())) for _ in range(N)]\n",
        "    max_v = 0\n",
        "\n",
        "    # 상하좌우 풍선\n",
        "    dx = [0, 0, 1, -1]\n",
        "    dy = [1, -1, 0, 0]\n",
        "\n",
        "    for i in range(N):\n",
        "        for j in range(M):\n",
        "            curr_sum = arr[i][j]\n",
        "\n",
        "            for d in range(4):\n",
        "                nx, ny = i + dx[d], j + dy[d]\n",
        "                if 0 <= nx < N and 0 <= ny < N:\n",
        "                    curr_sum += arr[nx][ny]\n",
        "\n",
        "            max_v = max(curr_sum, max_v)\n",
        "\n",
        "    print(max_v)"
      ],
      "metadata": {
        "id": "uWhPksDBUwtH"
      },
      "execution_count": null,
      "outputs": []
    },
    {
      "cell_type": "markdown",
      "source": [
        "## 풍선팡 2\n",
        "위와 같지만, 본인이 가진 풍선 갯수만큼 더 멀리 터짐"
      ],
      "metadata": {
        "id": "qW1RgXKMencP"
      }
    },
    {
      "cell_type": "markdown",
      "source": [
        "### 다람쥐 풀이"
      ],
      "metadata": {
        "id": "kKsQMzFhensW"
      }
    },
    {
      "cell_type": "code",
      "source": [
        "T = int(input())\n",
        "for t in range(1, T+1):\n",
        "    N, M = list(map(int, input().split()))\n",
        "    arr = [list(map(int, input().split())) for _ in range(N)]\n",
        "    max_sum = 0\n",
        "    dx = [0, 0, 1, -1]\n",
        "    dy = [1, -1, 0, 0]\n",
        "\n",
        "    for i in range(N):\n",
        "        for j in range(M):\n",
        "            curr_sum = arr[i][j]\n",
        "            me = arr[i][j]\n",
        "\n",
        "            for d in range(4):\n",
        "                for k in range(1, me+1):\n",
        "                    nx = i + dx[d]*k\n",
        "                    ny = j + dy[d]*k\n",
        "\n",
        "                    if 0 <= nx < N and 0 <= ny < M:\n",
        "                        curr_sum += arr[nx][ny]\n",
        "\n",
        "            max_sum = max(max_sum, curr_sum)\n",
        "    print(max_sum)"
      ],
      "metadata": {
        "id": "saDAvIHdeunC"
      },
      "execution_count": null,
      "outputs": []
    },
    {
      "cell_type": "markdown",
      "source": [
        "## 기본 - List2-연습문제1 - 네방향탐색\n",
        "\n",
        "5x5 2차 배열에 무작위로 25개의 숫자로 초기화 한 후 25개의 각 요소에 대해서 그 요소와 이웃한 요소와의 차의 절대값을 구하시오.\n",
        "예를 들어 아래 그림에서 7 값의 이웃한 값은 2, 6, 8, 12 이며 차의 절대값의 합은 12 이다.\n",
        "\n",
        "\n",
        "\n",
        " | 2 – 7 | + | 6 – 7 | + | 8 – 7 | + | 12 – 7 | = 12\n",
        "\n",
        "25개의 요소에 대해서 모두 조사하여 총합을 구하시오.\n",
        "벽에 있는 요소는 이웃한 요소가 없을 수 있음을 주의하시오. 예를 들어 [0][0]은 이웃한 요소가 2개이다.\n",
        "\n",
        "[입력]\n",
        "첫 번째 줄에 테스트 케이스의 수 TC가 주어진다. 이후 TC개의 테스트 케이스가 새 줄로 구분되어 주어진다. 각 테스트 케이스는 다음과 같이 구성되었다.\n",
        "- 첫 번째 줄에 배열의 크기 N이 주어진다.\n",
        "- 두 번째 줄 부터  N X N 개의 배열이 주어진다.\n",
        "\n",
        "[출력]\n",
        "'#' 부호와 함께 테스트 케이스의 번호를 출력하고, 공백 문자 후 테스트케이스의 총합을 출력한다"
      ],
      "metadata": {
        "id": "lf4RjEETW4zz"
      }
    },
    {
      "cell_type": "markdown",
      "source": [
        "### 다람쥐풀이"
      ],
      "metadata": {
        "id": "TKh6Ke1GW3bx"
      }
    },
    {
      "cell_type": "code",
      "source": [
        "T = int(input())\n",
        "for t in range(1, T+1):\n",
        "    N = int(input())\n",
        "    arr = [list(map(int, input().split())) for _ in range(N)]\n",
        "    total = 0\n",
        "\n",
        "    # 상하좌우 풍선\n",
        "    dx = [0, 0, 1, -1]\n",
        "    dy = [1, -1, 0, 0]\n",
        "\n",
        "    for i in range(N):\n",
        "        for j in range(N):\n",
        "            curr_sum = arr[i][j]\n",
        "\n",
        "            for d in range(4):\n",
        "                nx, ny = i + dx[d], j + dy[d]\n",
        "                if 0 <= nx < N and 0 <= ny < N:\n",
        "                    total += abs(curr_sum - arr[nx][ny])\n",
        "\n",
        "    print(total)"
      ],
      "metadata": {
        "id": "kjz2IrzXW2ve"
      },
      "execution_count": null,
      "outputs": []
    },
    {
      "cell_type": "markdown",
      "source": [
        "## 파리퇴치 3\n",
        "\n",
        "N x N 배열 안의 숫자는 해당 영역에 존재하는 파리의 개체 수를 의미한다.\n",
        "\n",
        "아래는 N=5 의 예이다.\n",
        "\n",
        "파리 킬러 스프레이를 한 번만 뿌려 최대한 많은 파리를 잡으려고 한다. 스프레이의 노즐이 + 형태로 되어있어, 스프레이는 + 혹은 x 형태로 분사된다. 스프레이를 M의 세기로 분사하면 노즐의 중심이 향한 칸부터 각 방향으로 M칸의 파리를 잡을 수 있다.\n",
        "다음은 M=3 세기로 스프레이르 분사한 경우 파리가 퇴치되는 칸의 예로, +또는 x 중 하나로 분사된다. 뿌려진 일부가 영역을 벗어나도 상관없다.\n",
        "\n",
        "\n",
        "\n",
        "한 번에 잡을 수 있는 최대 파리수를 출력하라.\n",
        "\n",
        "\n",
        "\n",
        "[제약 사항]\n",
        "\n",
        "1. N 은 5 이상 15 이하이다.\n",
        "2. M은 2 이상 N 이하이다.\n",
        "3. 각 영역의 파리 갯수는 30 이하 이다.\n",
        "\n",
        "[입력]\n",
        "\n",
        "가장 첫 줄에는 테스트 케이스의 개수 T가 주어지고, 그 아래로 각 테스트 케이스가 주어진다.\n",
        "각 테스트 케이스의 첫 번째 줄에 N 과 M 이 주어지고,\n",
        "다음 N 줄에 걸쳐 N x N 배열이 주어진다.\n",
        "\n"
      ],
      "metadata": {
        "id": "YOdCCwyGjANb"
      }
    },
    {
      "cell_type": "markdown",
      "source": [
        "### 다람쥐 풀이"
      ],
      "metadata": {
        "id": "hAZG8veNjAT9"
      }
    },
    {
      "cell_type": "code",
      "source": [
        "\n",
        "T = int(input())\n",
        "for t in range(1, T+1):\n",
        "    N, M = list(map(int, input().split()))\n",
        "    arr = [list(map(int, input().split())) for _ in range(N)]\n",
        "    max_fly = 0\n",
        "\n",
        "    dx = [0, 0, 1, -1]\n",
        "    dy = [-1, 1, 0, 0]\n",
        "    dx2 = [1, 1, -1, -1]\n",
        "    dy2 = [-1 ,1 ,-1, 1]\n",
        "\n",
        "    for i in range(N):\n",
        "        for j in range(N):\n",
        "            curr_fly = arr[i][j]\n",
        "\n",
        "            for d in range(4):\n",
        "                for k in range(1, M):\n",
        "                    nx = i + dx[d] * k\n",
        "                    ny = j + dy[d] * k\n",
        "\n",
        "                    if 0 <= nx < N and 0<= ny < N:\n",
        "                        curr_fly += arr[nx][ny]\n",
        "\n",
        "                if max_fly < curr_fly:\n",
        "                    max_fly = curr_fly\n",
        "\n",
        "\n",
        "            cross_fly = arr[i][j]\n",
        "            for d in range(4):\n",
        "                for k in range(1, M):\n",
        "                    nx = i + dx2[d] * k\n",
        "                    ny = j + dy2[d] * k\n",
        "\n",
        "                    if 0 <= nx < N and 0<= ny < N:\n",
        "                        cross_fly += arr[nx][ny]\n",
        "\n",
        "                if max_fly < cross_fly:\n",
        "                    max_fly = cross_fly\n",
        "\n",
        "\n",
        "    print(max_fly)"
      ],
      "metadata": {
        "id": "SIDH0sEEjHiQ"
      },
      "execution_count": null,
      "outputs": []
    },
    {
      "cell_type": "code",
      "source": [
        "T = int(input())\n",
        "for t in range(T):\n",
        "    N, M = list(map(int, input().split()))\n",
        "    fly_list = [list(map(int, input().split())) for _ in range(N)]\n",
        "    dx = [-1, -1, 0]\n",
        "    dy = [0, 1, 1]\n",
        "\n",
        "    max_fly = 0\n",
        "\n",
        "    for i in range(N):\n",
        "        for j in range(N):\n",
        "            sum_fly = 0\n",
        "\n",
        "            for x in range(M):\n",
        "                for y in range(M):\n",
        "                    nx = i + x\n",
        "                    ny = j + y\n",
        "                    if 0 <= nx < N and 0 <= ny < N:\n",
        "                        sum_fly += fly_list[nx][ny]\n",
        "\n",
        "            if max_fly < sum_fly :\n",
        "                max_fly = sum_fly\n",
        "\n",
        "    print(f\"#{t + 1} {max_fly}\")"
      ],
      "metadata": {
        "id": "FxmiCCxtjQfl"
      },
      "execution_count": null,
      "outputs": []
    },
    {
      "cell_type": "markdown",
      "source": [
        "## 색칠하기\n",
        "\n",
        "그림과 같이 인덱스가 있는 10x10 격자에 빨간색과 파란색을 칠하려고 한다.\n",
        "\n",
        "N개의 영역에 대해 왼쪽 위와 오른쪽 아래 모서리 인덱스, 칠할 색상이 주어질 때, 칠이 끝난 후 색이 겹쳐 보라색이 된 칸 수를 구하는 프로그램을 만드시오.\n",
        "\n",
        "주어진 정보에서 같은 색인 영역은 겹치지 않는다.\n",
        "\n",
        "![image.png](data:image/png;base64,iVBORw0KGgoAAAANSUhEUgAAASMAAAEGCAYAAAAuQfOoAAAAAXNSR0IArs4c6QAAAARnQU1BAACxjwv8YQUAAAAJcEhZcwAAEnQAABJ0Ad5mH3gAAA4USURBVHhe7d1fayLJGsfxx/NOEjIQJYFjXsG5VrIwA7lRIgfyBhY0uRiWuVjCXkSFfQOBg4PeBDIwQa/PK4gHMsSBCfpS+nS3rTHZzGx1/THPut/P0jPaLqnprvZnVXWsKkQxAYBX9o/sbwB4VYQRABUIIwAqEEYAVCCMAKhAGAFQgTACoAJhBEAFwgiACoQRABWUhtFI6oWCFLKtfpPtDmDWLgX6+TPp7j8eQ6Exyvb79LSMUnuW7Q8jOVeF/W5cql/pz12cp2QLUEZitRy/5+pZXS+3enwl+zVqrPz8DbimVikMo+RkVEU+R5J8bS761pHxTyXpPmQv+/LQlVJ8srfPJtkOz26uRT5lxxBvQ6n6r9gnZQylfLYdMLhH8kuocxWrLeo72e6aspXt9yUJou3eiUwX9bE78Rh4W9K8W/n3x9v0oijFi3OpZP+HD8kxVOMraV7GVDpj/9fUqLEtl43psoyTXshr6pm4UF2+daLiXieKL5ql4bFExYvVPe6Snxm/AZZ/B/e5FsnxMHsSRshjSevguPaHuvEhfB0Mo5rU4j/XJUx5z89THHie3xcv/LuDXLfTqLMnyRf0460Ydb7N9+prGU1uZVIuPvlkLO4XZXLn91O50oukf5g9WYPR1SA9jnBG0v9Yk3qAY0o/kccdGX44yPb4N/hp0TUI0Aq+6cvguC6y0sUJ2f2YtVsy9twqSlSOajK4WnTNZnLdm0h513cb8pnigRTHPluRSc9ntfU1jFv32THNM0mPF9M+YKtiHS2j5JgkQIvi6SdMoE/+pKW6+NkvtFq9S+ra97GkP3O1npMWwOMnsl+BW2HZsTw9Hn/SFvDy/ZddXz7r/AfXkLqW0dZu+Q+toNnXceBWRSjzwcC0nx9gHOTpWEVd+t4/8UdSf3Mrnajv/VP+uw7PpbM3lonv1tHxcKUlXJHzC5HLTwFaR3ErLESrKJEOXl/Vs/qOpH4VP/c8iF3pzceJ5i3IbbltdKT4rKfi5IWez4K+btoLzcIknII3R71L7ghW0wHm+9N1/Nsr0v9c89qdTbobg/i/ata1KbxpyeRLS7ZDdKVCW8s1FX/4vB/LydsQ9T3vhg97jzFX6Q2l9rEfv+LT08H4c7kU8d0Q+F63Ly5QmXnTcNkEXe0mBBCqm7aO7t/wYrW5Oz9vvgf6nwjSTYu7NStd8DBd2qTrtIZrKmg39tn7IhbiXE3ja2p5XoKcp3ldPOkKXsxLUBhGsfQkLMZCQvXt50KG0fzfv7L5vlCfnKfAQZQI9GZL31TL4wj0wbOOayrg2Obc/I28PFchgu/JeQrVCFg9jse6KCR/xDsB4FUp/Q1sAH83hBEAFQgjACoQRgBUIIwAqLD2u2nJL88B2Fy2kfIqYRS6SMoww3kyR32bcSmDbhoAFQgjACoQRgBUIIwAqGAVRuEnBQfwd5M7jNYxKTiAv5+cYZTMuyvS+bCY4GlLmr/VZNK7fnmyJAAwlDOMJnL7pSzFnexpIpmZ8ctt/AoA2MsXRg8TGe/F4ZM9Te0UpZw9BABb+cIoCZ7nraCXAgoAcsrZTSvKwfOVG34w2z8AmMoZRlvyriHS+vVxIbnu+4HUjta2kA2ADWXxRdn5ipCtL/NnxYtprqV4tH9Zz9QmlMF5Mkd9m3Epg2/tW9qEMjhP5qhvMy5l5OymAUAYhBEAFQgjACoQRgBUIIwAqPAqd9MAbC7bSOHWvqVNKIPzZI76NuNSBt00ACoQRgBUIIwAqEAYAVCBMAKggkMYjaS+32XuawBeWIXRfKmiqgyy5wDgKn8YPXSlNe7I9FuHqWYBeJM/jHaacn/XZJpZAF4xgA1ABcIIgAqEEQAVCCMAKhBGAFRgChFLm1AG58kc9W3GpQxaRgBUIIwAqEAYAVCBMAKgAmEEQAVWBwHglW2kcGvfUlpG9jiUJLZDlhH65yfSMjalvv/iZWg/BrppAFQgjACoQBgBUIEwAqCCRRiNpF5I5sCeb6U2U/IDcJc7jGbtidSjKB0xj6KpnPS2pX6TvQgAlpxv7c/aJanKUO5PzWbF1n570VRaRvY4FG7tm9moaypgGdqPwXHMaCbXvYmUd5meH4Abp5ZRsn5a0iqKepVsz5/bqE+x7HEotIzMbNQ1FbAM7cdg2TKaD2L3j6JcQQQA35M/jB66Uir000Hs/mG2DwAc5eymzaS7XxX5dC/NnWxXThvVpM4eh0I3zcxGXVMBy9B+DBbdtIm03jz+nlG6NUbZawBgh2/tW0rLyB6HQsvIzEZdUwHL0H4Mjrf2AcAPwgiACoQRABUIIwAqEEYAVHiVu2kANpdtpHBr31JaRvY4lCS2f/7nf+ZPAvj9f/8O+vMTSRny83+zZ4H8/q+1lPFXv261v/fopgFQgTACoAJhBEAFwgiACoQRABUswujp6iBMxg/Ah9xh9GR1kG8dGf9Uku5D9iIAWModRlunTVlONLvzTk72sscA4MBtzOjhWi7lRN5ZzvoIAAtuY0ZvRYZ3TWGhIgCuLMKoIv3FmNEnkSqD2AA8cOum7TRleFGU8ddZtgMA7OQMo5l026uT74/klzNWlAXgLmcYbUlzt7/8HaNCoSrymfXTALjL30077M/Hi7KNIALgg9uYEQB4QhgBUIEwAqACYQRABcIIgAqsDgLAK9tIYXUQS2kZ2eNQWB3EEKuDGNH+3qObBkAFwgiACoQRABUIIwAqOIXRrF2Swn5XmEAEgCuHMJpPHwIAPliH0ahRlfFxTYrZcwBwYRVGSfesOu7I8MNBtgcA3OQPo4euVM/KTMQPwKucYTSS+ptb6UT9x7XTAMCDXGE0a7dkEP+XrAiS/Np34U1LJl9asl1gVVkAbnKF0dbpffq9k+X2rSPFvY5Mo3tpspAjAAdWA9gA4JtbGO005Z6BbAAe0DICoAJhBEAFwgiACoQRABUIIwAqEEYAVGB1EABe2UYKq4NYWlcZQVe9WNOqGqwOYib0NaX9fUE3DYAKhBEAFQgjACoQRgBUyB9GD10pFbL5jNKNuYwAuLNrGR0P0xHz+cZcRgDc5Q+jya2wQBEA3+xaRh+ry25aqc0SjgDc5Q+jw/5KF20o5bNtqd9krwGAJbuW0VJFzi+KMv5K6wiAG8cwAgA/cofRqFGXUfZ4vqCjyMlbZsEG4CZ3GFU+HEhr8TtGb1pS/sytfQDu8nfTkhVBlgPYkfQPs/0A4IAxIwAqEEYAVCCMAKhAGAFQgTACoAIT8gPwyjZSmJDf0rrKYEJ+A0zIb0T7+4JuGgAVCCMAKhBGAFQgjACoYBlGI6kXFhPyr3yLHwAsWYRREkRVkc+LL8vWRZjpEYCj3GE0a7dkfDFd+bZ+RSp8cx+Ao5xhNJPrnsjJ7vXK2ml00wC4s+imTaT1XmSYdtEimV6MpdogjgC4sQijonQ+NWUx0ezWaUdqH/u0jgA4sWoZ3a6u4vgwkfHeQRxRAGAvZxhtybtGUQbvu7JYnGj0a0uk8W7ZUgIAG7lbRlun9zIst2Q7G8CuylDuT4kiAG4sumkild7jhPxRr5LtBQB7VmEEAL4RRgBUIIwAqEAYAVCBMAKgAmEEQAVWBwHglW2ksDqIpU0og/Nkjvo241IG3TQAKhBGAFQgjACoQBgBUCFnGK2uCrKy7T9OKQIANpzvpo0aBekfRSsT9P+Yy2i7Kcoww3kyR32bcSnDLYweulJ6KzK8e5yG9s9w4ZgLXQbnyRz1bcalDKcwytsqSnDhmAtdBufJHPVtxqUM+zCyaBUluHDMhS6D82SO+jbjUob13bTZp0sp/5YviADgeyzDaCS/nJWlzkqyADyxC6ObvgyO68Ls1wB8sQqj2dexFPdZKQ2AP86/Z5QXg43mQpfBeTJHfZtxKcN6ABsAfCKMAKhAGAFQgTACoAJhBECFV7mbBmBz2UYKt/YtbUIZnCdz1LcZlzLopgFQgTACoAJhBEAFwgiACoQRABWswiiZbjYZNU+3xijbCwD2cofRrF2SqgzT23dRNJXOuCql9ix7FQDs5A6jyd1EakeLadW25F2DeY0AuMsdRpWjmgyuFl2zmVz3JlLeZSZsAG7yjxkd9iU66mdjRtty+1u+pYoA4CW5wygdvL6qZ2NGkdSvGMQG4C7nd9OStfb7Uo/6K5Pxv7Tv+7R/P8bUJpTBeTJHfZtxKSNny6goB3sD6d9kT2OzdksGewfxKwBgz+Jb+0lLqCqD7JnsdWTKWvtBhC6D82SO+jbjUgZTiFjahDI4T+aobzMuZeS/mwYAARBGAFQgjACoQBgBUIEwAqDCq9xNA7C5bCOFW/uWNqEMzpM56tuMSxl00wCoQBgBUIEwAqACYQRABcIIgAoWYTST7n62Mki8MRk/AB9yh9GosS2XjWl6+y5ZHeSkty31lfmNAMBGzt8zemFWx5v6fBransk8j5vx+xqJTSiD82SO+jbjUob7mFHxQIrjSdx5AwB7OcOoIvXjgbSW40Qz6b5tySR7BgC2creMKr35OFHSHEuXKmp0pFguGk87CwAvseimbUnzbr5MUbKdy6XIPtPxA3CTO4xm7a4sV0l76Er1rCydU9pFANzkDqOttyKttIsWb29upWO4XhoA/AhTiFjahDI4T+aobzMuZViMGQGAf4QRABUIIwAqEEYAVCCMAKjwKnfTAGwu20hZexgBwEvopgFQgTACoAJhBEAFwgiACoQRABUIIwAq5A6jWbskpXZX6oWCFPa7zH0NwAurltHk7FbqUSTRXZPpZgF4YRVGxYtzJlQD4BVjRgBUIIwAqEAYAVCBMAKgAt/aB6ACLSMAKhBGAFQgjACoQBgBUEDk/yQDQukDQuq2AAAAAElFTkSuQmCC)\n",
        "\n",
        "예를 들어 2개의 색칠 영역을 갖는 위 그림에 대한 색칠 정보이다.\n",
        "\n",
        "2\n",
        "\n",
        "2 2 4 4 1  ( [2,2] 부터 [4,4] 까지 color 1 (빨강) 으로 칠한다 )\n",
        "\n",
        "3 3 6 6 2 ( [3,3] 부터 [6,6] 까지 color 2 (파랑) 으로 칠한다 )\n",
        "\n",
        "\n",
        "\n",
        "[입력]\n",
        "\n",
        "\n",
        "첫 줄에 테스트 케이스 개수 T가 주어진다.   ( 1 ≤ T ≤ 50 )\n",
        "\n",
        "다음 줄부터 테스트케이스의 첫 줄에 칠할 영역의 개수 N이 주어진다. ( 2 ≤ N ≤ 30 )\n",
        "\n",
        "다음 줄에 왼쪽 위 모서리 인덱스 r1, c1, 오른쪽 아래 모서리 r2, c2와 색상 정보 color가 주어진다. ( 0 ≤ r1, c1, r2, c2 ≤ 9 )\n",
        "\n",
        "color = 1 (빨강), color = 2 (파랑)\n",
        "\n",
        "\n",
        "\n",
        "[출력]\n",
        "\n",
        "\n",
        "각 줄마다 \"#T\" (T는 테스트 케이스 번호)를 출력한 뒤, 답을 출력한다."
      ],
      "metadata": {
        "id": "NWuFYqk8XFfn"
      }
    },
    {
      "cell_type": "markdown",
      "source": [
        "### 다람쥐 풀이"
      ],
      "metadata": {
        "id": "VRHG2McXXQXJ"
      }
    },
    {
      "cell_type": "code",
      "source": [
        "T = int(input())\n",
        "for t in range(1, T+1):\n",
        "    paper = [[0] * 10 for _ in range(10)]\n",
        "    N = int(input())\n",
        "    for _ in range(N):\n",
        "        x1, y1, x2, y2, color = list(map(int, input().split()))\n",
        "\n",
        "        for i in range(x1, x2+1):\n",
        "            for j in range(y1, y2+1):\n",
        "                if paper[i][j] == 0:\n",
        "                    paper[i][j] = color\n",
        "                elif paper[i][j] != color:\n",
        "                    paper[i][j] = -1\n",
        "\n",
        "    overlap = sum(row.count(-1) for row in paper)\n",
        "\n",
        "    print(f\"#{t} {overlap}\")"
      ],
      "metadata": {
        "id": "nmzNcfO9XRdr"
      },
      "execution_count": null,
      "outputs": []
    },
    {
      "cell_type": "markdown",
      "source": [
        "## 1209. [S/W 문제해결 기본] 2일차 - Sum\n",
        "\n",
        "다음 100X100의 2차원 배열이 주어질 때, 각 행의 합, 각 열의 합, 각 대각선의 합 중 최댓값을 구하는 프로그램을 작성하여라.\n",
        "\n",
        "다음과 같은 5X5 배열에서 최댓값은 29이다.\n",
        "\n",
        "\n",
        "\n",
        "[제약 사항]\n",
        "\n",
        "총 10개의 테스트 케이스가 주어진다.\n",
        "\n",
        "배열의 크기는 100X100으로 동일하다.\n",
        "\n",
        "각 행의 합은 integer 범위를 넘어가지 않는다.\n",
        "\n",
        "동일한 최댓값이 있을 경우, 하나의 값만 출력한다.\n",
        "\n",
        "[입력]\n",
        "\n",
        "각 테스트 케이스의 첫 줄에는 테스트 케이스 번호가 주어지고 그 다음 줄부터는 2차원 배열의 각 행 값이 주어진다.\n",
        "\n",
        "[출력]\n",
        "\n",
        "'#'부호와 함께 테스트 케이스의 번호를 출력하고, 공백 문자 후 테스트 케이스의 답을 출력한다."
      ],
      "metadata": {
        "id": "e03AvHzF7HFD"
      }
    },
    {
      "cell_type": "markdown",
      "source": [
        "### 다람쥐 코드"
      ],
      "metadata": {
        "id": "4CRB9Qmk7Wx0"
      }
    },
    {
      "cell_type": "code",
      "source": [
        "T = 10\n",
        "for t in range(1, T+1):\n",
        "    no = int(input())\n",
        "    arr = [list(map(int, input().split())) for _ in range(100)]\n",
        "\n",
        "    # 각 행의 합 중 최댓값 구하기\n",
        "    row_arr = max(sum(row) for row in arr)\n",
        "\n",
        "    # 각 열의 합 중 최댓값 구하기\n",
        "    col_arr = max(sum(col) for col in zip(*arr))\n",
        "\n",
        "    # 왼쪽 대각선의 합\n",
        "    left = sum(arr[i][i] for i in range(100))\n",
        "\n",
        "    # 오른쪽 대각선의 합\n",
        "    right = sum(arr[i][99-i] for i in range(100))\n",
        "\n",
        "    max_value = max(row_arr, col_arr, left, right)\n",
        "\n",
        "    print(f\"{t} {max_value}\")"
      ],
      "metadata": {
        "id": "oAblIpRP7Gm1"
      },
      "execution_count": null,
      "outputs": []
    },
    {
      "cell_type": "markdown",
      "source": [
        "### 문어박사 코드"
      ],
      "metadata": {
        "id": "9z9n_lnF7XTX"
      }
    },
    {
      "cell_type": "code",
      "source": [
        "T = 10\n",
        "for t in range(1, T+1):\n",
        "    _ = int(input())\n",
        "    N = 100\n",
        "    arr = [list(map(int, input().split())) for _ in range(N)]\n",
        "\n",
        "    ans = s3 = s4 = 0\n",
        "    for i in range(N):\n",
        "        s1 = s2 = 0\n",
        "        for j in range(N):\n",
        "            s1 += arr[i][j] # 행의 합\n",
        "            s2 += arr[j][i] # 열의 합\n",
        "        ans = max(ans, s1, s2)\n",
        "\n",
        "        s3 += arr[i][i] # 왼쪽 대각선\n",
        "        s4 += arr[i][N-1-i] # 오른쪽 대각선\n",
        "    ans = max(ans, s3, s4)\n",
        "\n",
        "    print(f\"#{t} {ans}\")"
      ],
      "metadata": {
        "id": "Uw7_AbOy7X0S"
      },
      "execution_count": null,
      "outputs": []
    },
    {
      "cell_type": "markdown",
      "source": [
        "## 두개의 숫자열\n"
      ],
      "metadata": {
        "id": "r-E9Mzg8irUD"
      }
    },
    {
      "cell_type": "code",
      "source": [
        "def my_multi(N, M, Ai, Bi):\n",
        "    if N > M:\n",
        "        N, M = M, N\n",
        "        Ai, Bi = Bi, Ai\n",
        "\n",
        "    max_multi = float('-inf')\n",
        "\n",
        "    for i in range(M - N + 1):  # M-N+1개의 가능한 위치 탐색\n",
        "        curr_multi = 0\n",
        "        for j in range(N):  # Ai와 Bi의 M-N 범위만큼 곱셈 수행\n",
        "            curr_multi += Ai[j] * Bi[i + j]\n",
        "\n",
        "        max_multi = max(max_multi, curr_multi)\n",
        "\n",
        "    return max_multi\n",
        "\n",
        "\n",
        "T = int(input())\n",
        "for t in range(1, T+1):\n",
        "    N, M = map(int, input().split())\n",
        "    Ai = list(map(int, input().split()))\n",
        "    Bi = list(map(int, input().split()))\n",
        "\n",
        "    result = my_multi(N, M, Ai, Bi)\n",
        "\n",
        "    print(f\"#{t} {result}\")"
      ],
      "metadata": {
        "id": "Ahg2_NIBiw0J"
      },
      "execution_count": null,
      "outputs": []
    },
    {
      "cell_type": "markdown",
      "source": [
        "## 특별한 정렬\n",
        "\n",
        "보통의 정렬은 오름차순이나 내림차순으로 이루어지지만, 이번에는 특별한 정렬을 하려고 한다.\n",
        "\n",
        "N개의 정수가 주어지면 가장 큰 수, 가장 작은 수, 2번째 큰 수, 2번째 작은 수 식으로 큰 수와 작은 수를 번갈아 정렬하는 방법이다.\n",
        "\n",
        "예를 들어 1부터 10까지 10개의 숫자가 주어지면 다음과 같이 정렬한다.\n",
        "\n",
        "\n",
        "10 1 9 2 8 3 7 4 6 5\n",
        "\n",
        "\n",
        "주어진 숫자에 대해 특별한 정렬을 한 결과를 10개까지 출력하시오\n",
        "\n",
        "\n",
        "\n",
        "\n",
        "[입력]\n",
        "\n",
        "\n",
        "첫 줄에 테스트 케이스 개수 T가 주어진다.  1<=T<=50\n",
        "\n",
        "다음 줄에 정수의 개수 N이 주어지고 다음 줄에 N개의 정수 ai가 주어진다. 10<=N<=100, 1<=ai<=100\n",
        "\n",
        "\n",
        "\n",
        "[출력]\n",
        "\n",
        "\n",
        "각 줄마다 \"#T\" (T는 테스트 케이스 번호)를 출력한 뒤, 특별히 정렬된 숫자를 10개까지 출력한다.\n",
        "\n"
      ],
      "metadata": {
        "id": "w8KjdEw-YosL"
      }
    },
    {
      "cell_type": "markdown",
      "source": [
        "### 다람쥐 풀이"
      ],
      "metadata": {
        "id": "2fcgm4XGYpDR"
      }
    },
    {
      "cell_type": "code",
      "source": [
        "T = int(input())\n",
        "for t in range(1, T+1):\n",
        "    N = int(input())\n",
        "    arr = list(map(int, input().split()))\n",
        "    arr.sort()\n",
        "\n",
        "    new_lst = []\n",
        "    for i in range(N):\n",
        "        if i % 2 == 0: # 작은 수 부터\n",
        "            new_lst.append(arr[-1])\n",
        "            arr.pop(-1)\n",
        "\n",
        "        else: # 큰 수 부터\n",
        "            new_lst.append(arr[0])\n",
        "            arr.pop(0)\n",
        "\n",
        "    print(*new_lst[:11])"
      ],
      "metadata": {
        "id": "Vwg4iGONYpXX"
      },
      "execution_count": null,
      "outputs": []
    },
    {
      "cell_type": "code",
      "source": [
        "def selectionSort(A, N) :   #A = 배열, N은 갯수\n",
        "    for i in range(N-1) :  #i = [0, 1, 2,.. n-2]\n",
        "        for j in range(i, N) :    #인덱스, j = [0+1, 1+1, ... , N-1] N-1 = 마지막 인덱스\n",
        "            if i % 2 == 0 :\n",
        "                if A[i] < A[j] :\n",
        "                    A[i], A[j] = A[j], A[i]\n",
        "            if i % 2 == 1 :\n",
        "                if A[i] > A[j] :\n",
        "                    A[i], A[j] = A[j], A[i]\n",
        "    return A[:10]\n",
        "\n",
        "T = int(input())\n",
        "\n",
        "for tc in range (1, T+1):\n",
        "    n = int(input())\n",
        "    arr = list(map(int, input().split()))\n",
        "\n",
        "    print(f'#{tc}', *selectionSort(arr, n))"
      ],
      "metadata": {
        "id": "ibq7LRtAaQOP"
      },
      "execution_count": null,
      "outputs": []
    },
    {
      "cell_type": "markdown",
      "source": [
        "## 의석이의 세로로 읽어요\n",
        "\n",
        "의석이가 멍청해서 가로로 못읽고 세로로 읽음."
      ],
      "metadata": {
        "id": "66ZEm0ingZrr"
      }
    },
    {
      "cell_type": "markdown",
      "source": [
        "### 다람쥐 풀이"
      ],
      "metadata": {
        "id": "clEfCDIygZwv"
      }
    },
    {
      "cell_type": "code",
      "source": [
        "T = int(input())  # 테스트 케이스 개수 입력\n",
        "\n",
        "for t in range(T):\n",
        "    # 입력을 받아서 2차원 리스트 만들기\n",
        "    char_list = [list(input().strip()) for _ in range(5)]\n",
        "\n",
        "    # 최대 열 크기 찾기 (가장 긴 행의 길이)\n",
        "    max_col = max(len(row) for row in char_list)\n",
        "\n",
        "    new_list = []\n",
        "\n",
        "    # 열 우선 순회 (최대 열 개수만큼 반복)\n",
        "    for j in range(max_col):\n",
        "        for i in range(5):\n",
        "            if j < len(char_list[i]):  # i번째 행의 길이가 j보다 크다면\n",
        "                new_list.append(char_list[i][j])\n",
        "\n",
        "    # 리스트를 문자열로 변환하여 출력\n",
        "    print(f\"#{t+1} {''.join(new_list)}\")"
      ],
      "metadata": {
        "id": "MnnWCnifggvA"
      },
      "execution_count": null,
      "outputs": []
    },
    {
      "cell_type": "markdown",
      "source": [
        "## [파이썬 SW문제해결 기본 - LIST2] 이진탐색\n",
        "\n",
        "코딩반 학생들에게 이진 탐색을 설명하던 선생님은 이진탐색을 연습할 수 있는 게임을 시켜 보기로 했다.\n",
        "\n",
        "짝을 이룬 A, B 두 사람에게 교과서에서 각자 찾을 쪽 번호를 알려주면, 이진 탐색만으로 지정된 페이지를 먼저 펼치는 사람이 이기는 게임이다.\n",
        "\n",
        "예를 들어 책이 총 400쪽이면, 검색 구간의 왼쪽 l=1, 오른쪽 r=400이 되고, 중간 페이지 c= int((l+r)/2)로 계산한다.\n",
        "\n",
        "찾는 쪽 번호가 c와 같아지면 탐색을 끝낸다.\n",
        "\n",
        "A는 300, B는 50 쪽을 찾아야 하는 경우, 다음처럼 중간 페이지를 기준으로 왼쪽 또는 오른 쪽 영역의 중간 페이지를 다시 찾아가면 된다.\n",
        "\n",
        "\n",
        "\n",
        "\n",
        "A\n",
        "\n",
        "B\n",
        "\n",
        "첫 번째 탐색\n",
        "\n",
        "l=1, r=400, c=200\n",
        "\n",
        "l=1, r=400, c=200\n",
        "\n",
        "두 번째 탐색\n",
        "\n",
        "l=200, r=400, c=300\n",
        "\n",
        "l=1, r=200, c=100\n",
        "\n",
        "세 번째 탐색\n",
        "\n",
        "\n",
        "\n",
        "l=1, r=100, c=50\n",
        "\n",
        "\n",
        "책의 전체 쪽수와 두 사람이 찾을 쪽 번호가 주어졌을 때, 이진 탐색 게임에서 이긴 사람이 누구인지 알아내 출력하시오. 비긴 경우는 0을 출력한다.\n",
        "\n",
        "\n",
        "\n",
        "\n",
        "[입력]\n",
        "\n",
        "\n",
        "첫 줄에 테스트 케이스 개수 T가 주어진다.  1<=T<=50\n",
        "\n",
        "\n",
        "테스트 케이스 별로 책의 전체 쪽 수 P, A, B가 찾을 쪽 번호 Pa, Pb가 차례로 주어진다. 1<= P, Pa, Pb <=1000\n",
        "\n",
        "\n",
        "[출력]\n",
        "\n",
        "\n",
        "각 줄마다 \"#T\" (T는 테스트 케이스 번호)를 출력한 뒤, A, B, 0 중 하나를 출력한다.\n",
        "\n"
      ],
      "metadata": {
        "id": "Pd9DLs3EaiHF"
      }
    },
    {
      "cell_type": "markdown",
      "source": [
        "### 다람쥐 풀이"
      ],
      "metadata": {
        "id": "-YhUoANfaqwn"
      }
    },
    {
      "cell_type": "code",
      "source": [
        "def binary_search(P, target):\n",
        "    start, end = 1, P\n",
        "    count = 0\n",
        "\n",
        "    while start <= end:\n",
        "        count += 1\n",
        "        mid = (start+end) // 2\n",
        "\n",
        "        if mid == target:\n",
        "            return count\n",
        "\n",
        "        elif mid < target:\n",
        "            start = mid\n",
        "\n",
        "        else :\n",
        "            end = mid\n",
        "    return -1\n",
        "\n",
        "\n",
        "\n",
        "T = int(input())\n",
        "for t in range(1, T+1):\n",
        "    P, A, B = list(map(int, input().split()))\n",
        "\n",
        "    PA = binary_search(P, A)\n",
        "    PB = binary_search(P, B)\n",
        "\n",
        "    if PA > PB:\n",
        "        print(f\"#{t} B\")\n",
        "    elif PA == PB:\n",
        "        print(f\"#{t} 0\")\n",
        "    else:\n",
        "        print(f\"#{t} A\")"
      ],
      "metadata": {
        "id": "O3_LFVX2aiYk"
      },
      "execution_count": null,
      "outputs": []
    },
    {
      "cell_type": "markdown",
      "source": [
        "## 글자수\n",
        "\n",
        "두 개의 문자열 str1과 str2가 주어진다. 문자열 str1에 포함된 글자들이 str2에 몇 개씩 들어있는지 찾고, 그중 가장 많은 글자의 개수를 출력하는 프로그램을 만드시오.\n",
        "\n",
        "예를 들어 str1 = “ABCA”, str2 = “ABABCA”인 경우, str1의 A가 str2에 3개 있으므로 가장 많은 글자가 되고 3을 출력한다.\n",
        "\n",
        "파이썬의 경우 딕셔너리를 이용할 수 있다.\n",
        "\n",
        "\n",
        "[입력]\n",
        "\n",
        "첫 줄에 테스트 케이스 개수 T가 주어진다.  1≤T≤50\n",
        "\n",
        "다음 줄부터 테스트 케이스 별로 길이가 N인 문자열 str1과 길이가 M인 str2가 각각 다른 줄에 주어진다. 5≤N≤100, 10≤M≤1000, N≤M\n",
        "\n",
        "[출력]\n",
        "\n",
        "각 줄마다 \"#T\" (T는 테스트 케이스 번호)를 출력한 뒤, 답을 출력한다."
      ],
      "metadata": {
        "id": "Hg7NSuvybpCh"
      }
    },
    {
      "cell_type": "markdown",
      "source": [
        "### 다람쥐 풀이"
      ],
      "metadata": {
        "id": "_ZeNMKolb776"
      }
    },
    {
      "cell_type": "code",
      "source": [
        "T = int(input())\n",
        "\n",
        "for t in range(1, T + 1):\n",
        "    str1 = input().strip()  # 기준이 되는 문자열\n",
        "    str2 = input().strip()  # 검사할 문자열\n",
        "\n",
        "    char_count = {}\n",
        "\n",
        "    for char in str1:\n",
        "        if char not in char_count:  # 중복 계산 방지\n",
        "            char_count[char] = str2.count(char)\n",
        "\n",
        "    # 최댓값 찾기\n",
        "    max_count = max(char_count.values())\n",
        "\n",
        "    # 출력\n",
        "    print(f\"#{t} {max_count}\")"
      ],
      "metadata": {
        "id": "rWh9-uzNb8Lg"
      },
      "execution_count": null,
      "outputs": []
    },
    {
      "cell_type": "code",
      "source": [
        "def BruteForce(pattern, text):\n",
        "    M = len(pattern)\n",
        "    N = len(text)\n",
        "\n",
        "    for i in range(N - M +1):\n",
        "        j = 0\n",
        "        while j < M and text[i+j] == pattern[j]:\n",
        "            j += 1\n",
        "        if j == M:\n",
        "            return 1\n",
        "\n",
        "\n",
        "    return 0\n",
        "\n",
        "T = int(input())\n",
        "\n",
        "for t in range(1, T + 1):\n",
        "    pattern = input().strip()\n",
        "    text = input().strip()\n",
        "\n",
        "    result = BruteForce(pattern, text)\n",
        "    print(f\"#{t} {result}\")"
      ],
      "metadata": {
        "id": "80AbSYddcKa9"
      },
      "execution_count": null,
      "outputs": []
    },
    {
      "cell_type": "markdown",
      "source": [
        "## 회문 1\n",
        "\n",
        "\n",
        "\"기러기\", \"토마토\", \"스위스\"와 같이 똑바로 읽어도 거꾸로 읽어도 똑같은 문장이나 낱말을 회문(回文, palindrome)이라 한다.\n",
        "\n",
        "8x8 평면 글자판에서 제시된 길이를 가진 회문의 개수를 구하라.\n",
        "\n",
        "\n",
        "\n",
        "\n",
        "위와 같은 글자판이 주어졌을 때, 길이가 5인 회문은 붉은색 테두리로 표시된 4개이므로 4를 반환하면 된다.\n",
        "\n",
        "\n",
        "[제약 사항]\n",
        "\n",
        "각 칸의 들어가는 글자는 'A', 'B', 'C' 중 하나이다.\n",
        "\n",
        "ABA도 회문이며, ABBA도 회문이다. A 또한 길이 1짜리 회문이다.\n",
        "\n",
        "가로 또는 세로로 이어진 회문의 개수만 센다.\n",
        "\n",
        "아래 그림에서 노란색 경로를 따라가면 길이 7짜리 회문이 되지만 직선이 아니기 때문에 인정되지 않는다.\n",
        "\n",
        "\n",
        "\n",
        "\n",
        "\n",
        "\n",
        "[입력]\n",
        "\n",
        "총 10개의 테스트 케이스가 주어진다.\n",
        "\n",
        "각 테스트 케이스의 첫 번째 줄에는 찾아야 하는 회문의 길이가 주어지며, 다음 줄에 8x8 크기의 글자판이 주어진다.\n",
        "\n",
        "[출력]\n",
        "\n",
        "'#'부호와 함께 테스트 케이스의 번호를 출력하고, 공백 문자 후 찾은 회문의 개수를 출력한다."
      ],
      "metadata": {
        "id": "mOUvgMa3cUg5"
      }
    },
    {
      "cell_type": "markdown",
      "source": [
        "### 다람쥐 풀이"
      ],
      "metadata": {
        "id": "2zqcvDnScU9E"
      }
    },
    {
      "cell_type": "code",
      "source": [
        "for t in range(1, 11):\n",
        "    N = int(input())\n",
        "    txt = [list(input().strip()) for _ in range(8)]\n",
        "    total = 0\n",
        "\n",
        "    # 가로 회문 검사\n",
        "    for i in range(8):\n",
        "        for j in range(8-N+1):\n",
        "            for k in range(N//2):\n",
        "                if txt[i][j+k] != txt[i][j+N-1-k]:\n",
        "                    break\n",
        "            else:\n",
        "                total += 1\n",
        "\n",
        "    # 세로 회문 검사 (i 중복 제거)\n",
        "    for i in range(8):\n",
        "        for j in range(8-N+1):\n",
        "            for k in range(N//2):\n",
        "                if txt[j+k][i] != txt[j+N-1-k][i]:\n",
        "                    break\n",
        "            else:\n",
        "                total += 1\n",
        "\n",
        "    print(f\"#{t} {total}\")  # SWEA 스타일 출력 적용\n"
      ],
      "metadata": {
        "id": "nTEkbbPXcUst"
      },
      "execution_count": null,
      "outputs": []
    },
    {
      "cell_type": "markdown",
      "source": [
        "##GNS 다람쥐풀이"
      ],
      "metadata": {
        "id": "1n29gbzHdR_D"
      }
    },
    {
      "cell_type": "code",
      "source": [
        "digits = ['ZRO', 'ONE', 'TWO', 'THR', 'FOR', 'FIV', 'SIX', 'SVN', 'EGT', 'NIN']\n",
        "T = int(input())\n",
        "for tc in range(1, T+1):\n",
        "    no, size = map(str, input().split())\n",
        "    size = int(size)\n",
        "    arr = list(map(str, input().split()))\n",
        "    #카운팅\n",
        "    cnts = [0] * 10\n",
        "    for item in arr:\n",
        "        for j in range(10):\n",
        "            if item == digits[j]:\n",
        "                cnts[j] += 1\n",
        "\n",
        "    # 출력\n",
        "    print(f'#{tc}')\n",
        "    for i in range(10):\n",
        "        for j in range(cnts[i]):\n",
        "            print(digits[i], end=' ')\n",
        "    print()"
      ],
      "metadata": {
        "id": "ruGA4gHrdVoR"
      },
      "execution_count": null,
      "outputs": []
    },
    {
      "cell_type": "markdown",
      "source": [
        "## 문자열 비교\n",
        "\n",
        "두 개의 문자열 str1과 str2가 주어진다. 문자열 str2 안에 str1과 일치하는 부분이 있는지 찾는 프로그램을 만드시오.\n",
        "\n",
        "예를 들어 두 개의 문자열이 다음과 같이 주어질 때, 첫 문자열이 두번째에 존재하면 1, 존재하지 않으면 0을 출력한다.\n",
        "\n",
        "\n",
        "ABC\n",
        "\n",
        "ZZZZZABCZZZZZ\n",
        "\n",
        "두번째 문자열에 첫번째 문자열과 일치하는 부분이 있으므로 1을 출력.\n",
        "\n",
        "\n",
        "ABC\n",
        "\n",
        "ZZZZAZBCZZZZZ\n",
        "\n",
        "문자열이 일치하지 않으므로 0을 출력.\n",
        "\n",
        "\n",
        "\n",
        "\n",
        "[입력]\n",
        "\n",
        "\n",
        "첫 줄에 테스트 케이스 개수 T가 주어진다.  (1≤T≤50)\n",
        "\n",
        "\n",
        "다음 줄부터 테스트 케이스 별로 길이가 N인 문자열 str1과 길이가 M인 str2가 각각 다른 줄에 주어집니다. (5≤N≤100, 10≤M≤1000, N≤M)\n",
        "\n",
        "\n",
        "\n",
        "[출력]\n",
        "\n",
        "\n",
        "각 줄마다 \"#T\" (T는 테스트 케이스 번호)를 출력한 뒤, 답을 출력한다.\n",
        "\n"
      ],
      "metadata": {
        "id": "X1ye5g7Kde8E"
      }
    },
    {
      "cell_type": "markdown",
      "source": [
        "### 다람쥐 풀이"
      ],
      "metadata": {
        "id": "kkhTqNJ7dlRs"
      }
    },
    {
      "cell_type": "code",
      "source": [
        "def BruteForce(pattern, text):\n",
        "    M = len(pattern)\n",
        "    N = len(text)\n",
        "\n",
        "    for i in range(N - M +1):\n",
        "        j = 0\n",
        "        while j < M and text[i+j] == pattern[j]:\n",
        "            j += 1\n",
        "        if j == M:\n",
        "            return 1\n",
        "\n",
        "\n",
        "    return 0\n",
        "\n",
        "T = int(input())\n",
        "\n",
        "for t in range(1, T + 1):\n",
        "    pattern = input().strip()\n",
        "    text = input().strip()\n",
        "\n",
        "    result = BruteForce(pattern, text)\n",
        "    print(f\"#{t} {result}\")"
      ],
      "metadata": {
        "id": "Cp3uA3V0dgWY"
      },
      "execution_count": null,
      "outputs": []
    },
    {
      "cell_type": "markdown",
      "source": [
        "## 가장 빠른 문자열 타이핑"
      ],
      "metadata": {
        "id": "OIk1pcXIdtUc"
      }
    },
    {
      "cell_type": "markdown",
      "source": [
        "### 다람쥐 풀이"
      ],
      "metadata": {
        "id": "EQWh140ydtkG"
      }
    },
    {
      "cell_type": "code",
      "source": [
        "def BruteForce(pattern, text):\n",
        "    M = len(pattern)\n",
        "    N = len(text)\n",
        "    total = 0\n",
        "    i = 0  #  while문을 사용하여 패턴 찾기\n",
        "\n",
        "    while i < N - M + 1:  # 패턴이 들어갈 수 있는 범위에서만 탐색\n",
        "        j = 0\n",
        "        while j < M and text[i + j] == pattern[j]:  # 패턴 비교\n",
        "            j += 1\n",
        "        if j == M:  # 패턴이 완전히 일치하면\n",
        "            total += 1  # 패턴 개수 증가\n",
        "            i += M - 1  # `M-1` 만큼 건너뛰기!\n",
        "        i += 1  # 기본적으로 한 칸씩 이동\n",
        "\n",
        "    return total\n",
        "\n",
        "T = int(input())\n",
        "for t in range(1, T+1):\n",
        "    text, pattern = input().split()\n",
        "\n",
        "    pattern_num = BruteForce(pattern, text)\n",
        "\n",
        "    M = len(pattern)\n",
        "    N = len(text)\n",
        "\n",
        "    result = N - (M * pattern_num) + pattern_num\n",
        "    print(f\"#{t} {result}\")"
      ],
      "metadata": {
        "id": "s6o7baFXdxNZ"
      },
      "execution_count": null,
      "outputs": []
    },
    {
      "cell_type": "markdown",
      "source": [
        "## 전기버스\n",
        "\n",
        "A도시는 전기버스를 운행하려고 한다. 전기버스는 한번 충전으로 이동할 수 있는 정류장 수가 정해져 있어서, 중간에 충전기가 설치된 정류장을 만들기로 했다.\n",
        "\n",
        "버스는 0번에서 출발해 종점인 N번 정류장까지 이동하고, 한번 충전으로 최대한 이동할 수 있는 정류장 수 K가 정해져 있다.\n",
        "\n",
        "충전기가 설치된 M개의 정류장 번호가 주어질 때, 최소한 몇 번의 충전을 해야 종점에 도착할 수 있는지 출력하는 프로그램을 만드시오.\n",
        "\n",
        "만약 충전기 설치가 잘못되어 종점에 도착할 수 없는 경우는 0을 출력한다. 출발지에는 항상 충전기가 설치되어 있지만 충전횟수에는 포함하지 않는다.\n",
        "\n",
        "\n",
        "\n",
        "[예시]\n",
        "\n",
        "\n",
        "\n",
        "다음은 K = 3, N = 10, M = 5, 충전기가 설치된 정류장이 1, 3, 5, 7, 9인 경우의 예이다.\n",
        "\n",
        "\n",
        "\n",
        "[입력]\n",
        "\n",
        "\n",
        "첫 줄에 노선 수 T가 주어진다.  ( 1 ≤ T ≤ 50 )\n",
        "\n",
        "\n",
        "각 노선별로 K, N, M이 주어지고, 다음줄에 M개의 정류장 번호가 주어진다. ( 1 ≤ K, N, M ≤ 100 )\n",
        "\n",
        "\n",
        "[출력]\n",
        "\n",
        "\n",
        "'#'과 노선번호, 빈칸에 이어 최소 충전횟수 또는 0을 출력한다.\n",
        "\n"
      ],
      "metadata": {
        "id": "vxhuPv2vNlJ2"
      }
    },
    {
      "cell_type": "markdown",
      "source": [
        "### 다람쥐 코드"
      ],
      "metadata": {
        "id": "QEy4K7g3OlRQ"
      }
    },
    {
      "cell_type": "code",
      "source": [
        "def solve(charge, k, n, m):\n",
        "    charge = [0] + charge + [n]\n",
        "\n",
        "    last = 0\n",
        "    cnt = 0\n",
        "    for i in range(1, m+2):\n",
        "        if charge[i] - charge[i-1] > k:\n",
        "            return 0\n",
        "        if charge[i] > last + k:\n",
        "            last = charge[i - 1]\n",
        "            cnt += 1\n",
        "    return cnt\n",
        "\n",
        "T = int(input())\n",
        "for tc in range(1, T+1):\n",
        "    K, N, M = list(map(int, input().split()))\n",
        "    charge = list(map(int, input().split()))\n",
        "    ans = solve(charge, K, N, M)\n",
        "    print(f'#{tc} {ans}')"
      ],
      "metadata": {
        "id": "Lv7bVwOpNlUL"
      },
      "execution_count": null,
      "outputs": []
    },
    {
      "cell_type": "markdown",
      "source": [
        "### 문어박사 코드"
      ],
      "metadata": {
        "id": "v1njKKlMNlcg"
      }
    },
    {
      "cell_type": "code",
      "source": [
        "T = int(input())\n",
        "for t in range(1, T+1):\n",
        "    K, N, M = list(map(int, input().split()))\n",
        "    charge = [0] + list(map(int, input().split())) + [N]\n",
        "\n",
        "    start = ans = 0\n",
        "    for i in range(1, M+2):\n",
        "        if charge[i] - charge[i-1] > K:\n",
        "            ans = 0\n",
        "            break\n",
        "\n",
        "        if charge[i] - start > K:\n",
        "            start = charge[i-1]\n",
        "            ans +=1\n",
        "\n",
        "    print(f\"{t} {ans}\")\n"
      ],
      "metadata": {
        "id": "8a3Q-O3GNlkk"
      },
      "execution_count": null,
      "outputs": []
    },
    {
      "cell_type": "markdown",
      "source": [
        "## Ladder 1\n",
        "\n",
        "점심 시간에 산책을 다니는 사원들은 최근 날씨가 더워져, 사다리 게임을 통하여 누가 아이스크림을 구입할지 결정하기로 한다.\n",
        "\n",
        "김 대리는 사다리타기에 참여하지 않는 대신 사다리를 그리기로 하였다.\n",
        "\n",
        "사다리를 다 그리고 보니 김 대리는 어느 사다리를 고르면 X표시에 도착하게 되는지 궁금해졌다. 이를 구해보자.\n",
        "\n",
        "아래 <그림 1>의 예를 살펴보면, 출발점 x=0 및 x=9인 세로 방향의 두 막대 사이에 임의의 개수의 막대들이 랜덤 간격으로 추가되고(이 예에서는 2개가 추가됨) 이 막대들 사이에 가로 방향의 선들이 또한 랜덤하게 연결된다.\n",
        "\n",
        "X=0인 출발점에서 출발하는 사례에 대해서 화살표로 표시한 바와 같이, 아래 방향으로 진행하면서 좌우 방향으로 이동 가능한 통로가 나타나면 방향 전환을 하게 된다.\n",
        "\n",
        "방향 전환 이후엔 다시 아래 방향으로만 이동하게 되며, 바닥에 도착하면 멈추게 된다.\n",
        "\n",
        "문제의 X표시에 도착하려면 X=4인 출발점에서 출발해야 하므로 답은 4가 된다. 해당 경로는 별도로 표시하였다.\n",
        "\n",
        "\n",
        "\n",
        "<그림 1> 사다리 게임에 대한 설명 (미니맵)\n",
        "\n",
        "아래 <그림 2>와 같은 100 x 100 크기의 2차원 배열로 주어진 사다리에 대해서, 지정된 도착점에 대응되는 출발점 X를 반환하는 코드를 작성하라 (‘0’으로 채워진 평면상에 사다리는 연속된 ‘1’로 표현된다. 도착 지점은 '2'로 표현된다).\n",
        "\n",
        "\n",
        "<그림 2> 테스트 케이스에 의해 생성되는 실제 사다리의 모습\n",
        "\n",
        "[제약 사항]\n",
        "\n",
        "한 막대에서 출발한 가로선이 다른 막대를 가로질러서 연속하여 이어지는 경우는 없다.\n",
        "\n",
        "[입력]\n",
        "\n",
        "입력 파일의 첫 번째 줄에는 테스트 케이스의 번호가 주어지며, 바로 다음 줄에 테스트 케이스가 주어진다.\n",
        "\n",
        "총 10개의 테스트 케이스가 주어진다.\n",
        "\n",
        "[출력]\n",
        "\n",
        "'#'부호와 함께 테스트 케이스의 번호를 출력하고, 공백 문자 후 도착하게 되는 출발점의 x좌표를 출력한다."
      ],
      "metadata": {
        "id": "smg5PtIdOpkI"
      }
    },
    {
      "cell_type": "markdown",
      "source": [
        "### 다람쥐 코드"
      ],
      "metadata": {
        "id": "Sa_WdchUOqnh"
      }
    },
    {
      "cell_type": "code",
      "source": [
        "for _ in range(10):  # 총 10개의 테스트 케이스\n",
        "    T = int(input())  # 테스트 케이스 번호 (사용 X)\n",
        "    ladder = [list(map(int, input().split())) for _ in range(100)]  # 100x100 사다리 입력\n",
        "\n",
        "    # 도착 지점(2) 찾기\n",
        "    row, col = 99, ladder[99].index(2)  # 2가 있는 곳 (도착 지점)\n",
        "\n",
        "    # 델타 탐색 방향 (좌, 우, 상)\n",
        "    dx = [0, 0, -1]  # 행 이동 (좌우 이동 없음, 위로만 이동)\n",
        "    dy = [-1, 1, 0]  # 열 이동 (좌, 우, 위)\n",
        "\n",
        "    # 사다리를 타고 올라가면서 출발점 찾기\n",
        "    while row > 0:  # 최상단(0번째 행) 도착할 때까지 반복\n",
        "        for d in range(2):  # 좌(-1), 우(+1) 먼저 탐색\n",
        "            ny = col + dy[d]\n",
        "            if 0 <= ny < 100 and ladder[row][ny] == 1:  # 이동 가능하면\n",
        "                while 0 <= ny < 100 and ladder[row][ny] == 1:  # 같은 방향으로 계속 이동\n",
        "                    col = ny\n",
        "                    ny += dy[d]  # 왼쪽 or 오른쪽으로 한 칸 더 이동\n",
        "                break  # 좌우 이동 후 위로 이동해야 하므로 종료\n",
        "        row -= 1  # 위로 이동\n",
        "\n",
        "    # 최상단에서의 `col` 값이 정답 (출발점)\n",
        "    print(f\"#{t} {col}\")\n"
      ],
      "metadata": {
        "id": "6udLbquuOo1M"
      },
      "execution_count": null,
      "outputs": []
    },
    {
      "cell_type": "markdown",
      "source": [
        "### 문어박사 코드"
      ],
      "metadata": {
        "id": "6edWSR36QvRy"
      }
    },
    {
      "cell_type": "code",
      "source": [
        "for _ in range(10):  # 총 10개의 테스트 케이스\n",
        "    T = int(input())  # 테스트 케이스 번호 (사용 X)\n",
        "    ladder = [list(map(int, input().split())) for _ in range(100)]  # 100x100 사다리 입력\n",
        "\n",
        "    # 도착 지점 찾기\n",
        "    row, col = 99, ladder[99].index(2)\n",
        "\n",
        "    # 델타 탐색 방향\n",
        "    dy = [-1, 1] # 좌, 우\n",
        "\n",
        "    while row > 0:\n",
        "        for d in range(2):\n",
        "            ny = col + dy[d]\n",
        "            if 0 <= ny < N and ladder[row][ny] == 1:\n",
        "                while 0 <= ny < N and ladder[row][ny] ==1:\n",
        "                    col = ny\n",
        "                    ny += dy[d]\n",
        "                break\n",
        "        row = -1\n",
        "\n",
        "    print(f\"#{t} {col}\")"
      ],
      "metadata": {
        "id": "2nW9pGvMQuwi"
      },
      "execution_count": null,
      "outputs": []
    },
    {
      "cell_type": "markdown",
      "source": [
        "## 1211. [S/W 문제해결 기본] 2일차 - Ladder2\n",
        "\n",
        "점심 시간에 산책을 다니는 사원들은 최근 날씨가 더워져, 사다리 게임을 통하여 누가 아이스크림을 구입할지 결정하기로 한다.\n",
        "\n",
        "김 대리는 사다리타기에 참여하지 않는 대신 사다리를 그리기로 하였다.\n",
        "\n",
        "사다리를 다 그리고 보니 김 대리는 어느 사다리를 고르면 최단거리로 바닥에 도착하게 되는지 궁금해졌다. 이를 구해보자.\n",
        "\n",
        "아래 <그림 1>의 예를 살펴보면, 출발점 x=0 및 x=9인 세로 방향의 두 막대 사이에 임의의 개수의 막대들이 랜덤 간격으로 추가되고(이 예에서는 2개가 추가됨) 이 막대들 사이에 가로 방향의 선들이 또한 랜덤하게 연결된다.\n",
        "\n",
        "X=0인 출발점에서 출발하는 사례에 대해서 화살표로 표시한 바와 같이, 아래 방향으로 진행하면서 좌우 방향으로 이동 가능한 통로가 나타나면 방향 전환을 하게 된다.\n",
        "\n",
        "방향 전환 이후엔 다시 아래 방향으로만 이동하게 되며, 바닥에 도착하면 멈추게 된다.\n",
        "\n",
        "최단거리로 바닥에 도착하려면 X=4인 출발점에서 출발해야 하므로 답은 4가 된다. 해당 경로는 별도로 표시하였다.\n",
        "\n",
        "\n",
        "\n",
        "<그림 1> 사다리 게임에 대한 설명(미니맵)\n",
        "\n",
        "아래 <그림 2>와 같은 100 x 100 크기의 2차원 배열로 주어진 사다리에 대해서, 모든 출발점을 검사하여 바닥까지 가장 짧은 이동 거리를 갖는 시작점 x(복수 개인 경우 가장 큰 x좌표)를 반환하는 코드를 작성하라.(‘0’으로 채워진 평면상에 사다리는 연속된 ‘1’로 표현된다.)\n",
        "\n",
        "\n",
        "<그림 2> 테스트케이스에 의해 생성되는 실제 사다리의 모습\n",
        "\n",
        "[제약사항]\n",
        "\n",
        "한 막대에서 출발한 가로선이 다른 막대를 가로질러서 연속하여 이어지는 경우는 없다.\n",
        "\n",
        "[입력]\n",
        "\n",
        "각 테스트 케이스의 첫 번째 줄에는 테스트 케이스의 번호가 주어지며, 바로 다음 줄에 테스트 케이스가 주어진다.\n",
        "\n",
        "총 10개의 테스트 케이스가 주어진다.\n",
        "\n",
        "[출력]\n",
        "\n",
        "'#'부호와 함께 테스트 케이스의 번호를 출력하고, 공백 문자 후 도착하게 되는 출발점의 x좌표를 출력한다.\n"
      ],
      "metadata": {
        "id": "TaoY5_NHVV05"
      }
    },
    {
      "cell_type": "markdown",
      "source": [
        "### 다람쥐 코드"
      ],
      "metadata": {
        "id": "xqCMWLNvVXVk"
      }
    },
    {
      "cell_type": "code",
      "source": [
        "for t in range(1, 11):\n",
        "    _ = int(input())\n",
        "    ladder = [list(map(int, input().split())) for _ in range(100)]\n",
        "\n",
        "    # 출발점 찾기\n",
        "    start_points = [col for col in range(100) if ladder[0][col] == 1]\n",
        "    min_distance = float('inf')\n",
        "    dy = [-1, 1]\n",
        "    best_start = -1\n",
        "\n",
        "    # 모든 출발점 검사\n",
        "    for start in start_points:\n",
        "        row, col = 0, start\n",
        "        distance = 0\n",
        "\n",
        "        while row < 99:  # 바닥까지 이동\n",
        "\n",
        "            # 좌우 먼저 탐색\n",
        "            for d in range(2):\n",
        "                ny = col + dy[d]\n",
        "                if 0 <= ny < 100 and ladder[row][ny] == 1:\n",
        "                    while 0 <= ny < 100 and ladder[row][ny] == 1:\n",
        "                        col = ny\n",
        "                        ny += dy[d]\n",
        "                        distance += 1\n",
        "                    break  # 좌우 이동 후 아래로 이동해야 하므로 종료\n",
        "\n",
        "            row += 1  #while 문 안에서 row 값을 증가해야 정상 동작!\n",
        "\n",
        "        # 최단거리 출발점 업데이트\n",
        "        if distance < min_distance or (distance == min_distance and start > best_start):\n",
        "            min_distance = distance\n",
        "            best_start = start\n",
        "\n",
        "    print(f\"#{t} {best_start}\")  # 최단 거리 출발점 출력\n"
      ],
      "metadata": {
        "id": "yXIQyPlkVV_E"
      },
      "execution_count": null,
      "outputs": []
    },
    {
      "cell_type": "markdown",
      "source": [
        "### 문어박사 코드"
      ],
      "metadata": {
        "id": "6mYFfqooVWNh"
      }
    },
    {
      "cell_type": "code",
      "source": [],
      "metadata": {
        "id": "tpihPWRfVWYH"
      },
      "execution_count": null,
      "outputs": []
    },
    {
      "cell_type": "markdown",
      "source": [
        "## 4408. 자기 방으로 돌아가기\n",
        "\n",
        "고등학교 학생들이 학교에서 수련회를 갔다. 수련회에 간 학생들은 친구들과 음주가무를 즐기다가 밤 12시가 되자 조교들의 눈을 피해 자기방으로 돌아가려고 한다.\n",
        "\n",
        "제 시간에 자기방으로 돌아가지 못한 학생이 한 명이라도 발견되면 큰일나기 때문에 최단 시간에 모든 학생이 자신의 방으로 돌아가려고 한다.\n",
        "\n",
        "숙소는 긴 복도를 따라 총 400개의 방이 다음과 같이 배열되어 있다.\n",
        "\n",
        "\n",
        "\n",
        "모든 학생들은 현재 위치에서 자신의 방으로 돌아가려고 하는데, 만약 두 학생이 자기방으로 돌아가면서 지나는 복도의 구간이 겹치면 두 학생은 동시에 돌아갈 수 없다.\n",
        "\n",
        "예를 들어 (방1 -> 4) 와 (방3 -> 6) 은 복도 구간이 겹치므로 한 사람은 기다렸다가 다음 차례에 이동해야 한다. 이동하는 데에는 거리에 관계없이 단위 시간이 걸린다고 하자.\n",
        "\n",
        "각 학생들의 현재 방 위치와 돌아가야 할 방의 위치의 목록이 주어질 때, 최소 몇 단위시간만에 모든 학생들이 이동할 수 있는지를 구하시오.\n",
        "\n",
        "\n",
        "[입력]\n",
        "입력은 T(≤10)개의 테스트 케이스로 되어 있다. 각 테스트 케이스의 첫 줄에는 돌아가야 할 학생들의 수 N이 주어진다.\n",
        "\n",
        "다음 N 줄에는 각 학생의 현재 방 번호(≤400)와 돌아가야 할 방의 번호(≤400)가 주어진다. 주어지는 2N개의 방 번호 중 중복되는 것은 없다.\n",
        "\n",
        "[출력]\n",
        "테스트 케이스 T에 대한 결과는 “#T ”을 찍고, 각 테스트 케이스마다 필요한 시간을 한 줄에 하나씩 출력한다."
      ],
      "metadata": {
        "id": "pqSukoEOaLl-"
      }
    },
    {
      "cell_type": "markdown",
      "source": [
        "### 다람쥐 풀이"
      ],
      "metadata": {
        "id": "EvSac2i-aN2X"
      }
    },
    {
      "cell_type": "code",
      "source": [],
      "metadata": {
        "id": "7l1UWi8XaLvI"
      },
      "execution_count": null,
      "outputs": []
    },
    {
      "cell_type": "markdown",
      "source": [
        "### 문어박사 풀이"
      ],
      "metadata": {
        "id": "AgUK0yCjaL8D"
      }
    },
    {
      "cell_type": "code",
      "source": [],
      "metadata": {
        "id": "et0lyo4EaMfs"
      },
      "execution_count": null,
      "outputs": []
    },
    {
      "cell_type": "markdown",
      "source": [
        "## 1860. 진기의 최고급 붕어빵\n",
        "\n",
        "진기는 붕어빵 가게를 운영하고 있다.\n",
        "\n",
        "진기가 파는 붕어빵은 그냥 붕어빵이 아니라 겉은 바삭! 속은 말랑! 한입 물면 팥 앙금이 주르륵 흘러 입안에서 춤을 추며,\n",
        "\n",
        "절로 어릴 적 호호 불며 먹었던 뜨거운 붕어빵의 추억이 떠올라 눈물이 나오게 되는 최고급 붕어빵이다.\n",
        "\n",
        "진기는 이런 붕어빵을 보통 사람들에게는 팔지 않는다.\n",
        "\n",
        "그는 무조건 예약제로만 손님을 받으며, 예약을 하려는 손님들은 진기의 까다로운 자격 검증에서 합격해야만 붕어빵을 맛 볼 자격을 얻는다.\n",
        "\n",
        "그래서 오늘은 N명의 사람이 자격을 얻었다.\n",
        "\n",
        "진기는 0초부터 붕어빵을 만들기 시작하며, M초의 시간을 들이면 K개의 붕어빵을 만들 수 있다.\n",
        "\n",
        "서빙은 진기가 하는 것이 아니기 때문에, 붕어빵이 완성되면 어떤 시간 지연도 없이 다음 붕어빵 만들기를 시작할 수 있다.\n",
        "\n",
        "0초 이후에 손님들이 언제 도착하는지 주어지면, 모든 손님들에게 기다리는 시간없이 붕어빵을 제공할 수 있는지 판별하는 프로그램을 작성하라.\n",
        "\n",
        "\n",
        "[입력]\n",
        "\n",
        "첫 번째 줄에 테스트 케이스의 수 T가 주어진다.\n",
        "\n",
        "각 테스트 케이스의 첫 번째 줄에는 세 자연수 N, M, K(1 ≤ N, M, K ≤ 100)가 공백으로 구분되어 주어진다.\n",
        "\n",
        "두 번째 줄에는 N개의 정수가 공백으로 구분되어 주어지며,\n",
        "\n",
        "각 정수는 각 사람이 언제 도착하는지를 초 단위로 나타낸다. 각 수는 0이상 11,111이하이다.\n",
        "\n",
        "\n",
        "[출력]\n",
        "\n",
        "각 테스트 케이스마다 ‘#x’(x는 테스트케이스 번호를 의미하며 1부터 시작한다)를 출력하고,\n",
        "\n",
        "모든 손님에 대해 기다리는 시간이 없이 붕어빵을 제공할 수 있으면 “Possible”을, 아니라면 “Impossible”을 출력한다.\n",
        "\n",
        "\n",
        "[예제 풀이]\n",
        "\n",
        "2번째 테스트 케이스의 경우, 2초가 지날 때마다 붕어빵을 2개씩 만들 수 있다.\n",
        "\n",
        "하지만 손님 1명은 1초에 도착하므로 이 손님에게는 붕어빵을 바로 제공할 수 없다.\n",
        "\n",
        "따라서 결과값으로 Impossible 출력한다.\n",
        "\n"
      ],
      "metadata": {
        "id": "ghQaTIdeab3n"
      }
    },
    {
      "cell_type": "markdown",
      "source": [
        "### 다람쥐 풀이"
      ],
      "metadata": {
        "id": "ZBwF7-fmacCP"
      }
    },
    {
      "cell_type": "code",
      "source": [],
      "metadata": {
        "id": "sATIcmf_acOy"
      },
      "execution_count": null,
      "outputs": []
    },
    {
      "cell_type": "markdown",
      "source": [
        "### 문어박사 풀이"
      ],
      "metadata": {
        "id": "nWUSXZjMId-j"
      }
    },
    {
      "cell_type": "code",
      "source": [],
      "metadata": {
        "id": "GltxPC7CIeGc"
      },
      "execution_count": null,
      "outputs": []
    },
    {
      "cell_type": "markdown",
      "source": [
        "### 4047. 영준이의 카드 카운팅\n",
        "\n",
        "최근 영준이는 카드 게임에 꽂혀 있다.\n",
        "\n",
        "영준이가 하는 카드 게임에는 한 덱의 카드가 필요한데 여기서 얘기하는 “한 덱”이란 스페이드, 다이아몬드, 하트, 클로버 무늬 별로 각각 A, 2~10, J, Q, K의 라벨 즉 4개의 무늬 별로\n",
        "\n",
        "각각 13장씩 총 52장의 카드가 있는 모음을 의미한다.\n",
        "\n",
        "편의상 A는 1, J, Q, K는 11, 12, 13으로 하여 1~13의 숫자가 카드에 적혀있다고 하자.\n",
        "\n",
        "영준이는 몇 장의 카드를 이미 가지고 있는데 게임을 하기 위해서 몇 장의 카드가 더 필요한지 알고 싶어 한다.\n",
        "\n",
        "그리고 이미 겹치는 카드를 가지고 있다면 오류를 출력하고자 한다.\n",
        "\n",
        "지금 가지고 있는 카드의 정보가 주어지면 이 작업을 수행하는 프로그램을 작성하라.\n",
        "\n",
        "\n",
        "[입력]\n",
        "\n",
        "맨 위 줄에 테스트케이스의 개수가 주어진다.\n",
        "\n",
        "각 테스트케이스 별로 순서대로 첫 번째 줄에 지금 영준이가 가지고 있는 카드에 대한 정보 S (1 ≤ |S| ≤ 1000)가 주어진다.\n",
        "\n",
        "S는 각각 3자리로 표현되는 카드들의 정보를 붙여서 만든 하나의 문자열인데 각 카드는 TXY 꼴로 표현되며,\n",
        "\n",
        "T는 카드의 무늬(S, D, H, C)이며 XY는 카드의 숫자 (01 ~ 13)이다.\n",
        "\n",
        "[출력]\n",
        "\n",
        "각 테스트케이스 별로 순서대로 한 줄씩 답을 출력하는데, 문자열 S를 보고 지금 무늬 별로(S, D, H, C 순서로) 몇 장의 카드가 부족한지 출력하여라.\n",
        "\n",
        "이미 겹치는 카드가 있다면 문자열 “ERROR” (쌍따옴표는 출력하지 않는다)를 출력한다"
      ],
      "metadata": {
        "id": "76Vzbt1dQ-g3"
      }
    },
    {
      "cell_type": "markdown",
      "source": [
        "### 다람쥐 풀이"
      ],
      "metadata": {
        "id": "F9WHKlUSQ_ka"
      }
    },
    {
      "cell_type": "code",
      "source": [
        "T = int(input())\n",
        "for t in range(1, T+1):\n",
        "    card_lst = input()\n",
        "    N = len(card_lst)\n",
        "\n",
        "    # 새로운 리스트 만들기\n",
        "    new_lst = []\n",
        "\n",
        "    # i값을 늘려가면서 새로운 리스트에 3글자씩 넣기\n",
        "    i = 0\n",
        "    while i <(N-2):\n",
        "        new_lst.append(card_lst[i:i+3])\n",
        "        i += 3\n",
        "\n",
        "    is_error = False\n",
        "    for i in range(len(new_lst)):\n",
        "        for j in range(i+1, len(new_lst)):\n",
        "            if new_lst[i] == new_lst[j]:\n",
        "                print(f\"#{t} ERROR\")\n",
        "                is_error = True\n",
        "                break\n",
        "\n",
        "        if is_error:\n",
        "            break\n",
        "\n",
        "    if is_error:\n",
        "        continue\n",
        "    # S로 시작하는 것, D로 시작하는 것, H로 시작하는 것, C로 시작하는 것 골라서\n",
        "    # 몇개 있는지 파악한 후, 13에서 빼기\n",
        "\n",
        "    Scnt = Dcnt = Hcnt = Ccnt = 13\n",
        "\n",
        "    for card in new_lst:\n",
        "        if 'S' in card:\n",
        "            Scnt -= 1\n",
        "        elif 'D' in card:\n",
        "            Dcnt -= 1\n",
        "        elif 'H' in card:\n",
        "            Hcnt -= 1\n",
        "        else:\n",
        "            Ccnt -= 1\n",
        "\n",
        "    print(f\"#{t} {Scnt} {Dcnt} {Hcnt} {Ccnt}\")"
      ],
      "metadata": {
        "id": "ppp5kBK_Q-v3"
      },
      "execution_count": null,
      "outputs": []
    },
    {
      "cell_type": "markdown",
      "source": [
        "### 문어박사 풀이"
      ],
      "metadata": {
        "id": "6IgbMlaTRALT"
      }
    },
    {
      "cell_type": "code",
      "source": [
        "dct = {'S':0, 'D':1, 'H':2, 'C':3}\n",
        "T = int(input())\n",
        "for t in range(1, T+1):\n",
        "    st = input()\n",
        "    arr = [[] for _ in range(4)]\n",
        "\n",
        "    #[1] 리스트에 추가\n",
        "\n",
        "    for i in range(0, len(st), 3):\n",
        "        arr[dct[st[i]]].append(int(st[i+1:i+3]))\n",
        "\n",
        "    ans = []\n",
        "\n",
        "    for lst in arr:\n",
        "        if len(lst) != len(set(lst)):\n",
        "            print(f\"#{t} ERROR\")\n",
        "            break\n",
        "        ans.append(13-len(lst))\n",
        "    else:\n",
        "        print(f'#{t}', *ans)"
      ],
      "metadata": {
        "id": "uDujqpKjRAUz"
      },
      "execution_count": null,
      "outputs": []
    },
    {
      "cell_type": "markdown",
      "source": [
        "### 다시 만든 풀이"
      ],
      "metadata": {
        "id": "Y8iIo0eFfa-h"
      }
    },
    {
      "cell_type": "code",
      "source": [
        "T = int(input())\n",
        "for t in range(1, T+1):\n",
        "    card_lst = input()\n",
        "    N = len(card_lst)\n",
        "\n",
        "    # 새로운 리스트 만들기\n",
        "    new_lst = []\n",
        "\n",
        "    # i값을 늘려가면서 새로운 리스트에 3글자씩 넣기\n",
        "    i = 0\n",
        "    while i <(N-2):\n",
        "        new_lst.append(card_lst[i:i+3])\n",
        "        i += 3\n",
        "\n",
        "    if len(set(new_lst)) != len(new_lst):\n",
        "        print((f\"#{t} ERROR\"))\n",
        "        continue\n",
        "\n",
        "    # S로 시작하는 것, D로 시작하는 것, H로 시작하는 것, C로 시작하는 것 골라서\n",
        "    # 몇개 있는지 파악한 후, 13에서 빼기\n",
        "\n",
        "    else:\n",
        "        Scnt = Dcnt = Hcnt = Ccnt = 13\n",
        "\n",
        "        for card in new_lst:\n",
        "            if 'S' in card:\n",
        "                Scnt -= 1\n",
        "            elif 'D' in card:\n",
        "                Dcnt -= 1\n",
        "            elif 'H' in card:\n",
        "                Hcnt -= 1\n",
        "            else:\n",
        "                Ccnt -= 1\n",
        "\n",
        "    print(f\"#{t} {Scnt} {Dcnt} {Hcnt} {Ccnt}\")"
      ],
      "metadata": {
        "id": "4tGYT2GDff0K"
      },
      "execution_count": null,
      "outputs": []
    },
    {
      "cell_type": "markdown",
      "source": [
        "## 11315. 오목판정\n",
        "\n",
        "N X N 크기의 판이 있다. 판의 각 칸에는 돌이 있거나 없을 수 있다. 돌이 가로, 세로, 대각선 중 하나의 방향으로 다섯 개 이상 연속한 부분이 있는지 없는지 판정하는 프로그램을 작성하라.\n",
        "\n",
        "  \n",
        "\n",
        "[입력]\n",
        "\n",
        "첫 번째 줄에 테스트 케이스의 수 T가 주어진다.\n",
        "\n",
        "각 테스트 케이스의 첫 번째 줄에는 하나의 정수 N(5 ≤ N ≤ 20)이 주어진다.\n",
        "\n",
        "다음 N개의 줄의 각 줄에는 길이 N인 문자열이 주어진다. 각 문자는 ‘o’또는 ‘.’으로, ‘o’는 돌이 있는 칸을 의미하고, ‘.’는 돌이 없는 칸을 의미한다.\n",
        "\n",
        "  \n",
        "\n",
        "[출력]\n",
        "\n",
        "각 테스트 케이스 마다 돌이 다섯 개 이상 연속한 부분이 있으면 “YES”를, 아니면 “NO”를 출력한다."
      ],
      "metadata": {
        "id": "pLGg88-EIkyc"
      }
    },
    {
      "cell_type": "markdown",
      "source": [
        "### 다람쥐 풀이"
      ],
      "metadata": {
        "id": "JscG93h2IvC3"
      }
    },
    {
      "cell_type": "code",
      "source": [
        "T = int(input())\n",
        "for t in range(1, T+1):\n",
        "    N = int(input())\n",
        "    board = [list(input()) for _ in range(N)]\n",
        "\n",
        "    # 상하좌우 대각선 확인\n",
        "    dx = [-1, 1, 0, 0, 1, 1, -1, -1]\n",
        "    dy = [0, 0, -1, 1, 1, -1, 1, -1]\n",
        "\n",
        "    is_win = False\n",
        "\n",
        "    for i in range(N):\n",
        "        for j in range(N):\n",
        "            if board[i][j] == 'o':\n",
        "                for d in range(8):\n",
        "                    cnt = 1\n",
        "                    # 출발점에서 시작\n",
        "                    nx, ny = i, j\n",
        "\n",
        "                    for _ in range(4):\n",
        "                        # 기존위치에서 누적 이동\n",
        "                        nx += dx[d]\n",
        "                        ny += dy[d]\n",
        "                        if 0 <= nx < N and 0 <= ny < N and board[nx][ny] == 'o':\n",
        "                            cnt += 1\n",
        "                        else:\n",
        "                            break\n",
        "\n",
        "                    if cnt >= 5:\n",
        "                        is_win = True\n",
        "                        break\n",
        "                if is_win:\n",
        "                    break\n",
        "        if is_win:\n",
        "            break\n",
        "\n",
        "    print(f\"#{t} {'YES' if is_win else 'No'}\")"
      ],
      "metadata": {
        "id": "w-8mSyKtIk-M"
      },
      "execution_count": null,
      "outputs": []
    },
    {
      "cell_type": "markdown",
      "source": [
        "### 문어박사 풀이"
      ],
      "metadata": {
        "id": "1SC2pUrKImNq"
      }
    },
    {
      "cell_type": "code",
      "source": [
        "def solve():\n",
        "    for si in range(N):\n",
        "        for sj in range(N): # 모든 좌표 순회\n",
        "            for di, dj in ((0, 1), (1, 0), (1, 1), (-1, 1)):\n",
        "                for mul in range(5):\n",
        "                    ni, nj = si+di*mul, sj+dj*mul\n",
        "                    if 0 <= ni < N and 0 <= nj < N and arr[ni][nj] == 'o':\n",
        "                        pass\n",
        "                    else:\n",
        "                        break\n",
        "                else:\n",
        "                    return \"YES\"\n",
        "\n",
        "    return \"NO\"\n",
        "\n",
        "T = int(input())\n",
        "for t in range(1, T+1):\n",
        "    N = int(input())\n",
        "    arr = [list(input()) for _ in range(N)]\n",
        "\n",
        "    ans = solve()\n",
        "\n",
        "    print(f\"#{t} {ans}\")"
      ],
      "metadata": {
        "id": "IiKN2s-QImZZ"
      },
      "execution_count": null,
      "outputs": []
    },
    {
      "cell_type": "markdown",
      "source": [
        "## 2805. 농작물 수확하기\n",
        "\n",
        "N X N크기의 농장이 있다.\n",
        "\n",
        "이 농장에는 이상한 규칙이 있다.\n",
        "\n",
        "규칙은 다음과 같다.\n",
        "\n",
        "\n",
        "   ① 농장은 크기는 항상 홀수이다. (1 X 1, 3 X 3 … 49 X 49)\n",
        "\n",
        "   ② 수확은 항상 농장의 크기에 딱 맞는 정사각형 마름모 형태로만 가능하다.\n",
        "\n",
        "\n",
        "\n",
        "                                         \n",
        "1 X 1크기의 농장에서 자라는 농작물을 수확하여 얻을 수 있는 수익은 3이다.\n",
        "\n",
        "3 X 3크기의 농장에서 자라는 농작물을 수확하여 얻을 수 있는 수익은 16 (3 + 2 + 5 + 4 + 2)이다.\n",
        "\n",
        "5 X 5크기의 농장에서 자라는 농작물의 수확하여 얻을 수 있는 수익은 25 (3 + 2 + 1 + 1 + 2 + 5 + 1 + 1 + 3 + 3 + 2 + 1)이다.\n",
        "\n",
        "농장의 크기 N와 농작물의 가치가 주어질 때, 규칙에 따라 얻을 수 있는 수익은 얼마인지 구하여라.\n",
        "\n",
        "![image.png](data:image/png;base64,iVBORw0KGgoAAAANSUhEUgAAAgEAAADJCAYAAAC6wuGRAAAAAXNSR0IArs4c6QAAAARnQU1BAACxjwv8YQUAAAAJcEhZcwAAEnQAABJ0Ad5mH3gAAB93SURBVHhe7d3PaxvX2sDxx+9f4EI2oZfSghUuxllkUUplKHjRhRUKJlBDuzF0IcGFi0XBq+tl35WhyAQK1qKQzRtwoRhCpEUWhQsWhC6yiDElEiSUW7K5UP8Hes8ZHVkj1bJGM+exZnK+H1AiKe3R0fn5aObMnKW+IQAAIDj/4/4GAACBIQgAACBQBAEAAASKIAAAgEARBAAAECiCAAAAAkUQAABAoAgCAAAIFEEAAACBIggAACBQBAEAAASKIAAAgEARBAAAECiCAAAAAkUQAABAoAgCAAAI1FLfcM8BADdoaWnJPQP8Sjq1EwQAwILYIMD3EKyRpqWVV/n23+6VR99/Fny5Jk2T0wEAAASKIAAAgEARBAAAECiCAADItbbUlpai87zRo9Z272cxkeZSzbzjR+9wfZTu+qH03PuZvPhHdJ4/ejz+yb2Znf+8apWrS9dXecYQBABAjvUOX8lWvx8t9Or3W1JtVmT9MNtU0K6dxNLsS6valIqHCcZOqqXjbekO012rSylr0GIDgN82BgsI7ePWQ5Fnz90/pqeRV//l2pPDdRtMVKTp3vGNqwMAYEHsr8V5h+Bo8jrfl/7RpntnXJo0TaKyXjqW7e6p7K649ybMTtf+Wq2ItPpymbUo3XPZ7x/JVbm1aV5/dYCZ7L/fE3lg/psP3VsXP4n8+Mb8f+b9aWZeHZAur4spV6ddk6XvVqV7uitTkro0T145EgAABVNeLblnPq3JnVmzy3V6r+RMqrIVn0FX7st2uSknaX9gX/xu/vhiFABYy2WR209ETByQmkZep8pYrsoIAgCgKMwvy526yPZ9z7NK91w65VXJFFr4SGPShZnpb8cjAE808nqVm/qcDAgCACDXYovNosPV0w8tp2PSr5xJ49Hsw8xpnb3yvZzN+PMP98Qvf3nVL1cfCAIAINc25ag/XGy2JSc2GPByhYA1ODd+1njkObAYt6ZxPPy9990Tv/zk9WbK1QeCAAAoDBMQdBtSbp6YaSYru/LcTlRdOfUxU5VWpdw5l6576cXyhyJvs5z8n0Ijr5c8l6syggAACI6dqEpyvO1xolq5I2tyJmNH03tP5bgzsQBvHssfmD9ei1wMXkYuOiYwmFgsOC+NvEYUylUZQQAA5FZbamOH/s0ks1OXTnXrysvYkhlMVPW1lueJalP2GiL1ndF18e2DukhjL0NePxHZMH+1YzcI+vWhee9r9yItjbxqlasu7hMAAAuS5Hru6L4AdfPr1ynPOMw8M017vXnlqlvPVKU15Rp5K+m15+3aklwmX21NvZ+BZdNMtIvgs89EXrrndw9EPjfBwXUS7iI4b15vvlxdYDGq/kvV+D0OJiStK4sgAAAWZJ7BOimNNC2tvLKV8GLbAKcDAAAIFEEAAACBIggAACBQrAkAEojOXaIwijKs0a6gJWkfIAgAElj04p15RBOL78VWCgutrCKVqwba1WdqCwPpA8nS5HQAAACBIggAACBQBAEAAASKIADwyN7dzZ6Pix7ro1uSpjWWnnusH2ZN1Xnxj8G5U/t4HLsta2p257R4XmseNrmZSNPb7nlF48rBQ5sa8t1WL3lvV4ZGmhZ9gCAA8CW6vevxtnT7g21fW2t1KfnosPZ2pi5N+/ByX3I7+P22MVg8ZR+3Hoo8e+7+MZ127US2YvlsVZtSyTi59A5fxdJsSbVZ8RcEFYK9bawd/Cty1Q1p01JrqwrtSiVNiz4QIQgAvGjLQb0j1f1dGU7Rm3u+tnz1zQx0v5yJfPqle218/E+Rl2YgzGDzaPz+6NH37xzL0wzj1crubixNu+lLWTrnOhvA5tOK7J66CaBVde9lpdVWNdqVTlulD4wQBAA+9F7JmUxsQ7pyX7bLTTnJWxRw8bv5Y2Ir1uWyyO0nIt63bl+TO543VCuvltwzpKLVVjXalVZbpQ9cIggAfOieS6e8KirTU7Pi93zghRnlbmfZjD0h32XSO5Sdusj2fc8jami02qpGu9Jqq/SBSwQBgLKzV+mPBa7snl6eXxyeD1RdHPfnH+5JVm2pVc6k8Wh0yDmd2KKo0rns90+lQFu1F06Wtnotb+0qRiNNK7A+QBAAKFvzdixwU47seWHNdQbvve+eZGEHrYqcNR55GKzMd74MgrbkxNfREFzJX1ud4KVdTdBI0wqsDxAEAD6UVqXcORf1JWv2c9zT1JY/FHnr/cSnY1ez28Gv6+cqhjFmMOzmdbFlgWi1VY12pdVW6QOXCAIAH1buyJqcydjR1N5TOe5MLMDKyp5jdE9TW/7A/PFa5GLwMnJhUn07sVBqbnbwK8nxtsbgB2+02qpGu9Jqq/SBSwQBgBf20h2R+s7omuD2QV2ksWf+JS0zoNTi1xjbc4xNKWdK0/pEZMP81Y7dHOXXh+a9r92LNAaDX32t5XHwM9937LCn+YydunSqWxm/f+g02qql0a400rToA0PsIggkYBflJOkq7dqSmHl6wN7k52h6V02UZrsmS5cJigkAZv/CsOlGNz+Z5dlnIi/d87sHIp+bgXGa72fsoDaRz5GqtPrj107HzSqD6KY29dGxj6TfvyjD2uy8uollVASXqq2+XNW8kn7/edqqpdWuvKdpaaT7jvYBggAggXk6VVIaaVqJB+t5zBoAUypSuWqgXSWcrOelke472gc4HQAAQKAIAgAACBRBAAAAgWJNwAJF59gCV5TmR10VC+0KoUvaBwgCFkhrQYjWQhuNvBal+RWtroq0gIt2Rbvyjj6QOE1OBwAAECiCAAAAAkUQAABAoAgCcs/uRrUkS+vx28dm9Xxwfmv4eGZeZ+byefmomXdCM1EGXnb60qgrayLd7w/c+1m5dB/HbseaCe1Kp10ZL/4xqn9v9WWopOu7XTne86rRr5Tq3yEIyC17u1Bb6RW56kaUmbz4fbDAJXqYRvpyz7yXbQ/tdu1EtvrD7S770qo2peI1cMm/3uGrWBkM9v5fP8xYAgp1FXk2TNM97j7JOAiaPD22g57Jn0e0K612ZSa/3zZG9X/roZ8A03u6Ou0qolEG3vuVUv3HEATk1orsnrqKt3vI+3TvS/fEshtprIn89z/udTqbR+P3xt7ca0i5cyxPAxqtV3Z3Y2VgN2kpS+c844atCnUV+XxiUP34nyJvfxnfVW0u74t85Qa+B1+497KjXWm0KzPR/XIm8mmsbdn6f2nqLhONdHXalVoZeO9XSuNKDEEABm79zT3xaU3u+NpMq6DKqyX3zCOVurI+Ell2T3ONdpWpXV38bv6Y2DJ3uSxy2/xqzbLFvla6Gm40r/77lc9xhSAgdBc/mYjY/P2Ribh9svvel1dFYQosht6h7NRFtu97nK206sq6MCPf7Uwbqd8M2lX2dqVV10VpQ9ZN5dX35yiMKwQBQXo+Wrjyo2mk3/7gOVJtS61yJo1HuxLWD7bYAp7Suez3TyX7tuLadWWZz/j5tchm/NRDHtGu/LWrKf70sN7kKlrpavCWV1/9Srf+CQKC9MngHFv0cBOMt1XntsFW5KzxSG+gyq1NObpcwLMlJ7bTZl7Jq1lXlg0y9kQ2/qUQXPhEu/LbrqZ4T+Eok6WVrgYvefXZr3TrnyAgeGaS+cbHoiDLXtFgB+qunIY3Uk8wHbfbkHLzxExfvvisK8uuvLYD1WORe3kepGlXIx7a1fKHIm/fuBceaaWrQTWvmv3K/7hCEABP7EBdkuNtBupisAPVVyJ/L0IAQLvyavkD88drGVuxftExk+LEQrl5aaWrQS2vRelXIwQBwXk+cTjZNNr2Q5G7n7nXaQwG6vpaK+CBui21sUN0pkx26tKpbpnYPS2NurLcQHXroBABAO3Kd7uyl5qav9qx69d/Ne1q42v3Ii2tdDVo5FWjX2nU/7ilvj3RgIWwCz2mF78bAE1wOqna6svRlBZg04zOH1/H3iTDXiM7lOSw1ffX7HTVrslS5apbGlWl1R+/zjvu+u+fL0ny2jtcl1KswsozDl9r1tW16b4xg9TPT9yLOPMr6NuJ65yHZqU5HADfupdxD8z/N+3XFe1qMe3Kembq9KV7fte0ic/NxHidmW3AmSddxXZ143lN06+s6/qAMW/9W/P0AYKABdIYrBIPAPOa0VDT0Pj+WopWV97T1UjTol3RrsjrQvsApwMAAAgUQQAAAIEiCAAAIFALWxMQnbdSsqCvNDfNMigK6goaaFcIXdI+sNggoCCLLLSolEHBFtpQV8WpK9qVf7Qr8qqV16R9gNMBAAAEiiAAAIBAEQQAABConAcBdiemz0YPr7unFcHE9//+wL2fkb0L3Vi65vHiD/ePHkTpm0f8vtzBcHX2OHY70kyK1gZ8f39LI82CideXr3LQSNMirzp5taK0zcPj2JrvIODF74MFE9HDDH4v98x7HiervHs2/O7ucfeJv0Zlb5EZT9vXva4vTP5+c8+DYm9vajv+NbcHTaMwbUDj+yuVadHYgf+3jVE93XqY/QeRRpoWedXJq6U0tuY7CLj3pXti2Q0f1kT++x/3OgCfTwx+H/9T5O0vOf6FbQbttsnf5o57HRIzgX7lOv6DL9x7HhSmDWh8f6UyLRQzgdi9Iz6NjYW2DWTaTlojTYu86uTV0htbi7cm4Nbf3JNQfSSy7J7mzYv/NfVjGmle8/fOyHEbgF8Xv5s/TAAU3yhnuSxy+4lI2u3wNdK0yKv5QyGvluLYWpwgwB4KMYGQfOTpsHURXZiWdDvewjKwp1aG5618HK6K6sdMTrN2IkM2eW4D8M9nfQ9ppGmRV6W86o6txVkY+KMp4G9/UImEisGUxc+vRTZjh5rSumfKcXjOarjWItMkYA9VPRR5MHHoGp7luQ3gxv1p+p1vGmla5NU9mZf5/5TH1pwHASbyuRyoQv7FYr6zXRy18S+FIMiUsT3fmuW8VXSoykwkCkEwhnLeBnDz3lM4KqqRpkVe3ZM53cDYWqA1AWag+sbXIosiMZHgYzv4P/a3gn/ScpYWZvL329ngl+TwqE20mtu892OoQZtveW8DUGPr5e0b98ITjTQt8uo5zZsZW4u3MDAodvD/SuTvioO/Zc9lpWbyNVzBHT+8LGsmaDPPWSOQURHaANQsf2D+eG3qZ/AyctExk83EArR5aKRpkVfzh880b2ZszXEQYKKcsUjHDIb23MhdEwEFwQ3+9lCQ18HfpPssfp25KeOfn5hfmV+718gP2gDMQL9h/mrH6utXMw5mqiuNNC3yqpNXXTkOAkyB3noUOwzifg2F8svyzf+ZCNL8PXYoyD5sJJiFmUxK5lffZXrKh5mDYSdsV6Z2Qn1rOv+wjNP+yC5UG1D4/ippFpBdxGlvOjP87uIhKNRI0yKvOnlVtNRf0J6bbCXMNqLUVbHqinblH+2KvGrlNWkfYE0AAACBIggAACBQBAEAAARqsWsClBTqfGDgqCtooF0hdEn7wMKCAAwGAN/FHw0qSotXNPJalOZXtLoq0qIo2hXtyjv6QOI0OR0AAECgCAIAAAgUQQAAAIEiCMi53uF6dH4neqwfSs+9n83zwfmty8eBez+rttS85rNo3Pe/fNTMO1lN1JW3DZk00qVd6VEogxf/GNXV49itbjNz7cBnmlp59Z6uRr+aGFdq2UeVOIKAHLMBQOl4W7r9frTIo7VWl5KPBvDs34MFLsPH3ScZO0BPDtdtA61I070TonbtRLZcXUX1VW1KJeug/eL3WF2ZSdXeQvjFH+4fM9BIl3alQKkM7OT328aoruytbjNPWMPbPJu25JNKXg2NdBX6Ve/wVWxcaUm1WZH1Q3/hMEFAbrXloN6R6v6urLh3NvcaUm6eZP91+flEJ/34nyJvfxnf/WouK7J76hppq+reC8/m0ZFsuudWVF+dY3mapb/e+9I9sewGJWsi//2Pe52BRrq0KwUaZWAmul/ORD6NtQFbV5m3aX9/tOvdgy/ce1lp5VUpXYV+tbK7GxtXNmWvUZbOede9zo4gIK96r+RMqrIVn1VW7st2uSknfo8GOR+JLLun8GhN7gyjOF9u/c098UwlXdpV7lyYX6sysb3tclnk9pP8bcykldebLAOFflVeLbln2REE5FX3XDrlVfFX1dewe8nfTruJNqbyXYcXP5lfL+bvjzzvSqaWLu0ql4pUL1p5vYky0OhXvUPZqYts3/f3y4IgoIDOXvlcHvVc5OfXIpvxw1jIri21ypk0Ho1O56Rj6me4yOhHM3B9+4OnX9Za6Q7RrgrpTw/rTW6KVl4zpavRr2ILA0vnst8/lV2PRxcJAgpozdvxZdtg90Q2/uV5Agid7bQVOWs88tBZPxmcY40ebnDxsuJYK12LdlVY7+V77/sxWnnNlK5Gv9qUo8uFgVty4vkKAYKAvCqtSrlzLv6Wf0yyK3ntQP1Y5F6BOn7u2dXcNgDoyqnPcD1iBphvfCyKmuQzXdpV7i1/KPLW/EotAq283kgZaPRXExB0PS0QdwgC8mrljqzJmYwd+e89lePOxGLBVOxA/ZXI3xmo/bIBQEmOtzUCgCKgXRXC8gfmj9cydtXGRcdMihML5fJAK69FKgNlBAG5ZS8FEanvjK4zbx/URRp7sctF0nAD9a0DBmqvBgFAfa3lMQB4PnEo0dRd+6HI3c/c67Q00qVdFYf5hbph/mrH7uHwq6n/ja/dizzRyqtGuhr9qi21sUP/ZpzZqUunupVxHhhZ6tsTDVgIu9BjVvG3a0tSGd4lpNqS/tH1VW/TjM5HTfPGDNI/P3Ev4kwE/O3Edd5x31+305WbAE0gPana6su0LCf5/nkxM6/tmixdVlRcVVr98fsHDM2sK8ve0MRezzyU5DC7PQ/pO91ZadKuUpmd1/nLIFG7sp6ZOn3pnt819fe5mRivM7NduUDwrXsZ98D8f1f9wk7SVi3veXXmSTdJmin763VtILppXKwBlBOcapynDxAELJDGYJV4AJjXjIaahsb311K0uvKerkaaFu2KdkVeF9oHOB0AAECgCAIAAAgUQQAAAIFiTcACRefuAleU5kddFQvtCqFL2gcIAoAE5llok5RGmlY0sSgsitLKa1HKVQPtqlgLA9/FPsDpAAAAAkUQAABAoAgCAAAIFEEAAACBIggAvInt+x09at52+rLs7UOXltblML6pVCbPBwuoHsfun57JxPf3st2pbpkWQ8HK1d4617Yrb23LtdPhw9uW15bvPmC5sl0f7fuSjW4fIAgAPGnXTmSrP9z3uy+talMqvgaC3qHsHIuU3cts7D3e7YB6zT39U+gdvop9/5ZUmxVZzxixqJZpQRSqXG0A8NvGYGW+fdx6mH3SfvH7KL1vD0Remnb7wrThTDT6gN3nwU7SFblqF5G0tPsAQQDgyebR+EZBm3sNKXeO5Wnm3mp3DjuW7Uf7subeyeZ9ka/coPrgC/dediu7u7Hvb3fBLEvnvOtep6NXpsVRnHI1k73dPOfTL91r42MP++nfi6UX7f5nesF//+Nep6XRB1Zk99RN1q2qey877T5AEACoWpM7GXcW7h3uSH1tX7ztUHyDyqsl98yn7GVadLks1wvzi93uGhnfLXC5LHL7icgb99qXW39zT0Llrw8QBABauufSKa9KpuHangaor0lrxhbSuRPlW2T7vufZ2keZFlmey/XCzPS3r9ov2KOLn0R+MX9/NGN73neZ5z5AEACoaEutciaNR7uSfri2pwHqstYaPxyYX7EFTKVz2e+fej564aNMi+gdKNc/s5zDjy0M/NEEGt/+ILLs/ik4/uuKIADwzg7aFTlrPMo0WA9OA7SkOAcBNuXocgHTlpzYScvLSnbLT5kW0ztQru9l+eX+iVsUaB8uGPB6hUBR6NQVQQDglV0hbDtqV04z9dSePD3uiDQr7rIg+7CrjjtSL/mcBLSYiavbkHLzxAxdWfkq03dBjst1+UORt75P/k8yAcE3HhYbFo5eHyAIALyxHbUkx9s+OmpspfHloyVVKUuja54XbY1Aaj7LFCMK5br8gfnjtcjF4GXkwgSybycWC2JOun2AIADwYtBR7eH7MCerttTGjk6Y8tipS6e6lWE9Q+hlahWpXO3le+avduzGO78+NO997V6k8Xzi0P8fJn2T5t3P3Ot3nX4fYCthIAF7OP7artKuyVLlqluEVKXVv3ph38w0/8KeE/xOVrvXLwyz6UbnT6eyN0r5yvxCcy/jHpj/76pfbd/P3kbV3tGwVDe//JxygkOX15ZBijK15i/XxUmS13nLdWaaGcr1+nblPDMT9Ev3/O6ByOcmOJjGnt+flaa9AZG9/8DQxmORezPWGMxMV6MPuAl7VFWXqq3+1LU9i+4DBAFAAvN0qqQ00rQSD9bzSBAEpFGkctVAu0oQBKShke472gc4HQAAQKAIAgAACBRBAAAAgWJNAJBAdD4UhVGUYY12BS1J+wBBAAAsyKIXhc1DK69aCwNDL9ekaXI6AACAQBEEAAAQKIIAAAACRRAAALln7xa5JEvrh9Jz72Rl70Rozx1HD2/punwOH142uoptJRw9Dtz7PhSjXHXqaoAgAAByy96K1g7+dgdJf6JbER9vS7c/2JyqtVaXkocJu3f4SrZcmtGGV82KrB9mnLKe/XuweHD4uPtE5HFsf4JUilOuWnU1xNUBALAg9pdd4iHY3kf+u1Xpnu7KdTsyzE7T/vqtiMTvZ987lPXSuex73pMhmsDO96fuemnTnPvqgAsTAPz4i8g3P4gsu/cmzXN1QK7LVb+uOBIAACHpvZIzqcpWfAZZuS/b5aac+PuBeam8WnLPfPpoegCwKBrlegN1RRAAACHpnkunvCoaU/MY84t1py6yff/6nSTndvFG5PZV2/wtmEa53kBdEQQAACJnr7IuOYstDIwOWV+/7fX8nov8/Fpk80v3uhiyl+tf+UqTIAAAEFm7k3XG3pSj/nBh4Jac2GDA2yI2e5XAnsjGv/J3KmCG7OX6V77SJAgAgJCUVqXcOZeue6nHBATdhpSbJ5I9DPhD5LENAB6L3HvfvZczGuV6A3VFEAAAIVm5I2tyJmNHk3tP5bgzsQAtN2wA8JXI33McAFga5XoDdUUQAABB2ZS9hkh9Z3TTmfZBXaSxN/WSs2TaUhs79N+Tw526dKpbGdJ1AcCtg3wHABGNctWqqxHuEwAACzL7em57U5uS1DvuZUw1fu14TNJrxNu1JakM75RTbU29ln8oSbrRfQFimS03unJ6zcpAm+a19wl4Yyb/n5+4F3FfmP9vzz2/wsz7BBSrXDXSHCIIAIAFmWewTkojTUsrr3PfLCiJeW4WlFDRyjVpmpwOAAAgUAQBAAAEiiAAAIBAsSYAABYkOicOKEg6tRMEAAAQKE4HAAAQKIIAAAACRRAAAECgCAIAAAgUQQAAAIEiCAAAIFAEAQAABEonCGjXoptg2Mf6YXwj5LbU7Pvro20Rp4rSWJex/z0ySGM83UlXf47d4WqYr7EdL4viL+XqvufwkeRLpS7X6Z9V+HItiiv6VbzsJ//tShn61XWfRRvAX8Tb6/pf287gcVVbjEnTXmOfe9Vn0VYn2JsFedeq9qXc6Hfdy7551iiLvSnR4DH2b9O1qn/9b696byTJ5wz+m2rLvSySiXLtNhr90ddo9avmO5cbs0t2/nJN8lkFLtei+Eu/svVS7tu9T+eRpv6t2Z9FG0DMFe11zKx/d9K21zFT5iTaar9/Q6cDVmT3tB/dxtDWXlKbRy2pdupyMIzWeofyXbMsjUe7JsWrpPucolrZ3ZXRrtKbsmdadee8615PN3+5pv8s5E+a+gd8a580pbx9f2ab89Fek35WiHK+JmBTjsxk3qzUpC09Odypi6l52aUmpyqvltyz6/gp12SfhfyhX2HBoom8KvuJGl3G9jrXZ4Un/wsDN/ekUW7Kd+s7UpeGPKIir2Yauu0b2/cTlk+Wcp33s6CrWRmd90x6kjNt/af5LGBC7+mxdKpbZnpPKMN4NfdnBaYAVwesyO6jhkinI9V9DleOiy3WK53Lfv90jl9z85Zrls+ClpXd08Hpr+jRkqqdpBNNzvP3q/SfBcT15OmxaXdb80zLaeeBNJ8VlgIEAe7wT7nsDgdhZFOOLgflLTmZ69fZvOWa5bNwMwaHTaV5kqA+s/areT4LiGkfRL/m9+aal1O211SfFZbcBwG9Q3f45/RRdDiowsQzhRmUuw0pJxyUs5XrfJ+FG1RalbJ7eh0v/SrhZwFxaRbppW2vLAicLd9BgDv3PFgFOjgcVG5+d/11pZiNcn13dc+l455O5av+k3wWMKYtJ83yfOuJUrfXFJ8VoBwHAYPDP53q/ujc88qu7Fc7Ut9JcLOhd15bamPR8LC8Zi2ASVOuaT8Lukw91OJ1ZuqpYn75NPauqZe0/SrNZwHjeoffSTPe9mZK217TfFag+hqm3JjBftzkY9rNGlr2ZhBSjd2gZui6m+Ik+ZwC3yRiolyjm7fEvmPiGwXNXa5JPoubb6i76uYq9r1r62Vc2vqPzPws2gBipswD87SP9O111mfRVoeW7B+mQ/tlb9v43ap0T+dZxXlTTGS5XpLz/b4cFe0nDOUatlzXv0UbQAzjVSEU4OoAAACgQS8I6NSltDRjM5MbNtg4oiT1Iq9molzDlsP6t2gDuBLjVe7pnA4AAAC5x+kAAAACRRAAAECgCAIAAAgUQQAAAIEiCAAAIFAEAQAABIogAACAQBEEAAAQKIIAAAACRRAAAECgCAIAAAgUQQAAAIEiCAAAIFAEAQAABIogAACAQBEEAAAQKIIAAAACRRAAAECgCAIAAAiSyP8DL5UNsalcpfsAAAAASUVORK5CYII=)\n",
        "\n",
        "\n",
        "[제약 사항]\n",
        "\n",
        "농장의 크기 N은 1 이상 49 이하의 홀수이다. (1 ≤ N ≤ 49)\n",
        "\n",
        "농작물의 가치는 0~5이다.\n",
        "\n",
        "\n",
        "[입력]\n",
        "\n",
        "가장 첫 줄에는 테스트 케이스의 개수 T가 주어지고, 그 아래로 각 테스트 케이스가 주어진다.\n",
        "\n",
        "각 테스트 케이스에는 농장의 크기 N과 농장 내 농작물의 가치가 주어진다.\n",
        "\n",
        "\n",
        "[출력]\n",
        "\n",
        "각 줄은 '#t'로 시작하고, 공백으로 농장의 규칙에 따라 얻을 수 있는 수익을 출력한다.\n",
        "\n",
        "(t는 테스트 케이스의 번호를 의미하며 1부터 시작한다.)"
      ],
      "metadata": {
        "id": "MxouDoubI5V6"
      }
    },
    {
      "cell_type": "markdown",
      "source": [
        "### 다람쥐 풀이"
      ],
      "metadata": {
        "id": "eZmxXcedI5jd"
      }
    },
    {
      "cell_type": "code",
      "source": [
        "T = int(input())\n",
        "for t in range(1, T+1):\n",
        "    N = int(input())\n",
        "    farm = [list(input()) for _ in range(N)]\n",
        "    mid = N//2\n",
        "    money = 0\n",
        "\n",
        "    # 마름모 모양으로 수확할 부분 찾기\n",
        "    for i in range(N):\n",
        "        start = abs(mid - i)\n",
        "        end = N - start\n",
        "        for j in range(start, end):\n",
        "            money += farm[i][j]\n",
        "\n",
        "    print(f\"#{t} {money}\")"
      ],
      "metadata": {
        "id": "QXl_BQOaI5rr"
      },
      "execution_count": null,
      "outputs": []
    },
    {
      "cell_type": "markdown",
      "source": [
        "### 문어박사 풀이(1)"
      ],
      "metadata": {
        "id": "fEvc4h-9I56A"
      }
    },
    {
      "cell_type": "code",
      "source": [
        "T = int(input())\n",
        "for t in range(1, T+1):\n",
        "    N = int(input())\n",
        "    farm = [list(map(int, input())) for _ in range(N)]\n",
        "    mid = N//2\n",
        "    money = 0\n",
        "\n",
        "    for i in range(N):\n",
        "        if i <= mid:\n",
        "            for j in range(mid-i, mid+i+1):\n",
        "                money += farm[i][j]\n",
        "\n",
        "        else:\n",
        "            for j in range(i-mid, N-(i-mid)):\n",
        "                money += farm[i][j]\n",
        "\n",
        "    print(f\"#{t} {money}\")"
      ],
      "metadata": {
        "id": "CujSv3ZBI6CX"
      },
      "execution_count": null,
      "outputs": []
    },
    {
      "cell_type": "markdown",
      "source": [
        "### 문어박사 풀이(2)"
      ],
      "metadata": {
        "id": "RTBhRTnBPrRp"
      }
    },
    {
      "cell_type": "code",
      "source": [
        "T = int(input())\n",
        "for t in range(1, T+1):\n",
        "    N = int(input())\n",
        "    farm = [list(map(int, input())) for _ in range(N)]\n",
        "    mid = N//2\n",
        "    money = 0\n",
        "\n",
        "    s = e = mid\n",
        "    for i in range(N):\n",
        "        for j in range(s, e+1):\n",
        "            money += farm[i][j]\n",
        "\n",
        "        if i < mid:\n",
        "            s -= 1\n",
        "            e += 1\n",
        "        else:\n",
        "            s += 1\n",
        "            e -= 1\n",
        "\n",
        "    print(f\"#{t} {money}\")"
      ],
      "metadata": {
        "id": "lRbXAv1UPtVg"
      },
      "execution_count": null,
      "outputs": []
    },
    {
      "cell_type": "markdown",
      "source": [
        "## 1859. 백만 장자 프로젝트\n",
        "\n",
        "\n",
        "25년 간의 수행 끝에 원재는 미래를 보는 능력을 갖게 되었다. 이 능력으로 원재는 사재기를 하려고 한다.\n",
        "\n",
        "다만 당국의 감시가 심해 한 번에 많은 양을 사재기 할 수 없다.\n",
        "\n",
        "다음과 같은 조건 하에서 사재기를 하여 최대한의 이득을 얻도록 도와주자.\n",
        "\n",
        "    1. 원재는 연속된 N일 동안의 물건의 매매가를 예측하여 알고 있다.\n",
        "    2. 당국의 감시망에 걸리지 않기 위해 하루에 최대 1만큼 구입할 수 있다.\n",
        "    3. 판매는 얼마든지 할 수 있다.\n",
        "\n",
        "예를 들어 3일 동안의 매매가가 1, 2, 3 이라면 처음 두 날에 원료를 구매하여 마지막 날에 팔면 3의 이익을 얻을 수 있다.\n",
        "\n",
        "\n",
        "[입력]\n",
        "\n",
        "첫 번째 줄에 테스트 케이스의 수 T가 주어진다.\n",
        "\n",
        "각 테스트 케이스 별로 첫 줄에는 자연수 N(2 ≤ N ≤ 1,000,000)이 주어지고,\n",
        "\n",
        "둘째 줄에는 각 날의 매매가를 나타내는 N개의 자연수들이 공백으로 구분되어 순서대로 주어진다.\n",
        "\n",
        "각 날의 매매가는 10,000이하이다.\n",
        "\n",
        "\n",
        "[출력]\n",
        "\n",
        "각 테스트 케이스마다 ‘#x’(x는 테스트케이스 번호를 의미하며 1부터 시작한다)를 출력하고, 최대 이익을 출력한다.\n",
        "\n",
        "\n",
        "[예제 풀이]\n",
        "\n",
        "1번째 케이스는 아무 것도 사지 않는 것이 최대 이익이다.\n",
        "\n",
        "2번째 케이스는 1,2일에 각각 한 개씩 사서 세 번째 날에 두 개를 팔면 10의 이익을 얻을 수 있다."
      ],
      "metadata": {
        "id": "EGFZdChiPtNB"
      }
    },
    {
      "cell_type": "markdown",
      "source": [
        "### 다람쥐 풀이"
      ],
      "metadata": {
        "id": "vEEFAXhXPtPQ"
      }
    },
    {
      "cell_type": "code",
      "source": [
        "T = int(input()) # 테스트 케이스 개수 입력\n",
        "for t in range(1, T + 1):\n",
        "    N = int(input()) # 날짜 수\n",
        "    prices = list(map(int, input().split())) # 매매가 리스트 입력\n",
        "\n",
        "    max_price = 0 # 최고 매매가 (거꾸로 탐색하며 찾음)\n",
        "    profit = 0 # 최대 이익\n",
        "\n",
        "    # 뒤에서부터 앞으로 탐색\n",
        "    for i in range(N - 1, -1, -1):\n",
        "        if prices[i] > max_price:\n",
        "            max_price = prices[i] # 현재 가격이 더 크면, 최고 매매가 업데이트\n",
        "        else:\n",
        "            profit += max_price - prices[i] # 싼 날에 사서 비싼 날에 판 이익 계산\n",
        "\n",
        "    print(f\"#{t} {profit}\") # 결과 출력"
      ],
      "metadata": {
        "id": "AIKnsqGPP5rW"
      },
      "execution_count": null,
      "outputs": []
    },
    {
      "cell_type": "markdown",
      "source": [
        "### 문어박사 풀이(1)"
      ],
      "metadata": {
        "id": "bwt8hEtOP51x"
      }
    },
    {
      "cell_type": "code",
      "source": [
        "T = int(input())\n",
        "for t in range(1, T+1):\n",
        "    N = int(input())\n",
        "    lst = list(map(int, input().split()))\n",
        "\n",
        "    ans = s = 0\n",
        "    while s < N:\n",
        "        i_max = s\n",
        "        for i in range(s+1, N):\n",
        "            if lst[i_max] < lst[i]:\n",
        "                i_max = i\n",
        "        for i in range(s, i_max):\n",
        "            ans += (lst[i_max] - lst[i])\n",
        "        s = i_max + 1\n",
        "\n",
        "    print(f\"#{t} {ans}\")"
      ],
      "metadata": {
        "id": "CB9MKYxbP59t"
      },
      "execution_count": null,
      "outputs": []
    },
    {
      "cell_type": "markdown",
      "source": [
        "### 문어박사 풀이(2)"
      ],
      "metadata": {
        "id": "a3qjj1CoTm_X"
      }
    },
    {
      "cell_type": "code",
      "source": [
        "T = int(input())\n",
        "for t in range(1, T+1):\n",
        "    N = int(input())\n",
        "    lst = list(map(int, input().split()))[::-1]\n",
        "\n",
        "    ans = mx = 0\n",
        "\n",
        "    for n in lst:\n",
        "        if mx < n:\n",
        "            mx = n\n",
        "        else:\n",
        "            ans += (mx-n)\n",
        "\n",
        "    print(f\"#{t} {ans}\")"
      ],
      "metadata": {
        "id": "C3X2DS5LTnJ8"
      },
      "execution_count": null,
      "outputs": []
    },
    {
      "cell_type": "markdown",
      "source": [
        "## 1974. 스도쿠 검증\n",
        "\n",
        "스도쿠는 숫자퍼즐로, 가로 9칸 세로 9칸으로 이루어져 있는 표에 1 부터 9 까지의 숫자를 채워넣는 퍼즐이다.\n",
        "\n",
        "\n",
        "\n",
        "\n",
        "같은 줄에 1 에서 9 까지의 숫자를 한번씩만 넣고, 3 x 3 크기의 작은 격자 또한, 1 에서 9 까지의 숫자가 겹치지 않아야 한다.\n",
        "\n",
        "\n",
        "\n",
        "입력으로 9 X 9 크기의 스도쿠 퍼즐의 숫자들이 주어졌을 때, 위와 같이 겹치는 숫자가 없을 경우, 1을 정답으로 출력하고 그렇지 않을 경우 0 을 출력한다.\n",
        "\n",
        "\n",
        "[제약 사항]\n",
        "\n",
        "1. 퍼즐은 모두 숫자로 채워진 상태로 주어진다.\n",
        "\n",
        "2. 입력으로 주어지는 퍼즐의 모든 숫자는 1 이상 9 이하의 정수이다.\n",
        "\n",
        "\n",
        "[입력]\n",
        "\n",
        "입력은 첫 줄에 총 테스트 케이스의 개수 T가 온다.\n",
        "\n",
        "다음 줄부터 각 테스트 케이스가 주어진다.\n",
        "\n",
        "테스트 케이스는 9 x 9 크기의 퍼즐의 데이터이다.\n",
        "\n",
        "\n",
        "[출력]\n",
        "\n",
        "테스트 케이스 t에 대한 결과는 “#t”을 찍고, 한 칸 띄고, 정답을 출력한다.\n",
        "\n",
        "(t는 테스트 케이스의 번호를 의미하며 1부터 시작한다.)"
      ],
      "metadata": {
        "id": "fnObfQhuP_tF"
      }
    },
    {
      "cell_type": "markdown",
      "source": [
        "### 다람쥐 풀이"
      ],
      "metadata": {
        "id": "XutMU2xSP_y7"
      }
    },
    {
      "cell_type": "code",
      "source": [
        "T = int (input())\n",
        "for t in range(1, T+1):\n",
        "    sudoku = [list(map(int, input().split())) for _ in range(9)]\n",
        "\n",
        "    ans1 = 0\n",
        "    ans2 = 0\n",
        "    ans3 = 0\n",
        "\n",
        "    def is_valid(group):\n",
        "        return sorted(group) == list(range(1, 10))\n",
        "\n",
        "    valid = True\n",
        "\n",
        "    for row in sudoku:\n",
        "        if not is_valid(row):\n",
        "            valid = False\n",
        "            break\n",
        "\n",
        "    if valid:\n",
        "        for col in range(9):\n",
        "            if not is_valid([sudoku[row][col] for row in range(9)]):\n",
        "                valid = False\n",
        "                break\n",
        "\n",
        "    if valid:\n",
        "        for i in range(0, 9, 3):\n",
        "            for j in range(0, 9, 3):\n",
        "                box = []\n",
        "                for x in range(3):\n",
        "                    for y in range(3):\n",
        "                        box.append(sudoku[i + x][j + y])\n",
        "                if not is_valid(box):\n",
        "                    valid = False\n",
        "                    break\n",
        "\n",
        "    print(f\"#{t} {1 if valid else 0}\")"
      ],
      "metadata": {
        "id": "wzviNh4BQADb"
      },
      "execution_count": null,
      "outputs": []
    },
    {
      "cell_type": "markdown",
      "source": [
        "### 문어박사 풀이"
      ],
      "metadata": {
        "id": "Q2EWlvckQART"
      }
    },
    {
      "cell_type": "code",
      "source": [
        "def solve():\n",
        "    for lst in sudoku:\n",
        "        if len(set(lst)) != N:\n",
        "            return 0\n",
        "\n",
        "    arr1 = list(zip(*sudoku))\n",
        "    for lst in arr1:\n",
        "        if len(set(lst)) != N:\n",
        "            return 0\n",
        "\n",
        "    for i in range(0, 9, 3):\n",
        "        for j in range(0, 9, 3):\n",
        "            lst = sudoku[i][j:j+3] + sudoku[i+1][j:j+3] + sudoku[i+2][j:j+3]\n",
        "            if len(set(lst)) != N:\n",
        "                return 0\n",
        "\n",
        "    return 1\n",
        "\n",
        "\n",
        "\n",
        "\n",
        "T = int (input())\n",
        "for t in range(1, T+1):\n",
        "    N = 9\n",
        "    sudoku = [list(map(int, input().split())) for _ in range(9)]\n",
        "\n",
        "    ans = solve()\n",
        "\n",
        "    print(f\"{t} {ans}\")"
      ],
      "metadata": {
        "id": "UborWA8MQAZP"
      },
      "execution_count": null,
      "outputs": []
    },
    {
      "cell_type": "markdown",
      "source": [
        "## 1961. 숫자 배열 회전\n",
        "\n",
        "N x N 행렬이 주어질 때,\n",
        "\n",
        "시계 방향으로 90도, 180도, 270도 회전한 모양을 출력하라.\n",
        "\n",
        "\n",
        "[제약 사항]\n",
        "\n",
        "N은 3 이상 7 이하이다.\n",
        "\n",
        "[입력]\n",
        "\n",
        "가장 첫 줄에는 테스트 케이스의 개수 T가 주어지고, 그 아래로 각 테스트 케이스가 주어진다.\n",
        "\n",
        "각 테스트 케이스의 첫 번째 줄에 N이 주어지고,\n",
        "\n",
        "다음 N 줄에는 N x N 행렬이 주어진다.\n",
        "\n",
        "[출력]\n",
        "\n",
        "출력의 첫 줄은 '#t'로 시작하고,\n",
        "\n",
        "다음 N줄에 걸쳐서 90도, 180도, 270도 회전한 모양을 출력한다.\n",
        "\n",
        "입력과는 달리 출력에서는 회전한 모양 사이에만 공백이 존재함에 유의하라.\n",
        "\n",
        "(t는 테스트 케이스의 번호를 의미하며 1부터 시작한다.)\n",
        "\n",
        "![image.png](data:image/png;base64,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)"
      ],
      "metadata": {
        "id": "DuIeSbvIQGNd"
      }
    },
    {
      "cell_type": "markdown",
      "source": [
        "### 다람쥐 풀이"
      ],
      "metadata": {
        "id": "kasjc07TQGSq"
      }
    },
    {
      "cell_type": "code",
      "source": [
        "def rotate(arr):\n",
        "    arrR = [[0] * N for _ in range(N)]\n",
        "    for i in range(N):\n",
        "        for j in range(N):\n",
        "            arrR[i][j] = arr[N-j-1][i]\n",
        "    return arrR\n",
        "\n",
        "\n",
        "T = int(input())\n",
        "for t in range(1, T+1):\n",
        "    N = int(input())\n",
        "    arr = [list(map(int, input().split())) for _ in range(N)]\n",
        "\n",
        "    arr1 = rotate(arr)\n",
        "    arr2 = rotate(arr1)\n",
        "    arr3 = rotate(arr2)\n",
        "\n",
        "\n",
        "    print(f\"#{t}\")\n",
        "    for a, b, c, in zip(arr1, arr2, arr3):\n",
        "        print(f'{\"\".join(map(str, a))} {\"\".join(map(str, b))} {\"\".join(map(str, c))}')"
      ],
      "metadata": {
        "id": "OiS4gpZIQGnd"
      },
      "execution_count": null,
      "outputs": []
    },
    {
      "cell_type": "markdown",
      "source": [
        "### 문어박사 풀이"
      ],
      "metadata": {
        "id": "kuJO2lISQG0N"
      }
    },
    {
      "cell_type": "code",
      "source": [
        "def rotate(arr):\n",
        "    arrR = [[0] * N for _ in range(N)]\n",
        "    for i in range(N):\n",
        "        for j in range(N):\n",
        "            arrR[i][j] = arr[N-j-1][i]\n",
        "    return arrR\n",
        "\n",
        "\n",
        "T = int(input())\n",
        "for t in range(1, T+1):\n",
        "    N = int(input())\n",
        "    arr = [list(map(int, input().split())) for _ in range(N)]\n",
        "\n",
        "    arr1 = rotate(arr)\n",
        "    arr2 = rotate(arr1)\n",
        "    arr3 = rotate(arr2)\n",
        "\n",
        "\n",
        "    print(f\"#{t}\")\n",
        "    for a, b, c, in zip(arr1, arr2, arr3):\n",
        "        print(f'{\"\".join(map(str, a))} {\"\".join(map(str, b))} {\"\".join(map(str, c))}')"
      ],
      "metadata": {
        "id": "Y-fgTPtmQG7i"
      },
      "execution_count": null,
      "outputs": []
    },
    {
      "cell_type": "markdown",
      "source": [
        "## 1216. [S/W 문제해결 기본] 3일차 - 회문2\n",
        "\n",
        "\"기러기\" 또는 \"level\" 과 같이 거꾸로 읽어도 제대로 읽은 것과 같은 문장이나 낱말을 회문(回文, palindrome)이라 한다.\n",
        "\n",
        "주어진 100x100 평면 글자판에서 가로, 세로를 모두 보아 가장 긴 회문의 길이를 구하는 문제이다.\n",
        "\n",
        "\n",
        "\n",
        "\n",
        "위와 같은 글자 판이 주어졌을 때, 길이가 가장 긴 회문은 붉은색 테두리로 표시된 7칸짜리 회문이다.\n",
        "\n",
        "예시의 경우 설명을 위해 글자판의 크기가 100 x 100이 아닌 8 x 8으로 주어졌음에 주의한다.\n",
        "\n",
        "[제약사항]\n",
        "\n",
        "각 칸의 들어가는 글자는 c언어 char type으로 주어지며 'A', 'B', 'C' 중 하나이다.\n",
        "\n",
        "글자 판은 무조건 정사각형으로 주어진다.\n",
        "\n",
        "ABA도 회문이며, ABBA도 회문이다. A또한 길이 1짜리 회문이다.\n",
        "\n",
        "가로, 세로 각각에 대해서 직선으로만 판단한다. 즉, 아래 예에서 노란색 경로를 따라가면 길이 7짜리 회문이 되지만 직선이 아니기 때문에 인정되지 않는다.\n",
        "\n",
        "\n",
        "\n",
        "[입력]\n",
        "\n",
        "각 테스트 케이스의 첫 번째 줄에는 테스트 케이스의 번호가 주어지며, 바로 다음 줄에 테스트 케이스가 주어진다.\n",
        "\n",
        "총 10개의 테스트케이스가 주어진다.\n",
        "\n",
        "[출력]\n",
        "\n",
        "'#'부호와 함께 테스트 케이스의 번호를 출력하고, 공백 문자 후 찾은 회문의 길이를 출력한다."
      ],
      "metadata": {
        "id": "1tsglOyaRiNs"
      }
    },
    {
      "cell_type": "markdown",
      "source": [
        "### 다람쥐 풀이"
      ],
      "metadata": {
        "id": "Tz5SOq7qRiQN"
      }
    },
    {
      "cell_type": "code",
      "source": [
        "T = 10\n",
        "for t in range(1, T+1):\n",
        "    no = int(input())\n",
        "    N = 100\n",
        "    arr = [list(input()) for _ in range(N)]\n",
        "    max_len = 0\n",
        "\n",
        "    # 가로 회문\n",
        "    for P in range(N, 0, -1):\n",
        "        for i in range(N):\n",
        "            for j in range(N-P+1):\n",
        "                for k in range(P//2):\n",
        "                    if arr[i][j+k] != arr[i][j+P-1-k]:\n",
        "                        break\n",
        "                else:\n",
        "                    if max_len < P:\n",
        "                        max_len = P\n",
        "                        break\n",
        "\n",
        "    # 세로 회문\n",
        "    for P in range(N, 0, -1):\n",
        "        for i in range(N):\n",
        "            for j in range(N-P+1):\n",
        "                for k in range(P//2):\n",
        "                    if arr[j+k][i] != arr[j+P-1-k][i]:\n",
        "                        break\n",
        "                else:\n",
        "                    if max_len < P:\n",
        "                        max_len = P\n",
        "                        break\n",
        "\n",
        "\n",
        "    print(f\"#{t} {max_len}\")\n"
      ],
      "metadata": {
        "id": "MG0WIrzYRigQ"
      },
      "execution_count": null,
      "outputs": []
    },
    {
      "cell_type": "markdown",
      "source": [
        "### 문어박사 풀이"
      ],
      "metadata": {
        "id": "ZYSsn6wDRivc"
      }
    },
    {
      "cell_type": "code",
      "source": [],
      "metadata": {
        "id": "LFT3paLsRj_T"
      },
      "execution_count": null,
      "outputs": []
    },
    {
      "cell_type": "markdown",
      "source": [
        "## 1979. 어디에 단어가 들어갈 수 있을까\n",
        "\n",
        "N X N 크기의 단어 퍼즐을 만들려고 한다. 입력으로 단어 퍼즐의 모양이 주어진다.\n",
        "\n",
        "주어진 퍼즐 모양에서 특정 길이 K를 갖는 단어가 들어갈 수 있는 자리의 수를 출력하는 프로그램을 작성하라.\n",
        "\n",
        "[예제]\n",
        "\n",
        "N = 5, K = 3 이고, 퍼즐의 모양이 아래 그림과 같이 주어졌을 때\n",
        "\n",
        "\n",
        "\n",
        "\n",
        "길이가 3 인 단어가 들어갈 수 있는 자리는 2 곳(가로 1번, 가로 4번)이 된다.\n",
        "\n",
        "\n",
        "\n",
        "[제약 사항]\n",
        "\n",
        "1. N은 5 이상 15 이하의 정수이다. (5 ≤ N ≤ 15)\n",
        "\n",
        "2. K는 2 이상 N 이하의 정수이다. (2 ≤ K ≤ N)\n",
        "\n",
        "\n",
        "[입력]\n",
        "\n",
        "입력은 첫 줄에 총 테스트 케이스의 개수 T가 온다.\n",
        "\n",
        "다음 줄부터 각 테스트 케이스가 주어진다.\n",
        "\n",
        "테스트 케이스의 첫 번째 줄에는 단어 퍼즐의 가로, 세로 길이 N 과, 단어의 길이 K 가 주어진다.\n",
        "\n",
        "테스트 케이스의 두 번째 줄부터 퍼즐의 모양이 2차원 정보로 주어진다.\n",
        "\n",
        "퍼즐의 각 셀 중, 흰색 부분은 1, 검은색 부분은 0 으로 주어진다.\n",
        "\n",
        "\n",
        "[출력]\n",
        "\n",
        "테스트 케이스 t에 대한 결과는 “#t”을 찍고, 한 칸 띄고, 정답을 출력한다.\n",
        "\n",
        "(t는 테스트 케이스의 번호를 의미하며 1부터 시작한다.)\n"
      ],
      "metadata": {
        "id": "CYzG7SqXRiyR"
      }
    },
    {
      "cell_type": "markdown",
      "source": [
        "### 다람쥐 풀이"
      ],
      "metadata": {
        "id": "B4kZRTFFycjq"
      }
    },
    {
      "cell_type": "code",
      "source": [
        "T = int(input())\n",
        "for t in range(1, T+1):\n",
        "    N, K = list(map(int, input().split()))\n",
        "    puzzle = [list(map(int, input().split())) for _ in range(N)]\n",
        "    answer = 0\n",
        "\n",
        "    for i in range(N):\n",
        "        cnt = 0\n",
        "        for j in range(N):\n",
        "            if puzzle[i][j] == 1:\n",
        "                cnt += 1\n",
        "            else:\n",
        "                if cnt == K:\n",
        "                    answer += 1\n",
        "                cnt = 0\n",
        "        if cnt == K:\n",
        "            answer += 1\n",
        "\n",
        "    for j in range(N):\n",
        "        cnt = 0\n",
        "        for i in range(N):\n",
        "            if puzzle[i][j] == 1:\n",
        "                cnt += 1\n",
        "            else:\n",
        "                if cnt == K:\n",
        "                    answer += 1\n",
        "                cnt = 0\n",
        "        if cnt == K:\n",
        "            answer += 1\n",
        "\n",
        "    print(f\"#{t} {answer}\")"
      ],
      "metadata": {
        "id": "8xncExnKycqs"
      },
      "execution_count": null,
      "outputs": []
    },
    {
      "cell_type": "markdown",
      "source": [
        "### 문어박사 풀이"
      ],
      "metadata": {
        "id": "u-pJCjaFydBF"
      }
    },
    {
      "cell_type": "code",
      "source": [],
      "metadata": {
        "id": "wgnTZpYdydJV"
      },
      "execution_count": null,
      "outputs": []
    },
    {
      "cell_type": "markdown",
      "source": [
        "## 1220. [S/W 문제해결 기본] 5일차 - Magnetic\n",
        "\n",
        "테이블 위에 자성체들이 놓여 있다.\n",
        "\n",
        "자성체들은 성질에 따라 색이 부여되는데, 푸른 자성체의 경우 N극에 이끌리는 성질을 가지고 있고, 붉은 자성체의 경우 S극에 이끌리는 성질이 있다.\n",
        "\n",
        "아래와 같은 테이블에서 일정 간격을 두고 강한 자기장을 걸었을 때, 시간이 흐른 뒤에 자성체들이 서로 충돌하여 테이블 위에 남아있는 교착 상태의 개수를 구하라.\n",
        "\n",
        "아래는 자성체들이 놓여 있는 테이블을 위에서 바라본 모습이다.\n",
        "\n",
        "![image.png](data:image/png;base64,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)\n",
        "\n",
        "\n",
        "A로 표시된 붉은 자성체의 경우 S극에 이끌리면서 테이블 아래로 떨어지게 된다.\n",
        "\n",
        "B로 표시된 푸른 자성체의 경우 N극에 이끌리면서 테이블 아래로 떨어지게 된다.\n",
        "\n",
        "나머지 자성체들은 서로 충돌하며, 교착 상태에 빠져 움직이지 않게 된다.\n",
        "\n",
        "D로 표시된 자성체들에서 알 수 있듯 한 쪽 방향으로 움직이는 자성체의 개수가 많더라도 반대 방향으로 움직이는 자성체가 하나라도 있으면 교착 상태에 빠져 움직이지 않는다.\n",
        "\n",
        "D로 표시된 자성체들과 같이 셋 이상의 자성체들이 서로 충돌하여 붙어 있을 경우에도 하나의 교착 상태로 본다.\n",
        "\n",
        "C와 D는 좌우로 인접하여 있으나 각각 다른 교착 상태로 판단하여 2개의 교착 상태로 본다.\n",
        "\n",
        "E의 경우와 같이 한 줄에 두 개 이상의 교착 상태가 발생할 수도 있다.\n",
        "\n",
        "F의 경우 각각 다른 교착상태로 판단하여 2개의 교착상태로 본다.\n",
        "\n",
        "위의 예시의 경우 테이블 위에 남아있는 교착상태는 7개이므로 7를 반환한다.\n",
        "\n",
        "\n",
        "[제약 사항]\n",
        "\n",
        "자성체는 테이블 앞뒤 쪽에 있는 N극 또는 S극에만 반응하며 자성체끼리는 전혀 반응하지 않는다.\n",
        "\n",
        "테이블의 크기는 100x100으로 주어진다. (예시에서는 설명을 위해 7x7로 주어졌음에 유의)\n",
        "\n",
        "[입력]\n",
        "\n",
        "10개의 테스트 케이스가 주어진다.\n",
        "\n",
        "각 테스트 케이스의 첫 번째 줄에는 정사각형 테이블의 한 변의 길이가 주어진다. (이 값은 항상 100이다)\n",
        "\n",
        "그 다음 줄부터 100 x 100크기의 테이블의 초기 모습이 주어진다. 1은 N극 성질을 가지는 자성체를 2는 S극 성질을 가지는 자성체를 의미하며 테이블의 윗부분에 N극이 아래부분에 S극이 위치한다고 가정한다.\n",
        "\n",
        "(N극 성질을 가지는 자성체는 S극에 이끌리는 성질이 있다.)"
      ],
      "metadata": {
        "id": "GRRJ8Xzv2IRu"
      }
    },
    {
      "cell_type": "markdown",
      "source": [
        "### 다람쥐 풀이"
      ],
      "metadata": {
        "id": "DN4eF9mV2IbF"
      }
    },
    {
      "cell_type": "code",
      "source": [
        "T = 10\n",
        "\n",
        "for t in range(1, T + 1):\n",
        "    N = int(input())\n",
        "    magnet = [list(map(int, input().split())) for _ in range(N)]\n",
        "\n",
        "    count = 0\n",
        "\n",
        "    for j in range(N):\n",
        "        prev = 0\n",
        "        for i in range(N):\n",
        "            if magnet[i][j] == 1:\n",
        "                prev = 1\n",
        "            elif magnet[i][j] == 2 and prev == 1:\n",
        "                count += 1\n",
        "                prev = 0\n",
        "\n",
        "    print(f\"#{t} {count}\")"
      ],
      "metadata": {
        "id": "0pLgfzRR2IsZ"
      },
      "execution_count": null,
      "outputs": []
    },
    {
      "cell_type": "markdown",
      "source": [
        "### 문어박사 풀이"
      ],
      "metadata": {
        "id": "EkEGLnwm2I64"
      }
    },
    {
      "cell_type": "code",
      "source": [
        "T = 10\n",
        "for t in range(1, T+1):\n",
        "    N = int(input())\n",
        "    arr = [list(map(int, input().split())) for _ in range(N)]\n",
        "\n",
        "    ans = 0\n",
        "    arr_t = list(zip(*arr))\n",
        "    for lst in arr_t:\n",
        "        prev = 0\n",
        "        for n in lst:\n",
        "            if n:\n",
        "                if n == 2 and prev == 1:\n",
        "                    ans += 1\n",
        "                prev = n\n",
        "\n",
        "print(f\"#{t} {ans}\")"
      ],
      "metadata": {
        "id": "qQFN3xKX2JRX"
      },
      "execution_count": null,
      "outputs": []
    },
    {
      "cell_type": "markdown",
      "source": [
        "## 1493. 수의 새로운 연산\n",
        "\n",
        "![image.png](data:image/png;base64,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)\n",
        "\n",
        "2차원 평면 제 1사분면 위의 격자점 (x,y)에 위 그림과 같이 대각선 순서로 점에 수를 붙인다.\n",
        "\n",
        "점 (x,y)에 할당된 수는 #(x,y)로 나타낸다.\n",
        "\n",
        "예를 들어 #(1,1) = 1, #(2,1)=3, #(2,2) = 5, #(4,4) = 25이다.\n",
        "\n",
        "반대로 수 p가 할당된 점을 &(p)로 나타낸다.\n",
        "\n",
        "예를 들어 &(1) = (1,1), &(3) = (2,1), &(5) = (2,2), &(25) = (4,4)이다.\n",
        "\n",
        "두 점에 대해서 덧셈을 정의한다. 점 (x,y)와 점 (z,w)를 더하면 점 (x+z, y+w)가 된다.\n",
        "\n",
        "즉, (x,y) + (z,w) = (x+z, y+w)로 정의한다.\n",
        "\n",
        "우리가 해야 할 일은 수와 수에 대한 새로운 연산 ★를 구현하는 것으로, p★q는 #(&(p)+&(q))으로 나타난다.\n",
        "\n",
        "예를 들어, &(1)=(1,1), &(5) = (2,2)이므로, 1★5 = #(&(1)+&(5)) = #((1,1)+(2,2)) = #(3,3) = 13이 된다.\n",
        "\n",
        "\n",
        "[입력]\n",
        "\n",
        "첫 번째 줄에 테스트 케이스의 수 T가 주어진다.\n",
        "\n",
        "각 테스트 케이스의 첫 번째 줄에는 두 정수 p,q(1 ≤ p, q ≤ 10,000)가 주어진다.\n",
        "\n",
        "\n",
        "[출력]\n",
        "\n",
        "각 테스트 케이스마다 ‘#t’(t는 테스트 케이스 번호를 의미하며 1부터 시작한다)를 출력하고, 각 테스트 케이스마다 p★q의 값을 출력한다.\n"
      ],
      "metadata": {
        "id": "YFiYy7Nn35kl"
      }
    },
    {
      "cell_type": "markdown",
      "source": [
        "### 문어박사 풀이(다람쥐는 못풀었음)"
      ],
      "metadata": {
        "id": "zEVcqV8E35v5"
      }
    },
    {
      "cell_type": "code",
      "source": [
        "dct = {}\n",
        "r_dct = {}\n",
        "i, j = 1, 1\n",
        "for n in range(1, 50000):\n",
        "    dct[n] = (i, j)\n",
        "    r_dct[(i, j)] = n\n",
        "    i, j = i-1, j+1\n",
        "    if i < 1:\n",
        "        i, j = j, 1\n",
        "\n",
        "T = int(input())\n",
        "for t in range(1, T+1):\n",
        "    p, q = map(int, input().split())\n",
        "\n",
        "    pi, pj = dct[p]\n",
        "    qi, qj = dct[q]\n",
        "    ans = r_dct[(pi+qi, pj+qj)]\n",
        "    print(f\"#{t} {ans}\")"
      ],
      "metadata": {
        "id": "_wSaqANi353w"
      },
      "execution_count": null,
      "outputs": []
    },
    {
      "cell_type": "markdown",
      "source": [
        "## 5201. [파이썬 S/W 문제해결 구현] 3일차 - 컨테이너 운반\n",
        "\n",
        "화물이 실려 있는 N개의 컨테이너를 M대의 트럭으로 A도시에서 B도시로 운반하려고 한다.\n",
        "\n",
        "트럭당 한 개의 컨테이너를 운반 할 수 있고, 트럭의 적재용량을 초과하는 컨테이너는 운반할 수 없다.\n",
        "\n",
        "컨테이너마다 실린 화물의 무게와 트럭마다의 적재용량이 주어지고, A도시에서 B도시로 최대 M대의 트럭이 편도로 한번 만 운행한다고 한다.\n",
        "\n",
        "이때 이동한 화물의 총 중량이 최대가 되도록 컨테이너를 옮겼다면, 옮겨진 화물의 전체 무게가 얼마인지 출력하는 프로그램을 만드시오.\n",
        "\n",
        "화물을 싣지 못한 트럭이 있을 수도 있고, 남는 화물이 있을 수도 있다. 컨테이너를 한 개도 옮길 수 없는 경우 0을 출력한다.\n",
        "\n",
        "\n",
        "[입력]\n",
        "\n",
        "첫 줄에 테스트케이스의 수 T가 주어진다. 1<=T<=50\n",
        "\n",
        "다음 줄부터 테스트 케이스의 별로 첫 줄에 컨테이너 수 N과 트럭 수 M이 주어지고, 다음 줄에 N개의 화물이 무게wi, 그 다음 줄에 M개 트럭의 적재용량 ti가 주어진다.\n",
        "\n",
        "1<=N, M<=100, 1<=wi, ti<=50\n",
        "\n",
        "[출력]\n",
        "\n",
        "각 줄마다 \"#T\" (T는 테스트 케이스 번호)를 출력한 뒤, 답을 출력한다."
      ],
      "metadata": {
        "id": "Ds4xQFYlCeoE"
      }
    },
    {
      "cell_type": "markdown",
      "source": [
        "### 다람쥐 풀이"
      ],
      "metadata": {
        "id": "rugzf1udCex_"
      }
    },
    {
      "cell_type": "code",
      "source": [
        "T = int(input())\n",
        "for t in range(1, T+1):\n",
        "    N, M = list(map(int, input().split()))\n",
        "    wi = list(map(int, input().split()))\n",
        "    ti = list(map(int, input().split()))\n",
        "    total = 0\n",
        "\n",
        "    # 트럭을 내림차순으로 정렬\n",
        "    ti.sort(reverse=True)\n",
        "    wi.sort(reverse=True)\n",
        "\n",
        "    # 트럭에 컨테이너를 싣기 위한 인덱스\n",
        "    container_idx = 0\n",
        "\n",
        "    # 각 트럭에 대해 적재할 수 있는 가장 무거운 컨테이너 선택\n",
        "    for truck in ti:\n",
        "        while container_idx < N and wi[container_idx] > truck:\n",
        "            container_idx += 1  # 적재 불가능한 컨테이너 건너뛰기\n",
        "\n",
        "        if container_idx < N:  # 컨테이너를 실을 수 있는 경우\n",
        "            total += wi[container_idx]\n",
        "            container_idx += 1  # 컨테이너 실었으므로 다음 컨테이너 탐색\n",
        "\n",
        "    print(f\"#{t} {total}\")\n"
      ],
      "metadata": {
        "id": "b7jM4JJOCe_a"
      },
      "execution_count": null,
      "outputs": []
    },
    {
      "cell_type": "markdown",
      "source": [
        "### 문어박사 풀이"
      ],
      "metadata": {
        "id": "2TtjWfr8CfI3"
      }
    },
    {
      "cell_type": "code",
      "source": [
        "T = int(input())\n",
        "for t in range(1, T+1):\n",
        "    N, M = list(map(int, input().split()))\n",
        "    lst1 = list(map(int, input().split()))\n",
        "    lst2 = list(map(int, input().split()))\n",
        "\n",
        "    # [1] 내림차순 정렬\n",
        "    lst1.sort(reverse=True)\n",
        "    lst2.sort(reverse=True)\n",
        "\n",
        "    # [2] 짐을 하나씩 내리면서 트럭에 적재 가능 체크\n",
        "    ans = i = 0\n",
        "    for n in lst1:\n",
        "        if n <= lst2[i]: # 짐을 실을 수 있는 경우\n",
        "            ans += n\n",
        "            i += 1\n",
        "            if i == M: #트럭이 없는 경우 종료\n",
        "                break\n",
        "    print(f\"#{t} {ans}\")"
      ],
      "metadata": {
        "id": "bIEVHI9QCfQ7"
      },
      "execution_count": null,
      "outputs": []
    },
    {
      "cell_type": "markdown",
      "source": [
        "## 5201. [파이썬 S/W 문제해결 구현] 3일차 - 컨테이너 운반\n",
        "\n",
        "24시간 운영되는 물류센터에는 화물을 싣고 내리는 도크가 설치되어 있다.\n",
        "\n",
        "0시부터 다음날 0시 이전까지 A도크의 사용신청을 확인해 최대한 많은 화물차가 화물을 싣고 내릴 수 있도록 하면, 최대 몇 대의 화물차가 이용할 수 있는지 알아내 출력하는 프로그램을 만드시오.\n",
        "\n",
        "신청서에는 작업 시작 시간과 완료 시간이 매시 정각을 기준으로 표시되어 있고, 앞 작업의 종료와 동시에 다음 작업을 시작할 수 있다.\n",
        "\n",
        "예를 들어 앞 작업의 종료 시간이 5시면 다음 작업의 시작 시간은 5시부터 가능하다.\n",
        "\n",
        "\n",
        "[입력]\n",
        "\n",
        "첫 줄에 테스트케이스의 수 T가 주어진다. 1<=T<=50\n",
        "\n",
        "다음 줄부터 테스트 케이스의 별로 첫 줄에 신청서 N이 주어지고, 다음 줄부터 N개의 줄에 걸쳐 화물차의 작업 시작 시간 s와 종료 시간 e가 주어진다.\n",
        "\n",
        "1<=N<=100, 0<=s<24, 0 ＜ e ＜= 24\n"
      ],
      "metadata": {
        "id": "6it4V0HoNJis"
      }
    },
    {
      "cell_type": "markdown",
      "source": [],
      "metadata": {
        "id": "38_7vLvVNKQJ"
      }
    },
    {
      "cell_type": "code",
      "source": [],
      "metadata": {
        "id": "7OxMr1arNJrg"
      },
      "execution_count": null,
      "outputs": []
    },
    {
      "cell_type": "markdown",
      "source": [],
      "metadata": {
        "id": "lkMt9CEzNK1x"
      }
    },
    {
      "cell_type": "code",
      "source": [],
      "metadata": {
        "id": "Gm1G3PsJNK_D"
      },
      "execution_count": null,
      "outputs": []
    }
  ]
}