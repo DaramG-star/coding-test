{
  "nbformat": 4,
  "nbformat_minor": 0,
  "metadata": {
    "colab": {
      "provenance": [],
      "authorship_tag": "ABX9TyPDlmWoiUq7nbtoQUBXT73A",
      "include_colab_link": true
    },
    "kernelspec": {
      "name": "python3",
      "display_name": "Python 3"
    },
    "language_info": {
      "name": "python"
    }
  },
  "cells": [
    {
      "cell_type": "markdown",
      "metadata": {
        "id": "view-in-github",
        "colab_type": "text"
      },
      "source": [
        "<a href=\"https://colab.research.google.com/github/DaramG-star/coding-test/blob/main/%EB%AC%B8%EC%96%B4%EB%B0%95%EC%82%AC_IM_%EB%8C%80%EB%B9%84.ipynb\" target=\"_parent\"><img src=\"https://colab.research.google.com/assets/colab-badge.svg\" alt=\"Open In Colab\"/></a>"
      ]
    },
    {
      "cell_type": "markdown",
      "source": [
        "## 1206. View\n",
        "\n",
        "강변에 빌딩들이 옆으로 빽빽하게 밀집한 지역이 있다.\n",
        "\n",
        "이곳에서는 빌딩들이 너무 좌우로 밀집하여, 강에 대한 조망은 모든 세대에서 좋지만 왼쪽 또는 오른쪽 창문을 열었을 때 바로 앞에 옆 건물이 보이는 경우가 허다하였다.\n",
        "\n",
        "그래서 이 지역에서는 왼쪽과 오른쪽으로 창문을 열었을 때, 양쪽 모두 거리 2 이상의 공간이 확보될 때 조망권이 확보된다고 말한다.\n",
        "\n",
        "빌딩들에 대한 정보가 주어질 때, 조망권이 확보된 세대의 수를 반환하는 프로그램을 작성하시오.\n",
        "\n",
        "아래와 같이 강변에 8채의 빌딩이 있을 때, 연두색으로 색칠된 여섯 세대에서는 좌우로 2칸 이상의 공백이 존재하므로 조망권이 확보된다. 따라서 답은 6이 된다.\n",
        "\n",
        "\n",
        "\n",
        "A와 B로 표시된 세대의 경우는 왼쪽 조망은 2칸 이상 확보가 되었지만 오른쪽 조망은 한 칸 밖에 확보가 되지 않으므로 조망권을 확보하지 못하였다.\n",
        "\n",
        "C의 경우는 반대로 오른쪽 조망은 2칸이 확보가 되었지만 왼쪽 조망이 한 칸 밖에 확보되지 않았다.\n",
        "\n",
        "[제약 사항]\n",
        "\n",
        "가로 길이는 항상 1000이하로 주어진다.\n",
        "\n",
        "맨 왼쪽 두 칸과 맨 오른쪽 두 칸에는 건물이 지어지지 않는다. (예시에서 빨간색 땅 부분)\n",
        "\n",
        "각 빌딩의 높이는 최대 255이다.\n",
        "\n",
        "[입력]\n",
        "\n",
        "총 10개의 테스트케이스가 주어진다.\n",
        "\n",
        "각 테스트케이스의 첫 번째 줄에는 건물의 개수 N이 주어진다. (4 ≤ N ≤ 1000)\n",
        "\n",
        "그 다음 줄에는 N개의 건물의 높이가 주어진다. (0 ≤ 각 건물의 높이 ≤ 255)\n",
        "\n",
        "맨 왼쪽 두 칸과 맨 오른쪽 두 칸에 있는 건물은 항상 높이가 0이다. (예시에서 빨간색 땅 부분)"
      ],
      "metadata": {
        "id": "Pp5TF7WdeQmZ"
      }
    },
    {
      "cell_type": "markdown",
      "source": [
        "### 다람쥐 풀이"
      ],
      "metadata": {
        "id": "keTtubXHe43U"
      }
    },
    {
      "cell_type": "code",
      "execution_count": null,
      "metadata": {
        "id": "nskhuFsVkE11"
      },
      "outputs": [],
      "source": [
        "T = 10\n",
        "for t in range(1, T+1):\n",
        "    N = int(input()) # 빌딩의 갯수\n",
        "    building = list(map(int, input().split())) # 빌딩의 높이 받기\n",
        "    light = 0 # 조망권 저장용용\n",
        "\n",
        "    # 빌딩 중 양쪽 2칸은 빼고 돌려도 됨.\n",
        "    for i in range(2, N-2): #양쪽 두 칸 빼기\n",
        "        M_build = max(building[i-2], building[i-1],building[i+1],building[i+2]) #빌딩 양쪽 2칸의 max값 확보\n",
        "        if building[i] > M_build: #양쪽 두 칸보다 빌딩이 더 높다면\n",
        "            light += building[i] - M_build # 빌딩 높이 - 양쪽 중 제일 높은 값을 조망권에 더함\n",
        "\n",
        "    print(f\"#{t} {light}\")"
      ]
    },
    {
      "cell_type": "markdown",
      "source": [
        "### 문어박사 풀이"
      ],
      "metadata": {
        "id": "C8bFxOlze7h_"
      }
    },
    {
      "cell_type": "code",
      "source": [
        "T = 10\n",
        "for t in range(1, T+1):\n",
        "    N = int(input()) # 빌딩의 갯수\n",
        "    building = list(map(int, input().split())) # 빌딩의 높이 받기\n",
        "    ans = 0\n",
        "\n",
        "    for i in range(2, N-2):\n",
        "        mx = max(lst[i-2:i] + lst[i+1:i+3])\n",
        "\n",
        "        if lst[i] > mx:\n",
        "            ans += lst[i] - mx\n",
        "\n",
        "    print(f\"#{t} {ans}\")"
      ],
      "metadata": {
        "id": "NargU_Zbe9Fb"
      },
      "execution_count": null,
      "outputs": []
    },
    {
      "cell_type": "markdown",
      "source": [
        "## 1208. [S/W 문제해결 기본] 1일차 - Flatten\n",
        "\n",
        "한 쪽 벽면에 다음과 같이 노란색 상자들이 쌓여 있다.\n",
        "\n",
        "높은 곳의 상자를 낮은 곳에 옮기는 방식으로 최고점과 최저점의 간격을 줄이는 작업을 평탄화라고 한다.\n",
        "\n",
        "평탄화를 모두 수행하고 나면, 가장 높은 곳과 가장 낮은 곳의 차이가 최대 1 이내가 된다.\n",
        "\n",
        "평탄화 작업을 위해서 상자를 옮기는 작업 횟수에 제한이 걸려있을 때, 제한된 횟수만큼 옮기는 작업을 한 후 최고점과 최저점의 차이를 반환하는 프로그램을 작성하시오.\n",
        "\n",
        "\n",
        "\n",
        "\n",
        "가장 높은 곳에 있는 상자를 가장 낮은 곳으로 옮기는 작업을 덤프라고 정의한다.\n",
        "\n",
        "위의 예시에서 제1회 덤프를 수행한 이후 화면은 다음과 같다.\n",
        "\n",
        "\n",
        "\n",
        "A부분의 상자를 가장 낮은 B부분에 덤프하였으며, A대신 A’부분의 상자를 사용해도 무방하다.\n",
        "\n",
        "다음은 제2회 덤프를 수행한 이후의 화면이다.\n",
        "\n",
        "\n",
        "\n",
        "A’부분의 상자를 옮겨서, C부분에 덤프하였다. 이때 C 대신 C’부분에 덤프해도 무방하다.\n",
        "\n",
        "2회의 덤프 후, 최고점과 최저점의 차이는 8 – 2 = 6 이 되었다 (최초덤프 이전에는 9 – 1 = 8 이었다).\n",
        "\n",
        "덤프 횟수가 2회로 제한된다면, 이 예시 문제의 정답은 6이 된다.\n",
        "\n",
        "[제약 사항]\n",
        "\n",
        "가로 길이는 항상 100으로 주어진다.\n",
        "\n",
        "모든 위치에서 상자의 높이는 1이상 100이하로 주어진다.\n",
        "\n",
        "덤프 횟수는 1이상 1000이하로 주어진다.\n",
        "\n",
        "주어진 덤프 횟수 이내에 평탄화가 완료되면 더 이상 덤프를 수행할 수 없으므로 그 때의 최고점과 최저점의 높이 차를 반환한다 (주어진 data에 따라 0 또는 1이 된다).\n",
        "\n",
        "[입력]\n",
        "\n",
        "총 10개의 테스트 케이스가 주어지며, 각 테스트 케이스의 첫 번째 줄에는 덤프 횟수가 주어진다. 그리고 다음 줄에 각 상자의 높이값이 주어진다.\n",
        "\n",
        "[출력]\n",
        "\n",
        "'#'부호와 함께 테스트 케이스의 번호를 출력하고, 공백 문자 후 테스트 케이스의 최고점과 최저점의 높이 차를 출력한다."
      ],
      "metadata": {
        "id": "-7Ky55VHlj8C"
      }
    },
    {
      "cell_type": "markdown",
      "source": [
        "### 다람쥐 풀이"
      ],
      "metadata": {
        "id": "PQ97RtpYmn14"
      }
    },
    {
      "cell_type": "code",
      "source": [
        "T = 10 # 테스트케이스 10개\n",
        "for t in range(1, T+1):\n",
        "    dump = int(input()) # 덤프 횟수\n",
        "    box = list(map(int, input().split())) #박스의 높이 받기\n",
        "\n",
        "    for i in range(dump): # 덤프 횟수만큼 max값 1 빼고 min 값 1 더하기\n",
        "        if max(box) - min(box) > 1: # 1보다 최고점 최저점 높이차가 있는지 확인해야함.\n",
        "            max_box = box.index(max(box))\n",
        "            min_box = box.index(min(box))\n",
        "\n",
        "            box[max_box] -=1\n",
        "            box[min_box] +=1\n",
        "\n",
        "    print(f\"#{t} {max(box) - min(box)}\")"
      ],
      "metadata": {
        "id": "hsKFS6NllkHO"
      },
      "execution_count": null,
      "outputs": []
    },
    {
      "cell_type": "markdown",
      "source": [
        "### 문어박사 풀이"
      ],
      "metadata": {
        "id": "bMwuxSnelkTA"
      }
    },
    {
      "cell_type": "code",
      "source": [
        "T = 10 # 테스트케이스 10개\n",
        "for t in range(1, T+1):\n",
        "    dump = int(input()) # 덤프 횟수\n",
        "    box = list(map(int, input().split())) #박스의 높이 받기\n",
        "    ans\n",
        "\n",
        "    for _ in range(dump):\n",
        "        if max(box) - min(box) > 1:\n",
        "            box.sort() # 아예 정렬을 해버림\n",
        "            box[0] += 1\n",
        "            box[-1] -= 1\n",
        "\n",
        "    print(f\"#{t} {max(box) - min(box)}\")"
      ],
      "metadata": {
        "id": "CGwGd4b0lkcd"
      },
      "execution_count": null,
      "outputs": []
    },
    {
      "cell_type": "markdown",
      "source": [
        "## 1954. 달팽이 숫자\n",
        "\n",
        "달팽이는 1부터 N*N까지의 숫자가 시계방향으로 이루어져 있다.\n",
        "\n",
        "다음과 같이 정수 N을 입력 받아 N크기의 달팽이를 출력하시오.\n",
        "\n",
        "\n",
        "[예제]\n",
        "\n",
        "N이 3일 경우,\n",
        "\n",
        "\n",
        "\n",
        "\n",
        "N이 4일 경우,\n",
        "\n",
        "\n",
        "\n",
        "[제약사항]\n",
        "\n",
        "달팽이의 크기 N은 1 이상 10 이하의 정수이다. (1 ≤ N ≤ 10)\n",
        "\n",
        "\n",
        "[입력]\n",
        "\n",
        "가장 첫 줄에는 테스트 케이스의 개수 T가 주어지고, 그 아래로 각 테스트 케이스가 주어진다.\n",
        "\n",
        "각 테스트 케이스에는 N이 주어진다.\n",
        "\n",
        "\n",
        "[출력]\n",
        "\n",
        "각 줄은 '#t'로 시작하고, 다음 줄부터 빈칸을 사이에 두고 달팽이 숫자를 출력한다.\n",
        "\n",
        "(t는 테스트 케이스의 번호를 의미하며 1부터 시작한다.)"
      ],
      "metadata": {
        "id": "usN4PBppqzbT"
      }
    },
    {
      "cell_type": "markdown",
      "source": [
        "### 다람쥐 풀이"
      ],
      "metadata": {
        "id": "1dNBoovIq4GH"
      }
    },
    {
      "cell_type": "code",
      "source": [
        "T = int(input())\n",
        "for t in range(1, T + 1):\n",
        "    N = int(input())  # 크기 입력받기\n",
        "    x, y = 0, 0  # 처음 시작하는 좌표\n",
        "    num = 1  # 처음 입력할 숫자\n",
        "    d = 0  # 방향전환용 d\n",
        "    snail = [[0] * N for _ in range(N)]  # 2D 배열 올바르게 초기화\n",
        "    dx = [0, 1, 0, -1]  # 우, 하, 좌, 상 방향\n",
        "    dy = [1, 0, -1, 0]\n",
        "\n",
        "    for _ in range(N * N):  # 몇 번 이동할 건지 (총 N*N번)\n",
        "        snail[x][y] = num  # 현재 위치에 숫자 입력\n",
        "        num += 1  # 다음 숫자 증가\n",
        "\n",
        "        # 다음 이동할 좌표 계산\n",
        "        nx, ny = x + dx[d], y + dy[d]\n",
        "\n",
        "        # 만약 배열 범위를 벗어나거나 이미 숫자가 있는 경우 → 방향 전환\n",
        "        if not (0 <= nx < N and 0 <= ny < N and snail[nx][ny] == 0):\n",
        "            d = (d + 1) % 4  # 방향 변경\n",
        "            nx, ny = x + dx[d], y + dy[d]  # 새로운 방향으로 이동\n",
        "\n",
        "        x, y = nx, ny  # 좌표 업데이트\n",
        "\n",
        "    # 출력\n",
        "    print(f\"#{t}\")\n",
        "    for row in snail:\n",
        "        print(\" \".join(map(str, row)))"
      ],
      "metadata": {
        "id": "5iN5NLkJqyn5"
      },
      "execution_count": null,
      "outputs": []
    },
    {
      "cell_type": "code",
      "source": [
        "T = int(input())\n",
        "for t in range(1, T + 1):\n",
        "    N = int(input())  # 크기 입력받기\n",
        "    x, y = 0, 0  # 처음 시작하는 좌표\n",
        "    num = 1  # 처음 입력할 숫자\n",
        "    d = 0  # 방향전환용 d\n",
        "    snail = [[0] * N for _ in range(N)]  # 2D 배열 초기화\n",
        "    dx = [0, 1, 0, -1]  # 우, 하, 좌, 상 방향\n",
        "    dy = [1, 0, -1, 0]\n",
        "\n",
        "    while num <= N * N:  # 총 N*N번 숫자를 입력할 때까지 반복\n",
        "        snail[x][y] = num  # 현재 위치에 숫자 입력\n",
        "        num += 1  # 다음 숫자 증가\n",
        "\n",
        "        # 다음 이동할 좌표 계산\n",
        "        nx, ny = x + dx[d], y + dy[d]\n",
        "\n",
        "        # 만약 배열 범위를 벗어나거나 이미 숫자가 있는 경우 → 방향 전환\n",
        "        if not (0 <= nx < N and 0 <= ny < N and snail[nx][ny] == 0):\n",
        "            d = (d + 1) % 4  # 방향 변경\n",
        "            nx, ny = x + dx[d], y + dy[d]  # 새로운 방향으로 이동\n",
        "\n",
        "        x, y = nx, ny  # 좌표 업데이트\n",
        "\n",
        "    # 출력\n",
        "    print(f\"#{t}\")\n",
        "    for row in snail:\n",
        "        print(\" \".join(map(str, row)))"
      ],
      "metadata": {
        "id": "nT2cGjfvwPyg"
      },
      "execution_count": null,
      "outputs": []
    },
    {
      "cell_type": "markdown",
      "source": [
        "### 문어박사 풀이"
      ],
      "metadata": {
        "id": "WJIZBslYq4qo"
      }
    },
    {
      "cell_type": "code",
      "source": [
        "T = int(input())\n",
        "\n",
        "for t in range(1, T + 1):\n",
        "    N = int(input())  # 크기 입력받기\n",
        "    arr = [[0] * N for _ in range(N)]\n",
        "    x, y, cnt, d = 0, 0, 1, 0\n",
        "    arr[x][y] = cnt\n",
        "    cnt += 1\n",
        "\n",
        "    dx = [0, 1, 0, -1] # 우하좌상\n",
        "    dy = [1, 0, -1, 0]\n",
        "\n",
        "    while cnt <= N*N:\n",
        "        nx, ny = x + dx[d], y + dy[d]\n",
        "\n",
        "        if 0 <= nx < N and 0 <= ny < N and arr[nx][ny] == 0:\n",
        "            x, y = nx, ny\n",
        "            arr[x][y] = cnt\n",
        "            cnt += 1\n",
        "\n",
        "        else:\n",
        "            d = (d+1)%4\n",
        "\n",
        "    print(f\"{t}\")\n",
        "    for lst in arr:\n",
        "        print(*lst)\n"
      ],
      "metadata": {
        "id": "llVtxX_9q40i"
      },
      "execution_count": null,
      "outputs": []
    },
    {
      "cell_type": "markdown",
      "source": [
        "## 1209. [S/W 문제해결 기본] 2일차 - Sum\n",
        "\n",
        "다음 100X100의 2차원 배열이 주어질 때, 각 행의 합, 각 열의 합, 각 대각선의 합 중 최댓값을 구하는 프로그램을 작성하여라.\n",
        "\n",
        "다음과 같은 5X5 배열에서 최댓값은 29이다.\n",
        "\n",
        "\n",
        "\n",
        "[제약 사항]\n",
        "\n",
        "총 10개의 테스트 케이스가 주어진다.\n",
        "\n",
        "배열의 크기는 100X100으로 동일하다.\n",
        "\n",
        "각 행의 합은 integer 범위를 넘어가지 않는다.\n",
        "\n",
        "동일한 최댓값이 있을 경우, 하나의 값만 출력한다.\n",
        "\n",
        "[입력]\n",
        "\n",
        "각 테스트 케이스의 첫 줄에는 테스트 케이스 번호가 주어지고 그 다음 줄부터는 2차원 배열의 각 행 값이 주어진다.\n",
        "\n",
        "[출력]\n",
        "\n",
        "'#'부호와 함께 테스트 케이스의 번호를 출력하고, 공백 문자 후 테스트 케이스의 답을 출력한다."
      ],
      "metadata": {
        "id": "e03AvHzF7HFD"
      }
    },
    {
      "cell_type": "markdown",
      "source": [
        "### 다람쥐 코드"
      ],
      "metadata": {
        "id": "4CRB9Qmk7Wx0"
      }
    },
    {
      "cell_type": "code",
      "source": [
        "T = 10\n",
        "for t in range(1, T+1):\n",
        "    no = int(input())\n",
        "    arr = [list(map(int, input().split())) for _ in range(100)]\n",
        "\n",
        "    # 각 행의 합 중 최댓값 구하기\n",
        "    row_arr = max(sum(row) for row in arr)\n",
        "\n",
        "    # 각 열의 합 중 최댓값 구하기\n",
        "    col_arr = max(sum(col) for col in zip(*arr))\n",
        "\n",
        "    # 왼쪽 대각선의 합\n",
        "    left = sum(arr[i][i] for i in range(100))\n",
        "\n",
        "    # 오른쪽 대각선의 합\n",
        "    right = sum(arr[i][99-i] for i in range(100))\n",
        "\n",
        "    max_value = max(row_arr, col_arr, left, right)\n",
        "\n",
        "    print(f\"{t} {max_value}\")"
      ],
      "metadata": {
        "id": "oAblIpRP7Gm1"
      },
      "execution_count": null,
      "outputs": []
    },
    {
      "cell_type": "markdown",
      "source": [
        "### 문어박사 코드"
      ],
      "metadata": {
        "id": "9z9n_lnF7XTX"
      }
    },
    {
      "cell_type": "code",
      "source": [
        "T = 10\n",
        "for t in range(1, T+1):\n",
        "    _ = int(input())\n",
        "    N = 100\n",
        "    arr = [list(map(int, input().split())) for _ in range(N)]\n",
        "\n",
        "    ans = s3 = s4 = 0\n",
        "    for i in range(N):\n",
        "        s1 = s2 = 0\n",
        "        for j in range(N):\n",
        "            s1 += arr[i][j] # 행의 합\n",
        "            s2 += arr[j][i] # 열의 합\n",
        "        ans = max(ans, s1, s2)\n",
        "\n",
        "        s3 += arr[i][i] # 왼쪽 대각선\n",
        "        s4 += arr[i][N-1-i] # 오른쪽 대각선\n",
        "    ans = max(ans, s3, s4)\n",
        "\n",
        "    print(f\"#{t} {ans}\")"
      ],
      "metadata": {
        "id": "Uw7_AbOy7X0S"
      },
      "execution_count": null,
      "outputs": []
    },
    {
      "cell_type": "markdown",
      "source": [
        "## 전기버스\n",
        "\n",
        "A도시는 전기버스를 운행하려고 한다. 전기버스는 한번 충전으로 이동할 수 있는 정류장 수가 정해져 있어서, 중간에 충전기가 설치된 정류장을 만들기로 했다.\n",
        "\n",
        "버스는 0번에서 출발해 종점인 N번 정류장까지 이동하고, 한번 충전으로 최대한 이동할 수 있는 정류장 수 K가 정해져 있다.\n",
        "\n",
        "충전기가 설치된 M개의 정류장 번호가 주어질 때, 최소한 몇 번의 충전을 해야 종점에 도착할 수 있는지 출력하는 프로그램을 만드시오.\n",
        "\n",
        "만약 충전기 설치가 잘못되어 종점에 도착할 수 없는 경우는 0을 출력한다. 출발지에는 항상 충전기가 설치되어 있지만 충전횟수에는 포함하지 않는다.\n",
        "\n",
        "\n",
        "\n",
        "[예시]\n",
        "\n",
        "\n",
        "\n",
        "다음은 K = 3, N = 10, M = 5, 충전기가 설치된 정류장이 1, 3, 5, 7, 9인 경우의 예이다.\n",
        "\n",
        "\n",
        "\n",
        "[입력]\n",
        "\n",
        "\n",
        "첫 줄에 노선 수 T가 주어진다.  ( 1 ≤ T ≤ 50 )\n",
        "\n",
        "\n",
        "각 노선별로 K, N, M이 주어지고, 다음줄에 M개의 정류장 번호가 주어진다. ( 1 ≤ K, N, M ≤ 100 )\n",
        "\n",
        "\n",
        "[출력]\n",
        "\n",
        "\n",
        "'#'과 노선번호, 빈칸에 이어 최소 충전횟수 또는 0을 출력한다.\n",
        "\n"
      ],
      "metadata": {
        "id": "vxhuPv2vNlJ2"
      }
    },
    {
      "cell_type": "markdown",
      "source": [
        "### 다람쥐 코드"
      ],
      "metadata": {
        "id": "QEy4K7g3OlRQ"
      }
    },
    {
      "cell_type": "code",
      "source": [
        "def solve(charge, k, n, m):\n",
        "    charge = [0] + charge + [n]\n",
        "\n",
        "    last = 0\n",
        "    cnt = 0\n",
        "    for i in range(1, m+2):\n",
        "        if charge[i] - charge[i-1] > k:\n",
        "            return 0\n",
        "        if charge[i] > last + k:\n",
        "            last = charge[i - 1]\n",
        "            cnt += 1\n",
        "    return cnt\n",
        "\n",
        "T = int(input())\n",
        "for tc in range(1, T+1):\n",
        "    K, N, M = list(map(int, input().split()))\n",
        "    charge = list(map(int, input().split()))\n",
        "    ans = solve(charge, K, N, M)\n",
        "    print(f'#{tc} {ans}')"
      ],
      "metadata": {
        "id": "Lv7bVwOpNlUL"
      },
      "execution_count": null,
      "outputs": []
    },
    {
      "cell_type": "markdown",
      "source": [
        "### 문어박사 코드"
      ],
      "metadata": {
        "id": "v1njKKlMNlcg"
      }
    },
    {
      "cell_type": "code",
      "source": [
        "T = int(input())\n",
        "for t in range(1, T+1):\n",
        "    K, N, M = list(map(int, input().split()))\n",
        "    charge = [0] + list(map(int, input().split())) + [N]\n",
        "\n",
        "    start = ans = 0\n",
        "    for i in range(1, M+2):\n",
        "        if charge[i] - charge[i-1] > K:\n",
        "            ans = 0\n",
        "            break\n",
        "\n",
        "        if charge[i] - start > K:\n",
        "            start = charge[i-1]\n",
        "            ans +=1\n",
        "\n",
        "    print(f\"{t} {ans}\")\n"
      ],
      "metadata": {
        "id": "8a3Q-O3GNlkk"
      },
      "execution_count": null,
      "outputs": []
    },
    {
      "cell_type": "markdown",
      "source": [
        "## Ladder 1\n",
        "\n",
        "점심 시간에 산책을 다니는 사원들은 최근 날씨가 더워져, 사다리 게임을 통하여 누가 아이스크림을 구입할지 결정하기로 한다.\n",
        "\n",
        "김 대리는 사다리타기에 참여하지 않는 대신 사다리를 그리기로 하였다.\n",
        "\n",
        "사다리를 다 그리고 보니 김 대리는 어느 사다리를 고르면 X표시에 도착하게 되는지 궁금해졌다. 이를 구해보자.\n",
        "\n",
        "아래 <그림 1>의 예를 살펴보면, 출발점 x=0 및 x=9인 세로 방향의 두 막대 사이에 임의의 개수의 막대들이 랜덤 간격으로 추가되고(이 예에서는 2개가 추가됨) 이 막대들 사이에 가로 방향의 선들이 또한 랜덤하게 연결된다.\n",
        "\n",
        "X=0인 출발점에서 출발하는 사례에 대해서 화살표로 표시한 바와 같이, 아래 방향으로 진행하면서 좌우 방향으로 이동 가능한 통로가 나타나면 방향 전환을 하게 된다.\n",
        "\n",
        "방향 전환 이후엔 다시 아래 방향으로만 이동하게 되며, 바닥에 도착하면 멈추게 된다.\n",
        "\n",
        "문제의 X표시에 도착하려면 X=4인 출발점에서 출발해야 하므로 답은 4가 된다. 해당 경로는 별도로 표시하였다.\n",
        "\n",
        "\n",
        "\n",
        "<그림 1> 사다리 게임에 대한 설명 (미니맵)\n",
        "\n",
        "아래 <그림 2>와 같은 100 x 100 크기의 2차원 배열로 주어진 사다리에 대해서, 지정된 도착점에 대응되는 출발점 X를 반환하는 코드를 작성하라 (‘0’으로 채워진 평면상에 사다리는 연속된 ‘1’로 표현된다. 도착 지점은 '2'로 표현된다).\n",
        "\n",
        "\n",
        "<그림 2> 테스트 케이스에 의해 생성되는 실제 사다리의 모습\n",
        "\n",
        "[제약 사항]\n",
        "\n",
        "한 막대에서 출발한 가로선이 다른 막대를 가로질러서 연속하여 이어지는 경우는 없다.\n",
        "\n",
        "[입력]\n",
        "\n",
        "입력 파일의 첫 번째 줄에는 테스트 케이스의 번호가 주어지며, 바로 다음 줄에 테스트 케이스가 주어진다.\n",
        "\n",
        "총 10개의 테스트 케이스가 주어진다.\n",
        "\n",
        "[출력]\n",
        "\n",
        "'#'부호와 함께 테스트 케이스의 번호를 출력하고, 공백 문자 후 도착하게 되는 출발점의 x좌표를 출력한다."
      ],
      "metadata": {
        "id": "smg5PtIdOpkI"
      }
    },
    {
      "cell_type": "markdown",
      "source": [
        "### 다람쥐 코드"
      ],
      "metadata": {
        "id": "Sa_WdchUOqnh"
      }
    },
    {
      "cell_type": "code",
      "source": [
        "for _ in range(10):  # 총 10개의 테스트 케이스\n",
        "    T = int(input())  # 테스트 케이스 번호 (사용 X)\n",
        "    ladder = [list(map(int, input().split())) for _ in range(100)]  # 100x100 사다리 입력\n",
        "\n",
        "    # 도착 지점(2) 찾기\n",
        "    row, col = 99, ladder[99].index(2)  # 2가 있는 곳 (도착 지점)\n",
        "\n",
        "    # 델타 탐색 방향 (좌, 우, 상)\n",
        "    dx = [0, 0, -1]  # 행 이동 (좌우 이동 없음, 위로만 이동)\n",
        "    dy = [-1, 1, 0]  # 열 이동 (좌, 우, 위)\n",
        "\n",
        "    # 사다리를 타고 올라가면서 출발점 찾기\n",
        "    while row > 0:  # 최상단(0번째 행) 도착할 때까지 반복\n",
        "        for d in range(2):  # 좌(-1), 우(+1) 먼저 탐색\n",
        "            ny = col + dy[d]\n",
        "            if 0 <= ny < 100 and ladder[row][ny] == 1:  # 이동 가능하면\n",
        "                while 0 <= ny < 100 and ladder[row][ny] == 1:  # 같은 방향으로 계속 이동\n",
        "                    col = ny\n",
        "                    ny += dy[d]  # 왼쪽 or 오른쪽으로 한 칸 더 이동\n",
        "                break  # 좌우 이동 후 위로 이동해야 하므로 종료\n",
        "        row -= 1  # 위로 이동\n",
        "\n",
        "    # 최상단에서의 `col` 값이 정답 (출발점)\n",
        "    print(f\"#{t} {col}\")\n"
      ],
      "metadata": {
        "id": "6udLbquuOo1M"
      },
      "execution_count": null,
      "outputs": []
    },
    {
      "cell_type": "markdown",
      "source": [
        "### 문어박사 코드"
      ],
      "metadata": {
        "id": "6edWSR36QvRy"
      }
    },
    {
      "cell_type": "code",
      "source": [
        "for _ in range(10):  # 총 10개의 테스트 케이스\n",
        "    T = int(input())  # 테스트 케이스 번호 (사용 X)\n",
        "    ladder = [list(map(int, input().split())) for _ in range(100)]  # 100x100 사다리 입력\n",
        "\n",
        "    # 도착 지점 찾기\n",
        "    row, col = 99, ladder[99].index(2)\n",
        "\n",
        "    # 델타 탐색 방향\n",
        "    dy = [-1, 1] # 좌, 우\n",
        "\n",
        "    while row > 0:\n",
        "        for d in range(2):\n",
        "            ny = col + dy[d]\n",
        "            if 0 <= ny < N and ladder[row][ny] == 1:\n",
        "                while 0 <= ny < N and ladder[row][ny] ==1:\n",
        "                    col = ny\n",
        "                    ny += dy[d]\n",
        "                break\n",
        "        row = -1\n",
        "\n",
        "    print(f\"#{t} {col}\")"
      ],
      "metadata": {
        "id": "2nW9pGvMQuwi"
      },
      "execution_count": null,
      "outputs": []
    },
    {
      "cell_type": "markdown",
      "source": [
        "## 1211. [S/W 문제해결 기본] 2일차 - Ladder2\n",
        "\n",
        "점심 시간에 산책을 다니는 사원들은 최근 날씨가 더워져, 사다리 게임을 통하여 누가 아이스크림을 구입할지 결정하기로 한다.\n",
        "\n",
        "김 대리는 사다리타기에 참여하지 않는 대신 사다리를 그리기로 하였다.\n",
        "\n",
        "사다리를 다 그리고 보니 김 대리는 어느 사다리를 고르면 최단거리로 바닥에 도착하게 되는지 궁금해졌다. 이를 구해보자.\n",
        "\n",
        "아래 <그림 1>의 예를 살펴보면, 출발점 x=0 및 x=9인 세로 방향의 두 막대 사이에 임의의 개수의 막대들이 랜덤 간격으로 추가되고(이 예에서는 2개가 추가됨) 이 막대들 사이에 가로 방향의 선들이 또한 랜덤하게 연결된다.\n",
        "\n",
        "X=0인 출발점에서 출발하는 사례에 대해서 화살표로 표시한 바와 같이, 아래 방향으로 진행하면서 좌우 방향으로 이동 가능한 통로가 나타나면 방향 전환을 하게 된다.\n",
        "\n",
        "방향 전환 이후엔 다시 아래 방향으로만 이동하게 되며, 바닥에 도착하면 멈추게 된다.\n",
        "\n",
        "최단거리로 바닥에 도착하려면 X=4인 출발점에서 출발해야 하므로 답은 4가 된다. 해당 경로는 별도로 표시하였다.\n",
        "\n",
        "\n",
        "\n",
        "<그림 1> 사다리 게임에 대한 설명(미니맵)\n",
        "\n",
        "아래 <그림 2>와 같은 100 x 100 크기의 2차원 배열로 주어진 사다리에 대해서, 모든 출발점을 검사하여 바닥까지 가장 짧은 이동 거리를 갖는 시작점 x(복수 개인 경우 가장 큰 x좌표)를 반환하는 코드를 작성하라.(‘0’으로 채워진 평면상에 사다리는 연속된 ‘1’로 표현된다.)\n",
        "\n",
        "\n",
        "<그림 2> 테스트케이스에 의해 생성되는 실제 사다리의 모습\n",
        "\n",
        "[제약사항]\n",
        "\n",
        "한 막대에서 출발한 가로선이 다른 막대를 가로질러서 연속하여 이어지는 경우는 없다.\n",
        "\n",
        "[입력]\n",
        "\n",
        "각 테스트 케이스의 첫 번째 줄에는 테스트 케이스의 번호가 주어지며, 바로 다음 줄에 테스트 케이스가 주어진다.\n",
        "\n",
        "총 10개의 테스트 케이스가 주어진다.\n",
        "\n",
        "[출력]\n",
        "\n",
        "'#'부호와 함께 테스트 케이스의 번호를 출력하고, 공백 문자 후 도착하게 되는 출발점의 x좌표를 출력한다.\n"
      ],
      "metadata": {
        "id": "TaoY5_NHVV05"
      }
    },
    {
      "cell_type": "markdown",
      "source": [
        "### 다람쥐 코드"
      ],
      "metadata": {
        "id": "xqCMWLNvVXVk"
      }
    },
    {
      "cell_type": "code",
      "source": [
        "for t in range(1, 11):\n",
        "    _ = int(input())\n",
        "    ladder = [list(map(int, input().split())) for _ in range(100)]\n",
        "\n",
        "    # 출발점 찾기\n",
        "    start_points = [col for col in range(100) if ladder[0][col] == 1]\n",
        "    min_distance = float('inf')\n",
        "    dy = [-1, 1]\n",
        "    best_start = -1\n",
        "\n",
        "    # 모든 출발점 검사\n",
        "    for start in start_points:\n",
        "        row, col = 0, start\n",
        "        distance = 0\n",
        "\n",
        "        while row < 99:  # 바닥까지 이동\n",
        "\n",
        "            # 좌우 먼저 탐색\n",
        "            for d in range(2):\n",
        "                ny = col + dy[d]\n",
        "                if 0 <= ny < 100 and ladder[row][ny] == 1:\n",
        "                    while 0 <= ny < 100 and ladder[row][ny] == 1:\n",
        "                        col = ny\n",
        "                        ny += dy[d]\n",
        "                        distance += 1\n",
        "                    break  # 좌우 이동 후 아래로 이동해야 하므로 종료\n",
        "\n",
        "            row += 1  #while 문 안에서 row 값을 증가해야 정상 동작!\n",
        "\n",
        "        # 최단거리 출발점 업데이트\n",
        "        if distance < min_distance or (distance == min_distance and start > best_start):\n",
        "            min_distance = distance\n",
        "            best_start = start\n",
        "\n",
        "    print(f\"#{t} {best_start}\")  # 최단 거리 출발점 출력\n"
      ],
      "metadata": {
        "id": "yXIQyPlkVV_E"
      },
      "execution_count": null,
      "outputs": []
    },
    {
      "cell_type": "markdown",
      "source": [
        "### 문어박사 코드"
      ],
      "metadata": {
        "id": "6mYFfqooVWNh"
      }
    },
    {
      "cell_type": "code",
      "source": [],
      "metadata": {
        "id": "tpihPWRfVWYH"
      },
      "execution_count": null,
      "outputs": []
    },
    {
      "cell_type": "markdown",
      "source": [
        "## 4408. 자기 방으로 돌아가기\n",
        "\n",
        "고등학교 학생들이 학교에서 수련회를 갔다. 수련회에 간 학생들은 친구들과 음주가무를 즐기다가 밤 12시가 되자 조교들의 눈을 피해 자기방으로 돌아가려고 한다.\n",
        "\n",
        "제 시간에 자기방으로 돌아가지 못한 학생이 한 명이라도 발견되면 큰일나기 때문에 최단 시간에 모든 학생이 자신의 방으로 돌아가려고 한다.\n",
        "\n",
        "숙소는 긴 복도를 따라 총 400개의 방이 다음과 같이 배열되어 있다.\n",
        "\n",
        "\n",
        "\n",
        "모든 학생들은 현재 위치에서 자신의 방으로 돌아가려고 하는데, 만약 두 학생이 자기방으로 돌아가면서 지나는 복도의 구간이 겹치면 두 학생은 동시에 돌아갈 수 없다.\n",
        "\n",
        "예를 들어 (방1 -> 4) 와 (방3 -> 6) 은 복도 구간이 겹치므로 한 사람은 기다렸다가 다음 차례에 이동해야 한다. 이동하는 데에는 거리에 관계없이 단위 시간이 걸린다고 하자.\n",
        "\n",
        "각 학생들의 현재 방 위치와 돌아가야 할 방의 위치의 목록이 주어질 때, 최소 몇 단위시간만에 모든 학생들이 이동할 수 있는지를 구하시오.\n",
        "\n",
        "\n",
        "[입력]\n",
        "입력은 T(≤10)개의 테스트 케이스로 되어 있다. 각 테스트 케이스의 첫 줄에는 돌아가야 할 학생들의 수 N이 주어진다.\n",
        "\n",
        "다음 N 줄에는 각 학생의 현재 방 번호(≤400)와 돌아가야 할 방의 번호(≤400)가 주어진다. 주어지는 2N개의 방 번호 중 중복되는 것은 없다.\n",
        "\n",
        "[출력]\n",
        "테스트 케이스 T에 대한 결과는 “#T ”을 찍고, 각 테스트 케이스마다 필요한 시간을 한 줄에 하나씩 출력한다."
      ],
      "metadata": {
        "id": "pqSukoEOaLl-"
      }
    },
    {
      "cell_type": "markdown",
      "source": [],
      "metadata": {
        "id": "EvSac2i-aN2X"
      }
    },
    {
      "cell_type": "code",
      "source": [],
      "metadata": {
        "id": "7l1UWi8XaLvI"
      },
      "execution_count": null,
      "outputs": []
    },
    {
      "cell_type": "markdown",
      "source": [],
      "metadata": {
        "id": "AgUK0yCjaL8D"
      }
    },
    {
      "cell_type": "code",
      "source": [],
      "metadata": {
        "id": "et0lyo4EaMfs"
      },
      "execution_count": null,
      "outputs": []
    },
    {
      "cell_type": "markdown",
      "source": [
        "## 1860. 진기의 최고급 붕어빵\n",
        "\n",
        "진기는 붕어빵 가게를 운영하고 있다.\n",
        "\n",
        "진기가 파는 붕어빵은 그냥 붕어빵이 아니라 겉은 바삭! 속은 말랑! 한입 물면 팥 앙금이 주르륵 흘러 입안에서 춤을 추며,\n",
        "\n",
        "절로 어릴 적 호호 불며 먹었던 뜨거운 붕어빵의 추억이 떠올라 눈물이 나오게 되는 최고급 붕어빵이다.\n",
        "\n",
        "진기는 이런 붕어빵을 보통 사람들에게는 팔지 않는다.\n",
        "\n",
        "그는 무조건 예약제로만 손님을 받으며, 예약을 하려는 손님들은 진기의 까다로운 자격 검증에서 합격해야만 붕어빵을 맛 볼 자격을 얻는다.\n",
        "\n",
        "그래서 오늘은 N명의 사람이 자격을 얻었다.\n",
        "\n",
        "진기는 0초부터 붕어빵을 만들기 시작하며, M초의 시간을 들이면 K개의 붕어빵을 만들 수 있다.\n",
        "\n",
        "서빙은 진기가 하는 것이 아니기 때문에, 붕어빵이 완성되면 어떤 시간 지연도 없이 다음 붕어빵 만들기를 시작할 수 있다.\n",
        "\n",
        "0초 이후에 손님들이 언제 도착하는지 주어지면, 모든 손님들에게 기다리는 시간없이 붕어빵을 제공할 수 있는지 판별하는 프로그램을 작성하라.\n",
        "\n",
        "\n",
        "[입력]\n",
        "\n",
        "첫 번째 줄에 테스트 케이스의 수 T가 주어진다.\n",
        "\n",
        "각 테스트 케이스의 첫 번째 줄에는 세 자연수 N, M, K(1 ≤ N, M, K ≤ 100)가 공백으로 구분되어 주어진다.\n",
        "\n",
        "두 번째 줄에는 N개의 정수가 공백으로 구분되어 주어지며,\n",
        "\n",
        "각 정수는 각 사람이 언제 도착하는지를 초 단위로 나타낸다. 각 수는 0이상 11,111이하이다.\n",
        "\n",
        "\n",
        "[출력]\n",
        "\n",
        "각 테스트 케이스마다 ‘#x’(x는 테스트케이스 번호를 의미하며 1부터 시작한다)를 출력하고,\n",
        "\n",
        "모든 손님에 대해 기다리는 시간이 없이 붕어빵을 제공할 수 있으면 “Possible”을, 아니라면 “Impossible”을 출력한다.\n",
        "\n",
        "\n",
        "[예제 풀이]\n",
        "\n",
        "2번째 테스트 케이스의 경우, 2초가 지날 때마다 붕어빵을 2개씩 만들 수 있다.\n",
        "\n",
        "하지만 손님 1명은 1초에 도착하므로 이 손님에게는 붕어빵을 바로 제공할 수 없다.\n",
        "\n",
        "따라서 결과값으로 Impossible 출력한다.\n",
        "\n"
      ],
      "metadata": {
        "id": "ghQaTIdeab3n"
      }
    },
    {
      "cell_type": "markdown",
      "source": [],
      "metadata": {
        "id": "ZBwF7-fmacCP"
      }
    },
    {
      "cell_type": "code",
      "source": [],
      "metadata": {
        "id": "sATIcmf_acOy"
      },
      "execution_count": null,
      "outputs": []
    }
  ]
}