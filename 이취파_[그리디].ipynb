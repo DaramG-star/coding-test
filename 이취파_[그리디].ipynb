{
  "nbformat": 4,
  "nbformat_minor": 0,
  "metadata": {
    "colab": {
      "provenance": [],
      "authorship_tag": "ABX9TyMP8oaJgq09WKkxIf8Q2qwH",
      "include_colab_link": true
    },
    "kernelspec": {
      "name": "python3",
      "display_name": "Python 3"
    },
    "language_info": {
      "name": "python"
    }
  },
  "cells": [
    {
      "cell_type": "markdown",
      "metadata": {
        "id": "view-in-github",
        "colab_type": "text"
      },
      "source": [
        "<a href=\"https://colab.research.google.com/github/DaramG-star/coding-test/blob/main/%EC%9D%B4%EC%B7%A8%ED%8C%8C_%5B%EA%B7%B8%EB%A6%AC%EB%94%94%5D.ipynb\" target=\"_parent\"><img src=\"https://colab.research.google.com/assets/colab-badge.svg\" alt=\"Open In Colab\"/></a>"
      ]
    },
    {
      "cell_type": "markdown",
      "source": [
        "## 그리디\n",
        "\n",
        "지금 당장 좋은 것만 고르는 방법\n",
        "\n",
        "탐욕적인 알고리즘\n",
        "\n",
        "'가장 큰 순서대로' 나 '가장 작은 순서대로' 라는 말이 있으면 그리디를 떠올릴 수 있음"
      ],
      "metadata": {
        "id": "dAkeCM1HWwS3"
      }
    },
    {
      "cell_type": "markdown",
      "source": [
        "### 예제 1. 거스름돈\n",
        "\n",
        "당신은 음식점의 계산을 도와주는 점원이다. 카운터에는 거스름돈으로 사용할 500원, 100원, 50원, 10원짜리 동전이 무한히 존재한다고 가정한다. 손님에게 거슬러 줘야 할 돈이 N원일 때 거슬러 줘야 할 동전의 최소 개수를 구하라. 단, 거슬러 줘야 할 돈 N은 항상 10의 배수이다."
      ],
      "metadata": {
        "id": "eoj3HWmXXD_X"
      }
    },
    {
      "cell_type": "code",
      "execution_count": 2,
      "metadata": {
        "colab": {
          "base_uri": "https://localhost:8080/"
        },
        "id": "mmW3XuUYTd3X",
        "outputId": "d23bba4b-3ba5-465c-9dea-4adfadd247e3"
      },
      "outputs": [
        {
          "output_type": "stream",
          "name": "stdout",
          "text": [
            "6\n"
          ]
        }
      ],
      "source": [
        "n = 1260\n",
        "count = 0\n",
        "\n",
        "# 큰 단위의 화폐부터 차례대로 확인\n",
        "coin_types = [500, 100, 50, 10]\n",
        "\n",
        "for coin in coin_types:\n",
        "    count += n // coin # 해당 화폐로 거슬러 줄 수 있는 동전의 개수 세기\n",
        "    n %= coin\n",
        "\n",
        "print(count)"
      ]
    },
    {
      "cell_type": "markdown",
      "source": [
        "## 예제 2. 큰 수의 법칙\n",
        "\n",
        "다양한 수로 이루어진 배열이 있을 때 주어진 수들을 M번 더하여 가장 큰 수를 만드는 법칙이다.\n",
        "예를 들어 순서대로 2, 4, 5, 4, 6으로 이루어진 배열이 있을 때 M이 8이고 K가 3이라고 가정하자. 이 경우 특정한 인덱스의 수가 연속해서 세 번까지만 더해질 수 있으므로 큰 수의 법칙에 따른 결과는 6+6+6+5+6+6+6+5인 46이 된다.\n",
        "단, 서로 다른 인덱스에 해당하는 수가 같은 경우에도 서로 다른 것으로 간주한다. 예를 들어 순서대로 3, 4, 3, 4, 3으로 이루어진 배열이 있을 때 M이 7이고, K가 2라고 가정하자. 이 경우 두 번째 원소에 해당하는 4와 네 번째 원소에 해당하는 4를 번갈아 두 번씩 더하는 것이 가능하다. 결과적으로 4+4+4+4+4+4+4인 28이 도출된다."
      ],
      "metadata": {
        "id": "5RhmCbEYZIev"
      }
    },
    {
      "cell_type": "markdown",
      "source": [],
      "metadata": {
        "id": "pocatXoGahzS"
      }
    },
    {
      "cell_type": "code",
      "source": [
        "#n(자연수 개수), m(수를 몇 번 더할지), k(최대 연속횟수)\n",
        "n, m, k = list(map(int, input().split()))\n",
        "data = list(map(int, input().split()))\n",
        "\n",
        "# 첫번째로 큰 수, 두번째로 큰 수만 저장하면 됨\n",
        "data.sort()\n",
        "first = data[n-1]\n",
        "second = data[n-2]\n",
        "\n",
        "result = 0\n",
        "while True:\n",
        "    for i in range(k): #가장 큰 수를 K번 더하기\n",
        "        if m == 0: #m이 0이면 break\n",
        "            break\n",
        "        result += first\n",
        "        m -= 1 #더할 때마다 1씩 줄어듬\n",
        "    if m == 0: #m이 0이면 break\n",
        "        break\n",
        "    result += second #두번쨰로 큰 수를 한 번 더하기\n",
        "    m -= 1 #더할 때마다 1씩 빼기\n",
        "\n",
        "print(result)\n"
      ],
      "metadata": {
        "colab": {
          "base_uri": "https://localhost:8080/"
        },
        "id": "veczK6auY7Lk",
        "outputId": "a063ea6d-cdf9-4797-a6ad-e48c32ad258f"
      },
      "execution_count": 6,
      "outputs": [
        {
          "output_type": "stream",
          "name": "stdout",
          "text": [
            "5 8 3\n",
            "2 4 5 4 6\n",
            "46\n"
          ]
        }
      ]
    }
  ]
}