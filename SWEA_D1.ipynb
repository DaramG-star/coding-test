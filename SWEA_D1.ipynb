{
  "nbformat": 4,
  "nbformat_minor": 0,
  "metadata": {
    "colab": {
      "provenance": [],
      "authorship_tag": "ABX9TyO090PRrgm/bDU6rDFZvZI+",
      "include_colab_link": true
    },
    "kernelspec": {
      "name": "python3",
      "display_name": "Python 3"
    },
    "language_info": {
      "name": "python"
    }
  },
  "cells": [
    {
      "cell_type": "markdown",
      "metadata": {
        "id": "view-in-github",
        "colab_type": "text"
      },
      "source": [
        "<a href=\"https://colab.research.google.com/github/DaramG-star/coding-test/blob/main/SWEA_D1.ipynb\" target=\"_parent\"><img src=\"https://colab.research.google.com/assets/colab-badge.svg\" alt=\"Open In Colab\"/></a>"
      ]
    },
    {
      "cell_type": "markdown",
      "source": [
        "## 1545. 거꾸로 출력해 보아요\n",
        "\n",
        "주어진 숫자부터 0까지 순서대로 찍어보세요\n",
        "\n",
        "아래는 입력된 숫자가 N일 때 거꾸로 출력하는 예시입니다\n",
        "\n",
        "입력 : 8\n",
        "\n",
        "출력 : 8 7 6 5 4 3 2 1 0"
      ],
      "metadata": {
        "id": "_VqtDuwOHBKs"
      }
    },
    {
      "cell_type": "code",
      "execution_count": null,
      "metadata": {
        "id": "IcZueeOeGzQx"
      },
      "outputs": [],
      "source": [
        "N = int(input())\n",
        "\n",
        "i = N+1\n",
        "while True :\n",
        "  i -= 1\n",
        "  print(i)\n",
        "  if i == 0:\n",
        "    break"
      ]
    },
    {
      "cell_type": "code",
      "source": [
        "# 숫자 N 입력받기\n",
        "N = int(input())\n",
        "\n",
        "# N부터 0까지 거꾸로 순회하여 출력\n",
        "result = \" \".join(map(str, range(N, -1, -1)))\n",
        "print(result)"
      ],
      "metadata": {
        "id": "iYurMe6HIv73"
      },
      "execution_count": null,
      "outputs": []
    },
    {
      "cell_type": "markdown",
      "source": [
        "## 2019. 더블더블\n",
        "\n",
        "1부터 주어진 횟수까지 2를 곱한 값(들)을 출력하시오.\n",
        "\n",
        "주어질 숫자는 30을 넘지 않는다."
      ],
      "metadata": {
        "id": "RnCB6h_6JjTU"
      }
    },
    {
      "cell_type": "code",
      "source": [
        "N = int(input())\n",
        "\n",
        "result = [2 ** i for i in range(0, N+1)]\n",
        "print(\" \".join(map(str, result)))"
      ],
      "metadata": {
        "colab": {
          "base_uri": "https://localhost:8080/"
        },
        "id": "zmjEfBVnJp-F",
        "outputId": "9293ff28-0a75-47bf-b3c8-444c7fcf1a97"
      },
      "execution_count": 12,
      "outputs": [
        {
          "output_type": "stream",
          "name": "stdout",
          "text": [
            "3\n",
            "1 2 4 8\n"
          ]
        }
      ]
    },
    {
      "cell_type": "markdown",
      "source": [
        "## 1936. 1대1 가위바위보\n",
        "\n",
        "A와 B가 가위바위보를 하였다.\n",
        "\n",
        "가위는 1, 바위는 2, 보는 3으로 표현되며 A와 B가 무엇을 냈는지 입력으로 주어진다.\n",
        "\n",
        "A와 B중에 누가 이겼는지 판별해보자. 단, 비기는 경우는 없다.\n",
        "\n",
        "\n",
        "\n",
        "[입력]\n",
        "\n",
        "입력으로 A와 B가 무엇을 냈는지 빈 칸을 사이로 주어진다.\n",
        "\n",
        "\n",
        "\n",
        "\n",
        "[출력]\n",
        "\n",
        "A가 이기면 A, B가 이기면 B를 출력한다."
      ],
      "metadata": {
        "id": "NI4C6jZVLXE5"
      }
    },
    {
      "cell_type": "code",
      "source": [
        "#가위는 1, 바위는 2, 보는 3\n",
        "A, B = list(map(int, input().split()))\n",
        "\n",
        "if (A == 1 and B == 2) or (A == 2 and B == 3) or (A == 3 and B == 1):\n",
        "  print('B')\n",
        "else:\n",
        "  print('A')"
      ],
      "metadata": {
        "colab": {
          "base_uri": "https://localhost:8080/"
        },
        "id": "92U4HNE9LS2f",
        "outputId": "18def674-61f6-4f1f-b44b-02d37b0b0980"
      },
      "execution_count": 15,
      "outputs": [
        {
          "output_type": "stream",
          "name": "stdout",
          "text": [
            "1 2\n",
            "B\n"
          ]
        }
      ]
    },
    {
      "cell_type": "markdown",
      "source": [
        "## 1933. 간단한 N 의 약수\n",
        "\n",
        "입력으로 1개의 정수 N 이 주어진다.\n",
        "\n",
        "정수 N 의 약수를 오름차순으로 출력하는 프로그램을 작성하라.\n",
        "\n",
        "\n",
        "[제약사항]\n",
        "\n",
        "N은 1이상 1,000이하의 정수이다. (1 ≤ N ≤ 1,000)\n",
        "\n",
        "\n",
        "[입력]\n",
        "\n",
        "입력으로 정수 N 이 주어진다.\n",
        "\n",
        "\n",
        "[출력]\n",
        "\n",
        "정수 N 의 모든 약수를 오름차순으로 출력한다.\n",
        "\n"
      ],
      "metadata": {
        "id": "gdt40coAM4jQ"
      }
    },
    {
      "cell_type": "code",
      "source": [
        "N = int(input())\n",
        "div = [i for i in range(1, N+1) if N % i == 0]\n",
        "\n",
        "print(\" \".join(map(str, div)))"
      ],
      "metadata": {
        "colab": {
          "base_uri": "https://localhost:8080/"
        },
        "id": "UVq_rOzPL5q4",
        "outputId": "67af71c3-58ec-46d0-e596-f178cc3f17f4"
      },
      "execution_count": 17,
      "outputs": [
        {
          "output_type": "stream",
          "name": "stdout",
          "text": [
            "10\n",
            "1 2 5 10\n"
          ]
        }
      ]
    },
    {
      "cell_type": "markdown",
      "source": [
        "## 1938. 아주 간단한 계산기\n",
        "\n",
        "[제약 사항]\n",
        "\n",
        "1. 두 개의 자연수 a, b는 1부터 9까지의 자연수이다. (1 ≤ a, b ≤ 9)\n",
        "\n",
        "2. 사칙연산 + , - , * , / 순서로 연산한 결과를 출력한다.\n",
        "\n",
        "3. 나누기 연산의 결과에서 소수점 이하의 숫자는 버린다.\n",
        "\n",
        "\n",
        "\n",
        "[입력]\n",
        "\n",
        "입력으로 두 개의 자연수 a, b가 빈 칸을 두고 주어진다.\n",
        "\n",
        "\n",
        "\n",
        "[출력]\n",
        "\n",
        "사칙연산의 결과를 각 줄에 순서대로 출력한다."
      ],
      "metadata": {
        "id": "bf3OKT2JNFSm"
      }
    },
    {
      "cell_type": "code",
      "source": [
        "A, B = map(int,input().split())\n",
        "\n",
        "print(A + B)\n",
        "print(A - B)\n",
        "print(A * B)\n",
        "print(int(A / B))"
      ],
      "metadata": {
        "colab": {
          "base_uri": "https://localhost:8080/"
        },
        "id": "BuCxLIAfNK0m",
        "outputId": "f15d6fdb-d196-4140-b9b8-1bf3bb6470d2"
      },
      "execution_count": 19,
      "outputs": [
        {
          "output_type": "stream",
          "name": "stdout",
          "text": [
            "8 3\n",
            "11\n",
            "5\n",
            "24\n",
            "2\n"
          ]
        }
      ]
    },
    {
      "cell_type": "markdown",
      "source": [
        "## 2025. N줄덧셈\n",
        "\n",
        "1부터 주어진 숫자만큼 모두 더한 값을 출력하시오.\n",
        "\n",
        "단, 주어질 숫자는 10000을 넘지 않는다.\n",
        "\n",
        "\n",
        "[예제]\n",
        "\n",
        "주어진 숫자가 10 일 경우 출력해야 할 정답은,\n",
        "\n",
        "1 + 2 + 3 + 4 + 5 + 6 + 7 + 8 + 9 + 10 = 55"
      ],
      "metadata": {
        "id": "oUSQN0lxNsAb"
      }
    },
    {
      "cell_type": "code",
      "source": [
        "N = int(input())\n",
        "\n",
        "print(sum(range(1, N+1)))  # 1부터 N까지 합계 출력"
      ],
      "metadata": {
        "colab": {
          "base_uri": "https://localhost:8080/"
        },
        "id": "wzYBU7OMNrgG",
        "outputId": "82074b9c-8a68-4e4f-bd36-555358650949"
      },
      "execution_count": 23,
      "outputs": [
        {
          "output_type": "stream",
          "name": "stdout",
          "text": [
            "10\n",
            "55\n"
          ]
        }
      ]
    },
    {
      "cell_type": "markdown",
      "source": [
        "## 2027. 대각선 출력하기\n",
        "\n",
        "주어진 텍스트를 그대로 출력하세요.\n",
        "\n",
        "```\n",
        "#++++\n",
        "+#+++\n",
        "++#++\n",
        "+++#+\n",
        "++++#\n",
        "```"
      ],
      "metadata": {
        "id": "Bj8jFsBxPp9J"
      }
    },
    {
      "cell_type": "code",
      "source": [
        "print('''#++++\n",
        "+#+++\n",
        "++#++\n",
        "+++#+\n",
        "++++#''')"
      ],
      "metadata": {
        "colab": {
          "base_uri": "https://localhost:8080/"
        },
        "id": "7HY7CGwlP3DP",
        "outputId": "0e88faea-a0fa-4913-e2af-8e79097be507"
      },
      "execution_count": 28,
      "outputs": [
        {
          "output_type": "stream",
          "name": "stdout",
          "text": [
            "#++++\n",
            "+#+++\n",
            "++#++\n",
            "+++#+\n",
            "++++#\n"
          ]
        }
      ]
    },
    {
      "cell_type": "markdown",
      "source": [
        "## 2029. 몫과 나머지 출력하기\n",
        "\n",
        "[제약 사항]\n",
        "\n",
        "각 수는 1이상 10000이하의 정수이다.\n",
        "\n",
        "\n",
        "[입력]\n",
        "\n",
        "가장 첫 줄에는 테스트 케이스의 개수 T가 주어지고, 그 아래로 각 테스트 케이스가 주어진다.\n",
        "\n",
        "각 테스트 케이스의 첫 번째 줄에는 2개의 수가 주어진다.\n",
        "\n",
        "\n",
        "[출력]\n",
        "\n",
        "출력의 각 줄은 '#t'로 시작하고 공백을 한 칸 둔 다음, 몫을 출력하고 공백을 한 칸 둔 다음 나머지를 출력한다.\n",
        "\n",
        "(t는 테스트 케이스의 번호를 의미하며 1부터 시작한다.)"
      ],
      "metadata": {
        "id": "2qlV32bJRN9h"
      }
    },
    {
      "cell_type": "code",
      "source": [
        "T = int(input())\n",
        "\n",
        "for t in range(T):\n",
        "  A, B = list(map(int, input().split()))\n",
        "  print(f\"#{t+1} {A // B} {A % B}\")"
      ],
      "metadata": {
        "colab": {
          "base_uri": "https://localhost:8080/"
        },
        "id": "67i6CFm_RTPc",
        "outputId": "5407d632-53ad-44b5-b901-05f86f5bb5f1"
      },
      "execution_count": 30,
      "outputs": [
        {
          "output_type": "stream",
          "name": "stdout",
          "text": [
            "3\n",
            "9 2\n",
            "#1 4 1\n",
            "15 6\n",
            "#2 2 3\n",
            "369 15\n",
            "#3 24 9\n"
          ]
        }
      ]
    },
    {
      "cell_type": "markdown",
      "source": [
        "## 2043. 서랍의 비밀번호\n",
        "\n",
        "서랍의 비밀번호가 생각이 나지 않는다.\n",
        "\n",
        "비밀번호 P는 000부터 999까지 번호 중의 하나이다.\n",
        "\n",
        "주어지는 번호 K부터 1씩 증가하며 비밀번호를 확인해 볼 생각이다.\n",
        "\n",
        "예를 들어 비밀번호 P가 123 이고 주어지는 번호 K가 100 일 때, 100부터 123까지 24번 확인하여 비밀번호를 맞출 수 있다.\n",
        "\n",
        "P와 K가 주어지면 K부터 시작하여 몇 번 만에 P를 맞출 수 있는지 알아보자.\n",
        "\n",
        "\n",
        "[입력]\n",
        "\n",
        "입력으로 P와 K가 빈 칸을 사이로 주어진다.\n",
        "\n",
        "\n",
        "[출력]\n",
        "\n",
        "몇 번 만에 비밀번호를 맞출 수 있는지 출력한다.\n"
      ],
      "metadata": {
        "id": "Eby2J2YgUVtD"
      }
    },
    {
      "cell_type": "code",
      "source": [
        "P, K = map(int, input().split())\n",
        "print(P - K + 1)"
      ],
      "metadata": {
        "colab": {
          "base_uri": "https://localhost:8080/"
        },
        "id": "3-RCKfhzUU7c",
        "outputId": "ea489764-854f-4555-a19c-ba3a54e79aca"
      },
      "execution_count": 31,
      "outputs": [
        {
          "output_type": "stream",
          "name": "stdout",
          "text": [
            "123 100\n",
            "24\n"
          ]
        }
      ]
    },
    {
      "cell_type": "markdown",
      "source": [
        "## 2046. 스탬프 찍기\n",
        "\n",
        "주어진 숫자만큼 # 을 출력해보세요.\n",
        "\n",
        "주어질 숫자는 100,000 이하다."
      ],
      "metadata": {
        "id": "5qCvUoojVYEP"
      }
    },
    {
      "cell_type": "code",
      "source": [
        "N = int(input())\n",
        "\n",
        "print(\"#\" * N)"
      ],
      "metadata": {
        "colab": {
          "base_uri": "https://localhost:8080/"
        },
        "id": "T8OyRB-SVWjo",
        "outputId": "83630b40-2aef-4bab-d9d8-a70a07877d9a"
      },
      "execution_count": 32,
      "outputs": [
        {
          "output_type": "stream",
          "name": "stdout",
          "text": [
            "5\n",
            "#####\n"
          ]
        }
      ]
    },
    {
      "cell_type": "markdown",
      "source": [
        "### 2047. 신문 헤드라인\n",
        "\n",
        "\n",
        "신문의 헤드라인을 편집하기 위해, 주어지는 문자열의 알파벳 소문자를 모두 대문자로 바꾸는 프로그램을 개발 중이다.\n",
        "\n",
        "입력으로 주어진 문장에 모든 소문자 알파벳을 찾아 대문자로 변환한 다음, 그 결과를 출력하는 프로그램을 작성하라.\n",
        "\n",
        "\n",
        "[예제 풀이]\n",
        "\n",
        "The_headline_is_the_text_indicating_the_nature_of_the_article_below_it.\n",
        "\n",
        "위와 같은 문자열이 입력으로 주어졌을 때, 출력은 다음과 같다.\n",
        "\n",
        "THE_HEADLINE_IS_THE_TEXT_INDICATING_THE_NATURE_OF_THE_ARTICLE_BELOW_IT.\n",
        "\n",
        "\n",
        "[제약 사항]\n",
        "\n",
        "문자열의 최대 길이는 80 bytes 이다.\n",
        "\n",
        "\n",
        "[입력]\n",
        "\n",
        "입력으로 80 bytes 이하의 길이를 가진 문자열이 주어진다.\n",
        "\n",
        "\n",
        "[출력]\n",
        "\n",
        "문자열의 소문자를 모두 대문자로 변경한 결과를 출력한다."
      ],
      "metadata": {
        "id": "tdp_dLeAVvbv"
      }
    },
    {
      "cell_type": "code",
      "source": [
        "head = input().strip()\n",
        "\n",
        "print(head.upper())"
      ],
      "metadata": {
        "colab": {
          "base_uri": "https://localhost:8080/"
        },
        "id": "E-BLts9xVust",
        "outputId": "ed4b6231-c870-4990-d102-3c7065644284"
      },
      "execution_count": 34,
      "outputs": [
        {
          "output_type": "stream",
          "name": "stdout",
          "text": [
            "daram\n",
            "DARAM\n"
          ]
        }
      ]
    },
    {
      "cell_type": "markdown",
      "source": [
        "### 2050. 알파벳을 숫자로 변환\n",
        "\n",
        "알파벳으로 이루어진 문자열을 입력 받아 각 알파벳을 1부터 26까지의 숫자로 변환하여 출력하라.\n",
        "\n",
        "\n",
        "[제약 사항]\n",
        "\n",
        "문자열의 최대 길이는 200이다.\n",
        "\n",
        "\n",
        "[입력]\n",
        "\n",
        "알파벳으로 이루어진 문자열이 주어진다.\n",
        "\n",
        "\n",
        "[출력]\n",
        "\n",
        "각 알파벳을 숫자로 변환한 결과값을 빈 칸을 두고 출력한다."
      ],
      "metadata": {
        "id": "pJ0DRNYfXbRh"
      }
    },
    {
      "cell_type": "code",
      "source": [
        "N = (input().strip())\n",
        "\n",
        "result = [ord(char) - ord('A') + 1 if char.isupper() else (ord(char) - ord('a') + 1) for char in N]\n",
        "\n",
        "print(' '.join(map(str, result)))"
      ],
      "metadata": {
        "colab": {
          "base_uri": "https://localhost:8080/"
        },
        "id": "1SJ1IrJ-XhYh",
        "outputId": "ca3a193a-11d4-434f-f50e-8be7f331dbb3"
      },
      "execution_count": 40,
      "outputs": [
        {
          "output_type": "stream",
          "name": "stdout",
          "text": [
            "abcs\n",
            "1 2 3 19\n"
          ]
        }
      ]
    },
    {
      "cell_type": "markdown",
      "source": [
        "## 2056. 연월일 달력\n",
        "\n",
        "해당 날짜의 유효성을 판단한 후, 날짜가 유효하다면\n",
        "\n",
        "[그림1] 과 같이 ”YYYY/MM/DD”형식으로 출력하고,\n",
        "\n",
        "날짜가 유효하지 않을 경우, -1 을 출력하는 프로그램을 작성하라.\n",
        "\n",
        "\n",
        "연월일로 구성된 입력에서 월은 1~12 사이 값을 가져야 하며\n",
        "\n",
        "일은 [표1] 과 같이, 1일 ~ 각각의 달에 해당하는 날짜까지의 값을 가질 수 있다.\n",
        "\n",
        "\n",
        "\n",
        "※ 2월의 경우, 28일인 경우만 고려한다. (윤년은 고려하지 않는다.)\n",
        "\n",
        "\n",
        "[입력]\n",
        "\n",
        "입력은 첫 줄에 총 테스트 케이스의 개수 T가 온다.\n",
        "\n",
        "다음 줄부터 각 테스트 케이스가 주어진다.\n",
        "\n",
        "\n",
        "[출력]\n",
        "\n",
        "테스트 케이스 t에 대한 결과는 “#t”을 찍고, 한 칸 띄고, 정답을 출력한다.\n",
        "\n",
        "(t는 테스트 케이스의 번호를 의미하며 1부터 시작한다.)\n"
      ],
      "metadata": {
        "id": "gL8fx5URaQmA"
      }
    },
    {
      "cell_type": "code",
      "source": [
        "T = int(input())\n",
        "\n",
        "\n",
        "for t in range(T):\n",
        "  date = (input())\n",
        "  y = int(date[0:4])\n",
        "  m = int(date[4:6])\n",
        "  d = int(date[6:])\n",
        "\n",
        "  if m in [1, 3, 5, 7, 8, 10, 12] and d > 31 :\n",
        "    print(-1)\n",
        "  elif m in [4, 6, 9, 11] and d > 30 :\n",
        "    print(-1)\n",
        "  elif m == 2 and d > 28 :\n",
        "    print(-1)\n",
        "  elif m > 12 or m < 1 :\n",
        "    print(-1)\n",
        "  elif d < 1 :\n",
        "    print(-1)\n",
        "  else :\n",
        "    print(f\"#{t+1} {y:04}/{m:02}/{d:02}\")"
      ],
      "metadata": {
        "colab": {
          "base_uri": "https://localhost:8080/"
        },
        "id": "xfJ73x4Baavn",
        "outputId": "3393ef4a-84bf-4475-9de8-e9665f989708"
      },
      "execution_count": 50,
      "outputs": [
        {
          "output_type": "stream",
          "name": "stdout",
          "text": [
            "3\n",
            "00000000\n",
            "-1\n",
            "20150500\n",
            "-1\n",
            "20150501\n",
            "#3 2015/05/01\n"
          ]
        }
      ]
    },
    {
      "cell_type": "markdown",
      "source": [
        "## 2058. 자릿수 더하기\n",
        "\n",
        "하나의 자연수를 입력 받아 각 자릿수의 합을 계산하는 프로그램을 작성하라.\n",
        "\n",
        "\n",
        "[제약 사항]\n",
        "\n",
        "자연수 N은 1부터 9999까지의 자연수이다. (1 ≤ N ≤ 9999)\n",
        "\n",
        "\n",
        "[입력]\n",
        "\n",
        "입력으로 자연수 N이 주어진다.\n",
        "\n",
        "\n",
        "[출력]\n",
        "\n",
        "각 자릿수의 합을 출력한다.\n",
        "\n"
      ],
      "metadata": {
        "id": "DPfUSFtedwr2"
      }
    },
    {
      "cell_type": "code",
      "source": [
        "T = map(int, (input()))\n",
        "\n",
        "print(sum(T))"
      ],
      "metadata": {
        "colab": {
          "base_uri": "https://localhost:8080/"
        },
        "id": "q-6Yd7KhfpXC",
        "outputId": "0aa75442-2833-4e76-c0d0-b91ef7e121b7"
      },
      "execution_count": 54,
      "outputs": [
        {
          "output_type": "stream",
          "name": "stdout",
          "text": [
            "6789\n",
            "30\n"
          ]
        }
      ]
    },
    {
      "cell_type": "markdown",
      "source": [
        "## 2063. 중간값 찾기\n",
        "\n",
        "중간값은 통계 집단의 수치를 크기 순으로 배열 했을 때 전체의 중앙에 위치하는 수치를 뜻한다.\n",
        "\n",
        "입력으로 N 개의 점수가 주어졌을 때, 중간값을 출력하라.\n",
        "\n",
        "\n",
        "[예제]\n",
        "\n",
        "N이 9 이고, 9개의 점수가 아래와 같이 주어질 경우,\n",
        "\n",
        "85 72 38 80 69 65 68 96 22\n",
        "\n",
        "69이 중간값이 된다.\n",
        "\n",
        "\n",
        "[제약 사항]\n",
        "\n",
        "1. N은 항상 홀수로 주어진다.\n",
        "\n",
        "2. N은 9이상 199 이하의 정수이다. (9 ≤ N ≤ 199)\n",
        "\n",
        "\n",
        "[입력]\n",
        "\n",
        "입력은 첫 줄에 N 이 주어진다.\n",
        "\n",
        "둘째 줄에 N 개의 점수가 주어진다.\n",
        "\n",
        "\n",
        "[출력]\n",
        "\n",
        "N 개의 점수들 중, 중간값에 해당하는 점수를 정답으로 출력한다."
      ],
      "metadata": {
        "id": "7qBdLKNJg9SV"
      }
    },
    {
      "cell_type": "code",
      "source": [
        "N = int(input())\n",
        "score = list(map(int, input().split()))\n",
        "score = sorted(score)\n",
        "print(score[N // 2])"
      ],
      "metadata": {
        "colab": {
          "base_uri": "https://localhost:8080/"
        },
        "id": "7YSTy64fhwXD",
        "outputId": "7adb6dbf-0d70-4e4d-875f-497b7e30439c"
      },
      "execution_count": 59,
      "outputs": [
        {
          "output_type": "stream",
          "name": "stdout",
          "text": [
            "199\n",
            "85 72 38 80 69 65 68 96 22 49 67 51 61 63 87 66 24 80 83 71 60 64 52 90 60 49 31 23 99 94 11 25 24 51 15 13 39 67 97 19 76 12 33 99 18 92 35 74 0 95 71 39 33 39 32 37 45 57 71 95 5 71 24 86 8 51 54 74 24 75 70 33 63 29 99 59 94 52 13 35 99 46 57 71 23 17 3 94 48 77 18 83 11 83 25 59 62 2 78 86 7 94 65 80 32 39 84 60 65 72 61 58 84 8 72 12 19 47 49 49 59 71 52 34 22 21 20 92 33 80 39 74 9 28 97 100 93 29 25 4 66 79 81 98 21 91 62 82 4 59 100 34 1 51 80 92 69 77 39 38 97 51 34 35 19 22 1 67 9 90 31 82 11 51 84 78 70 74 42 100 88 53 80 57 62 32 51 48 63 92 46 4 61 31 98 69 52 88 20\n",
            "58\n"
          ]
        }
      ]
    },
    {
      "cell_type": "markdown",
      "source": [
        "## 2068. 최대수 구하기\n",
        "\n",
        "10개의 수를 입력 받아, 그 중에서 가장 큰 수를 출력하는 프로그램을 작성하라.\n",
        "\n",
        "\n",
        "[제약 사항]\n",
        "\n",
        "각 수는 0 이상 10000 이하의 정수이다.\n",
        "\n",
        "\n",
        "[입력]\n",
        "\n",
        "가장 첫 줄에는 테스트 케이스의 개수 T가 주어지고, 그 아래로 각 테스트 케이스가 주어진다.\n",
        "\n",
        "각 테스트 케이스의 첫 번째 줄에는 10개의 수가 주어진다.\n",
        "\n",
        "\n",
        "[출력]\n",
        "\n",
        "출력의 각 줄은 '#t'로 시작하고, 공백을 한 칸 둔 다음 정답을 출력한다.\n",
        "\n",
        "(t는 테스트 케이스의 번호를 의미하며 1부터 시작한다.)"
      ],
      "metadata": {
        "id": "sXUaj4esjljY"
      }
    },
    {
      "cell_type": "code",
      "source": [
        "T = int(input())\n",
        "\n",
        "\n",
        "for t in range (T) :\n",
        "  number = list(map(int, input().split()))\n",
        "  number = max(number)\n",
        "  print(f\"#{t+1} {number}\")"
      ],
      "metadata": {
        "colab": {
          "base_uri": "https://localhost:8080/"
        },
        "id": "fzdyc_ZHiz7a",
        "outputId": "9f129b0e-ff6d-48f0-a9f4-6abcb646b3ff"
      },
      "execution_count": 60,
      "outputs": [
        {
          "output_type": "stream",
          "name": "stdout",
          "text": [
            "3\n",
            "3 17 1 39 8 41 32 99 2\n",
            "#1 99\n",
            "22 8 5 123 7 2 63 7 3 46\n",
            "#2 123\n",
            "6 63 2 3 58 76 21 33 8 1\n",
            "#3 76\n"
          ]
        }
      ]
    },
    {
      "cell_type": "markdown",
      "source": [
        "## 2070. 큰 놈, 작은 놈, 같은 놈\n",
        "\n",
        "2개의 수를 입력 받아 크기를 비교하여 등호 또는 부등호를 출력하는 프로그램을 작성하라.\n",
        "\n",
        "\n",
        "[제약 사항]\n",
        "\n",
        "각 수는 0 이상 10000 이하의 정수이다.\n",
        "\n",
        "\n",
        "[입력]\n",
        "\n",
        "가장 첫 줄에는 테스트 케이스의 개수 T가 주어지고, 그 아래로 각 테스트 케이스가 주어진다.\n",
        "\n",
        "각 테스트 케이스의 첫 번째 줄에는 2개의 수가 주어진다.\n",
        "\n",
        "\n",
        "[출력]\n",
        "\n",
        "출력의 각 줄은 '#t'로 시작하고, 공백을 한 칸 둔 다음 정답을 출력한다.\n",
        "\n",
        "(t는 테스트 케이스의 번호를 의미하며 1부터 시작한다.)"
      ],
      "metadata": {
        "id": "AP1733mEk7Nd"
      }
    },
    {
      "cell_type": "code",
      "source": [
        "T = int(input())\n",
        "\n",
        "for t in range(T):\n",
        "  A, B = map(int, input().split())\n",
        "\n",
        "  if A > B :\n",
        "    print(f\"#{t+1} >\")\n",
        "  elif A < B :\n",
        "    print(f\"#{t+1} <\")\n",
        "  else :\n",
        "    print(f\"#{t+1} =\")\n"
      ],
      "metadata": {
        "colab": {
          "base_uri": "https://localhost:8080/"
        },
        "id": "qXk3L6gFlCM1",
        "outputId": "9a20f62c-bd7a-4031-c8e4-70138ee81baf"
      },
      "execution_count": 62,
      "outputs": [
        {
          "output_type": "stream",
          "name": "stdout",
          "text": [
            "3\n",
            "3 8\n",
            "#1 <\n",
            "7 7\n",
            "#2 =\n",
            "369 123\n",
            "#3 >\n"
          ]
        }
      ]
    },
    {
      "cell_type": "markdown",
      "source": [
        "## 2071. 평균값 구하기\n",
        "\n",
        "10개의 수를 입력 받아, 평균값을 출력하는 프로그램을 작성하라.\n",
        "\n",
        "(소수점 첫째 자리에서 반올림한 정수를 출력한다.)\n",
        "\n",
        "\n",
        "[제약 사항]\n",
        "\n",
        "각 수는 0 이상 10000 이하의 정수이다.\n",
        "\n",
        "\n",
        "[입력]\n",
        "\n",
        "가장 첫 줄에는 테스트 케이스의 개수 T가 주어지고, 그 아래로 각 테스트 케이스가 주어진다.\n",
        "\n",
        "각 테스트 케이스의 첫 번째 줄에는 10개의 수가 주어진다.\n",
        "\n",
        "\n",
        "[출력]\n",
        "\n",
        "출력의 각 줄은 '#t'로 시작하고, 공백을 한 칸 둔 다음 정답을 출력한다.\n",
        "\n",
        "(t는 테스트 케이스의 번호를 의미하며 1부터 시작한다.)"
      ],
      "metadata": {
        "id": "QfY2TSi_lqgM"
      }
    },
    {
      "cell_type": "code",
      "source": [
        "T = int(input())\n",
        "\n",
        "for t in range(T):\n",
        "  number = map(int, input().split())\n",
        "  평균 = sum(number) / 10\n",
        "  print(f\"#{t+1} {round(평균)}\")"
      ],
      "metadata": {
        "colab": {
          "base_uri": "https://localhost:8080/"
        },
        "id": "c5jhW9OKlxds",
        "outputId": "485ddb2b-9129-4d40-e70f-6109f6ff3a04"
      },
      "execution_count": 65,
      "outputs": [
        {
          "output_type": "stream",
          "name": "stdout",
          "text": [
            "3\n",
            "22 8 5 123 7 2 63 7 3 46\n",
            "#1 29\n",
            "3 17 1 39 8 41 2 32 99 2\n",
            "#2 24\n",
            "6 63 2 3 58 76 21 33 8 1   \n",
            "#3 27\n"
          ]
        }
      ]
    },
    {
      "cell_type": "markdown",
      "source": [
        "## 2072. 홀수만 더하기\n",
        "\n",
        "10개의 수를 입력 받아, 그 중에서 홀수만 더한 값을 출력하는 프로그램을 작성하라.\n",
        "\n",
        "\n",
        "[제약 사항]\n",
        "\n",
        "각 수는 0 이상 10000 이하의 정수이다.\n",
        "\n",
        "\n",
        "[입력]\n",
        "\n",
        "가장 첫 줄에는 테스트 케이스의 개수 T가 주어지고, 그 아래로 각 테스트 케이스가 주어진다.\n",
        "\n",
        "각 테스트 케이스의 첫 번째 줄에는 10개의 수가 주어진다.\n",
        "\n",
        "\n",
        "[출력]\n",
        "\n",
        "출력의 각 줄은 '#t'로 시작하고, 공백을 한 칸 둔 다음 정답을 출력한다.\n",
        "\n",
        "(t는 테스트 케이스의 번호를 의미하며 1부터 시작한다.)"
      ],
      "metadata": {
        "id": "IXqfUgb7pd4E"
      }
    },
    {
      "cell_type": "code",
      "source": [
        "T = int(input())\n",
        "\n",
        "for t in range(T):\n",
        "  number = map(int, input().split())\n",
        "  for num in number if num % 2 == 1:\n",
        "    print(sum)"
      ],
      "metadata": {
        "id": "CuKRZJG6p7Hc"
      },
      "execution_count": null,
      "outputs": []
    }
  ]
}