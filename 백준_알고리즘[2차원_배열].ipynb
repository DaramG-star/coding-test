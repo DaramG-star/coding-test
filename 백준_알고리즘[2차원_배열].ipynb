{
  "nbformat": 4,
  "nbformat_minor": 0,
  "metadata": {
    "colab": {
      "provenance": [],
      "authorship_tag": "ABX9TyMQuVvOBHgrliNk1wBvvXmG",
      "include_colab_link": true
    },
    "kernelspec": {
      "name": "python3",
      "display_name": "Python 3"
    },
    "language_info": {
      "name": "python"
    }
  },
  "cells": [
    {
      "cell_type": "markdown",
      "metadata": {
        "id": "view-in-github",
        "colab_type": "text"
      },
      "source": [
        "<a href=\"https://colab.research.google.com/github/DaramG-star/coding-test/blob/main/%EB%B0%B1%EC%A4%80_%EC%95%8C%EA%B3%A0%EB%A6%AC%EC%A6%98%5B2%EC%B0%A8%EC%9B%90_%EB%B0%B0%EC%97%B4%5D.ipynb\" target=\"_parent\"><img src=\"https://colab.research.google.com/assets/colab-badge.svg\" alt=\"Open In Colab\"/></a>"
      ]
    },
    {
      "cell_type": "markdown",
      "source": [
        "## 행렬 덧셈\n",
        "\n",
        "N * M 크기의 두 행렬 A와 B가 주어졌을 때, 두 행렬을 더하는 프로그램을 작성하시오."
      ],
      "metadata": {
        "id": "tb6tXqQHjEVu"
      }
    },
    {
      "cell_type": "code",
      "execution_count": null,
      "metadata": {
        "id": "S_VCO-JFiyg4"
      },
      "outputs": [],
      "source": [
        "N, M = map(int, input().split())\n",
        "\n",
        "arr1 = [list(map(int, input().split())) for _ in range(N)]\n",
        "arr2 = [list(map(int, input().split())) for _ in range(N)]\n",
        "\n",
        "arr3 = [[0] * M for _ in range(N)] # 행렬 초기화\n",
        "\n",
        "for i in range(N):\n",
        "    for j in range(M):\n",
        "        arr3[i][j] = arr1[i][j] + arr2[i][j]\n",
        "\n",
        "for row in arr3:\n",
        "    print(*row)"
      ]
    },
    {
      "cell_type": "markdown",
      "source": [
        "## 시험 감독\n",
        "\n",
        "문제\n",
        "\n",
        "총 N개의 시험장이 있고, 각각의 시험장마다 응시자들이 있다. i번 시험장에 있는 응시자의 수는 Ai명이다.\n",
        "\n",
        "감독관은 총감독관과 부감독관으로 두 종류가 있다. 총감독관은 한 시험장에서 감시할 수 있는 응시자의 수가 B명이고, 부감독관은 한 시험장에서 감시할 수 있는 응시자의 수가 C명이다.\n",
        "\n",
        "각각의 시험장에 총감독관은 오직 1명만 있어야 하고, 부감독관은 여러 명 있어도 된다.\n",
        "\n",
        "각 시험장마다 응시생들을 모두 감시해야 한다. 이때, 필요한 감독관 수의 최솟값을 구하는 프로그램을 작성하시오.\n",
        "\n",
        "입력\n",
        "\n",
        "첫째 줄에 시험장의 개수 N(1 ≤ N ≤ 1,000,000)이 주어진다.\n",
        "\n",
        "둘째 줄에는 각 시험장에 있는 응시자의 수 Ai (1 ≤ Ai ≤ 1,000,000)가 주어진다.\n",
        "\n",
        "셋째 줄에는 B와 C가 주어진다. (1 ≤ B, C ≤ 1,000,000)\n",
        "\n",
        "출력\n",
        "\n",
        "각 시험장마다 응시생을 모두 감독하기 위해 필요한 감독관의 최소 수를 출력한다.\n",
        "\n"
      ],
      "metadata": {
        "id": "SeuxZ034nMx7"
      }
    },
    {
      "cell_type": "code",
      "source": [
        "N = int(input())\n",
        "\n",
        "if N == 1:\n",
        "    rooms = [int(input())]\n",
        "else:\n",
        "    rooms = list(map(int, input().split()))\n",
        "\n",
        "B, C = map(int, input().split()) # 총감독관, 부감독관\n",
        "total = 0\n",
        "\n",
        "for room in rooms:\n",
        "    if B >= room:\n",
        "        total += 1\n",
        "    else:\n",
        "        X = room - B\n",
        "        if X % C:\n",
        "            total += X // C + 2\n",
        "        else:\n",
        "            total += X // C + 1\n"
      ],
      "metadata": {
        "id": "EamtvK10ndJ2"
      },
      "execution_count": null,
      "outputs": []
    },
    {
      "cell_type": "markdown",
      "source": [
        "## 세로읽기\n",
        "\n",
        "문제\n",
        "\n",
        "아직 글을 모르는 영석이가 벽에 걸린 칠판에 자석이 붙어있는 글자들을 붙이는 장난감을 가지고 놀고 있다.\n",
        "\n",
        "이 장난감에 있는 글자들은 영어 대문자 ‘A’부터 ‘Z’, 영어 소문자 ‘a’부터 ‘z’, 숫자 ‘0’부터 ‘9’이다. 영석이는 칠판에 글자들을 수평으로 일렬로 붙여서 단어를 만든다. 다시 그 아래쪽에 글자들을 붙여서 또 다른 단어를 만든다. 이런 식으로 다섯 개의 단어를 만든다. 아래 그림 1은 영석이가 칠판에 붙여 만든 단어들의 예이다.\n",
        "\n",
        "심심해진 영석이는 칠판에 만들어진 다섯 개의 단어를 세로로 읽으려 한다. 세로로 읽을 때, 각 단어의 첫 번째 글자들을 위에서 아래로 세로로 읽는다. 다음에 두 번째 글자들을 세로로 읽는다. 이런 식으로 왼쪽에서 오른쪽으로 한 자리씩 이동 하면서 동일한 자리의 글자들을 세로로 읽어 나간다. 위의 그림 1의 다섯 번째 자리를 보면 두 번째 줄의 다섯 번째 자리의 글자는 없다. 이런 경우처럼 세로로 읽을 때 해당 자리의 글자가 없으면, 읽지 않고 그 다음 글자를 계속 읽는다. 그림 1의 다섯 번째 자리를 세로로 읽으면 D1gk로 읽는다.\n",
        "\n",
        "그림 1에서 영석이가 세로로 읽은 순서대로 글자들을 공백 없이 출력하면 다음과 같다:\n",
        "\n",
        "Aa0aPAf985Bz1EhCz2W3D1gkD6x\n",
        "\n",
        "칠판에 붙여진 단어들이 주어질 때, 영석이가 세로로 읽은 순서대로 글자들을 출력하는 프로그램을 작성하시오."
      ],
      "metadata": {
        "id": "op-siA7Bs0og"
      }
    },
    {
      "cell_type": "code",
      "source": [
        "arr = [list(input().strip()) for _ in range(5)]\n",
        "\n",
        "M = max(len(row) for row in arr) # 가장 긴 열 출력\n",
        "\n",
        "for i in range(M):\n",
        "    for j in range(5):\n",
        "        if i < len(arr[j]):\n",
        "            print(arr[j][i], end = '')"
      ],
      "metadata": {
        "id": "-3omn5Wow9x8"
      },
      "execution_count": null,
      "outputs": []
    },
    {
      "cell_type": "markdown",
      "source": [
        "## 체스판 다시 칠하기\n",
        "\n",
        "문제\n",
        "\n",
        "지민이는 자신의 저택에서 MN개의 단위 정사각형으로 나누어져 있는 M×N 크기의 보드를 찾았다. 어떤 정사각형은 검은색으로 칠해져 있고, 나머지는 흰색으로 칠해져 있다. 지민이는 이 보드를 잘라서 8×8 크기의 체스판으로 만들려고 한다.\n",
        "\n",
        "체스판은 검은색과 흰색이 번갈아서 칠해져 있어야 한다. 구체적으로, 각 칸이 검은색과 흰색 중 하나로 색칠되어 있고, 변을 공유하는 두 개의 사각형은 다른 색으로 칠해져 있어야 한다. 따라서 이 정의를 따르면 체스판을 색칠하는 경우는 두 가지뿐이다. 하나는 맨 왼쪽 위 칸이 흰색인 경우, 하나는 검은색인 경우이다.\n",
        "\n",
        "보드가 체스판처럼 칠해져 있다는 보장이 없어서, 지민이는 8×8 크기의 체스판으로 잘라낸 후에 몇 개의 정사각형을 다시 칠해야겠다고 생각했다. 당연히 8*8 크기는 아무데서나 골라도 된다. 지민이가 다시 칠해야 하는 정사각형의 최소 개수를 구하는 프로그램을 작성하시오.\n",
        "\n",
        "입력\n",
        "\n",
        "첫째 줄에 N과 M이 주어진다. N과 M은 8보다 크거나 같고, 50보다 작거나 같은 자연수이다. 둘째 줄부터 N개의 줄에는 보드의 각 행의 상태가 주어진다. B는 검은색이며, W는 흰색이다.\n",
        "\n",
        "출력\n",
        "\n",
        "첫째 줄에 지민이가 다시 칠해야 하는 정사각형 개수의 최솟값을 출력한다."
      ],
      "metadata": {
        "id": "Gwnbz052xHsn"
      }
    },
    {
      "cell_type": "code",
      "source": [],
      "metadata": {
        "id": "mIcS77jixH13"
      },
      "execution_count": null,
      "outputs": []
    },
    {
      "cell_type": "markdown",
      "source": [
        "## 수 찾기\n",
        "\n",
        "문제\n",
        "\n",
        "N개의 정수 A[1], A[2], …, A[N]이 주어져 있을 때, 이 안에 X라는 정수가 존재하는지 알아내는 프로그램을 작성하시오.\n",
        "\n",
        "입력\n",
        "\n",
        "첫째 줄에 자연수 N(1 ≤ N ≤ 100,000)이 주어진다. 다음 줄에는 N개의 정수 A[1], A[2], …, A[N]이 주어진다. 다음 줄에는 M(1 ≤ M ≤ 100,000)이 주어진다. 다음 줄에는 M개의 수들이 주어지는데, 이 수들이 A안에 존재하는지 알아내면 된다. 모든 정수의 범위는 -231 보다 크거나 같고 231보다 작다.\n",
        "\n",
        "출력\n",
        "\n",
        "M개의 줄에 답을 출력한다. 존재하면 1을, 존재하지 않으면 0을 출력한다."
      ],
      "metadata": {
        "id": "Ph6-nsVjyW8l"
      }
    },
    {
      "cell_type": "code",
      "source": [
        "N = int(input())\n",
        "arrN = list(map(int, input().split()))\n",
        "arrN = set(arrN)\n",
        "M = int(input())\n",
        "arrM = list(map(int, input().split()))\n",
        "\n",
        "for a in arrM:\n",
        "    if a in arrN:\n",
        "        print(1)\n",
        "    else:\n",
        "        print(0)"
      ],
      "metadata": {
        "id": "PUAmVE9VzrHG"
      },
      "execution_count": null,
      "outputs": []
    }
  ]
}