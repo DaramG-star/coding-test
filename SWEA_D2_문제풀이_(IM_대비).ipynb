{
  "nbformat": 4,
  "nbformat_minor": 0,
  "metadata": {
    "colab": {
      "provenance": [],
      "authorship_tag": "ABX9TyOdJA6zjTE2pJnDvBb+kjTT",
      "include_colab_link": true
    },
    "kernelspec": {
      "name": "python3",
      "display_name": "Python 3"
    },
    "language_info": {
      "name": "python"
    }
  },
  "cells": [
    {
      "cell_type": "markdown",
      "metadata": {
        "id": "view-in-github",
        "colab_type": "text"
      },
      "source": [
        "<a href=\"https://colab.research.google.com/github/DaramG-star/coding-test/blob/main/SWEA_D2_%EB%AC%B8%EC%A0%9C%ED%92%80%EC%9D%B4_(IM_%EB%8C%80%EB%B9%84).ipynb\" target=\"_parent\"><img src=\"https://colab.research.google.com/assets/colab-badge.svg\" alt=\"Open In Colab\"/></a>"
      ]
    },
    {
      "cell_type": "markdown",
      "source": [
        "## 1204. [S/W 문제해결 기본] 1일차 - 최빈수 구하기\n",
        "\n",
        "어느 고등학교에서 실시한 1000명의 수학 성적을 토대로 통계 자료를 만들려고 한다.\n",
        "\n",
        "이때, 이 학교에서는 최빈수를 이용하여 학생들의 평균 수준을 짐작하는데, 여기서 최빈수는 특정 자료에서 가장 여러 번 나타나는 값을 의미한다.\n",
        "\n",
        "다음과 같은 수 분포가 있으면,\n",
        "\n",
        "10, 8, 7, 2, 2, 4, 8, 8, 8, 9, 5, 5, 3\n",
        "\n",
        "최빈수는 8이 된다.\n",
        "\n",
        "최빈수를 출력하는 프로그램을 작성하여라 (단, 최빈수가 여러 개 일 때에는 가장 큰 점수를 출력하라).\n",
        "\n",
        "[제약 사항]\n",
        "\n",
        "학생의 수는 1000명이며, 각 학생의 점수는 0점 이상 100점 이하의 값이다.\n",
        "\n",
        "[입력]\n",
        "\n",
        "첫 번째 줄에 테스트 케이스의 수 T가 주어진다.\n",
        "\n",
        "각 테스트 케이스의 첫 줄에는 테스트 케이스의 번호가 주어지고 그 다음 줄부터는 점수가 주어진다.\n",
        "\n",
        "[출력]\n",
        "\n",
        "'#'부호와 함께 테스트 케이스의 번호를 출력하고, 공백 문자 후 테스트 케이스에 대한 답을 출력한다."
      ],
      "metadata": {
        "id": "Iti-ngZBPdEV"
      }
    },
    {
      "cell_type": "code",
      "source": [],
      "metadata": {
        "id": "vT03vTRKPr29"
      },
      "execution_count": null,
      "outputs": []
    },
    {
      "cell_type": "markdown",
      "source": [
        "### 정답"
      ],
      "metadata": {
        "id": "PitLFgmiPsMj"
      }
    },
    {
      "cell_type": "code",
      "execution_count": null,
      "metadata": {
        "id": "DNZolLKwPZYZ"
      },
      "outputs": [],
      "source": [
        "T = int(input())\n",
        "for t in range(1, T+1):\n",
        "    no = int(input())\n",
        "    num_lst = list(map(int, input().split()))\n",
        "    max_arr = 0\n",
        "    max_i = 0\n",
        "\n",
        "    arr = [0] * (max(num_lst)+1)\n",
        "\n",
        "    for num in num_lst:\n",
        "        arr[num] += 1\n",
        "\n",
        "    for i in range(len(arr)):\n",
        "        if arr[i] >= max_arr:\n",
        "            max_arr = arr[i]\n",
        "            max_i = i\n",
        "\n",
        "    print(f\"#{t} {max_i}\")"
      ]
    },
    {
      "cell_type": "markdown",
      "source": [
        "## 1284. 수도 요금 경쟁\n",
        "\n",
        "삼성전자에 입사한 종민이는 회사 근처로 이사를 하게 되었다.\n",
        "\n",
        "그런데 집의 위치가 두 수도 회사 A, B 중간에 위치하기에 원하는 수도 회사를 선택할 수 있게 되었는데, 두 회사 중 더 적게 수도 요금을 부담해도 되는 회사를 고르려고 한다.\n",
        "\n",
        "종민이가 알아본 결과 두 회사의 수도 요금은 한 달 동안 사용한 수도의 양에 따라 다음과 같이 정해진다.\n",
        "\n",
        "A사 : 1리터당 P원의 돈을 내야 한다.\n",
        "\n",
        "B사 : 기본 요금이 Q원이고, 월간 사용량이 R리터 이하인 경우 요금은 기본 요금만 청구된다. 하지만 R 리터보다 많은 양을 사용한 경우 초과량에 대해 1리터당 S원의 요금을 더 내야 한다.\n",
        "\n",
        "종민이의 집에서 한 달간 사용하는 수도의 양이 W리터라고 할 때, 요금이 더 저렴한 회사를 골라 그 요금을 출력하는 프로그램을 작성하라.\n",
        "\n",
        "[입력]\n",
        "\n",
        "첫 번째 줄에 테스트 케이스의 수 T가 주어진다.\n",
        "\n",
        "각 테스트 케이스마다 첫 번째 줄에 위 본문에서 설명한 대로 P, Q, R, S, W(1 ≤ P, Q, R, S, W ≤ 10000, 자연수)가 순서대로 공백 하나로 구분되어 주어진다.\n",
        "\n",
        "[출력]\n",
        "\n",
        "각 테스트 케이스마다 ‘#x’(x는 테스트케이스 번호를 의미하며 1부터 시작한다)를 출력하고, 종민이가 내야 하는 수도 요금을 출력한다."
      ],
      "metadata": {
        "id": "UsbwXngYPzRC"
      }
    },
    {
      "cell_type": "code",
      "source": [],
      "metadata": {
        "id": "4fj7i8xyRCMi"
      },
      "execution_count": null,
      "outputs": []
    },
    {
      "cell_type": "markdown",
      "source": [
        "### 정답"
      ],
      "metadata": {
        "id": "TTActl4PRDPx"
      }
    },
    {
      "cell_type": "code",
      "source": [
        "T = int(input())\n",
        "for t in range(1, T+1):\n",
        "    P, Q, R, S, W = list(map(int, input().split()))\n",
        "\n",
        "    A = P * W\n",
        "\n",
        "    if W <= R:\n",
        "        B = Q\n",
        "    elif W > R:\n",
        "        B = Q + (W-R)*S\n",
        "\n",
        "    if A < B:\n",
        "        print(f\"#{t} {A}\")\n",
        "    else:\n",
        "        print(f\"#{t} {B}\")"
      ],
      "metadata": {
        "id": "VkslCugLRC3H"
      },
      "execution_count": null,
      "outputs": []
    },
    {
      "cell_type": "markdown",
      "source": [
        "## 1285. 아름이의 돌 던지기\n",
        "\n",
        "아름이를 포함하여 총 N명의 사람이 돌 던지기 게임을 하고 있다.\n",
        "\n",
        "이 돌 던지기 게임은 앞으로 돌을 던져 원하는 지점에 최대한 가깝게 돌을 던지는 게임이다.\n",
        "\n",
        "정확하게 말하면 밀리미터 단위로 -100,000에서 100,000까지의 숫자가 일렬로 써져 있을 때, 사람들은 숫자 100,000이 써져 있는 위치에 서서 최대한 0에 가까운 위치로 돌을 던지려고 한다.\n",
        "\n",
        "N명의 사람들이 던진 돌이 떨어진 위치를 측정한 자료가 주어질 때, 가장 0에 가깝게 돌이 떨어진 위치와 0 사이의 거리 차이와 몇 명이 그렇게 돌을 던졌는지를 구하는 프로그램을 작성하라.\n",
        "\n",
        "[입력]\n",
        "\n",
        "첫 번째 줄에 테스트 케이스의 수 T가 주어진다.\n",
        "\n",
        "각 테스트 케이스의 첫 번째 줄에는 돌을 던지는 사람의 수 N(1≤N≤1,000)이 주어진다.\n",
        "\n",
        "두 번째 줄에는 각 사람이 돌을 던졌을 때 돌이 떨어진 위치를 나타내는 N개의 정수가 공백으로 구분되어 주어진다.\n",
        "\n",
        "모든 사람이 돌을 그럭저럭 잘 던졌기 때문에, 돌이 떨어지는 위치는 항상   -100,000에서 100,000사이 범위의 정수이다. (-100,000과 100,000도 돌이 떨어질 수 있다.)\n",
        "\n",
        "[출력]\n",
        "\n",
        "각 테스트 케이스마다 ‘#x’(x는 테스트케이스 번호를 의미하며 1부터 시작한다)를 출력하고,\n",
        "\n",
        "돌이 가장 0에 가깝게 떨어진 곳과 0 사이의 거리 차이와 그렇게 던진 사람이 몇 명인지 나타내는 정수를 공백 하나로 구분하여 출력한다.\n",
        "\n"
      ],
      "metadata": {
        "id": "7DmBXpRGSXO3"
      }
    },
    {
      "cell_type": "code",
      "source": [],
      "metadata": {
        "id": "uNXo81IdSdx2"
      },
      "execution_count": null,
      "outputs": []
    },
    {
      "cell_type": "markdown",
      "source": [
        "### 정답"
      ],
      "metadata": {
        "id": "Xnb_EyKtSd_9"
      }
    },
    {
      "cell_type": "code",
      "source": [
        "T = int(input())\n",
        "for t in range(1, T+1):\n",
        "    N = int(input())\n",
        "    stone_lst = list(map(int, input().split()))\n",
        "    min_distance = 100000\n",
        "    people = 0\n",
        "\n",
        "    for stone in stone_lst:\n",
        "        distance = abs(stone)  # 0과의 거리 계산\n",
        "\n",
        "        if distance < min_distance:\n",
        "            min_distance = distance\n",
        "            people = 1  # 최소 거리 갱신되면 사람 수 초기화\n",
        "        elif distance == min_distance:\n",
        "            people += 1  # 같은 거리 나오면 사람 수 증가\n",
        "\n",
        "    print(f\"#{t} {min_distance} {people}\")\n"
      ],
      "metadata": {
        "id": "is9AusGbSeNF"
      },
      "execution_count": null,
      "outputs": []
    },
    {
      "cell_type": "markdown",
      "source": [
        "## 1288. 새로운 불면증 치료법\n",
        "\n",
        "호석이는 불면증에 걸렸다. 그래서 잠이 안 올 때의 민간요법 중 하나인 양 세기를 하려고 한다.\n",
        "\n",
        "호석이는 1번 양부터 순서대로 세는 것이 재미없을 것 같아서 N의 배수 번호인 양을 세기로 하였다.\n",
        "\n",
        "즉, 첫 번째에는 N번 양을 세고, 두 번째에는 2N번 양, … , k번째에는 kN번 양을 센다.\n",
        "\n",
        "이렇게 숫자를 세던 호석이에게 잠은 더 오지 않고 다음과 같은 궁금증이 생겼다.\n",
        "\n",
        "이전에 셌던 번호들의 각 자리수에서 0에서 9까지의 모든 숫자를 보는 것은 최소 몇 번 양을 센 시점일까?\n",
        "\n",
        "예를 들어 N = 1295이라고 하자.\n",
        "\n",
        "첫 번째로 N = 1295번 양을 센다. 현재 본 숫자는 1, 2, 5, 9이다.\n",
        "\n",
        "두 번째로 2N = 2590번 양을 센다. 현재 본 숫자는 0, 2, 5, 9이다.\n",
        "\n",
        "현재까지 본 숫자는 0, 1, 2, 5, 9이다.\n",
        "\n",
        "세 번째로 3N = 3885번 양을 센다. 현재 본 숫자는 3, 5, 8이다.\n",
        "\n",
        "현재까지 본 숫자는 0, 1, 2, 3, 5, 8, 9이다.\n",
        "\n",
        "네 번째로 4N = 5180번 양을 센다. 현재 본 숫자는 0, 1, 5, 8이다.\n",
        "\n",
        "현재까지 본 숫자는 0, 1, 2, 3, 5, 8, 9이다.\n",
        "\n",
        "다섯 번째로 5N = 6475번 양을 센다. 현재 본 숫자는 4, 5, 6, 7이다.\n",
        "\n",
        "현재까지 본 숫자는 0, 1, 2, 3, 4, 5, 6, 7, 8, 9이다.\n",
        "\n",
        "5N번 양을 세면 0에서 9까지 모든 숫자를 보게 되므로 호석이는 양 세기를 멈춘다.\n",
        "\n",
        "[입력]\n",
        "\n",
        "첫 번째 줄에 테스트 케이스의 수 T가 주어진다.\n",
        "\n",
        "각 테스트 케이스의 첫 번째 줄에는 N (1 ≤ N ≤ 106)이 주어진다.\n",
        "\n",
        "[출력]\n",
        "\n",
        "각 테스트 케이스마다 ‘#x’(x는 테스트케이스 번호를 의미하며 1부터 시작한다)를 출력하고,\n",
        "\n",
        "최소 몇 번 양을 세었을 때 이전에 봤던 숫자들의 자릿수에서 0에서 9까지의 모든 숫자를 보게 되는지 출력한다.\n",
        "\n",
        "( 호석이는 xN번 양을 세고 있다. )"
      ],
      "metadata": {
        "id": "lsfESRdHb_dr"
      }
    },
    {
      "cell_type": "code",
      "source": [],
      "metadata": {
        "id": "6z2thG8Gb--k"
      },
      "execution_count": null,
      "outputs": []
    },
    {
      "cell_type": "markdown",
      "source": [
        "### 정답"
      ],
      "metadata": {
        "id": "ndq2BNgsd_Nx"
      }
    },
    {
      "cell_type": "code",
      "source": [
        "T = int(input())\n",
        "for t in range(1, T+1):\n",
        "    N = int(input())\n",
        "\n",
        "    new_set = set()\n",
        "    i = 1\n",
        "    while len(new_set) < 10:\n",
        "        num = i * N\n",
        "        num = list(str (num))\n",
        "        for n in num:\n",
        "            new_set.add(n)\n",
        "\n",
        "        i += 1\n",
        "\n",
        "    print(f\"#{t} {i * N - N}\")"
      ],
      "metadata": {
        "id": "RJocrAo7d_VI"
      },
      "execution_count": null,
      "outputs": []
    },
    {
      "cell_type": "markdown",
      "source": [
        "## 1945. 간단한 소인수분해\n",
        "\n",
        "숫자 N은 아래와 같다.\n",
        "\n",
        "N=2a x 3b x 5c x 7d x 11e\n",
        "\n",
        "N이 주어질 때 a, b, c, d, e 를 출력하라.\n",
        "\n",
        "\n",
        "[제약 사항]\n",
        "\n",
        "N은 2 이상 10,000,000 이하이다.\n",
        "\n",
        "\n",
        "[입력]\n",
        "\n",
        "가장 첫 줄에는 테스트 케이스의 개수 T가 주어지고, 그 아래로 각 테스트 케이스가 주어진다.\n",
        "\n",
        "각 테스트 케이스의 첫 번째 줄에 N 이 주어진다.\n",
        "\n",
        "\n",
        "[출력]\n",
        "\n",
        "출력의 각 줄은 '#t'로 시작하고, 공백을 한 칸 둔 다음 정답을 출력한다.\n",
        "\n",
        "(t는 테스트 케이스의 번호를 의미하며 1부터 시작한다.)"
      ],
      "metadata": {
        "id": "UhTvCMfWGSD_"
      }
    },
    {
      "cell_type": "code",
      "source": [],
      "metadata": {
        "id": "_2EFUDV4LE-2"
      },
      "execution_count": null,
      "outputs": []
    },
    {
      "cell_type": "markdown",
      "source": [
        "### 정답"
      ],
      "metadata": {
        "id": "K7xzgA06LFHE"
      }
    },
    {
      "cell_type": "code",
      "source": [
        "T = int(input())\n",
        "for t in range(1, T+1):\n",
        "    num = int(input())\n",
        "    sample = [2, 3, 5, 7, 11]\n",
        "    new_lst = []\n",
        "\n",
        "    for i in range(len(sample)):\n",
        "        while num % sample[i] == 0:\n",
        "            new_lst.append(sample[i])\n",
        "            num = num // sample[i]\n",
        "\n",
        "\n",
        "    a = new_lst.count(2)\n",
        "    b = new_lst.count(3)\n",
        "    c = new_lst.count(5)\n",
        "    d = new_lst.count(7)\n",
        "    e = new_lst.count(11)\n",
        "\n",
        "    print(f\"#{t} {a} {b} {c} {d} {e}\")"
      ],
      "metadata": {
        "id": "E-RL3njRGReJ"
      },
      "execution_count": null,
      "outputs": []
    },
    {
      "cell_type": "markdown",
      "source": [
        "## 1946. 간단한 압축 풀기\n",
        "\n",
        "원본 문서는 너비가 10인 여러 줄의 문자열로 이루어져 있다.\n",
        "\n",
        "문자열은 마지막 줄을 제외하고 빈 공간 없이 알파벳으로 채워져 있고 마지막 줄은 왼쪽부터 채워져 있다.\n",
        "\n",
        "이 문서를 압축한 문서는 알파벳과 그 알파벳의 연속된 개수로 이루어진 쌍들이 나열되어 있다. (예 : A 5    AAAAA)\n",
        "\n",
        "압축된 문서를 입력 받아 원본 문서를 만드는 프로그램을 작성하시오.\n",
        "\n",
        "[예제]\n",
        "압축된 문서의 내용\n",
        "\n",
        "A 10\n",
        "B 7\n",
        "C 5\n",
        "\n",
        "\n",
        "압축을 풀었을 때 원본 문서의 내용\n",
        "\n",
        "AAAAAAAAAA\n",
        "BBBBBBBCCC\n",
        "CC\n",
        "\n",
        "\n",
        "[제약사항]\n",
        "\n",
        "1. 압축된 문서의 알파벳과 숫자 쌍의 개수 N은1이상 10이하의 정수이다. (1 ≤ N ≤ 10)\n",
        "\n",
        "2. 주어지는 알파벳 Ci는 A~Z의 대문자이다. (i는 줄의 번호로 1~N까지의 수)\n",
        "\n",
        "3. 알파벳의 연속된 개수로 주어지는 수 Ki는 1이상 20이하의 정수이다. (1 ≤ Ki ≤ 20, i는 줄의 번호로 1~N까지의 수)\n",
        "\n",
        "4. 원본 문서의 너비는 10으로 고정이다.\n",
        "\n",
        "\n",
        "[입력]\n",
        "\n",
        "가장 첫 줄에는 테스트 케이스의 개수 T가 주어지고, 그 아래로 각 테스트 케이스가 주어진다.\n",
        "\n",
        "각 테스트 케이스에는 N이 주어지고 다음 줄부터 N+1줄까지 Ci와 Ki가 빈 칸을 사이에 두고 주어진다.\n",
        "\n",
        "\n",
        "[출력]\n",
        "\n",
        "각 줄은 '#t'로 시작하고, 다음 줄부터 원본 문서를 출력한다.\n",
        "\n",
        "(t는 테스트 케이스의 번호를 의미하며 1부터 시작한다.)"
      ],
      "metadata": {
        "id": "R1GR2CqYLHSk"
      }
    },
    {
      "cell_type": "code",
      "source": [],
      "metadata": {
        "id": "K7Zvgc7eO4IX"
      },
      "execution_count": null,
      "outputs": []
    },
    {
      "cell_type": "markdown",
      "source": [
        "### 정답"
      ],
      "metadata": {
        "id": "rAa7UJaTO22-"
      }
    },
    {
      "cell_type": "code",
      "source": [
        "T = int(input())\n",
        "for t in range(1, T+1):\n",
        "    str = ''\n",
        "    no = int(input())\n",
        "    for n in range(no):\n",
        "        Ci, Ki = list(input().split())\n",
        "        Ki = int(Ki)\n",
        "        str += Ci * Ki\n",
        "\n",
        "\n",
        "    print(f\"#{t}\")\n",
        "    for i in range(len(str)//10 + 1):\n",
        "        print(str[:10])\n",
        "        str = str[10:]"
      ],
      "metadata": {
        "id": "BvuTXeyDLHc8"
      },
      "execution_count": null,
      "outputs": []
    },
    {
      "cell_type": "markdown",
      "source": [
        "## 1948. 날짜 계산기\n",
        "월 일로 이루어진 날짜를 2개 입력 받아, 두 번째 날짜가 첫 번째 날짜의 며칠째인지 출력하는 프로그램을 작성하라.\n",
        "\n",
        "\n",
        "[제약 사항]\n",
        "\n",
        "월은 1 이상 12 이하의 정수이다. 각 달의 마지막 날짜는 다음과 같다.\n",
        "\n",
        "1/31, 2/28, 3/31, 4/30, 5/31, 6/30, 7/31, 8/31, 9/30, 10/31, 11/30, 12/31\n",
        "\n",
        "두 번째 날짜가 첫 번째 날짜보다 항상 크게 주어진다.\n",
        "\n",
        "\n",
        "[입력]\n",
        "\n",
        "가장 첫 줄에는 테스트 케이스의 개수 T가 주어지고, 그 아래로 각 테스트 케이스가 주어진다.\n",
        "\n",
        "각 테스트 케이스의 첫 번째 줄에는 4개의 수가 주어진다.\n",
        "\n",
        "첫 번째 수가 월을 나타내고 두 번째 수가 일을 나타낸다. 그 다음 같은 형식으로 두 번째 날짜가 주어진다.\n",
        "\n",
        "\n",
        "[출력]\n",
        "\n",
        "출력의 각 줄은 '#t'로 시작하고, 공백을 한 칸 둔 다음 정답을 출력한다. (t는 테스트 케이스의 번호를 의미하며 1부터 시작한다.)"
      ],
      "metadata": {
        "id": "rWwomYIYf0RQ"
      }
    },
    {
      "cell_type": "code",
      "source": [],
      "metadata": {
        "id": "_vwkqV9zf08Q"
      },
      "execution_count": null,
      "outputs": []
    },
    {
      "cell_type": "markdown",
      "source": [
        "### 정답"
      ],
      "metadata": {
        "id": "WE-YjdAMf0r4"
      }
    },
    {
      "cell_type": "code",
      "source": [
        "#1, 3, 5, 7, 8, 10, 12 = 31, 2, 4, 6, 9, 11 = 30\n",
        "T = int(input())\n",
        "days = [0, 31, 28, 31, 30, 31, 30, 31, 31, 30, 31, 30, 31]\n",
        "\n",
        "for t in range(1, T+1):\n",
        "    start_month, start_day, end_month, end_day = list(map(int, input().split()))\n",
        "\n",
        "    if start_month == end_month:\n",
        "        sum1 = end_day - start_day + 1\n",
        "\n",
        "    else:\n",
        "        sum1 = days[start_month] - start_day+1\n",
        "        for i in range(start_month+1, end_month):\n",
        "            sum1 += days[i]\n",
        "        sum1 += end_day\n",
        "\n",
        "    print('#{} {}'.format(t,sum1))"
      ],
      "metadata": {
        "id": "jM5Lb8mqf0cZ"
      },
      "execution_count": null,
      "outputs": []
    },
    {
      "cell_type": "markdown",
      "source": [
        "## 1954. 달팽이 숫자\n",
        "\n",
        "달팽이는 1부터 N*N까지의 숫자가 시계방향으로 이루어져 있다.\n",
        "\n",
        "다음과 같이 정수 N을 입력 받아 N크기의 달팽이를 출력하시오.\n",
        "\n",
        "\n",
        "[예제]\n",
        "\n",
        "N이 3일 경우,\n",
        "\n",
        "\n",
        "\n",
        "\n",
        "N이 4일 경우,\n",
        "\n",
        "\n",
        "\n",
        "[제약사항]\n",
        "\n",
        "달팽이의 크기 N은 1 이상 10 이하의 정수이다. (1 ≤ N ≤ 10)\n",
        "\n",
        "\n",
        "[입력]\n",
        "\n",
        "가장 첫 줄에는 테스트 케이스의 개수 T가 주어지고, 그 아래로 각 테스트 케이스가 주어진다.\n",
        "\n",
        "각 테스트 케이스에는 N이 주어진다.\n",
        "\n",
        "\n",
        "[출력]\n",
        "\n",
        "각 줄은 '#t'로 시작하고, 다음 줄부터 빈칸을 사이에 두고 달팽이 숫자를 출력한다.\n",
        "\n",
        "(t는 테스트 케이스의 번호를 의미하며 1부터 시작한다.)\n"
      ],
      "metadata": {
        "id": "bz1MnHb3kK_H"
      }
    },
    {
      "cell_type": "code",
      "source": [],
      "metadata": {
        "id": "v5Y-OI8fkNYI"
      },
      "execution_count": null,
      "outputs": []
    },
    {
      "cell_type": "markdown",
      "source": [
        "### 정답"
      ],
      "metadata": {
        "id": "RfTTwvJrkLTp"
      }
    },
    {
      "cell_type": "code",
      "source": [
        "T = int(input())\n",
        "for t in range(1, T+1):\n",
        "    N = int(input())\n",
        "    arr = [[0] * N for _ in range(N)]\n",
        "    x, y = 0,0\n",
        "    num = 1\n",
        "    d = 0\n",
        "\n",
        "    dx = [0, 1, 0, -1] # 우하좌상\n",
        "    dy = [1, 0, -1, 0]\n",
        "\n",
        "    for i in range(N*N):\n",
        "        arr[x][y] = num\n",
        "\n",
        "        nx, ny = x + dx[d], y + dy[d]\n",
        "\n",
        "        if 0 <= nx < N and 0 <= ny < N and arr[nx][ny] == 0:\n",
        "            x, y = nx, ny\n",
        "        else:\n",
        "            d = (d+1)%4\n",
        "            x, y = x + dx[d], y + dy[d]\n",
        "\n",
        "        num += 1\n",
        "\n",
        "    print(f\"#{t}\")\n",
        "    for row in arr:\n",
        "        print(\" \".join(map(str, row)))\n"
      ],
      "metadata": {
        "id": "sOuwfn0FkLI2"
      },
      "execution_count": null,
      "outputs": []
    },
    {
      "cell_type": "markdown",
      "source": [
        "## 1979. 어디에 단어가 들어갈 수 있을까\n",
        "\n",
        "N X N 크기의 단어 퍼즐을 만들려고 한다. 입력으로 단어 퍼즐의 모양이 주어진다.\n",
        "\n",
        "주어진 퍼즐 모양에서 특정 길이 K를 갖는 단어가 들어갈 수 있는 자리의 수를 출력하는 프로그램을 작성하라.\n",
        "\n",
        "[예제]\n",
        "\n",
        "N = 5, K = 3 이고, 퍼즐의 모양이 아래 그림과 같이 주어졌을 때\n",
        "\n",
        "\n",
        "\n",
        "\n",
        "길이가 3 인 단어가 들어갈 수 있는 자리는 2 곳(가로 1번, 가로 4번)이 된다.\n",
        "\n",
        "\n",
        "\n",
        "[제약 사항]\n",
        "\n",
        "1. N은 5 이상 15 이하의 정수이다. (5 ≤ N ≤ 15)\n",
        "\n",
        "2. K는 2 이상 N 이하의 정수이다. (2 ≤ K ≤ N)\n",
        "\n",
        "\n",
        "[입력]\n",
        "\n",
        "입력은 첫 줄에 총 테스트 케이스의 개수 T가 온다.\n",
        "\n",
        "다음 줄부터 각 테스트 케이스가 주어진다.\n",
        "\n",
        "테스트 케이스의 첫 번째 줄에는 단어 퍼즐의 가로, 세로 길이 N 과, 단어의 길이 K 가 주어진다.\n",
        "\n",
        "테스트 케이스의 두 번째 줄부터 퍼즐의 모양이 2차원 정보로 주어진다.\n",
        "\n",
        "퍼즐의 각 셀 중, 흰색 부분은 1, 검은색 부분은 0 으로 주어진다.\n",
        "\n",
        "\n",
        "[출력]\n",
        "\n",
        "테스트 케이스 t에 대한 결과는 “#t”을 찍고, 한 칸 띄고, 정답을 출력한다.\n",
        "\n",
        "(t는 테스트 케이스의 번호를 의미하며 1부터 시작한다.)"
      ],
      "metadata": {
        "id": "JUkXcX910Jo-"
      }
    },
    {
      "cell_type": "code",
      "source": [],
      "metadata": {
        "id": "2lms7sWQ0Jz-"
      },
      "execution_count": null,
      "outputs": []
    },
    {
      "cell_type": "markdown",
      "source": [
        "### 정답"
      ],
      "metadata": {
        "id": "PBef5naP0KAv"
      }
    },
    {
      "cell_type": "code",
      "source": [
        "T = int(input())\n",
        "for t in range(1, T+1):\n",
        "    N, K = list(map(int, input().split()))\n",
        "    puzzle = [list(map(int, input().split())) for _ in range(N)]\n",
        "    answer = 0\n",
        "\n",
        "    for i in range(N):\n",
        "        cnt = 0\n",
        "        for j in range(N):\n",
        "            if puzzle[i][j] == 1:\n",
        "                cnt += 1\n",
        "            else:\n",
        "                if cnt == K:\n",
        "                    answer += 1\n",
        "                cnt = 0\n",
        "        if cnt == K:\n",
        "            answer += 1\n",
        "\n",
        "    for j in range(N):\n",
        "        cnt = 0\n",
        "        for i in range(N):\n",
        "            if puzzle[i][j] == 1:\n",
        "                cnt += 1\n",
        "            else:\n",
        "                if cnt == K:\n",
        "                    answer += 1\n",
        "                cnt = 0\n",
        "        if cnt == K:\n",
        "            answer += 1\n",
        "\n",
        "    print(f\"#{t} {answer}\")"
      ],
      "metadata": {
        "id": "FhCpEQMO0KKn"
      },
      "execution_count": null,
      "outputs": []
    },
    {
      "cell_type": "markdown",
      "source": [
        "## 1976. 시각 덧셈\n",
        "\n",
        "시 분으로 이루어진 시각을 2개 입력 받아, 더한 값을 시 분으로 출력하는 프로그램을 작성하라.\n",
        "\n",
        "(시각은 12시간제로 표시한다. 즉, 시가 가질 수 있는 값은 1시부터 12시이다.)\n",
        "\n",
        "\n",
        "[제약 사항]\n",
        "\n",
        "시는 1 이상 12 이하의 정수이다. 분은 0 이상 59 이하의 정수이다.\n",
        "\n",
        "\n",
        "[입력]\n",
        "\n",
        "가장 첫 줄에는 테스트 케이스의 개수 T가 주어지고, 그 아래로 각 테스트 케이스가 주어진다.\n",
        "\n",
        "각 테스트 케이스의 첫 번째 줄에는 4개의 수가 주어진다.\n",
        "\n",
        "첫 번째 수가 시를 나타내고 두 번째 수가 분을 나타낸다. 그 다음 같은 형식으로 두 번째 시각이 주어진다.\n",
        "\n",
        "\n",
        "[출력]\n",
        "\n",
        "출력의 각 줄은 '#t'로 시작하고 공백을 한 칸 둔 다음, 시를 출력하고 공백을 한 칸 둔 다음 분을 출력한다.\n",
        "\n",
        "(t는 테스트 케이스의 번호를 의미하며 1부터 시작한다.)\n",
        "\n"
      ],
      "metadata": {
        "id": "3Nlj4J7RMi37"
      }
    },
    {
      "cell_type": "code",
      "source": [],
      "metadata": {
        "id": "R8WQmia_Ma26"
      },
      "execution_count": null,
      "outputs": []
    },
    {
      "cell_type": "markdown",
      "source": [
        "### 정답"
      ],
      "metadata": {
        "id": "yzNd_C2UMjRj"
      }
    },
    {
      "cell_type": "code",
      "source": [
        "T = int(input())\n",
        "for t in range(1, T+1):\n",
        "    hour1, min1, hour2, min2 = list(map(int, input().split()))\n",
        "\n",
        "    time = (hour1 * 60) + (hour2 * 60) + min1 + min2\n",
        "\n",
        "    sum_time = (time // 60)%12\n",
        "    sum_min = (time % 60)\n",
        "    if sum_time == 0:\n",
        "        sum_time = 12\n",
        "\n",
        "    print(f\"#{t} {sum_time} {sum_min}\")"
      ],
      "metadata": {
        "id": "DT_ss0KbMjYi"
      },
      "execution_count": null,
      "outputs": []
    },
    {
      "cell_type": "markdown",
      "source": [
        "## 1970. 쉬운 거스름돈\n",
        "\n",
        "우리나라 화폐 ‘원’은 금액이 높은 돈을 우선적으로 계산할 때 돈의 개수가 가장 최소가 된다.\n",
        "\n",
        "S마켓에서 사용하는 돈의 종류는 다음과 같다.\n",
        "50,000 원\n",
        "10,000 원\n",
        "5,000 원\n",
        "1,000 원\n",
        "500 원\n",
        "100 원\n",
        "50 원\n",
        "10 원\n",
        "\n",
        "S마켓에서 손님에게 거슬러 주어야 할 금액 N이 입력되면 돈의 최소 개수로 거슬러 주기 위하여 각 종류의 돈이 몇 개씩 필요한지 출력하라.\n",
        "\n",
        "\n",
        "[예제]\n",
        "\n",
        "N이 32850일 경우,\n",
        "50,000 원 : 0개\n",
        "10,000 원 : 3개\n",
        "5,000 원 : 0개\n",
        "1,000 원 : 2개\n",
        "500 원 : 1개\n",
        "100 원 : 3개\n",
        "50 원 : 1개\n",
        "10 원 : 0개\n",
        "\n",
        "\n",
        "[제약 사항]\n",
        "\n",
        "1. N은 10이상 1,000,000이하의 정수이다. (10 ≤ N ≤ 1,000,000)\n",
        "\n",
        "2. N의 마지막 자릿수는 항상 0이다. (ex : 32850)\n",
        "\n",
        "\n",
        "[입력]\n",
        "\n",
        "가장 첫 줄에는 테스트 케이스의 개수 T가 주어지고, 그 아래로 각 테스트 케이스가 주어진다.\n",
        "\n",
        "각 테스트 케이스에는 N이 주어진다.\n",
        "\n",
        "\n",
        "[출력]\n",
        "\n",
        "각 줄은 '#t'로 시작하고, 다음줄에 각 돈의 종류마다 필요한 개수를 빈칸을 사이에 두고 출력한다.\n",
        "\n",
        "(t는 테스트 케이스의 번호를 의미하며 1부터 시작한다.)\n",
        "\n"
      ],
      "metadata": {
        "id": "oN97JClmRe-a"
      }
    },
    {
      "cell_type": "code",
      "source": [],
      "metadata": {
        "id": "OlfOErQDRfK6"
      },
      "execution_count": null,
      "outputs": []
    },
    {
      "cell_type": "markdown",
      "source": [
        "### 정답"
      ],
      "metadata": {
        "id": "Dw4tI3eSRfbS"
      }
    },
    {
      "cell_type": "code",
      "source": [
        "T = int(input())\n",
        "for t in range(1, T+1):\n",
        "    money = int(input())\n",
        "    sample = [50000, 10000, 5000, 1000, 500, 100, 50, 10]\n",
        "    count = [0]*8\n",
        "\n",
        "    for i in range(len(sample)):\n",
        "        if money // sample[i] != 0:\n",
        "            A = money // sample[i]\n",
        "            count[i] += A\n",
        "            money = money - sample[i] * A\n",
        "\n",
        "    print(f\"#{t}\")\n",
        "    print(*count)"
      ],
      "metadata": {
        "id": "QEKLn-ITRfk7"
      },
      "execution_count": null,
      "outputs": []
    },
    {
      "cell_type": "markdown",
      "source": [
        "## 1966. 숫자를 정렬하자\n",
        "\n",
        "\n",
        "주어진 N 길이의 숫자열을 오름차순으로 정렬하여 출력하라.\n",
        "\n",
        "[제약 사항]\n",
        "\n",
        "N 은 5 이상 50 이하이다.\n",
        "\n",
        "\n",
        "[입력]\n",
        "\n",
        "가장 첫 줄에는 테스트 케이스의 개수 T가 주어지고, 그 아래로 각 테스트 케이스가 주어진다.\n",
        "\n",
        "각 테스트 케이스의 첫 번째 줄에 N 이 주어지고, 다음 줄에 N 개의 숫자가 주어진다.\n",
        "\n",
        "\n",
        "[출력]\n",
        "\n",
        "출력의 각 줄은 '#t'로 시작하고, 공백을 한 칸 둔 다음 정답을 출력한다.\n",
        "\n",
        "(t는 테스트 케이스의 번호를 의미하며 1부터 시작한다.)"
      ],
      "metadata": {
        "id": "uEbzkz6Mdlp2"
      }
    },
    {
      "cell_type": "code",
      "source": [],
      "metadata": {
        "id": "doZmUdsydl0t"
      },
      "execution_count": null,
      "outputs": []
    },
    {
      "cell_type": "markdown",
      "source": [
        "### 정답"
      ],
      "metadata": {
        "id": "u_anXelrd6U2"
      }
    },
    {
      "cell_type": "code",
      "source": [
        "T = int(input())\n",
        "for t in range(1, T+1):\n",
        "    N = int(input())\n",
        "    number = list(map(int, input().split()))\n",
        "\n",
        "    number.sort()\n",
        "\n",
        "    print(f\"#{t} {' '.join(map(str, number))}\")"
      ],
      "metadata": {
        "id": "eln4bCr-d6ck"
      },
      "execution_count": null,
      "outputs": []
    },
    {
      "cell_type": "markdown",
      "source": [
        "## 1983. 조교의 성적 매기기\n",
        "\n",
        "학기가 끝나고, 학생들의 점수로 학점을 계산중이다.\n",
        "\n",
        "학점은 상대평가로 주어지는데, 총 10개의 평점이 있다.\n",
        "\n",
        "\n",
        "학점은 학생들이 응시한 중간/기말고사 점수 결과 및 과제 점수가 반영한다.\n",
        "\n",
        "각각 아래 비율로 반영된다.\n",
        "\n",
        "\n",
        "10 개의 평점을 총점이 높은 순서대로 부여하는데,\n",
        "\n",
        "각각의 평점은 같은 비율로 부여할 수 있다.\n",
        "\n",
        "예를 들어, N 명의 학생이 있을 경우 N/10 명의 학생들에게 동일한 평점을 부여할 수 있다.\n",
        "\n",
        "입력으로 각각의 학생들의 중간, 기말, 과제 점수가 주어지고,\n",
        "\n",
        "학점을 알고싶은 K 번째 학생의 번호가 주어졌을 때,\n",
        "\n",
        "K 번째 학생의 학점을 출력하는 프로그램을 작성하라.\n",
        "\n",
        "\n",
        "[제약사항]\n",
        "\n",
        "1. N은 항상 10의 배수이며, 10이상 100이하의 정수이다. (10 ≤ N ≤ 100)\n",
        "\n",
        "2. K는 1 이상 N 이하의 정수이다. (1 ≤ K ≤ N)\n",
        "\n",
        "3. K 번째 학생의 총점과 다른 학생의 총점이 동일한 경우는 입력으로 주어지지 않는다.\n",
        "\n",
        "\n",
        "[입력]\n",
        "\n",
        "입력은 첫 줄에 총 테스트 케이스의 개수 T가 온다.\n",
        "\n",
        "다음 줄부터 각 테스트 케이스가 주어진다.\n",
        "\n",
        "테스트 케이스의 첫 번째 줄은 학생수 N 과, 학점을 알고싶은 학생의 번호 K 가 주어진다.\n",
        "\n",
        "테스트 케이스 두 번째 줄 부터 각각의 학생이 받은 시험 및 과제 점수가 주어진다.\n",
        "\n",
        "\n",
        "[출력]\n",
        "\n",
        "테스트 케이스 t에 대한 결과는 “#t”을 찍고, 한 칸 띄고, 정답을 출력한다.\n",
        "\n",
        "(t는 테스트 케이스의 번호를 의미하며 1부터 시작한다.)\n"
      ],
      "metadata": {
        "id": "guba4e5Ofycq"
      }
    },
    {
      "cell_type": "code",
      "source": [],
      "metadata": {
        "id": "UNo3o7Vsfyvb"
      },
      "execution_count": null,
      "outputs": []
    },
    {
      "cell_type": "markdown",
      "source": [
        "### 정답"
      ],
      "metadata": {
        "id": "6bXnpzH6fy3T"
      }
    },
    {
      "cell_type": "code",
      "source": [
        "T = int(input())\n",
        "\n",
        "for t in range(1, T+1):\n",
        "    N, K = map(int, input().split())\n",
        "    grades = ['A+', 'A0', 'A-', 'B+', 'B0', 'B-', 'C+', 'C0', 'C-', 'D0']\n",
        "    scores = []\n",
        "\n",
        "    for i in range(N):\n",
        "        mid, final, homework = map(int, input().split())\n",
        "        total = (mid * 0.35) + (final * 0.45) + (homework * 0.20)\n",
        "        scores.append(total)\n",
        "\n",
        "    target_score = scores[K-1]  # K번째 학생의 총점 저장\n",
        "    scores.sort(reverse=True)  # 점수를 내림차순 정렬\n",
        "\n",
        "    rank = scores.index(target_score)  # K번째 학생이 몇 등인지 찾기\n",
        "    index = rank // (N // 10)  # 학점 그룹 나누기\n",
        "\n",
        "    print(f\"#{t} {grades[index]}\")  # 정답 출력"
      ],
      "metadata": {
        "id": "Dkvb8bAZfzGE"
      },
      "execution_count": null,
      "outputs": []
    },
    {
      "cell_type": "markdown",
      "source": [
        "## 1984. 중간 평균값 구하기\n",
        "\n",
        "10개의 수를 입력 받아, 최대 수와 최소 수를 제외한 나머지의 평균값을 출력하는 프로그램을 작성하라.\n",
        "\n",
        "(소수점 첫째 자리에서 반올림한 정수를 출력한다.)\n",
        "\n",
        "\n",
        "[제약 사항]\n",
        "\n",
        "각 수는 0 이상 10000 이하의 정수이다.\n",
        "\n",
        "\n",
        "[입력]\n",
        "\n",
        "가장 첫 줄에는 테스트 케이스의 개수 T가 주어지고, 그 아래로 각 테스트 케이스가 주어진다.\n",
        "\n",
        "각 테스트 케이스의 첫 번째 줄에는 10개의 수가 주어진다.\n",
        "\n",
        "\n",
        "[출력]\n",
        "\n",
        "출력의 각 줄은 '#t'로 시작하고, 공백을 한 칸 둔 다음 정답을 출력한다.\n",
        "\n",
        "(t는 테스트 케이스의 번호를 의미하며 1부터 시작한다.)"
      ],
      "metadata": {
        "id": "Ow7R9mH3mFdH"
      }
    },
    {
      "cell_type": "code",
      "source": [],
      "metadata": {
        "id": "WTtpyWR6Q5dU"
      },
      "execution_count": null,
      "outputs": []
    },
    {
      "cell_type": "markdown",
      "source": [
        "### 정답"
      ],
      "metadata": {
        "id": "UNqGEoSuHMGF"
      }
    },
    {
      "cell_type": "code",
      "source": [],
      "metadata": {
        "id": "MF-7d_7OHMUH"
      },
      "execution_count": null,
      "outputs": []
    },
    {
      "cell_type": "markdown",
      "source": [
        "## 1986. 지그재그 숫자\n",
        "\n",
        "1부터 N까지의 숫자에서 홀수는 더하고 짝수는 뺐을 때 최종 누적된 값을 구해보자.\n",
        "\n",
        "\n",
        "[예제 풀이]\n",
        "\n",
        "N이 5일 경우,\n",
        "\n",
        "1 – 2 + 3 – 4 + 5 = 3\n",
        "\n",
        "N이 6일 경우,\n",
        "\n",
        "1 – 2 + 3 – 4 + 5 – 6 = -3\n",
        "\n",
        "\n",
        "[제약사항]\n",
        "\n",
        "N은 1 이상 10 이하의 정수이다. (1 ≤ N ≤ 10)\n",
        "\n",
        "\n",
        "[입력]\n",
        "\n",
        "가장 첫 줄에는 테스트 케이스의 개수 T가 주어지고, 그 아래로 각 테스트 케이스가 주어진다.\n",
        "\n",
        "각 테스트 케이스에는 N이 주어진다.\n",
        "\n",
        "\n",
        "[출력]\n",
        "\n",
        "각 줄은 '#t'로 시작하고, 공백을 한 칸 둔 다음 누적된 값을 출력한다.\n",
        "\n",
        "(t는 테스트 케이스의 번호를 의미하며 1부터 시작한다.)"
      ],
      "metadata": {
        "id": "TY_ALRldQ5WO"
      }
    },
    {
      "cell_type": "code",
      "source": [],
      "metadata": {
        "id": "9ffDDYUTHL_Q"
      },
      "execution_count": null,
      "outputs": []
    },
    {
      "cell_type": "markdown",
      "source": [
        "### 정답"
      ],
      "metadata": {
        "id": "7o149R-JRBVc"
      }
    },
    {
      "cell_type": "code",
      "source": [],
      "metadata": {
        "id": "UXVxscxHRApj"
      },
      "execution_count": null,
      "outputs": []
    },
    {
      "cell_type": "markdown",
      "source": [
        "## 1989. 초심자의 회문 검사\n",
        "\n",
        "\"level\" 과 같이 거꾸로 읽어도 제대로 읽은 것과 같은 문장이나 낱말을 회문(回文, palindrome)이라 한다.\n",
        "\n",
        "단어를 입력 받아 회문이면 1을 출력하고, 아니라면 0을 출력하는 프로그램을 작성하라.\n",
        "\n",
        "\n",
        "[제약 사항]\n",
        "\n",
        "각 단어의 길이는 3 이상 10 이하이다.\n",
        "\n",
        "\n",
        "[입력]\n",
        "\n",
        "가장 첫 줄에는 테스트 케이스의 개수 T가 주어지고, 그 아래로 각 테스트 케이스가 주어진다.\n",
        "\n",
        "각 테스트 케이스의 첫 번째 줄에 하나의 단어가 주어진다.\n",
        "\n",
        "\n",
        "[출력]\n",
        "\n",
        "출력의 각 줄은 '#t'로 시작하고, 공백을 한 칸 둔 다음 정답을 출력한다.\n",
        "\n",
        "(t는 테스트 케이스의 번호를 의미하며 1부터 시작한다.)"
      ],
      "metadata": {
        "id": "VyA_XK9lYEBX"
      }
    },
    {
      "cell_type": "code",
      "source": [],
      "metadata": {
        "id": "uxlpyQuoYSvF"
      },
      "execution_count": null,
      "outputs": []
    },
    {
      "cell_type": "markdown",
      "source": [
        "### 정답"
      ],
      "metadata": {
        "id": "-rFQlsb-YS3u"
      }
    },
    {
      "cell_type": "code",
      "source": [
        "T = int(input())\n",
        "for t in range(1, T+1):\n",
        "    word = input()\n",
        "    length = len(word)\n",
        "    is_palindrome = True\n",
        "\n",
        "    for i in range(length // 2):\n",
        "        if word[i] != word[length - 1 - i]:\n",
        "            is_palindrome = False\n",
        "            break\n",
        "\n",
        "    print(f\"#{t} {1 if is_palindrome else 0}\")"
      ],
      "metadata": {
        "id": "WdKURoQwYELO"
      },
      "execution_count": null,
      "outputs": []
    },
    {
      "cell_type": "markdown",
      "source": [
        "2001. 파리 퇴치\n",
        "\n",
        "N x N 배열 안의 숫자는 해당 영역에 존재하는 파리의 개수를 의미한다.\n",
        "\n",
        "아래는 N=5 의 예이다.\n",
        "\n",
        "\n",
        "\n",
        "\n",
        "M x M 크기의 파리채를 한 번 내리쳐 최대한 많은 파리를 죽이고자 한다.\n",
        "\n",
        "죽은 파리의 개수를 구하라!\n",
        "\n",
        "예를 들어 M=2 일 경우 위 예제의 정답은 49마리가 된다.\n",
        "\n",
        "\n",
        "\n",
        "\n",
        "[제약 사항]\n",
        "\n",
        "1. N 은 5 이상 15 이하이다.\n",
        "\n",
        "2. M은 2 이상 N 이하이다.\n",
        "\n",
        "3. 각 영역의 파리 갯수는 30 이하 이다.\n",
        "\n",
        "\n",
        "[입력]\n",
        "\n",
        "가장 첫 줄에는 테스트 케이스의 개수 T가 주어지고, 그 아래로 각 테스트 케이스가 주어진다.\n",
        "\n",
        "각 테스트 케이스의 첫 번째 줄에 N 과 M 이 주어지고,\n",
        "\n",
        "다음 N 줄에 걸쳐 N x N 배열이 주어진다.\n",
        "\n",
        "\n",
        "[출력]\n",
        "\n",
        "출력의 각 줄은 '#t'로 시작하고, 공백을 한 칸 둔 다음 정답을 출력한다.\n",
        "\n",
        "(t는 테스트 케이스의 번호를 의미하며 1부터 시작한다.)"
      ],
      "metadata": {
        "id": "SSAmOmpFYWAl"
      }
    },
    {
      "cell_type": "code",
      "source": [],
      "metadata": {
        "id": "S4LearECYVYl"
      },
      "execution_count": null,
      "outputs": []
    },
    {
      "cell_type": "markdown",
      "source": [
        "### 정답"
      ],
      "metadata": {
        "id": "itBt6_WTYVh1"
      }
    },
    {
      "cell_type": "code",
      "source": [
        "T = int(input())\n",
        "for t in range(1, T+1):\n",
        "    N, M = map(int, input().split())\n",
        "    fly = [list(map(int, input().split())) for _ in range(N)]\n",
        "\n",
        "    max_fly = 0\n",
        "\n",
        "    for i in range(N - M + 1):  # N-M 범위까지만 탐색해야 함\n",
        "        for j in range(N - M + 1):\n",
        "            curr_fly = 0\n",
        "\n",
        "            for x in range(M):\n",
        "                for y in range(M):\n",
        "                    curr_fly += fly[i + x][j + y]\n",
        "\n",
        "            max_fly = max(max_fly, curr_fly)  # 최대값 갱신\n",
        "\n",
        "    print(f\"#{t} {max_fly}\")\n"
      ],
      "metadata": {
        "id": "iVw51eRKYWoG"
      },
      "execution_count": null,
      "outputs": []
    },
    {
      "cell_type": "markdown",
      "source": [
        "21425. +=\n",
        "\n",
        "C, C++, Python, Java 등의 언어에는 += 연산자가 있다. 정수형 변수 x, y가 있을 때 “x += y”를 하면 x에 저장된 값이 (기존에 x에 저장되어 있던 값) + (기존에 y에 저장되어 있던 값)으로 바뀐다.\n",
        "\n",
        "\n",
        "\n",
        "현재 x에 저장된 값은 A, y에 저장된 값은 B이다. 당신은 “x += y” 또는 “y += x” 연산을 원하는 순서대로 원하는 만큼 수행하여, x나 y 둘 중 하나 이상에 저장된 값이 N 초과가 되게 하려고 한다. 연산을 합쳐서 최소 몇 번 수행해야 하는지 계산하는 프로그램을 작성하라.\n",
        "\n",
        "\n",
        "\n",
        "입력\n",
        "\n",
        "첫 번째 줄에 테스트 케이스의 수 T가 주어진다.\n",
        "\n",
        "각 테스트 케이스는 한 개의 줄로 이루어진다. 각 줄에는 세 개의 정수 이 공백 하나씩을 사이로 두고 주어진다.\n",
        "\n",
        "테스트 케이스의 개수는 600,000개 이상으로 상당히 많음에 유의하라.\n",
        "\n",
        "\n",
        "\n",
        "출력\n",
        "\n",
        "\n",
        "\n",
        "각 테스트 케이스마다, 한 줄에 하나씩 x나 y 둘 중 하나 이상에 저장된 값이 N 초과가 되게 하기 위해 “x += y”, “y += x” 연산을 최소 몇 번 수행해야 하는지 출력한다.\n",
        "\n"
      ],
      "metadata": {
        "id": "fmQDjBapiJID"
      }
    },
    {
      "cell_type": "code",
      "source": [],
      "metadata": {
        "id": "mNctm8VQiJWl"
      },
      "execution_count": null,
      "outputs": []
    },
    {
      "cell_type": "markdown",
      "source": [
        "### 정답"
      ],
      "metadata": {
        "id": "0zO8-s-ViJm9"
      }
    },
    {
      "cell_type": "code",
      "source": [
        "T = int(input())\n",
        "for t in range(1, T+1):\n",
        "    A, B, N = list(map(int, input().split()))\n",
        "\n",
        "    cnt = 0\n",
        "    while A < N or B < N:\n",
        "        if A >= B:\n",
        "            B = A + B\n",
        "            cnt += 1\n",
        "        else :\n",
        "            A = A + B\n",
        "            cnt += 1\n",
        "    print(cnt)"
      ],
      "metadata": {
        "id": "KhppVLi2iJtU"
      },
      "execution_count": null,
      "outputs": []
    },
    {
      "cell_type": "markdown",
      "source": [
        "## 1926. 간단한 369게임\n",
        "\n",
        "3 6 9 게임을 프로그램으로 제작중이다. 게임 규칙은 다음과 같다.\n",
        "\n",
        "\n",
        "\n",
        "1. 숫자 1부터 순서대로 차례대로 말하되, “3” “6” “9” 가 들어가 있는 수는 말하지 않는다.\n",
        "\n",
        "  1 2 3 4 5 6 7 8 9…\n",
        "\n",
        "2. \"3\" \"6\" \"9\"가 들어가 있는 수를 말하지 않는대신, 박수를 친다. 이 때, 박수는 해당 숫자가 들어간 개수만큼 쳐야 한다.  \n",
        "예를 들어 숫자 35의 경우 박수 한 번, 숫자 36의 경우 박수를 두번 쳐야 한다.\n",
        "\n",
        "\n",
        "입력으로 정수 N 이 주어졌을 때, 1~N 까지의 숫자를\n",
        "\n",
        "게임 규칙에 맞게 출력하는 프로그램을 작성하라.\n",
        "\n",
        "박수를 치는 부분은 숫자 대신, 박수 횟수에 맞게 “-“ 를 출력한다.\n",
        "\n",
        "여기서 주의해야 할 것은 박수 한 번 칠 때는 - 이며, 박수를 두 번 칠 때는 - - 가 아닌 -- 이다.\n",
        "\n",
        "\n",
        "[제약사항]\n",
        "\n",
        "N은 10이상 1,000이하의 정수이다. (10 ≤ N ≤ 1,000)\n",
        "\n",
        "\n",
        "\n",
        "[입력]\n",
        "\n",
        "입력으로 정수 N 이 주어진다.\n",
        "\n",
        "\n",
        "[출력]\n",
        "\n",
        "1 ~ N까지의 숫자를 게임 규칙에 맞게 출력한다.\n",
        "\n"
      ],
      "metadata": {
        "id": "9cUkD2g0u5Lq"
      }
    },
    {
      "cell_type": "code",
      "source": [
        "T = int(input())\n",
        "for t in range(1, T+1):\n",
        "    N = int(input())"
      ],
      "metadata": {
        "id": "gY_KO5Bou5So"
      },
      "execution_count": null,
      "outputs": []
    },
    {
      "cell_type": "markdown",
      "source": [
        "### 정답"
      ],
      "metadata": {
        "id": "_HeVjgx-u5Zb"
      }
    },
    {
      "cell_type": "code",
      "source": [],
      "metadata": {
        "id": "U6MYX8FWu5hQ"
      },
      "execution_count": null,
      "outputs": []
    }
  ]
}