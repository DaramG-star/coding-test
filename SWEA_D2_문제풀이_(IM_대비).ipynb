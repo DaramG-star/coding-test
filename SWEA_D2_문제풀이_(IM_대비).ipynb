{
  "nbformat": 4,
  "nbformat_minor": 0,
  "metadata": {
    "colab": {
      "provenance": [],
      "authorship_tag": "ABX9TyNpanrfFkk+nnove4kRNKhg",
      "include_colab_link": true
    },
    "kernelspec": {
      "name": "python3",
      "display_name": "Python 3"
    },
    "language_info": {
      "name": "python"
    }
  },
  "cells": [
    {
      "cell_type": "markdown",
      "metadata": {
        "id": "view-in-github",
        "colab_type": "text"
      },
      "source": [
        "<a href=\"https://colab.research.google.com/github/DaramG-star/coding-test/blob/main/SWEA_D2_%EB%AC%B8%EC%A0%9C%ED%92%80%EC%9D%B4_(IM_%EB%8C%80%EB%B9%84).ipynb\" target=\"_parent\"><img src=\"https://colab.research.google.com/assets/colab-badge.svg\" alt=\"Open In Colab\"/></a>"
      ]
    },
    {
      "cell_type": "markdown",
      "source": [
        "## 1204. [S/W 문제해결 기본] 1일차 - 최빈수 구하기\n",
        "\n",
        "어느 고등학교에서 실시한 1000명의 수학 성적을 토대로 통계 자료를 만들려고 한다.\n",
        "\n",
        "이때, 이 학교에서는 최빈수를 이용하여 학생들의 평균 수준을 짐작하는데, 여기서 최빈수는 특정 자료에서 가장 여러 번 나타나는 값을 의미한다.\n",
        "\n",
        "다음과 같은 수 분포가 있으면,\n",
        "\n",
        "10, 8, 7, 2, 2, 4, 8, 8, 8, 9, 5, 5, 3\n",
        "\n",
        "최빈수는 8이 된다.\n",
        "\n",
        "최빈수를 출력하는 프로그램을 작성하여라 (단, 최빈수가 여러 개 일 때에는 가장 큰 점수를 출력하라).\n",
        "\n",
        "[제약 사항]\n",
        "\n",
        "학생의 수는 1000명이며, 각 학생의 점수는 0점 이상 100점 이하의 값이다.\n",
        "\n",
        "[입력]\n",
        "\n",
        "첫 번째 줄에 테스트 케이스의 수 T가 주어진다.\n",
        "\n",
        "각 테스트 케이스의 첫 줄에는 테스트 케이스의 번호가 주어지고 그 다음 줄부터는 점수가 주어진다.\n",
        "\n",
        "[출력]\n",
        "\n",
        "'#'부호와 함께 테스트 케이스의 번호를 출력하고, 공백 문자 후 테스트 케이스에 대한 답을 출력한다."
      ],
      "metadata": {
        "id": "Iti-ngZBPdEV"
      }
    },
    {
      "cell_type": "code",
      "source": [],
      "metadata": {
        "id": "vT03vTRKPr29"
      },
      "execution_count": null,
      "outputs": []
    },
    {
      "cell_type": "markdown",
      "source": [
        "### 정답"
      ],
      "metadata": {
        "id": "PitLFgmiPsMj"
      }
    },
    {
      "cell_type": "code",
      "execution_count": null,
      "metadata": {
        "id": "DNZolLKwPZYZ"
      },
      "outputs": [],
      "source": [
        "T = int(input())\n",
        "for t in range(1, T+1):\n",
        "    no = int(input())\n",
        "    num_lst = list(map(int, input().split()))\n",
        "    max_arr = 0\n",
        "    max_i = 0\n",
        "\n",
        "    arr = [0] * (max(num_lst)+1)\n",
        "\n",
        "    for num in num_lst:\n",
        "        arr[num] += 1\n",
        "\n",
        "    for i in range(len(arr)):\n",
        "        if arr[i] >= max_arr:\n",
        "            max_arr = arr[i]\n",
        "            max_i = i\n",
        "\n",
        "    print(f\"#{t} {max_i}\")"
      ]
    },
    {
      "cell_type": "markdown",
      "source": [
        "## 1284. 수도 요금 경쟁\n",
        "\n",
        "삼성전자에 입사한 종민이는 회사 근처로 이사를 하게 되었다.\n",
        "\n",
        "그런데 집의 위치가 두 수도 회사 A, B 중간에 위치하기에 원하는 수도 회사를 선택할 수 있게 되었는데, 두 회사 중 더 적게 수도 요금을 부담해도 되는 회사를 고르려고 한다.\n",
        "\n",
        "종민이가 알아본 결과 두 회사의 수도 요금은 한 달 동안 사용한 수도의 양에 따라 다음과 같이 정해진다.\n",
        "\n",
        "A사 : 1리터당 P원의 돈을 내야 한다.\n",
        "\n",
        "B사 : 기본 요금이 Q원이고, 월간 사용량이 R리터 이하인 경우 요금은 기본 요금만 청구된다. 하지만 R 리터보다 많은 양을 사용한 경우 초과량에 대해 1리터당 S원의 요금을 더 내야 한다.\n",
        "\n",
        "종민이의 집에서 한 달간 사용하는 수도의 양이 W리터라고 할 때, 요금이 더 저렴한 회사를 골라 그 요금을 출력하는 프로그램을 작성하라.\n",
        "\n",
        "[입력]\n",
        "\n",
        "첫 번째 줄에 테스트 케이스의 수 T가 주어진다.\n",
        "\n",
        "각 테스트 케이스마다 첫 번째 줄에 위 본문에서 설명한 대로 P, Q, R, S, W(1 ≤ P, Q, R, S, W ≤ 10000, 자연수)가 순서대로 공백 하나로 구분되어 주어진다.\n",
        "\n",
        "[출력]\n",
        "\n",
        "각 테스트 케이스마다 ‘#x’(x는 테스트케이스 번호를 의미하며 1부터 시작한다)를 출력하고, 종민이가 내야 하는 수도 요금을 출력한다."
      ],
      "metadata": {
        "id": "UsbwXngYPzRC"
      }
    },
    {
      "cell_type": "code",
      "source": [],
      "metadata": {
        "id": "4fj7i8xyRCMi"
      },
      "execution_count": null,
      "outputs": []
    },
    {
      "cell_type": "markdown",
      "source": [
        "### 정답"
      ],
      "metadata": {
        "id": "TTActl4PRDPx"
      }
    },
    {
      "cell_type": "code",
      "source": [
        "T = int(input())\n",
        "for t in range(1, T+1):\n",
        "    P, Q, R, S, W = list(map(int, input().split()))\n",
        "\n",
        "    A = P * W\n",
        "\n",
        "    if W <= R:\n",
        "        B = Q\n",
        "    elif W > R:\n",
        "        B = Q + (W-R)*S\n",
        "\n",
        "    if A < B:\n",
        "        print(f\"#{t} {A}\")\n",
        "    else:\n",
        "        print(f\"#{t} {B}\")"
      ],
      "metadata": {
        "id": "VkslCugLRC3H"
      },
      "execution_count": null,
      "outputs": []
    },
    {
      "cell_type": "markdown",
      "source": [
        "## 1285. 아름이의 돌 던지기\n",
        "\n",
        "아름이를 포함하여 총 N명의 사람이 돌 던지기 게임을 하고 있다.\n",
        "\n",
        "이 돌 던지기 게임은 앞으로 돌을 던져 원하는 지점에 최대한 가깝게 돌을 던지는 게임이다.\n",
        "\n",
        "정확하게 말하면 밀리미터 단위로 -100,000에서 100,000까지의 숫자가 일렬로 써져 있을 때, 사람들은 숫자 100,000이 써져 있는 위치에 서서 최대한 0에 가까운 위치로 돌을 던지려고 한다.\n",
        "\n",
        "N명의 사람들이 던진 돌이 떨어진 위치를 측정한 자료가 주어질 때, 가장 0에 가깝게 돌이 떨어진 위치와 0 사이의 거리 차이와 몇 명이 그렇게 돌을 던졌는지를 구하는 프로그램을 작성하라.\n",
        "\n",
        "[입력]\n",
        "\n",
        "첫 번째 줄에 테스트 케이스의 수 T가 주어진다.\n",
        "\n",
        "각 테스트 케이스의 첫 번째 줄에는 돌을 던지는 사람의 수 N(1≤N≤1,000)이 주어진다.\n",
        "\n",
        "두 번째 줄에는 각 사람이 돌을 던졌을 때 돌이 떨어진 위치를 나타내는 N개의 정수가 공백으로 구분되어 주어진다.\n",
        "\n",
        "모든 사람이 돌을 그럭저럭 잘 던졌기 때문에, 돌이 떨어지는 위치는 항상   -100,000에서 100,000사이 범위의 정수이다. (-100,000과 100,000도 돌이 떨어질 수 있다.)\n",
        "\n",
        "[출력]\n",
        "\n",
        "각 테스트 케이스마다 ‘#x’(x는 테스트케이스 번호를 의미하며 1부터 시작한다)를 출력하고,\n",
        "\n",
        "돌이 가장 0에 가깝게 떨어진 곳과 0 사이의 거리 차이와 그렇게 던진 사람이 몇 명인지 나타내는 정수를 공백 하나로 구분하여 출력한다.\n",
        "\n"
      ],
      "metadata": {
        "id": "7DmBXpRGSXO3"
      }
    },
    {
      "cell_type": "code",
      "source": [],
      "metadata": {
        "id": "uNXo81IdSdx2"
      },
      "execution_count": null,
      "outputs": []
    },
    {
      "cell_type": "markdown",
      "source": [
        "### 정답"
      ],
      "metadata": {
        "id": "Xnb_EyKtSd_9"
      }
    },
    {
      "cell_type": "code",
      "source": [
        "T = int(input())\n",
        "for t in range(1, T+1):\n",
        "    N = int(input())\n",
        "    stone_lst = list(map(int, input().split()))\n",
        "    min_distance = 100000\n",
        "    people = 0\n",
        "\n",
        "    for stone in stone_lst:\n",
        "        distance = abs(stone)  # 0과의 거리 계산\n",
        "\n",
        "        if distance < min_distance:\n",
        "            min_distance = distance\n",
        "            people = 1  # 최소 거리 갱신되면 사람 수 초기화\n",
        "        elif distance == min_distance:\n",
        "            people += 1  # 같은 거리 나오면 사람 수 증가\n",
        "\n",
        "    print(f\"#{t} {min_distance} {people}\")\n"
      ],
      "metadata": {
        "id": "is9AusGbSeNF"
      },
      "execution_count": null,
      "outputs": []
    },
    {
      "cell_type": "markdown",
      "source": [
        "## 1288. 새로운 불면증 치료법\n",
        "\n",
        "호석이는 불면증에 걸렸다. 그래서 잠이 안 올 때의 민간요법 중 하나인 양 세기를 하려고 한다.\n",
        "\n",
        "호석이는 1번 양부터 순서대로 세는 것이 재미없을 것 같아서 N의 배수 번호인 양을 세기로 하였다.\n",
        "\n",
        "즉, 첫 번째에는 N번 양을 세고, 두 번째에는 2N번 양, … , k번째에는 kN번 양을 센다.\n",
        "\n",
        "이렇게 숫자를 세던 호석이에게 잠은 더 오지 않고 다음과 같은 궁금증이 생겼다.\n",
        "\n",
        "이전에 셌던 번호들의 각 자리수에서 0에서 9까지의 모든 숫자를 보는 것은 최소 몇 번 양을 센 시점일까?\n",
        "\n",
        "예를 들어 N = 1295이라고 하자.\n",
        "\n",
        "첫 번째로 N = 1295번 양을 센다. 현재 본 숫자는 1, 2, 5, 9이다.\n",
        "\n",
        "두 번째로 2N = 2590번 양을 센다. 현재 본 숫자는 0, 2, 5, 9이다.\n",
        "\n",
        "현재까지 본 숫자는 0, 1, 2, 5, 9이다.\n",
        "\n",
        "세 번째로 3N = 3885번 양을 센다. 현재 본 숫자는 3, 5, 8이다.\n",
        "\n",
        "현재까지 본 숫자는 0, 1, 2, 3, 5, 8, 9이다.\n",
        "\n",
        "네 번째로 4N = 5180번 양을 센다. 현재 본 숫자는 0, 1, 5, 8이다.\n",
        "\n",
        "현재까지 본 숫자는 0, 1, 2, 3, 5, 8, 9이다.\n",
        "\n",
        "다섯 번째로 5N = 6475번 양을 센다. 현재 본 숫자는 4, 5, 6, 7이다.\n",
        "\n",
        "현재까지 본 숫자는 0, 1, 2, 3, 4, 5, 6, 7, 8, 9이다.\n",
        "\n",
        "5N번 양을 세면 0에서 9까지 모든 숫자를 보게 되므로 호석이는 양 세기를 멈춘다.\n",
        "\n",
        "[입력]\n",
        "\n",
        "첫 번째 줄에 테스트 케이스의 수 T가 주어진다.\n",
        "\n",
        "각 테스트 케이스의 첫 번째 줄에는 N (1 ≤ N ≤ 106)이 주어진다.\n",
        "\n",
        "[출력]\n",
        "\n",
        "각 테스트 케이스마다 ‘#x’(x는 테스트케이스 번호를 의미하며 1부터 시작한다)를 출력하고,\n",
        "\n",
        "최소 몇 번 양을 세었을 때 이전에 봤던 숫자들의 자릿수에서 0에서 9까지의 모든 숫자를 보게 되는지 출력한다.\n",
        "\n",
        "( 호석이는 xN번 양을 세고 있다. )"
      ],
      "metadata": {
        "id": "lsfESRdHb_dr"
      }
    },
    {
      "cell_type": "code",
      "source": [],
      "metadata": {
        "id": "6z2thG8Gb--k"
      },
      "execution_count": null,
      "outputs": []
    },
    {
      "cell_type": "markdown",
      "source": [
        "### 정답"
      ],
      "metadata": {
        "id": "ndq2BNgsd_Nx"
      }
    },
    {
      "cell_type": "code",
      "source": [
        "T = int(input())\n",
        "for t in range(1, T+1):\n",
        "    N = int(input())\n",
        "\n",
        "    new_set = set()\n",
        "    i = 1\n",
        "    while len(new_set) < 10:\n",
        "        num = i * N\n",
        "        num = list(str (num))\n",
        "        for n in num:\n",
        "            new_set.add(n)\n",
        "\n",
        "        i += 1\n",
        "\n",
        "    print(f\"#{t} {i * N - N}\")"
      ],
      "metadata": {
        "id": "RJocrAo7d_VI"
      },
      "execution_count": null,
      "outputs": []
    }
  ]
}