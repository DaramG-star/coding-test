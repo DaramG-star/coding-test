{
  "nbformat": 4,
  "nbformat_minor": 0,
  "metadata": {
    "colab": {
      "provenance": [],
      "authorship_tag": "ABX9TyO8QEx9qicJK+XyYrY1thz1",
      "include_colab_link": true
    },
    "kernelspec": {
      "name": "python3",
      "display_name": "Python 3"
    },
    "language_info": {
      "name": "python"
    }
  },
  "cells": [
    {
      "cell_type": "markdown",
      "metadata": {
        "id": "view-in-github",
        "colab_type": "text"
      },
      "source": [
        "<a href=\"https://colab.research.google.com/github/DaramG-star/coding-test/blob/main/%EB%B0%B1%EC%A4%80_%EB%8B%A8%EA%B3%844_%5B1%EC%B0%A8%EC%9B%90_%EB%B0%B0%EC%97%B4%5D.ipynb\" target=\"_parent\"><img src=\"https://colab.research.google.com/assets/colab-badge.svg\" alt=\"Open In Colab\"/></a>"
      ]
    },
    {
      "cell_type": "markdown",
      "source": [
        "## 1. 개수 세기\n",
        "\n",
        "문제 :\n",
        "총 N개의 정수가 주어졌을 때, 정수 v가 몇 개인지 구하는 프로그램을 작성하시오.\n",
        "\n",
        "입력 :\n",
        "첫째 줄에 정수의 개수 N(1 ≤ N ≤ 100)이 주어진다. 둘째 줄에는 정수가 공백으로 구분되어져있다. 셋째 줄에는 찾으려고 하는 정수 v가 주어진다. 입력으로 주어지는 정수와 v는 -100보다 크거나 같으며, 100보다 작거나 같다.\n",
        "\n",
        "출력 :\n",
        "첫째 줄에 입력으로 주어진 N개의 정수 중에 v가 몇 개인지 출력한다."
      ],
      "metadata": {
        "id": "RiM70OdgA8Xr"
      }
    },
    {
      "cell_type": "markdown",
      "source": [
        "### 슈도코드 짜보기\n",
        "\n",
        "1. 정수의 개수 받기\n",
        "2. 공백으로 구분 된 정수 리스트 받기\n",
        "3. Count 함수 이용하여 세기\n",
        "4. 몇개인지 출력"
      ],
      "metadata": {
        "id": "L_1DkG1qBE5t"
      }
    },
    {
      "cell_type": "code",
      "execution_count": 6,
      "metadata": {
        "colab": {
          "base_uri": "https://localhost:8080/"
        },
        "id": "ybRM2zqhAiwt",
        "outputId": "453306da-0116-4449-e733-5049804184a0"
      },
      "outputs": [
        {
          "output_type": "stream",
          "name": "stdout",
          "text": [
            "11 \n",
            "1 4 1 2 4 2 4 2 3 4 4\n",
            "2\n",
            "3\n"
          ]
        }
      ],
      "source": [
        "from collections import Counter\n",
        "# 정수의 개수 받기\n",
        "N = int(input())\n",
        "# 숫자 리스트 받기\n",
        "numint = list(map(int, input().split()))\n",
        "# 어떤걸 셀지 받기\n",
        "C = int(input())\n",
        "count = Counter(numint)\n",
        "print(count[C])"
      ]
    },
    {
      "cell_type": "code",
      "source": [
        "# 간단하게 작성\n",
        "N = int(input())\n",
        "\n",
        "numbers = list(map(int, input().split()))\n",
        "\n",
        "v = int(input())\n",
        "\n",
        "print(numbers.count(v))"
      ],
      "metadata": {
        "id": "KwiOUMcICj59"
      },
      "execution_count": null,
      "outputs": []
    },
    {
      "cell_type": "markdown",
      "source": [
        "## 2. X보다 작은 수\n",
        "\n",
        "문제 :\n",
        "정수 N개로 이루어진 수열 A와 정수 X가 주어진다. 이때, A에서 X보다 작은 수를 모두 출력하는 프로그램을 작성하시오.\n",
        "\n",
        "입력 :\n",
        "첫째 줄에 N과 X가 주어진다. (1 ≤ N, X ≤ 10,000)\n",
        "\n",
        "둘째 줄에 수열 A를 이루는 정수 N개가 주어진다. 주어지는 정수는 모두 1보다 크거나 같고, 10,000보다 작거나 같은 정수이다.\n",
        "\n",
        "출력 :\n",
        "X보다 작은 수를 입력받은 순서대로 공백으로 구분해 출력한다. X보다 작은 수는 적어도 하나 존재한다."
      ],
      "metadata": {
        "id": "D_e7R1ssCs57"
      }
    },
    {
      "cell_type": "markdown",
      "source": [
        "### 슈도코드 짜보기\n",
        "\n",
        "1. 정수 N을 입력받기\n",
        "2. 수열 A를 리스트로 받기\n",
        "3. 정수 X를 입력받기\n",
        "4. 리스트 컴프리헨션 이용하여 A에서 X보다 작은 수 공백으로 구분해 출력하기"
      ],
      "metadata": {
        "id": "4Ac--JAZC19S"
      }
    },
    {
      "cell_type": "code",
      "source": [
        "N, X = map(int, input().split())\n",
        "\n",
        "A = list(map(int, input().split()))\n",
        "\n",
        "for num in A:\n",
        "    if num < X:\n",
        "        print(num, end = \" \")"
      ],
      "metadata": {
        "colab": {
          "base_uri": "https://localhost:8080/"
        },
        "id": "LnpafuyfDO4i",
        "outputId": "0b3ad93f-fa3c-4303-bfce-20729f40c57d"
      },
      "execution_count": 10,
      "outputs": [
        {
          "output_type": "stream",
          "name": "stdout",
          "text": [
            "10 5\n",
            "1 10 4 9 2 3 8 5 7 6\n",
            "1 4 2 3 "
          ]
        }
      ]
    },
    {
      "cell_type": "markdown",
      "source": [
        "## 3. 최소, 최대\n",
        "\n",
        "문제 :\n",
        "N개의 정수가 주어진다. 이때, 최솟값과 최댓값을 구하는 프로그램을 작성하시오.\n",
        "\n",
        "입력 :\n",
        "첫째 줄에 정수의 개수 N (1 ≤ N ≤ 1,000,000)이 주어진다. 둘째 줄에는 N개의 정수를 공백으로 구분해서 주어진다. 모든 정수는 -1,000,000보다 크거나 같고, 1,000,000보다 작거나 같은 정수이다.\n",
        "\n",
        "출력 :\n",
        "첫째 줄에 주어진 정수 N개의 최솟값과 최댓값을 공백으로 구분해 출력한다."
      ],
      "metadata": {
        "id": "x5-wgeQ3EREB"
      }
    },
    {
      "cell_type": "markdown",
      "source": [
        "### 슈도코드 짜보기\n",
        "\n",
        "1. 정수의 개수 받기\n",
        "2. 정수의 최솟값과 최댓값을 공백으로 구분해 출력하기"
      ],
      "metadata": {
        "id": "ZES9Ow5yEXQQ"
      }
    },
    {
      "cell_type": "code",
      "source": [
        "N = int(input())\n",
        "numlist = list(map(int, input().split()))\n",
        "\n",
        "ma = max(numlist)\n",
        "mi = min(numlist)\n",
        "\n",
        "print(f\"{mi} {ma}\")"
      ],
      "metadata": {
        "colab": {
          "base_uri": "https://localhost:8080/"
        },
        "id": "8bg01rAJEmww",
        "outputId": "cfb934cf-8894-461a-e2f0-9a8c018fc788"
      },
      "execution_count": 12,
      "outputs": [
        {
          "output_type": "stream",
          "name": "stdout",
          "text": [
            "5\n",
            "20 10 35 30 7\n",
            "7 35\n"
          ]
        }
      ]
    },
    {
      "cell_type": "markdown",
      "source": [
        "## 4. 최댓값\n",
        "\n",
        "문제 :\n",
        "9개의 서로 다른 자연수가 주어질 때, 이들 중 최댓값을 찾고 그 최댓값이 몇 번째 수인지를 구하는 프로그램을 작성하시오.\n",
        "\n",
        "예를 들어, 서로 다른 9개의 자연수\n",
        "\n",
        "3, 29, 38, 12, 57, 74, 40, 85, 61\n",
        "\n",
        "이 주어지면, 이들 중 최댓값은 85이고, 이 값은 8번째 수이다.\n",
        "\n",
        "입력 :\n",
        "첫째 줄부터 아홉 번째 줄까지 한 줄에 하나의 자연수가 주어진다. 주어지는 자연수는 100 보다 작다.\n",
        "\n",
        "출력 :\n",
        "첫째 줄에 최댓값을 출력하고, 둘째 줄에 최댓값이 몇 번째 수인지를 출력한다."
      ],
      "metadata": {
        "id": "P9cR5VqLFI-x"
      }
    },
    {
      "cell_type": "markdown",
      "source": [
        "### 슈도코드 짜보기\n",
        "\n",
        "1. 9개의 자연수 for문으로 입력받기\n",
        "2. 입력받은 후, 최댓값 출력하기\n",
        "3. 함수 이용하여 몇번째 수인지 출력하기"
      ],
      "metadata": {
        "id": "exnWiy1NFO4x"
      }
    },
    {
      "cell_type": "code",
      "source": [
        "# 입력받기\n",
        "numbers  = [int(input()) for _ in range(9)]\n",
        "#최댓값 찾기\n",
        "max_numbers = max(numbers)\n",
        "#인덱스 위치 찾기\n",
        "max_index = numbers.index(max_numbers) + 1\n",
        "\n",
        "print(max_numbers)\n",
        "print(max_index)"
      ],
      "metadata": {
        "colab": {
          "base_uri": "https://localhost:8080/"
        },
        "id": "DkSNtHxDFeZg",
        "outputId": "e9bbec5c-a01c-42d1-b3f3-d527af360d97"
      },
      "execution_count": 14,
      "outputs": [
        {
          "output_type": "stream",
          "name": "stdout",
          "text": [
            "3\n",
            "29\n",
            "38\n",
            "32\n",
            "12\n",
            "57\n",
            "74\n",
            "40\n",
            "85\n",
            "85\n",
            "9\n"
          ]
        }
      ]
    },
    {
      "cell_type": "code",
      "source": [
        "numbers = [int(input()) for t in range(9)]\n",
        "M = max(numbers)\n",
        "M_index = numbers.index(M) + 1\n",
        "\n",
        "print(M)\n",
        "print(M_index)"
      ],
      "metadata": {
        "colab": {
          "base_uri": "https://localhost:8080/"
        },
        "id": "Op4PNohGGEnD",
        "outputId": "021ad13f-36ed-4e12-f6fb-31d44dab27e0"
      },
      "execution_count": 16,
      "outputs": [
        {
          "output_type": "stream",
          "name": "stdout",
          "text": [
            "3\n",
            "29\n",
            "38\n",
            "12\n",
            "57\n",
            "74\n",
            "40\n",
            "85\n",
            "61\n",
            "85\n",
            "8\n"
          ]
        }
      ]
    },
    {
      "cell_type": "markdown",
      "source": [
        "## 5. 공 넣기\n",
        "\n",
        "문제 :\n",
        "도현이는 바구니를 총 N개 가지고 있고, 각각의 바구니에는 1번부터 N번까지 번호가 매겨져 있다. 또, 1번부터 N번까지 번호가 적혀있는 공을 매우 많이 가지고 있다. 가장 처음 바구니에는 공이 들어있지 않으며, 바구니에는 공을 1개만 넣을 수 있다.\n",
        "\n",
        "도현이는 앞으로 M번 공을 넣으려고 한다. 도현이는 한 번 공을 넣을 때, 공을 넣을 바구니 범위를 정하고, 정한 바구니에 모두 같은 번호가 적혀있는 공을 넣는다. 만약, 바구니에 공이 이미 있는 경우에는 들어있는 공을 빼고, 새로 공을 넣는다. 공을 넣을 바구니는 연속되어 있어야 한다.\n",
        "\n",
        "공을 어떻게 넣을지가 주어졌을 때, M번 공을 넣은 이후에 각 바구니에 어떤 공이 들어 있는지 구하는 프로그램을 작성하시오.\n",
        "\n",
        "입력 :\n",
        "첫째 줄에 N (1 ≤ N ≤ 100)과 M (1 ≤ M ≤ 100)이 주어진다.\n",
        "\n",
        "둘째 줄부터 M개의 줄에 걸쳐서 공을 넣는 방법이 주어진다. 각 방법은 세 정수 i j k로 이루어져 있으며, i번 바구니부터 j번 바구니까지에 k번 번호가 적혀져 있는 공을 넣는다는 뜻이다. 예를 들어, 2 5 6은 2번 바구니부터 5번 바구니까지에 6번 공을 넣는다는 뜻이다. (1 ≤ i ≤ j ≤ N, 1 ≤ k ≤ N)\n",
        "\n",
        "도현이는 입력으로 주어진 순서대로 공을 넣는다.\n",
        "\n",
        "출력 :\n",
        "1번 바구니부터 N번 바구니에 들어있는 공의 번호를 공백으로 구분해 출력한다. 공이 들어있지 않은 바구니는 0을 출력한다."
      ],
      "metadata": {
        "id": "Ve8AkxY-HADP"
      }
    },
    {
      "cell_type": "markdown",
      "source": [
        "### 슈도코드 짜보기\n",
        "\n",
        "1. N과 M 입력받기\n",
        "2. 바구니 상태 초기화해서 두기\n",
        "3. M번의 공을 넣는 작업 처리\n",
        "4. K번 공을 넣는 것이므로 index에 K 입력하기\n",
        "5. *넣어서 공백 포함 출력"
      ],
      "metadata": {
        "id": "cqr5MzfYHe2W"
      }
    },
    {
      "cell_type": "code",
      "source": [
        "# 첫 번째 줄에 N과 M 입력\n",
        "N, M = map(int, input().split())\n",
        "\n",
        "# 바구니 상태 초기화(모든 바구니에 공이 없으므로 0으로 초기화)\n",
        "baskets = [0] * N\n",
        "\n",
        "# M번의 공을 넣는 작업 처리\n",
        "for _ in range(M):\n",
        "  #각 작업에서 1번부터 j번까지 k번 공을 넣는다\n",
        "  i, j, k = map(int, input().split())\n",
        "\n",
        "  for idx in range(i-1, j):\n",
        "    baskets[idx] = k\n",
        "\n",
        "print(*baskets)"
      ],
      "metadata": {
        "colab": {
          "base_uri": "https://localhost:8080/"
        },
        "id": "vBq8lpZmHiKl",
        "outputId": "cbacfb26-b947-464b-cbb8-910e8802056b"
      },
      "execution_count": 17,
      "outputs": [
        {
          "output_type": "stream",
          "name": "stdout",
          "text": [
            "5 4\n",
            "1 2 3\n",
            "3 4 4\n",
            "1 4 1\n",
            "2 2 2\n",
            "1 2 1 1 0\n"
          ]
        }
      ]
    },
    {
      "cell_type": "markdown",
      "source": [
        "## 6. 공 바꾸기\n",
        "\n",
        "문제 :\n",
        "도현이는 바구니를 총 N개 가지고 있고, 각각의 바구니에는 1번부터 N번까지 번호가 매겨져 있다. 바구니에는 공이 1개씩 들어있고, 처음에는 바구니에 적혀있는 번호와 같은 번호가 적힌 공이 들어있다.\n",
        "\n",
        "도현이는 앞으로 M번 공을 바꾸려고 한다. 도현이는 공을 바꿀 바구니 2개를 선택하고, 두 바구니에 들어있는 공을 서로 교환한다.\n",
        "\n",
        "공을 어떻게 바꿀지가 주어졌을 때, M번 공을 바꾼 이후에 각 바구니에 어떤 공이 들어있는지 구하는 프로그램을 작성하시오.\n",
        "\n",
        "입력 :\n",
        "첫째 줄에 N (1 ≤ N ≤ 100)과 M (1 ≤ M ≤ 100)이 주어진다.\n",
        "\n",
        "둘째 줄부터 M개의 줄에 걸쳐서 공을 교환할 방법이 주어진다. 각 방법은 두 정수 i j로 이루어져 있으며, i번 바구니와 j번 바구니에 들어있는 공을 교환한다는 뜻이다. (1 ≤ i ≤ j ≤ N)\n",
        "\n",
        "도현이는 입력으로 주어진 순서대로 공을 교환한다.\n",
        "\n",
        "출력 :\n",
        "1번 바구니부터 N번 바구니에 들어있는 공의 번호를 공백으로 구분해 출력한다."
      ],
      "metadata": {
        "id": "jkAHp16aKozy"
      }
    },
    {
      "cell_type": "code",
      "source": [],
      "metadata": {
        "id": "IYbVv--0Km7b"
      },
      "execution_count": null,
      "outputs": []
    },
    {
      "cell_type": "markdown",
      "source": [
        "## 7. 과제 안 내신 분..?\n",
        "\n",
        "문제 :\n",
        "X대학 M교수님은 프로그래밍 수업을 맡고 있다. 교실엔 학생이 30명이 있는데, 학생 명부엔 각 학생별로 1번부터 30번까지 출석번호가 붙어 있다.\n",
        "\n",
        "교수님이 내준 특별과제를 28명이 제출했는데, 그 중에서 제출 안 한 학생 2명의 출석번호를 구하는 프로그램을 작성하시오.\n",
        "\n",
        "입력 :\n",
        "입력은 총 28줄로 각 제출자(학생)의 출석번호 n(1 ≤ n ≤ 30)가 한 줄에 하나씩 주어진다. 출석번호에 중복은 없다.\n",
        "\n",
        "출력 :\n",
        "출력은 2줄이다. 1번째 줄엔 제출하지 않은 학생의 출석번호 중 가장 작은 것을 출력하고, 2번째 줄에선 그 다음 출석번호를 출력한다."
      ],
      "metadata": {
        "id": "ijiLeJ1cKxjK"
      }
    },
    {
      "cell_type": "markdown",
      "source": [
        "### 슈도코드 짜보기\n",
        "\n",
        "1. 1부터 30까지 들어있는 집합 만들기\n",
        "2. 28개의 수 입력받기\n",
        "3. missing 변수 만들어서 차집합 구하고 정렬\n",
        "4. 작은 수부터 출력하기"
      ],
      "metadata": {
        "id": "XlojZmTfK67C"
      }
    },
    {
      "cell_type": "code",
      "source": [
        "students = set(range(1, 31))\n",
        "submitted = set(int(input()) for _ in range(28))\n",
        "\n",
        "missing = sorted(students - submitted)\n",
        "print(missing[0])\n",
        "print(missing[1])"
      ],
      "metadata": {
        "id": "lisXF87aLLvp"
      },
      "execution_count": null,
      "outputs": []
    },
    {
      "cell_type": "markdown",
      "source": [
        "## 8. 나머지\n",
        "\n",
        "문제 :\n",
        "두 자연수 A와 B가 있을 때, A%B는 A를 B로 나눈 나머지 이다. 예를 들어, 7, 14, 27, 38을 3으로 나눈 나머지는 1, 2, 0, 2이다.\n",
        "\n",
        "수 10개를 입력받은 뒤, 이를 42로 나눈 나머지를 구한다. 그 다음 서로 다른 값이 몇 개 있는지 출력하는 프로그램을 작성하시오.\n",
        "\n",
        "입력 :\n",
        "첫째 줄부터 열번째 줄 까지 숫자가 한 줄에 하나씩 주어진다. 이 숫자는 1,000보다 작거나 같고, 음이 아닌 정수이다.\n",
        "\n",
        "출력 :\n",
        "첫째 줄에, 42로 나누었을 때, 서로 다른 나머지가 몇 개 있는지 출력한다."
      ],
      "metadata": {
        "id": "sZqpiH7LMyCp"
      }
    },
    {
      "cell_type": "markdown",
      "source": [
        "### 슈도코드 짜보기\n",
        "\n",
        "1. 집합 초기화하여 설정하기\n",
        "2. 첫번째 줄부터 열째 줄까지 숫자 입력받기\n",
        "3. 42로 나누고 집합에 추가하기"
      ],
      "metadata": {
        "id": "1RJJVg6vNQiQ"
      }
    },
    {
      "cell_type": "code",
      "source": [
        "remainders = set()\n",
        "\n",
        "for _ in range(10):\n",
        "  N = int(input())\n",
        "  DN = N % 42\n",
        "  remainders.add(DN)\n",
        "\n",
        "print(len(remainders))"
      ],
      "metadata": {
        "colab": {
          "base_uri": "https://localhost:8080/"
        },
        "id": "7xXteXnNNPmY",
        "outputId": "7acc9fee-1e5e-49dd-e00c-108f0df378ee"
      },
      "execution_count": 29,
      "outputs": [
        {
          "output_type": "stream",
          "name": "stdout",
          "text": [
            "42\n",
            "84\n",
            "252\n",
            "420\n",
            "840\n",
            "126\n",
            "42\n",
            "84\n",
            "420\n",
            "126\n",
            "1\n"
          ]
        }
      ]
    },
    {
      "cell_type": "markdown",
      "source": [
        "## 9. 바구니 뒤집기\n",
        "\n",
        "문제 :\n",
        "도현이는 바구니를 총 N개 가지고 있고, 각각의 바구니에는 1번부터 N번까지 번호가 순서대로 적혀져 있다. 바구니는 일렬로 놓여져 있고, 가장 왼쪽 바구니를 1번째 바구니, 그 다음 바구니를 2번째 바구니, ..., 가장 오른쪽 바구니를 N번째 바구니라고 부른다.\n",
        "\n",
        "도현이는 앞으로 M번 바구니의 순서를 역순으로 만들려고 한다. 도현이는 한 번 순서를 역순으로 바꿀 때, 순서를 역순으로 만들 범위를 정하고, 그 범위에 들어있는 바구니의 순서를 역순으로 만든다.\n",
        "\n",
        "바구니의 순서를 어떻게 바꿀지 주어졌을 때, M번 바구니의 순서를 역순으로 만든 다음, 바구니에 적혀있는 번호를 가장 왼쪽 바구니부터 출력하는 프로그램을 작성하시오.\n",
        "\n",
        "입력 :\n",
        "첫째 줄에 N (1 ≤ N ≤ 100)과 M (1 ≤ M ≤ 100)이 주어진다.\n",
        "\n",
        "둘째 줄부터 M개의 줄에는 바구니의 순서를 역순으로 만드는 방법이 주어진다. 방법은 i j로 나타내고, 왼쪽으로부터 i번째 바구니부터 j번째 바구니의 순서를 역순으로 만든다는 뜻이다. (1 ≤ i ≤ j ≤ N)\n",
        "\n",
        "도현이는 입력으로 주어진 순서대로 바구니의 순서를 바꾼다.\n",
        "\n",
        "출력 :\n",
        "모든 순서를 바꾼 다음에, 가장 왼쪽에 있는 바구니부터 바구니에 적혀있는 순서를 공백으로 구분해 출력한다."
      ],
      "metadata": {
        "id": "0JMxZ1e3PJoQ"
      }
    },
    {
      "cell_type": "markdown",
      "source": [],
      "metadata": {
        "id": "lrw8tIGOPTtP"
      }
    },
    {
      "cell_type": "code",
      "source": [],
      "metadata": {
        "id": "6dtQ8R5VPT2v"
      },
      "execution_count": null,
      "outputs": []
    },
    {
      "cell_type": "markdown",
      "source": [
        "## 10. 평균\n",
        "\n",
        "문제 :\n",
        "세준이는 기말고사를 망쳤다. 세준이는 점수를 조작해서 집에 가져가기로 했다. 일단 세준이는 자기 점수 중에 최댓값을 골랐다. 이 값을 M이라고 한다. 그리고 나서 모든 점수를 점수/M*100으로 고쳤다.\n",
        "\n",
        "예를 들어, 세준이의 최고점이 70이고, 수학점수가 50이었으면 수학점수는 50/70*100이 되어 71.43점이 된다.\n",
        "\n",
        "세준이의 성적을 위의 방법대로 새로 계산했을 때, 새로운 평균을 구하는 프로그램을 작성하시오.\n",
        "\n",
        "입력 :\n",
        "첫째 줄에 시험 본 과목의 개수 N이 주어진다. 이 값은 1000보다 작거나 같다. 둘째 줄에 세준이의 현재 성적이 주어진다. 이 값은 100보다 작거나 같은 음이 아닌 정수이고, 적어도 하나의 값은 0보다 크다.\n",
        "\n",
        "출력 :\n",
        "첫째 줄에 새로운 평균을 출력한다. 실제 정답과 출력값의 절대오차 또는 상대오차가 10-2 이하이면 정답이다."
      ],
      "metadata": {
        "id": "19Yv_AN_PUYP"
      }
    },
    {
      "cell_type": "markdown",
      "source": [
        "### 슈도코드 작성하기"
      ],
      "metadata": {
        "id": "E6azA7xVPf2n"
      }
    }
  ]
}