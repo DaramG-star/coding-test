{
  "nbformat": 4,
  "nbformat_minor": 0,
  "metadata": {
    "colab": {
      "provenance": [],
      "authorship_tag": "ABX9TyOBMCh6LEVTiR55FnUHZI+s",
      "include_colab_link": true
    },
    "kernelspec": {
      "name": "python3",
      "display_name": "Python 3"
    },
    "language_info": {
      "name": "python"
    }
  },
  "cells": [
    {
      "cell_type": "markdown",
      "metadata": {
        "id": "view-in-github",
        "colab_type": "text"
      },
      "source": [
        "<a href=\"https://colab.research.google.com/github/DaramG-star/coding-test/blob/main/%EB%B0%B1%EC%A4%80_%EB%8B%A8%EA%B3%841_%5B%EC%9E%85%EC%B6%9C%EB%A0%A5%EA%B3%BC_%EC%82%AC%EC%B9%99%EC%97%B0%EC%82%B0%5D.ipynb\" target=\"_parent\"><img src=\"https://colab.research.google.com/assets/colab-badge.svg\" alt=\"Open In Colab\"/></a>"
      ]
    },
    {
      "cell_type": "markdown",
      "source": [
        "## 1. Hello World\n",
        "\n",
        " Hello World!를 출력하시오."
      ],
      "metadata": {
        "id": "CTtA8AaDJcee"
      }
    },
    {
      "cell_type": "markdown",
      "source": [
        "### 슈도코드 짜보기\n",
        "\n",
        "1.  Hello World를 출력하기\n",
        "\n"
      ],
      "metadata": {
        "id": "S5FrO2niKTiO"
      }
    },
    {
      "cell_type": "code",
      "execution_count": 1,
      "metadata": {
        "colab": {
          "base_uri": "https://localhost:8080/"
        },
        "id": "CJGvWnb-JKFK",
        "outputId": "bacd4838-b921-4f45-a40e-f35c88a5248a"
      },
      "outputs": [
        {
          "output_type": "stream",
          "name": "stdout",
          "text": [
            "Hello World!\n"
          ]
        }
      ],
      "source": [
        "# 파이썬\n",
        "\n",
        "print(\"Hello World!\")"
      ]
    },
    {
      "cell_type": "markdown",
      "source": [
        "## 2. 사칙연산\n",
        "\n",
        "두 자연수 A와 B가 주어진다. 이때, A+B, A-B, A*B, A/B(몫), A%B(나머지)를 출력하는 프로그램을 작성하시오.\n",
        "\n",
        "첫째 줄에 A+B, 둘째 줄에 A-B, 셋째 줄에 A*B, 넷째 줄에 A/B, 다섯째 줄에 A%B를 출력한다.\n",
        "\n"
      ],
      "metadata": {
        "id": "tR_ER5ccKk3m"
      }
    },
    {
      "cell_type": "markdown",
      "source": [
        "### 슈도코드 짜보기\n",
        "\n",
        "1. A와 B를 map으로 input받기\n",
        "2. A+B, A-B, A*B, A/B, A%B를 출력하기"
      ],
      "metadata": {
        "id": "JP6KGnyJKxhX"
      }
    },
    {
      "cell_type": "code",
      "source": [
        "# 파이썬\n",
        "\n",
        "A, B = list(map(int, input().split()))\n",
        "\n",
        "print(A + B)\n",
        "print(A - B)\n",
        "print(A * B)\n",
        "print(A // B)\n",
        "print(A % B)"
      ],
      "metadata": {
        "colab": {
          "base_uri": "https://localhost:8080/"
        },
        "id": "3yQbbH_1LCFx",
        "outputId": "85465d40-ebd6-45db-ed5a-2de95e77aa21"
      },
      "execution_count": 4,
      "outputs": [
        {
          "output_type": "stream",
          "name": "stdout",
          "text": [
            "7 3\n",
            "10\n",
            "4\n",
            "21\n",
            "2\n",
            "1\n"
          ]
        }
      ]
    },
    {
      "cell_type": "markdown",
      "source": [
        "# 3. ??!\n",
        "\n",
        "준하는 사이트에 회원가입을 하다가 joonas라는 아이디가 이미 존재하는 것을 보고 놀랐다. 준하는 놀람을 ??!로 표현한다. 준하가 가입하려고 하는 사이트에 이미 존재하는 아이디가 주어졌을 때, 놀람을 표현하는 프로그램을 작성하시오.\n",
        "\n",
        "첫째 줄에 준하의 놀람을 출력한다. 놀람은 아이디 뒤에 ??!를 붙여서 나타낸다."
      ],
      "metadata": {
        "id": "LWIIsIXMLZ6Z"
      }
    },
    {
      "cell_type": "markdown",
      "source": [
        " ### 슈도코드 짜보기\n",
        "\n",
        "1. 아이디 str로 input받기\n",
        "\n",
        "2. 아이디 뒤에 ??! 붙여서 출력하기"
      ],
      "metadata": {
        "id": "qnJpO8cjLjgK"
      }
    },
    {
      "cell_type": "code",
      "source": [
        "# 파이썬\n",
        "\n",
        "user_id = input().strip() #쓸데없는 공백 제거\n",
        "\n",
        "print(f\"{user_id}??!\")"
      ],
      "metadata": {
        "colab": {
          "base_uri": "https://localhost:8080/"
        },
        "id": "v13FW4hTLYGh",
        "outputId": "0617d019-0fbd-430c-96b5-cb875df94b43"
      },
      "execution_count": 5,
      "outputs": [
        {
          "output_type": "stream",
          "name": "stdout",
          "text": [
            "joonas\n",
            "joonas??!\n"
          ]
        }
      ]
    },
    {
      "cell_type": "markdown",
      "source": [
        "## 4. 1998년생인 내가 태국에서는 2541년생?!\n",
        "\n",
        "문제 : ICPC Bangkok Regional에 참가하기 위해 수완나품 국제공항에 막 도착한 팀 레드시프트 일행은 눈을 믿을 수 없었다. 공항의 대형 스크린에 올해가 2562년이라고 적혀 있던 것이었다.\n",
        "\n",
        "불교 국가인 태국은 불멸기원(佛滅紀元), 즉 석가모니가 열반한 해를 기준으로 연도를 세는 불기를 사용한다. 반면, 우리나라는 서기 연도를 사용하고 있다. 불기 연도가 주어질 때 이를 서기 연도로 바꿔 주는 프로그램을 작성하시오.\n",
        "\n",
        "입력 : 서기 연도를 알아보고 싶은 불기 연도 y가 주어진다. (1000 ≤ y ≤ 3000)\n",
        "출력 : 불기 연도를 서기 연도로 변환한 결과를 출력한다."
      ],
      "metadata": {
        "id": "XOIXJHluMJwb"
      }
    },
    {
      "cell_type": "markdown",
      "source": [
        "### 슈도코드 짜보기\n",
        "\n",
        "1. 2541에서 1998 빼보고 얼마나 차이나는지 알아보기\n",
        "\n",
        "2. 출력 시 해당 연도에서 차이값을 뺀 숫자 출력하기"
      ],
      "metadata": {
        "id": "YDWHpzoQMoha"
      }
    },
    {
      "cell_type": "code",
      "source": [
        "#print(2541-1998) #543\n",
        "\n",
        "Y = int(input())\n",
        "print(f\"{Y - 543}\")"
      ],
      "metadata": {
        "colab": {
          "base_uri": "https://localhost:8080/"
        },
        "id": "DjcI24y9Mnp0",
        "outputId": "2ce83413-40e9-41b6-bfb9-a938469a29c1"
      },
      "execution_count": 7,
      "outputs": [
        {
          "output_type": "stream",
          "name": "stdout",
          "text": [
            "2541\n",
            "1998\n"
          ]
        }
      ]
    },
    {
      "cell_type": "markdown",
      "source": [
        "## 5. 나머지\n",
        "\n",
        "문제 : (A+B)%C는 ((A%C) + (B%C))%C 와 같을까?\n",
        "\n",
        "(A×B)%C는 ((A%C) × (B%C))%C 와 같을까?\n",
        "\n",
        "세 수 A, B, C가 주어졌을 때, 위의 네 가지 값을 구하는 프로그램을 작성하시오.\n",
        "\n",
        "입력 : 첫째 줄에 A, B, C가 순서대로 주어진다. (2 ≤ A, B, C ≤ 10000)\n",
        "\n",
        "출력 : 첫째 줄에 (A+B)%C, 둘째 줄에 ((A%C) + (B%C))%C, 셋째 줄에 (A×B)%C, 넷째 줄에 ((A%C) × (B%C))%C를 출력한다."
      ],
      "metadata": {
        "id": "zpYeSnw-NxWF"
      }
    },
    {
      "cell_type": "markdown",
      "source": [
        "### 슈도코드 짜보기\n",
        "\n",
        "1. A, B, C 값 list로 map input 받기\n",
        "2. 문제에서 요구한 식 출력하기"
      ],
      "metadata": {
        "id": "AaVOjnJzN_q_"
      }
    },
    {
      "cell_type": "code",
      "source": [
        "A, B, C = list(map(int, input().split()))\n",
        "print((A+B)%C)\n",
        "print(((A%C) + (B%C))%C)\n",
        "print((A*B)%C)\n",
        "print( ((A%C) * (B%C))%C)"
      ],
      "metadata": {
        "colab": {
          "base_uri": "https://localhost:8080/"
        },
        "id": "W37_1SssOLzO",
        "outputId": "71f5bd56-9374-4263-a08c-df875b8d70f5"
      },
      "execution_count": 9,
      "outputs": [
        {
          "output_type": "stream",
          "name": "stdout",
          "text": [
            "5 8 4\n",
            "1\n",
            "1\n",
            "0\n",
            "0\n"
          ]
        }
      ]
    },
    {
      "cell_type": "markdown",
      "source": [
        "## 6. 곱셈\n",
        "\n",
        "문제 : (세 자리 수) × (세 자리 수)는 다음과 같은 과정을 통하여 이루어진다.![스크린샷 2025-01-19 200332.png](data:image/png;base64,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)\n",
        "\n",
        "입력 : 첫째 줄에 (1)의 위치에 들어갈 세 자리 자연수가, 둘째 줄에 (2)의 위치에 들어갈 세자리 자연수가 주어진다.\n",
        "\n",
        "출력 : 첫째 줄부터 넷째 줄까지 차례대로 (3), (4), (5), (6)에 들어갈 값을 출력한다."
      ],
      "metadata": {
        "id": "uvnU7Q-fOsde"
      }
    },
    {
      "cell_type": "markdown",
      "source": [
        "### 슈도코드 짜보기\n",
        "\n",
        "1. A, B값 list, map으로 input받기\n",
        "\n",
        "2. B값 10으로 나눈 후 나머지와 A값 곱하기\n",
        "\n",
        "3. B값 10으로 나눈 후 몫 구하고, 10으로 또 나눠서 나머지 반환\n",
        "\n",
        "4. B값 100으로 나눈 후 몫 반환\n",
        "\n",
        "5. 3, 4, 5, 6값 출력하기"
      ],
      "metadata": {
        "id": "vagEihByP0Mh"
      }
    },
    {
      "cell_type": "code",
      "source": [
        "A = int(input())\n",
        "B = int(input())\n",
        "\n",
        "digit1 = B % 10\n",
        "digit2 = (B // 10) % 10\n",
        "digit3 = B // 100\n",
        "\n",
        "print(A * digit1)\n",
        "print(A * digit2)\n",
        "print(A * digit3)\n",
        "print(A * B)"
      ],
      "metadata": {
        "colab": {
          "base_uri": "https://localhost:8080/"
        },
        "id": "dwmGVryaPF8x",
        "outputId": "1b731598-0fd5-48ad-b303-ea8523bc4589"
      },
      "execution_count": 11,
      "outputs": [
        {
          "output_type": "stream",
          "name": "stdout",
          "text": [
            "472\n",
            "385\n",
            "2360\n",
            "3776\n",
            "1416\n",
            "181720\n"
          ]
        }
      ]
    },
    {
      "cell_type": "markdown",
      "source": [
        "## 7. 꼬마 정민\n",
        "\n",
        "문제 :\n",
        "꼬마 정민이는 이제 A + B 정도는 쉽게 계산할 수 있다. 이제 A + B + C를 계산할 차례이다!\n",
        "\n",
        "입력 :\n",
        "첫 번째 줄에 A, B, C (1 ≤ A, B, C ≤ 1012)이 공백을 사이에 두고 주어진다.\n",
        "\n",
        "출력 :\n",
        "A+B+C의 값을 출력한다"
      ],
      "metadata": {
        "id": "93LZN58oSXiF"
      }
    },
    {
      "cell_type": "markdown",
      "source": [
        "### 슈도코드 짜보기\n",
        "\n",
        "1. A, B, C list로 입력받기\n",
        "\n",
        "2. A + B + C 값 출력하기"
      ],
      "metadata": {
        "id": "M9JIfML4Shgk"
      }
    },
    {
      "cell_type": "code",
      "source": [
        "A, B, C = list(map(int, input().split()))\n",
        "\n",
        "print(A + B + C)"
      ],
      "metadata": {
        "colab": {
          "base_uri": "https://localhost:8080/"
        },
        "id": "OqdoKVR2SqqU",
        "outputId": "4e4dba8d-8c71-4afc-d001-48b04baac291"
      },
      "execution_count": 12,
      "outputs": [
        {
          "output_type": "stream",
          "name": "stdout",
          "text": [
            "77 77 7777\n",
            "7931\n"
          ]
        }
      ]
    },
    {
      "cell_type": "markdown",
      "source": [
        "## 8. 고양이\n",
        "\n",
        "아래 예제와 같이 고양이를 출력하시오.\n",
        "\n",
        "\\    /\\\n",
        "\n",
        " )  ( ')\n",
        "\n",
        "(  /  )\n",
        "\n",
        " \\(__)|\n",
        "\n",
        "\n",
        " 이거 고양이 아니고 그냥 이상한 생명체인듯;;"
      ],
      "metadata": {
        "id": "zxZlf_mPS3jt"
      }
    },
    {
      "cell_type": "code",
      "source": [
        "print(\"\\\\    /\\\\\")\n",
        "print(\" )  ( ')\")\n",
        "print(\"(  /  )\")\n",
        "print(\" \\\\(__)|\")"
      ],
      "metadata": {
        "colab": {
          "base_uri": "https://localhost:8080/"
        },
        "id": "KmopM0kMS2fV",
        "outputId": "c95aef26-cf34-444c-aef0-9b08bfa048ee"
      },
      "execution_count": 14,
      "outputs": [
        {
          "output_type": "stream",
          "name": "stdout",
          "text": [
            "\\    /\\\n",
            " )  ( ')\n",
            "(  /  )\n",
            " \\(__)|\n"
          ]
        }
      ]
    },
    {
      "cell_type": "markdown",
      "source": [
        "## 9. 개\n",
        "\n",
        "문제 :\n",
        "아래 예제와 같이 개를 출력하시오.\n",
        "\n",
        "입력 :\n",
        "없음.\n",
        "\n",
        "출력 :\n",
        "개를 출력한다."
      ],
      "metadata": {
        "id": "-aWafDL0Toid"
      }
    },
    {
      "cell_type": "code",
      "source": [
        "print(\"|\\\\_/|\")\n",
        "print(\"|q p|   /}\")\n",
        "print(\"( 0 )\\\"\\\"\\\"\\\\\")\n",
        "print(\"|\\\"^\\\"`    |\")\n",
        "print(\"||_/=\\\\\\\\__|\")"
      ],
      "metadata": {
        "colab": {
          "base_uri": "https://localhost:8080/"
        },
        "id": "OXbbSZBVTudF",
        "outputId": "6cf9412e-4fbd-43f5-d6e2-e18b9e32b8b3"
      },
      "execution_count": 16,
      "outputs": [
        {
          "output_type": "stream",
          "name": "stdout",
          "text": [
            "|\\_/|\n",
            "|q p|   /}\n",
            "( 0 )\"\"\"\\\n",
            "|\"^\"`    |\n",
            "||_/=\\\\__|\n"
          ]
        }
      ]
    }
  ]
}