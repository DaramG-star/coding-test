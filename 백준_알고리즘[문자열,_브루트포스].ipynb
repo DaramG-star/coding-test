{
  "nbformat": 4,
  "nbformat_minor": 0,
  "metadata": {
    "colab": {
      "provenance": [],
      "authorship_tag": "ABX9TyODGyU+Sdqgt5Hqyz6rt/us",
      "include_colab_link": true
    },
    "kernelspec": {
      "name": "python3",
      "display_name": "Python 3"
    },
    "language_info": {
      "name": "python"
    }
  },
  "cells": [
    {
      "cell_type": "markdown",
      "metadata": {
        "id": "view-in-github",
        "colab_type": "text"
      },
      "source": [
        "<a href=\"https://colab.research.google.com/github/DaramG-star/coding-test/blob/main/%EB%B0%B1%EC%A4%80_%EC%95%8C%EA%B3%A0%EB%A6%AC%EC%A6%98%5B%EB%AC%B8%EC%9E%90%EC%97%B4%2C_%EB%B8%8C%EB%A3%A8%ED%8A%B8%ED%8F%AC%EC%8A%A4%5D.ipynb\" target=\"_parent\"><img src=\"https://colab.research.google.com/assets/colab-badge.svg\" alt=\"Open In Colab\"/></a>"
      ]
    },
    {
      "cell_type": "markdown",
      "source": [
        "## 팰린드롬 만들기\n",
        "\n",
        "문제\n",
        "\n",
        "임한수와 임문빈은 서로 사랑하는 사이이다.\n",
        "\n",
        "임한수는 세상에서 팰린드롬인 문자열을 너무 좋아하기 때문에, 둘의 백일을 기념해서 임문빈은 팰린드롬을 선물해주려고 한다.\n",
        "\n",
        "임문빈은 임한수의 영어 이름으로 팰린드롬을 만들려고 하는데, 임한수의 영어 이름의 알파벳 순서를 적절히 바꿔서 팰린드롬을 만들려고 한다.\n",
        "\n",
        "임문빈을 도와 임한수의 영어 이름을 팰린드롬으로 바꾸는 프로그램을 작성하시오.\n",
        "\n",
        "입력\n",
        "\n",
        "첫째 줄에 임한수의 영어 이름이 있다. 알파벳 대문자로만 된 최대 50글자이다.\n",
        "\n",
        "출력\n",
        "\n",
        "첫째 줄에 문제의 정답을 출력한다. 만약 불가능할 때는 \"I'm Sorry Hansoo\"를 출력한다. 정답이 여러 개일 경우에는 사전순으로 앞서는 것을 출력한다."
      ],
      "metadata": {
        "id": "Hl9LPoUflSrY"
      }
    },
    {
      "cell_type": "code",
      "source": [
        "name = input()\n",
        "alpha = [0] * 26\n",
        "\n",
        "# 알파벳 개수 세기\n",
        "for char in name:\n",
        "    alpha[ord(char) - ord('A')] += 1\n",
        "\n",
        "odd_count = 0\n",
        "mid_char = ''\n",
        "half_str = ''\n",
        "\n",
        "# 홀수 개수 체크 + 가운데 문자 저장 + 앞부분 문자열 만들기\n",
        "for i in range(26):\n",
        "    if alpha[i] % 2 == 1:\n",
        "        odd_count += 1\n",
        "        mid_char = chr(i + ord('A'))\n",
        "\n",
        "    half_str += chr(i + ord('A')) * (alpha[i] // 2)\n",
        "\n",
        "# 팰린드롬 조건 확인\n",
        "if odd_count > 1:\n",
        "    print(\"I'm Sorry Hansoo\")\n",
        "else:\n",
        "    # 사전순으로 앞서야 하니까 앞부분 + 가운데 + 뒷부분\n",
        "    print(half_str + mid_char + half_str[::-1])\n"
      ],
      "metadata": {
        "id": "nesqhoxtqQVr"
      },
      "execution_count": null,
      "outputs": []
    },
    {
      "cell_type": "markdown",
      "source": [
        "## 그룹 단어 체커\n",
        "\n",
        "문제\n",
        "\n",
        "그룹 단어란 단어에 존재하는 모든 문자에 대해서, 각 문자가 연속해서 나타나는 경우만을 말한다. 예를 들면, ccazzzzbb는 c, a, z, b가 모두 연속해서 나타나고, kin도 k, i, n이 연속해서 나타나기 때문에 그룹 단어이지만, aabbbccb는 b가 떨어져서 나타나기 때문에 그룹 단어가 아니다.\n",
        "\n",
        "단어 N개를 입력으로 받아 그룹 단어의 개수를 출력하는 프로그램을 작성하시오.\n",
        "\n",
        "입력\n",
        "\n",
        "첫째 줄에 단어의 개수 N이 들어온다. N은 100보다 작거나 같은 자연수이다. 둘째 줄부터 N개의 줄에 단어가 들어온다. 단어는 알파벳 소문자로만 되어있고 중복되지 않으며, 길이는 최대 100이다.\n",
        "\n",
        "출력\n",
        "\n",
        "첫째 줄에 그룹 단어의 개수를 출력한다."
      ],
      "metadata": {
        "id": "uTDKWzEVYtP-"
      }
    },
    {
      "cell_type": "code",
      "source": [
        " T = int(input())\n",
        "\n",
        "total = 0\n",
        "\n",
        "for _ in range(T):\n",
        "    flag = True\n",
        "    prev_lst = []\n",
        "    prev = ''\n",
        "    word = input()\n",
        "\n",
        "    for w in word:\n",
        "        if w != prev: # 만약 이전꺼랑 다르면\n",
        "            if w in prev_lst: # 예전에도 있었는지 찾아보고\n",
        "                flag = False # 그럼 False로 바꿔줌\n",
        "            else:\n",
        "                prev = w # 이전꺼랑 다르고, prev_lst에 없으면 prev를 w로 바꿈\n",
        "                prev_lst.append(w) # prev_lst에 w를 넣어줌\n",
        "\n",
        "    if flag == True:\n",
        "        total += 1\n",
        "\n",
        "print(total)"
      ],
      "metadata": {
        "id": "frYBDYtubH9o"
      },
      "execution_count": null,
      "outputs": []
    },
    {
      "cell_type": "markdown",
      "source": [
        "## 문서검색\n",
        "\n",
        "문제\n",
        "\n",
        "세준이는 영어로만 이루어진 어떤 문서를 검색하는 함수를 만들려고 한다. 이 함수는 어떤 단어가 총 몇 번 등장하는지 세려고 한다. 그러나, 세준이의 함수는 중복되어 세는 것은 빼고 세야 한다. 예를 들어, 문서가 abababa이고, 그리고 찾으려는 단어가 ababa라면, 세준이의 이 함수는 이 단어를 0번부터 찾을 수 있고, 2번부터도 찾을 수 있다. 그러나 동시에 셀 수는 없다.\n",
        "\n",
        "세준이는 문서와 검색하려는 단어가 주어졌을 때, 그 단어가 최대 몇 번 중복되지 않게 등장하는지 구하는 프로그램을 작성하시오.\n",
        "\n",
        "입력\n",
        "\n",
        "첫째 줄에 문서가 주어진다. 문서의 길이는 최대 2500이다. 둘째 줄에 검색하고 싶은 단어가 주어진다. 이 길이는 최대 50이다. 문서와 단어는 알파벳 소문자와 공백으로 이루어져 있다.\n",
        "\n",
        "출력\n",
        "\n",
        "첫째 줄에 중복되지 않게 최대 몇 번 등장하는지 출력한다."
      ],
      "metadata": {
        "id": "HhHueiaIdQXX"
      }
    },
    {
      "cell_type": "code",
      "source": [
        "def BruteForce(pattern, txt):\n",
        "    M = len(pattern)\n",
        "    N = len(txt)\n",
        "\n",
        "    total = 0\n",
        "\n",
        "    i = 0\n",
        "    while i <= N - M :\n",
        "        j = 0\n",
        "        while j < M and txt[i+j] == pattern[j]:\n",
        "            j += 1\n",
        "            if j == M:\n",
        "                i += M-1\n",
        "                total += 1\n",
        "        i += 1\n",
        "\n",
        "    return total\n",
        "\n",
        "txt = input().strip()\n",
        "pattern = input().strip()\n",
        "\n",
        "result = BruteForce(pattern, txt)\n",
        "print(result)"
      ],
      "metadata": {
        "id": "QqGmaawefiUL"
      },
      "execution_count": null,
      "outputs": []
    },
    {
      "cell_type": "markdown",
      "source": [
        "## DNA\n",
        "\n",
        "문제\n",
        "\n",
        "DNA란 어떤 유전물질을 구성하는 분자이다. 이 DNA는 서로 다른 4가지의 뉴클레오티드로 이루어져 있다(Adenine, Thymine, Guanine, Cytosine). 우리는 어떤 DNA의 물질을 표현할 때, 이 DNA를 이루는 뉴클레오티드의 첫글자를 따서 표현한다. 만약에 Thymine-Adenine-Adenine-Cytosine-Thymine-Guanine-Cytosine-Cytosine-Guanine-Adenine-Thymine로 이루어진 DNA가 있다고 하면, “TAACTGCCGAT”로 표현할 수 있다. 그리고 Hamming Distance란 길이가 같은 두 DNA가 있을 때, 각 위치의 뉴클오티드 문자가 다른 것의 개수이다. 만약에 “AGCAT\"와 ”GGAAT\"는 첫 번째 글자와 세 번째 글자가 다르므로 Hamming Distance는 2이다.\n",
        "\n",
        "우리가 할 일은 다음과 같다. N개의 길이 M인 DNA s1, s2, ..., sn가 주어져 있을 때 Hamming Distance의 합이 가장 작은 DNA s를 구하는 것이다. 즉, s와 s1의 Hamming Distance + s와 s2의 Hamming Distance + s와 s3의 Hamming Distance ... 의 합이 최소가 된다는 의미이다.\n",
        "\n",
        "입력\n",
        "\n",
        "첫 줄에 DNA의 수 N과 문자열의 길이 M이 주어진다. 그리고 둘째 줄부터 N+1번째 줄까지 N개의 DNA가 주어진다. N은 1,000보다 작거나 같은 자연수이고, M은 50보다 작거나 같은 자연수이다.\n",
        "\n",
        "출력\n",
        "`\n",
        "첫째 줄에 Hamming Distance의 합이 가장 작은 DNA 를 출력하고, 둘째 줄에는 그 Hamming Distance의 합을 출력하시오. 그러한 DNA가 여러 개 있을 때에는 사전순으로 가장 앞서는 것을 출력한다."
      ],
      "metadata": {
        "id": "QWkyr4tbfp4h"
      }
    },
    {
      "cell_type": "code",
      "source": [
        "N, M = map(int, input().split())\n",
        "\n",
        "DNA_lst = []\n",
        "for _ in range(N):\n",
        "    DNA_lst.append(input().strip())\n",
        "\n",
        "result = []\n",
        "total = 0\n",
        "\n",
        "for i in range(M):\n",
        "    count = [0] * 26\n",
        "    for row in DNA_lst:\n",
        "        count[ord(row[i]) - 65] += 1\n",
        "\n",
        "    max_count = max(count)\n",
        "\n",
        "    for j in range(26):\n",
        "        if max_count == count[j]:\n",
        "            result.append(chr(j + 65))\n",
        "            break\n",
        "\n",
        "for row in DNA_lst:\n",
        "    for i in range(M):\n",
        "        if row[i] != result[i]:\n",
        "            total += 1\n",
        "\n",
        "print(''.join(result))\n",
        "print(total)"
      ],
      "metadata": {
        "id": "f1QnzLE3gZG3"
      },
      "execution_count": null,
      "outputs": []
    },
    {
      "cell_type": "markdown",
      "source": [
        "## 수학숙제\n",
        "\n",
        "문제\n",
        "\n",
        "상근이는 수학시간에 딴 짓을 하다가 선생님께 걸렸다. 선생님은 상근이에게 이번 주말동안 반성하라며 엄청난 숙제를 내주었다.\n",
        "\n",
        "선생님이 상근이에게 준 종이에는 숫자와 알파벳 소문자로 되어있는 글자가 N줄있다. 상근이는 여기서 숫자를 모두 찾은 뒤, 이 숫자를 비내림차순으로 정리해야한다. 숫자의 앞에 0이 있는 경우에는 정리하면서 생략할 수 있다.\n",
        "\n",
        "글자를 살펴보다가 숫자가 나오는 경우에는, 가능한 가장 큰 숫자를 찾아야 한다. 즉, 모든 숫자의 앞과 뒤에 문자가 있거나, 줄의 시작 또는 끝이어야 한다.\n",
        "\n",
        "예를 들어, 01a2b3456cde478에서 숫자를 찾으면 1, 2, 3456, 478이다.\n",
        "\n",
        "선생님이 준 종이의 내용이 주어졌을 때, 상근이의 숙제를 대신하는 프로그램을 작성하시오.\n",
        "\n",
        "입력\n",
        "\n",
        "첫째 줄에 종이의 줄의 개수 N이 주어진다. (1 ≤ N ≤ 100)\n",
        "\n",
        "다음 N개의 줄에는 각 줄의 내용이 주어진다. 각 줄은 최대 100글자이고, 항상 알파벳 소문자와 숫자로만 이루어져 있다.\n",
        "\n",
        "출력\n",
        "\n",
        "종이에서 찾은 숫자의 개수를 M이라고 하면, 출력은 M줄로 이루어져야 한다. 각 줄에는 종이에서 찾은 숫자를 하나씩 출력해야 한다. 이때, 비내림차순으로 출력해야 한다. 비내림차순은 내림차순의 반대인 경우인데, 다음 수가 앞의 수보다 크거나 같은 경우를 말한다."
      ],
      "metadata": {
        "id": "_IKWoSojtKIE"
      }
    },
    {
      "cell_type": "code",
      "source": [
        "N = int(input())\n",
        "num_lst = []\n",
        "\n",
        "for _ in range(N):\n",
        "    numm = input().strip()\n",
        "    temp = ''\n",
        "    for n in numm:\n",
        "        if n.isdecimal():\n",
        "            temp += n\n",
        "        else:\n",
        "            if temp:\n",
        "                num_lst.append(int(temp))\n",
        "                temp = ''\n",
        "    if temp:\n",
        "        num_lst.append(int(temp))\n",
        "\n",
        "num_lst.sort()\n",
        "for n in num_lst:\n",
        "    print(n)"
      ],
      "metadata": {
        "id": "qLxwSDLYxZHa"
      },
      "execution_count": null,
      "outputs": []
    },
    {
      "cell_type": "markdown",
      "source": [
        "## 비밀 이메일\n",
        "\n",
        "문제\n",
        "매일 밤, 정인이는 상근이에게 이메일을 보낸다. 정인이는 자신의 이메일이 해킹당할 수도 있다는 생각에, 내용을 항상 암호화해서 보낸다.\n",
        "\n",
        "정인이가 사용하는 암호 알고리즘은 다음과 같다. 정인이가 보내는 메시지는 총 N글자이다.\n",
        "\n",
        "먼저, 정인이는 R<=C이고, R*C=N인 R과 C를 고른다. 만약, 그러한 경우가 여러 개일 경우, R이 큰 값을 선택한다.\n",
        "\n",
        "그 다음, 행이 R개고, 열이 C개인 행렬을 만든다.\n",
        "\n",
        "이제 메시지를 행렬에 옮긴다. 첫 번째 행의 첫 번째 열부터 C번째 열까지 메시지를 순서대로 옮긴 뒤, 남은 메시지는 두 번째 행, 세 번째 행,... R번째 행에 첫 번째 행을 채운 방법과 동일한 순서대로 옮긴다.\n",
        "\n",
        "행렬에 모두 메시지를 옮겼다면, 이 것을 첫 번째 열의 첫 번째 행부터 R번째 행까지 차례대로 읽으면서 다시 받아 적는다. 그 다음에, 두 번째 열, 세 번째 열,..., C번째 열에 쓰여 있는 문자를 첫 번째 열을 읽은 방법과 동일하게 받아적는다.\n",
        "\n",
        "상근이는 매일 밤 정인이의 메시지를 해독하는데 지쳤다. 정인이의 암호 이메일이 주어졌을 때, 이를 해독하는 프로그램을 작성하시오.\n",
        "\n",
        "입력\n",
        "첫째 줄에 상근이가 받은 메시지가 주어진다. 이 메시지는 알파벳 소문자로만 이루어져 있고, 최대 100글자이다.\n",
        "\n",
        "출력\n",
        "첫째 줄에 상근이가 받은 메시지를 해독한 메시지를 출력한다."
      ],
      "metadata": {
        "id": "AKNsTjofxYtq"
      }
    },
    {
      "cell_type": "markdown",
      "source": [
        "## 단어 뒤집기 2\n",
        "\n",
        "문제\n",
        "\n",
        "문자열 S가 주어졌을 때, 이 문자열에서 단어만 뒤집으려고 한다.\n",
        "\n",
        "먼저, 문자열 S는 아래와과 같은 규칙을 지킨다.\n",
        "\n",
        "알파벳 소문자('a'-'z'), 숫자('0'-'9'), 공백(' '), 특수 문자('<', '>')로만 이루어져 있다.\n",
        "문자열의 시작과 끝은 공백이 아니다.\n",
        "'<'와 '>'가 문자열에 있는 경우 번갈아가면서 등장하며, '<'이 먼저 등장한다. 또, 두 문자의 개수는 같다.\n",
        "태그는 '<'로 시작해서 '>'로 끝나는 길이가 3 이상인 부분 문자열이고, '<'와 '>' 사이에는 알파벳 소문자와 공백만 있다. 단어는 알파벳 소문자와 숫자로 이루어진 부분 문자열이고, 연속하는 두 단어는 공백 하나로 구분한다. 태그는 단어가 아니며, 태그와 단어 사이에는 공백이 없다.\n",
        "\n",
        "입력\n",
        "\n",
        "첫째 줄에 문자열 S가 주어진다. S의 길이는 100,000 이하이다.\n",
        "\n",
        "출력\n",
        "\n",
        "첫째 줄에 문자열 S의 단어를 뒤집어서 출력한다."
      ],
      "metadata": {
        "id": "d_yCJQi3xuf4"
      }
    },
    {
      "cell_type": "code",
      "source": [
        "txt = input().strip()\n",
        "result = []\n",
        "word_temp = ''\n",
        "i = 0\n",
        "N = len(txt)\n",
        "\n",
        "while i < N:\n",
        "    if txt[i] == '<':\n",
        "        # 단어 임시 저장된 거 먼저 뒤집어서 결과에 추가\n",
        "        if word_temp:\n",
        "            result.append(word_temp[::-1])\n",
        "            word_temp = ''\n",
        "\n",
        "        # 태그 그대로 저장\n",
        "        while i < N and txt[i] != '>':\n",
        "            result.append(txt[i])\n",
        "            i += 1\n",
        "        result.append('>')  # '>'도 포함시켜줘야 함\n",
        "        i += 1\n",
        "\n",
        "    elif txt[i] == ' ':\n",
        "        # 단어 저장된 거 뒤집고 공백 추가\n",
        "        result.append(word_temp[::-1])\n",
        "        result.append(' ')\n",
        "        word_temp = ''\n",
        "        i += 1\n",
        "\n",
        "    else:\n",
        "        # 단어에 해당하는 글자 누적\n",
        "        word_temp += txt[i]\n",
        "        i += 1\n",
        "\n",
        "# 마지막에 남은 단어 처리\n",
        "if word_temp:\n",
        "    result.append(word_temp[::-1])\n",
        "\n",
        "print(''.join(result))\n"
      ],
      "metadata": {
        "id": "qYirn2fc1XOY"
      },
      "execution_count": null,
      "outputs": []
    },
    {
      "cell_type": "markdown",
      "source": [
        "## 한국이 그리울땐 서버에 접속하지\n",
        "\n",
        "\n",
        "\n",
        "문제\n",
        "\n",
        "선영이는 이번 학기에 오스트레일리아로 교환 학생을 가게 되었다.\n",
        "\n",
        "호주에 도착하고 처음 며칠은 한국 생각을 잊으면서 즐겁게 지냈다. 몇 주가 지나니 한국이 그리워지기 시작했다.\n",
        "\n",
        "선영이는 한국에 두고온 서버에 접속해서 디렉토리 안에 들어있는 파일 이름을 보면서 그리움을 잊기로 했다. 매일 밤, 파일 이름을 보면서 파일 하나하나에 얽힌 사연을 기억하면서 한국을 생각하고 있었다.\n",
        "\n",
        "어느 날이었다. 한국에 있는 서버가 망가졌고, 그 결과 특정 패턴과 일치하는 파일 이름을 적절히 출력하지 못하는 버그가 생겼다.\n",
        "\n",
        "패턴은 알파벳 소문자 여러 개와 별표(*) 하나로 이루어진 문자열이다.\n",
        "\n",
        "파일 이름이 패턴에 일치하려면, 패턴에 있는 별표를 알파벳 소문자로 이루어진 임의의 문자열로 변환해 파일 이름과 같게 만들 수 있어야 한다. 별표는 빈 문자열로 바꿀 수도 있다. 예를 들어, \"abcd\", \"ad\", \"anestonestod\"는 모두 패턴 \"a*d\"와 일치한다. 하지만, \"bcd\"는 일치하지 않는다.\n",
        "\n",
        "패턴과 파일 이름이 모두 주어졌을 때, 각각의 파일 이름이 패턴과 일치하는지 아닌지를 구하는 프로그램을 작성하시오.\n",
        "\n",
        "입력\n",
        "\n",
        "첫째 줄에 파일의 개수 N이 주어진다. (1 ≤ N ≤ 100)\n",
        "\n",
        "둘째 줄에는 패턴이 주어진다. 패턴은 알파벳 소문자와 별표(아스키값 42) 한 개로 이루어져 있다. 문자열의 길이는 100을 넘지 않으며, 별표는 문자열의 시작과 끝에 있지 않다.\n",
        "\n",
        "다음 N개 줄에는 파일 이름이 주어진다. 파일 이름은 알파벳 소문자로만 이루어져 있고, 길이는 100을 넘지 않는다.\n",
        "\n",
        "출력\n",
        "\n",
        "총 N개의 줄에 걸쳐서, 입력으로 주어진 i번째 파일 이름이 패턴과 일치하면 \"DA\", 일치하지 않으면 \"NE\"를 출력한다.\n",
        "\n",
        "참고로, \"DA\"는 크로아티어어로 \"YES\"를, \"NE\"는 \"NO\"를 의미한다."
      ],
      "metadata": {
        "id": "nYtPIDFs3Qzg"
      }
    },
    {
      "cell_type": "code",
      "source": [
        "N = int(input())\n",
        "pattern = input().strip()\n",
        "\n",
        "pattern_lst = pattern.split('*')\n",
        "\n",
        "for _ in range(N):\n",
        "    word = input().strip()\n",
        "    flag = True  # ← 여기 안에 있어야 매 파일마다 새로 시작됨\n",
        "\n",
        "    # 파일 길이가 패턴보다 짧으면 비교 자체가 불가능\n",
        "    if len(word) < len(pattern_lst[0]) + len(pattern_lst[1]):\n",
        "        flag = False\n",
        "    else:\n",
        "        if pattern_lst[0] != word[:len(pattern_lst[0])]:\n",
        "            flag = False\n",
        "\n",
        "        if pattern_lst[-1] != word[-len(pattern_lst[-1]):]:\n",
        "            flag = False\n",
        "\n",
        "    if flag:\n",
        "        print(\"DA\")\n",
        "    else:\n",
        "        print(\"NE\")"
      ],
      "metadata": {
        "id": "xieLDPLN5zvm"
      },
      "execution_count": null,
      "outputs": []
    }
  ]
}