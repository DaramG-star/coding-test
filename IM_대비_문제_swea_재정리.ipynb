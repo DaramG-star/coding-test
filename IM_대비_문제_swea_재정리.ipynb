{
  "nbformat": 4,
  "nbformat_minor": 0,
  "metadata": {
    "colab": {
      "provenance": [],
      "authorship_tag": "ABX9TyMbiB8FPKYBdyftQQ9xR0+x",
      "include_colab_link": true
    },
    "kernelspec": {
      "name": "python3",
      "display_name": "Python 3"
    },
    "language_info": {
      "name": "python"
    }
  },
  "cells": [
    {
      "cell_type": "markdown",
      "metadata": {
        "id": "view-in-github",
        "colab_type": "text"
      },
      "source": [
        "<a href=\"https://colab.research.google.com/github/DaramG-star/coding-test/blob/main/IM_%EB%8C%80%EB%B9%84_%EB%AC%B8%EC%A0%9C_swea_%EC%9E%AC%EC%A0%95%EB%A6%AC.ipynb\" target=\"_parent\"><img src=\"https://colab.research.google.com/assets/colab-badge.svg\" alt=\"Open In Colab\"/></a>"
      ]
    },
    {
      "cell_type": "markdown",
      "source": [
        "#[기본 문제]"
      ],
      "metadata": {
        "id": "3cETqncn2gA0"
      }
    },
    {
      "cell_type": "markdown",
      "source": [
        "# 전기버스"
      ],
      "metadata": {
        "id": "8W6M7VDyGURZ"
      }
    },
    {
      "cell_type": "markdown",
      "source": [
        "A도시는 전기버스를 운행하려고 한다. 전기버스는 한번 충전으로 이동할 수 있는 정류장 수가 정해져 있어서, 중간에 충전기가 설치된 정류장을 만들기로 했다.\n",
        "\n",
        "버스는 0번에서 출발해 종점인 N번 정류장까지 이동하고, 한번 충전으로 최대한 이동할 수 있는 정류장 수 K가 정해져 있다.\n",
        "\n",
        "충전기가 설치된 M개의 정류장 번호가 주어질 때, 최소한 몇 번의 충전을 해야 종점에 도착할 수 있는지 출력하는 프로그램을 만드시오.\n",
        "\n",
        "만약 충전기 설치가 잘못되어 종점에 도착할 수 없는 경우는 0을 출력한다. 출발지에는 항상 충전기가 설치되어 있지만 충전횟수에는 포함하지 않는다."
      ],
      "metadata": {
        "id": "r35xiiacSMDe"
      }
    },
    {
      "cell_type": "code",
      "execution_count": null,
      "metadata": {
        "colab": {
          "base_uri": "https://localhost:8080/"
        },
        "id": "3N-gP-UaGNsJ",
        "outputId": "fc77d320-1de4-4be3-9cb9-f9e94928c9b6"
      },
      "outputs": [
        {
          "output_type": "stream",
          "name": "stdout",
          "text": [
            "3\n",
            "3 10 5\n",
            "1 3 5 7 9\n",
            "#1 3\n",
            "3 10 5\n",
            "1 3 7 8 9 \n",
            "#2 0\n",
            "5 20 5\n",
            "4 7 9 14 17\n",
            "#3 4\n"
          ]
        }
      ],
      "source": [
        "def solve(charge, k, n, m):\n",
        "    charge = [0] + charge + [n]\n",
        "\n",
        "    last = 0\n",
        "    cnt = 0\n",
        "    for i in range(1, m+2):\n",
        "        if charge[i] - charge[i-1] > k:\n",
        "            return 0\n",
        "        if charge[i] > last + k:\n",
        "            last = charge[i - 1]\n",
        "            cnt += 1\n",
        "    return cnt\n",
        "\n",
        "T = int(input())\n",
        "for tc in range(1, T+1):\n",
        "    K, N, M = list(map(int, input().split()))\n",
        "    charge = list(map(int, input().split()))\n",
        "    ans = solve(charge, K, N, M)\n",
        "    print(f'#{tc} {ans}')"
      ]
    },
    {
      "cell_type": "markdown",
      "source": [
        "# 특별한 정렬"
      ],
      "metadata": {
        "id": "iSCzM3CaVgIz"
      }
    },
    {
      "cell_type": "code",
      "source": [
        "T = int(input())\n",
        "for t in range(1, T+1):\n",
        "    N = int(input())\n",
        "    ai = list(map(int, input().split()))\n",
        "\n",
        "    for i in range(N-1):\n",
        "        for j in range(i, N):\n",
        "            if i % 2 == 1:\n",
        "                if ai[i] > ai[j]:\n",
        "                    ai[i], ai[j] = ai[j], ai[i]\n",
        "\n",
        "\n",
        "            elif i % 2 == 0:\n",
        "                if ai[i] < ai[j]:\n",
        "                    ai[i], ai[j] = ai[j], ai[i]\n",
        "\n",
        "    print(*ai)"
      ],
      "metadata": {
        "colab": {
          "base_uri": "https://localhost:8080/"
        },
        "id": "FcOaVXBCVT0F",
        "outputId": "5f264378-11bd-4980-d37a-1512e97eb857"
      },
      "execution_count": null,
      "outputs": [
        {
          "output_type": "stream",
          "name": "stdout",
          "text": [
            "3\n",
            "10\n",
            "1 2 3 4 5 6 7 8 9 10\n",
            "10 1 9 2 8 3 7 4 6 5\n",
            "10\n",
            "67 39 16 49 60 28 8 85 89 11\n",
            "89 8 85 11 67 16 60 28 49 39\n",
            "20\n",
            "3 69 21 46 43 60 62 97 64 30 17 88 18 98 71 75 59 36 9 26\n",
            "98 3 97 9 88 17 75 18 71 21 69 26 64 30 62 36 60 43 59 46\n"
          ]
        }
      ]
    },
    {
      "cell_type": "markdown",
      "source": [
        "# 이진탐색"
      ],
      "metadata": {
        "id": "Oq-dAQo2Ypoa"
      }
    },
    {
      "cell_type": "code",
      "source": [
        "def binary_search(p, target):\n",
        "    start = 1\n",
        "    end = p\n",
        "    cnt = 0\n",
        "\n",
        "    while start <= end:\n",
        "        middle = (start+end)//2\n",
        "        cnt += 1\n",
        "\n",
        "        if middle == target:\n",
        "            return cnt\n",
        "\n",
        "        elif middle > target:\n",
        "            end = middle\n",
        "\n",
        "        elif middle < target:\n",
        "            start = middle\n",
        "\n",
        "    return -1\n",
        "\n",
        "T = int(input())\n",
        "for t in range(1, T+1):\n",
        "    P, A, B = list(map(int, input().split()))\n",
        "\n",
        "    ba = binary_search(P, A)\n",
        "    bb = binary_search(P, B)\n",
        "\n",
        "    if ba > bb :\n",
        "        print(\"B\")\n",
        "\n",
        "    elif ba == bb :\n",
        "        print(0)\n",
        "\n",
        "    elif ba < bb:\n",
        "        print(\"A\")\n"
      ],
      "metadata": {
        "colab": {
          "base_uri": "https://localhost:8080/"
        },
        "id": "VCnhFcDoZmQO",
        "outputId": "f8150ea0-6bac-43bc-939a-e4171cbb0f35"
      },
      "execution_count": null,
      "outputs": [
        {
          "output_type": "stream",
          "name": "stdout",
          "text": [
            "3\n",
            "400 300 350\n",
            "A\n",
            "1000 299 578\n",
            "0\n",
            "1000 222 888\n",
            "A\n"
          ]
        }
      ]
    },
    {
      "cell_type": "markdown",
      "source": [
        "# SUM"
      ],
      "metadata": {
        "id": "-0ViwCEgp7BJ"
      }
    },
    {
      "cell_type": "code",
      "source": [
        "T = 10\n",
        "for t in range(1, T+1):\n",
        "    N = int(input())\n",
        "    board = [list(map(int, input().split())) for _ in range(100)]\n",
        "\n",
        "    row_board = (sum(row) for row in board)\n",
        "    col_board = (sum(col) for col in zip(*board))\n",
        "\n",
        "    left_board = sum(board[i][i] for i in range(100))\n",
        "    right_board = sum(board[i][99-i] for i in range(100))\n",
        "\n",
        "    max_value = max(max(row_board), max(col_board), right_board, left_board)\n",
        "\n",
        "    print(max_value)"
      ],
      "metadata": {
        "id": "36BtMvWbp7Lx"
      },
      "execution_count": null,
      "outputs": []
    },
    {
      "cell_type": "markdown",
      "source": [
        "# 풍선팡"
      ],
      "metadata": {
        "id": "Ni86Y5qZzAUz"
      }
    },
    {
      "cell_type": "code",
      "source": [
        "T = int(input())\n",
        "\n",
        "for t in range(1, T+1):\n",
        "    N, M = list(map(int, input().split()))\n",
        "    arr = [list(map(int, input().split())) for _ in range(N)]\n",
        "    max_sum = 0\n",
        "\n",
        "    dx = [0, 0, -1, 1]\n",
        "    dy = [1, -1, 0, 0]\n",
        "\n",
        "    for i in range(N):\n",
        "        for j in range(M):\n",
        "            curr_sum = arr[i][j]\n",
        "            for d in range(4):\n",
        "                nx = i + dx[d]\n",
        "                ny = j + dy[d]\n",
        "\n",
        "                if 0 <= nx < N and 0 <= ny < M:\n",
        "                    curr_sum += arr[nx][ny]\n",
        "\n",
        "            if curr_sum > max_sum:\n",
        "                max_sum = curr_sum\n",
        "\n",
        "    print(curr_sum)"
      ],
      "metadata": {
        "id": "91U2tWwey_00"
      },
      "execution_count": null,
      "outputs": []
    },
    {
      "cell_type": "code",
      "source": [
        "T = int(input())  # 테스트 케이스 개수 입력\n",
        "direction = [(-1, 0), (1, 0), (0, -1), (0, 1)]  # 상하좌우\n",
        "\n",
        "for t in range(T):\n",
        "    N, M = map(int, input().split())\n",
        "    arr = [list(map(int, input().split())) for _ in range(N)]\n",
        "\n",
        "    max_bl = 0  # 최댓값 저장\n",
        "\n",
        "    for i in range(N):\n",
        "        for j in range(M):\n",
        "            sum_bl = 0\n",
        "            me = arr[i][j]\n",
        "\n",
        "            if me == 0:\n",
        "                continue\n",
        "\n",
        "            for di, dj in direction:\n",
        "                for step in range(1, me + 1):\n",
        "                    ni = i + di * step\n",
        "                    nj = j + dj * step\n",
        "\n",
        "                    if 0 <= ni < N and 0 <= nj < M:\n",
        "                        sum_bl += arr[ni][nj]\n",
        "                    else:\n",
        "                        break\n",
        "\n",
        "            sum_bl += me\n",
        "\n",
        "            if max_bl < sum_bl:\n",
        "                max_bl = sum_bl\n",
        "\n",
        "    print(f\"#{t+1} {max_bl}\")"
      ],
      "metadata": {
        "id": "JKuVixUe9Mua"
      },
      "execution_count": null,
      "outputs": []
    },
    {
      "cell_type": "markdown",
      "source": [
        "# 달팽이 숫자"
      ],
      "metadata": {
        "id": "sMyt430Eb77q"
      }
    },
    {
      "cell_type": "code",
      "source": [
        "\n",
        "T = int(input())\n",
        "for t in range(1, T+1):\n",
        "    N = int(input())\n",
        "    arr = [[0]*N for _ in range(N)]\n",
        "    x, y = 0, 0\n",
        "    num = 1\n",
        "    d = 0\n",
        "    dx = [0, 1, 0, -1]\n",
        "    dy = [1, 0, -1, 0]\n",
        "\n",
        "    for num in range(N*N):\n",
        "        arr[x][y] = num\n",
        "\n",
        "        ni = x + dx[d]\n",
        "        nj = y + dy[d]\n",
        "\n",
        "         if ni < 0 or ni >= N or nj < 0 or nj >= N or arr[ni][nj] != 0:\n",
        "            d = (d+1) %4\n",
        "            ni = x + dx[d]\n",
        "            nj = y + dy[d]\n",
        "        x, y = nx, ny\n",
        "    print(f'#{tc}')\n",
        "    for lst in arr:\n",
        "        print(*lst)"
      ],
      "metadata": {
        "id": "8CqfAaQxb8yY"
      },
      "execution_count": null,
      "outputs": []
    },
    {
      "cell_type": "markdown",
      "source": [
        "# Ladder1"
      ],
      "metadata": {
        "id": "zSca_70og4RA"
      }
    },
    {
      "cell_type": "code",
      "source": [
        "dx = [1, -1, 0]\n",
        "dy = [0, 0, -1]\n",
        "\n",
        "for t in range(10):\n",
        "    tc = int(input())\n",
        "    arr = [list(map(int, input().split())) for _ in range(100)]\n",
        "\n",
        "    for i in range(100):\n",
        "        if arr[99][i] == 2:\n",
        "            x = i\n",
        "    y = 99\n",
        "    while y > 0:\n",
        "        for i in range(3):\n",
        "            ny = y + dy[i]\n",
        "            nx = x + dx[i]\n",
        "            if 0 <= nx < 100 and 0 <= ny < 100:\n",
        "                if arr[ny][nx] == 1:\n",
        "                    arr[y][x] += 1\n",
        "                    y, x = ny, nx\n",
        "\n",
        "    print(f'#{tc} {x}')"
      ],
      "metadata": {
        "id": "Z-FvHEW_g6d2"
      },
      "execution_count": null,
      "outputs": []
    },
    {
      "cell_type": "markdown",
      "source": [
        "# 글자수"
      ],
      "metadata": {
        "id": "viSBINJbdKbR"
      }
    },
    {
      "cell_type": "code",
      "source": [
        "def BruteForce(pattern, text):\n",
        "    M = len(pattern)\n",
        "    N = len(text)\n",
        "\n",
        "    for i in range(N - M +1):\n",
        "        j = 0\n",
        "        while j < M and text[i+j] == pattern[j]:\n",
        "            j += 1\n",
        "        if j == M:\n",
        "            return 1\n",
        "\n",
        "\n",
        "    return 0\n",
        "\n",
        "T = int(input())\n",
        "\n",
        "for t in range(1, T + 1):\n",
        "    pattern = input().strip()\n",
        "    text = input().strip()\n",
        "\n",
        "    result = BruteForce(pattern, text)\n",
        "    print(f\"#{t} {result}\")"
      ],
      "metadata": {
        "id": "kD1-ddQidJ26"
      },
      "execution_count": null,
      "outputs": []
    },
    {
      "cell_type": "code",
      "source": [
        "def BruteForce(pattern, text):\n",
        "    M = len(pattern)\n",
        "    N = len(text)\n",
        "    total = 0\n",
        "    i = 0  #  while문을 사용하여 패턴 찾기\n",
        "\n",
        "    while i < N - M + 1:  # 패턴이 들어갈 수 있는 범위에서만 탐색\n",
        "        j = 0\n",
        "        while j < M and text[i + j] == pattern[j]:  # 패턴 비교\n",
        "            j += 1\n",
        "        if j == M:  # 패턴이 완전히 일치하면\n",
        "            total += 1  # 패턴 개수 증가\n",
        "            i += M - 1  # `M-1` 만큼 건너뛰기!\n",
        "        i += 1  # 기본적으로 한 칸씩 이동\n",
        "\n",
        "    return total\n",
        "\n",
        "T = int(input())\n",
        "for t in range(1, T+1):\n",
        "    text, pattern = input().split()\n",
        "\n",
        "    pattern_num = BruteForce(pattern, text)\n",
        "\n",
        "    M = len(pattern)\n",
        "    N = len(text)\n",
        "\n",
        "    result = N - (M * pattern_num) + pattern_num\n",
        "    print(f\"#{t} {result}\")"
      ],
      "metadata": {
        "colab": {
          "base_uri": "https://localhost:8080/"
        },
        "id": "wfTInLSal0eg",
        "outputId": "48899e9b-6fa6-48fe-8d38-6c0a7e14ab66"
      },
      "execution_count": null,
      "outputs": [
        {
          "output_type": "stream",
          "name": "stdout",
          "text": [
            "2\n",
            "banana bana\n",
            "#1 3\n",
            "asakusa sa\n",
            "#2 5\n"
          ]
        }
      ]
    },
    {
      "cell_type": "markdown",
      "source": [
        "# 회문"
      ],
      "metadata": {
        "id": "YlgJfdnWgy_Z"
      }
    },
    {
      "cell_type": "code",
      "source": [
        "for t in range(1, 11):\n",
        "    N = int(input())\n",
        "    txt = [list(input().strip()) for _ in range(8)]\n",
        "    total = 0\n",
        "\n",
        "    # 가로 회문 검사\n",
        "    for i in range(8):\n",
        "        for j in range(8-N+1):\n",
        "            for k in range(N//2):\n",
        "                if txt[i][j+k] != txt[i][j+N-1-k]:\n",
        "                    break\n",
        "            else:\n",
        "                total += 1\n",
        "\n",
        "    # 세로 회문 검사 (i 중복 제거)\n",
        "    for i in range(8):\n",
        "        for j in range(8-N+1):\n",
        "            for k in range(N//2):\n",
        "                if txt[j+k][i] != txt[j+N-1-k][i]:\n",
        "                    break\n",
        "            else:\n",
        "                total += 1\n",
        "\n",
        "    print(f\"#{t} {total}\")  # SWEA 스타일 출력 적용\n"
      ],
      "metadata": {
        "id": "DfZ7Z3o3gySZ"
      },
      "execution_count": null,
      "outputs": []
    },
    {
      "cell_type": "code",
      "source": [
        "T = 10\n",
        "for tc in range(1, T + 1):\n",
        "    N = int(input())  # 시작 번호\n",
        "    txt = [list(map(str, input())) for _ in range(100)]\n",
        "    max_len = 0\n",
        "\n",
        "    # 가로 회문\n",
        "    for len in range(100, 0, -1): #길이\n",
        "        for i in range(100):  # 100줄\n",
        "            for j in range(100 - len + 1): #열 순회\n",
        "                for k in range(len//2): #검증\n",
        "                    if txt[i][j + k] != txt[i][j + len - 1 - k]:\n",
        "                        break\n",
        "                else:\n",
        "                    if max_len < len:\n",
        "                        max_len = len\n",
        "                        break\n",
        "\n",
        "    # 세로 회문\n",
        "    for len in range(100, 0, -1):\n",
        "        for i in range(100):  # 100줄\n",
        "            for j in range(100 - len + 1): #열 순회\n",
        "                for k in range(len//2): #검증\n",
        "                    if txt[j + k][i] != txt[j + len - 1 - k][i]:\n",
        "                        break\n",
        "                else:\n",
        "                    if max_len < len:\n",
        "                        max_len = len\n",
        "                    break\n",
        "\n",
        "    print(f'#{tc} {max_len}')"
      ],
      "metadata": {
        "id": "Ez-52SSslp8x"
      },
      "execution_count": null,
      "outputs": []
    },
    {
      "cell_type": "markdown",
      "source": [
        "# GNS"
      ],
      "metadata": {
        "id": "fumt1f-NoYF_"
      }
    },
    {
      "cell_type": "code",
      "source": [
        "digits = ['ZRO', 'ONE', 'TWO', 'THR', 'FOR', 'FIV', 'SIX', 'SVN', 'EGT', 'NIN']\n",
        "T = int(input())\n",
        "for tc in range(1, T+1):\n",
        "    no, size = map(str, input().split())\n",
        "    size = int(size)\n",
        "    arr = list(map(str, input().split()))\n",
        "    #카운팅\n",
        "    cnts = [0] * 10\n",
        "    for item in arr:\n",
        "        for j in range(10):\n",
        "            if item == digits[j]:\n",
        "                cnts[j] += 1\n",
        "\n",
        "    # 출력\n",
        "    print(f'#{tc}')\n",
        "    for i in range(10):\n",
        "        for j in range(cnts[i]):\n",
        "            print(digits[i], end=' ')\n",
        "    print()"
      ],
      "metadata": {
        "id": "9Fl_Ef7coZWe"
      },
      "execution_count": null,
      "outputs": []
    },
    {
      "cell_type": "markdown",
      "source": [
        "# 부분집합"
      ],
      "metadata": {
        "id": "xE2YH4mXpxtZ"
      }
    },
    {
      "cell_type": "code",
      "source": [
        "T = int(input())\n",
        "for t in range(1,T+1) :\n",
        "    A = [1, 2, 3, 4, 5, 6, 7, 8, 9, 10, 11, 12]\n",
        "    N, K =list(map(int,input().split()))\n",
        "    A_len =len(A)\n",
        "    sum_v = 0\n",
        "    for i in range(1<<A_len) :\n",
        "        result = []\n",
        "        for j in range(A_len):\n",
        "            if i & (1<<j) :\n",
        "                result.append(A[j])\n",
        "        if sum(result) == K and len(result) == N:\n",
        "            sum_v += 1\n",
        "    print(f'#{t} {sum_v}')"
      ],
      "metadata": {
        "id": "Nhy6l2m9px15"
      },
      "execution_count": null,
      "outputs": []
    },
    {
      "cell_type": "markdown",
      "source": [
        "#[D1] - [D2]"
      ],
      "metadata": {
        "id": "v4bjal7P2cWj"
      }
    },
    {
      "cell_type": "markdown",
      "source": [
        "# 스위치 조작"
      ],
      "metadata": {
        "id": "c3zvKUjG-ihg"
      }
    },
    {
      "cell_type": "code",
      "source": [
        "T = int(input())\n",
        "for t in range(1, T+1):\n",
        "    N = int(input())\n",
        "    ai = list(map(int, input().split()))\n",
        "    bi = list(map(int, input().split()))\n",
        "\n",
        "    cnt = 0\n",
        "    for i in range(N):\n",
        "        if ai[i] != bi[i]:\n",
        "            for j in range(i, N):\n",
        "                if ai[j] == 1:\n",
        "                    ai[j] = 0\n",
        "                else:\n",
        "                    ai[j] =1\n",
        "            cnt += 1\n",
        "\n",
        "        else:\n",
        "            pass\n",
        "\n",
        "    print(f'#{t} {cnt}')"
      ],
      "metadata": {
        "colab": {
          "base_uri": "https://localhost:8080/"
        },
        "id": "2IjhvWxh-iNR",
        "outputId": "747e3e5e-d44b-4c62-8c21-c274e97287d8"
      },
      "execution_count": null,
      "outputs": [
        {
          "output_type": "stream",
          "name": "stdout",
          "text": [
            "1\n",
            "3\n",
            "0 0 0\n",
            "0 1 0\n",
            "#1 2\n"
          ]
        }
      ]
    },
    {
      "cell_type": "markdown",
      "source": [
        "# 돌 뒤집기 게임"
      ],
      "metadata": {
        "id": "MZ-qKYSj0mG4"
      }
    },
    {
      "cell_type": "code",
      "source": [
        "testcase=int(input())\n",
        "for tc in range(1,testcase+1):\n",
        "    N,M=map(int,input().split())\n",
        "    lst=list(map(int,input().split()))\n",
        "\n",
        "    for _ in range(M):\n",
        "        i,j=map(int,input().split())\n",
        "        i-=1\n",
        "        for k in range(1,j+1):\n",
        "            left=i-k\n",
        "            right=i+k\n",
        "            if left<0 or right==len(lst):\n",
        "                break\n",
        "            if lst[left]==lst[right]:\n",
        "                lst[left]=1-lst[left]\n",
        "                lst[right]=1-lst[right]\n",
        "    print(f'#{tc}',*lst)"
      ],
      "metadata": {
        "id": "Jtg89nC90mSo"
      },
      "execution_count": null,
      "outputs": []
    },
    {
      "cell_type": "markdown",
      "source": [
        "# 풍선팡 보너스 게임"
      ],
      "metadata": {
        "id": "90mpn03a7JNU"
      }
    },
    {
      "cell_type": "code",
      "source": [
        "T = int(input())\n",
        "for t in range(1, T+1):\n",
        "    N = int(input())\n",
        "    arr = [list(map(int, input().split())) for _ in range(N)]\n",
        "    max_arr = 0\n",
        "    min_arr = float(inf)\n",
        "\n",
        "    for i in range(N):\n",
        "        for j in range(N):\n",
        "            sum_arr = 0\n",
        "\n",
        "            for col in range(N):\n",
        "                sum_arr += arr[i][col]\n",
        "\n",
        "            for row in range(N):\n",
        "                if row != i:\n",
        "                    sum_arr += arr[row][j]\n",
        "\n",
        "            sum_arr -= arr[i][j]\n",
        "\n",
        "            if max_arr < sum_arr:\n",
        "                max_arr = sum_arr\n",
        "\n",
        "            if min_arr > sum_arr:\n",
        "                min_arr = sum_arr\n",
        "\n",
        "    print(f\"#{t} {max_arr - min_arr}\")"
      ],
      "metadata": {
        "id": "phLzeEDB7I0r"
      },
      "execution_count": null,
      "outputs": []
    },
    {
      "cell_type": "markdown",
      "source": [
        "# 파리퇴치 3"
      ],
      "metadata": {
        "id": "dQ0Y9EvkACv-"
      }
    },
    {
      "cell_type": "code",
      "source": [
        "T = int(input())\n",
        "for t in range(1, T+1):\n",
        "    N, M = list(map(int, input().split()))\n",
        "    arr = [list(map(int, input().split())) for _ in range(N)]\n",
        "    max_fly = 0\n",
        "\n",
        "    dx = [0, 0, 1, -1]\n",
        "    dy = [-1, 1, 0, 0]\n",
        "    dx2 = [1, 1, -1, -1]\n",
        "    dy2 = [-1 ,1 ,-1, 1]\n",
        "\n",
        "    for i in range(N):\n",
        "        for j in range(N):\n",
        "            curr_fly = arr[i][j]\n",
        "\n",
        "            for d in range(4):\n",
        "                for k in range(1, M):\n",
        "                    nx = i + dx[d] * k\n",
        "                    ny = j + dy[d] * k\n",
        "\n",
        "                    if 0 <= nx < N and 0<= ny < N:\n",
        "                        curr_fly += arr[nx][ny]\n",
        "\n",
        "                if max_fly < curr_fly:\n",
        "                    max_fly = curr_fly\n",
        "\n",
        "\n",
        "            cross_fly = arr[i][j]\n",
        "            for d in range(4):\n",
        "                for k in range(1, M):\n",
        "                    nx = i + dx2[d] * k\n",
        "                    ny = j + dy2[d] * k\n",
        "\n",
        "                    if 0 <= nx < N and 0<= ny < N:\n",
        "                        cross_fly += arr[nx][ny]\n",
        "\n",
        "                if max_fly < cross_fly:\n",
        "                    max_fly = cross_fly\n",
        "\n",
        "\n",
        "    print(max_fly)"
      ],
      "metadata": {
        "id": "1PpsQJzDACUj"
      },
      "execution_count": null,
      "outputs": []
    },
    {
      "cell_type": "code",
      "source": [
        "T = int(input())\n",
        "for t in range(T):\n",
        "    N, M = list(map(int, input().split()))\n",
        "    fly_list = [list(map(int, input().split())) for _ in range(N)]\n",
        "    dx = [-1, -1, 0]\n",
        "    dy = [0, 1, 1]\n",
        "\n",
        "    max_fly = 0\n",
        "\n",
        "    for i in range(N):\n",
        "        for j in range(N):\n",
        "            sum_fly = 0\n",
        "\n",
        "            for x in range(M):\n",
        "                for y in range(M):\n",
        "                    nx = i + x\n",
        "                    ny = j + y\n",
        "                    if 0 <= nx < N and 0 <= ny < N:\n",
        "                        sum_fly += fly_list[nx][ny]\n",
        "\n",
        "            if max_fly < sum_fly :\n",
        "                max_fly = sum_fly\n",
        "\n",
        "    print(f\"#{t + 1} {max_fly}\")"
      ],
      "metadata": {
        "id": "mVGOHa0X-AwA"
      },
      "execution_count": null,
      "outputs": []
    },
    {
      "cell_type": "markdown",
      "source": [
        "# [D3]"
      ],
      "metadata": {
        "id": "vbpJN7Mi2k4T"
      }
    },
    {
      "cell_type": "markdown",
      "source": [
        "# 퍼펙트 셔플"
      ],
      "metadata": {
        "id": "h-2VwSHt2ulc"
      }
    },
    {
      "cell_type": "code",
      "source": [
        "T = int(input())\n",
        "for t in range(1, T+1):\n",
        "    N = int(input())\n",
        "    card = list(input().split())\n",
        "\n",
        "    # 카드 덱을 반으로 나누기\n",
        "    if N % 2 == 1:  # 홀수일 때\n",
        "        lst1 = card[:N//2+1]\n",
        "        lst2 = card[N//2+1:]\n",
        "    else:  # 짝수일 때\n",
        "        lst1 = card[:N//2]\n",
        "        lst2 = card[N//2:]\n",
        "\n",
        "    # 퍼펙트 셔플 수행\n",
        "    lst3 = []\n",
        "    while lst1 or lst2:\n",
        "        if lst1:\n",
        "            lst3.append(lst1.pop(0))\n",
        "        if lst2:\n",
        "            lst3.append(lst2.pop(0))\n",
        "\n",
        "    # 결과 출력\n",
        "    print(f\"#{t} {' '.join(lst3)}\")\n",
        "\n"
      ],
      "metadata": {
        "id": "hBbKMS-E2xEc"
      },
      "execution_count": null,
      "outputs": []
    },
    {
      "cell_type": "markdown",
      "source": [
        "# 사냥꾼"
      ],
      "metadata": {
        "id": "baUUU1mQ8DMJ"
      }
    },
    {
      "cell_type": "code",
      "source": [
        "# 0은 빈공간, 1은 사냥꾼, 2는 토끼, 3은 바위\n",
        "# 사냥꾼은 상하좌우 및 대각선 8방향을 사격\n",
        "# 사냥꾼 끼리는 사격 불가\n",
        "# 바위 뒤편의 토끼는 사냥 불가\n",
        "\n",
        "T = int(input())\n",
        "\n",
        "dx = [0, 0, -1, 1, 1, 1, -1, -1]\n",
        "dy = [-1, 1, 0, 0, 1, -1, 1, -1]\n",
        "\n",
        "for t in range(1, T+1):\n",
        "    N = int(input())\n",
        "    board = [list(map(int, input().split())) for _ in range(N)]\n",
        "\n",
        "    cnt = 0\n",
        "\n",
        "    for i in range(N):\n",
        "        for j in range(N):\n",
        "            if board[i][j] == 1:\n",
        "                for d in range(8):\n",
        "                    for k in range(1, N):\n",
        "                        nx = i + dx[d] * k\n",
        "                        ny = j + dy[d] * k\n",
        "\n",
        "                        if 0 <= nx < N and 0 <= ny < N:\n",
        "                            if board[nx][ny] == 3:\n",
        "                                break\n",
        "                            elif board[nx][ny] == 2:\n",
        "                                cnt += 1\n",
        "                                board[nx][ny] = 0\n",
        "\n",
        "    print(f\"#{t} {cnt}\")"
      ],
      "metadata": {
        "id": "b2LhJnwn8CNH"
      },
      "execution_count": null,
      "outputs": []
    },
    {
      "cell_type": "markdown",
      "source": [
        "# 오목판정\n"
      ],
      "metadata": {
        "id": "qXk4GkYe858z"
      }
    },
    {
      "cell_type": "code",
      "source": [
        "def alpago(arr,n):\n",
        "\n",
        "    di = [0,1,1,1,0,-1,-1,-1]\n",
        "    dj = [1,1,0,-1,-1,-1,0,1]\n",
        "\n",
        "    for i in range(n):\n",
        "        for j in range(n):\n",
        "            if arr[i][j] =='o':\n",
        "                for dir in range(8):\n",
        "                    cnt = 0\n",
        "                    for c in range(1,5): # 각 방향별 5칸씩 연속으로 탐색하기 # 끝값주의\n",
        "                        ni = i + di[dir]*c\n",
        "                        nj = j + dj[dir]*c\n",
        "                        if 0<= ni<n and 0<=nj<n and arr[ni][nj] == 'o':\n",
        "                            cnt += 1\n",
        "                    if cnt == 4: # cnt가 4개면 (본인거 한개), 오목\n",
        "                        return 'YES'\n",
        "    return 'NO'\n",
        "\n",
        "T = int(input())\n",
        "\n",
        "for tc in range(1,T+1):\n",
        "    N = int(input())\n",
        "    lst = [list(map(str,input())) for _ in range(N)]\n",
        "\n",
        "    result = alpago(lst,N)\n",
        "\n",
        "    print(f'#{tc} {result}')"
      ],
      "metadata": {
        "id": "n-Q6YYpd87if"
      },
      "execution_count": null,
      "outputs": []
    },
    {
      "cell_type": "markdown",
      "source": [
        "# 세로로 말해요"
      ],
      "metadata": {
        "id": "JFaTkaG691xS"
      }
    },
    {
      "cell_type": "code",
      "source": [
        "T = int(input())  # 테스트 케이스 개수 입력\n",
        "\n",
        "for t in range(T):\n",
        "    # 입력을 받아서 2차원 리스트 만들기\n",
        "    char_list = [list(input().strip()) for _ in range(5)]\n",
        "\n",
        "    # 최대 열 크기 찾기 (가장 긴 행의 길이)\n",
        "    max_col = max(len(row) for row in char_list)\n",
        "\n",
        "    new_list = []\n",
        "\n",
        "    # 열 우선 순회 (최대 열 개수만큼 반복)\n",
        "    for j in range(max_col):\n",
        "        for i in range(5):\n",
        "            if j < len(char_list[i]):  # i번째 행의 길이가 j보다 크다면\n",
        "                new_list.append(char_list[i][j])\n",
        "\n",
        "    # 리스트를 문자열로 변환하여 출력\n",
        "    print(f\"#{t+1} {''.join(new_list)}\")"
      ],
      "metadata": {
        "id": "dV-9n6BB93p7"
      },
      "execution_count": null,
      "outputs": []
    },
    {
      "cell_type": "markdown",
      "source": [
        "#농작물 수확하기"
      ],
      "metadata": {
        "id": "VMZn5n9c-JZ8"
      }
    },
    {
      "cell_type": "code",
      "source": [
        "T = int(input())\n",
        "\n",
        "for t in range(1, T + 1):\n",
        "    N = int(input())\n",
        "    farm = [list(map(int, input().strip())) for _ in range(N)]\n",
        "\n",
        "    mid = N // 2  # 가운데 인덱스\n",
        "    total_profit = 0  # 총 수익 저장 변수\n",
        "\n",
        "    for i in range(N):\n",
        "        if i <= mid:\n",
        "            start, end = mid - i, mid + i  # 위쪽 절반 (가운데 포함)\n",
        "        else:\n",
        "            start, end = mid - (N - 1 - i), mid + (N - 1 - i)  # 아래쪽 절반\n",
        "\n",
        "        total_profit += sum(farm[i][start:end + 1])  # 해당 행에서 농작물 가치 합산\n",
        "\n",
        "    print(f\"#{t} {total_profit}\")  # 결과 출력"
      ],
      "metadata": {
        "id": "zwH1SC6i-LYe"
      },
      "execution_count": null,
      "outputs": []
    },
    {
      "cell_type": "markdown",
      "source": [
        "# 어디에 단어가 들어갈 수 있을까\n",
        "\n"
      ],
      "metadata": {
        "id": "kS2Hkxjk-Zba"
      }
    },
    {
      "cell_type": "code",
      "source": [
        "T = int(input())\n",
        "\n",
        "for t in range(1, T+1):\n",
        "    N, K = map(int, input().split())  # 퍼즐 크기 N, 단어 길이 K\n",
        "    puzzle = [list(map(int, input().split())) for _ in range(N)]\n",
        "\n",
        "    total_count = 0  # K 길이의 단어가 들어갈 수 있는 자리 개수\n",
        "\n",
        "    # 가로 탐색\n",
        "    for i in range(N):\n",
        "        cnt = 0\n",
        "        for j in range(N):\n",
        "            if puzzle[i][j] == 1:\n",
        "                cnt += 1  # 1이 나오면 개수 증가\n",
        "            else:\n",
        "                if cnt == K:  # K만큼 연속된 1이었으면 카운트 증가\n",
        "                    total_count += 1\n",
        "                cnt = 0  # 0을 만나면 초기화\n",
        "        if cnt == K:  # 행 끝에서 마지막 연속된 부분 체크\n",
        "            total_count += 1\n",
        "\n",
        "    # 세로 탐색\n",
        "    for j in range(N):\n",
        "        cnt = 0\n",
        "        for i in range(N):\n",
        "            if puzzle[i][j] == 1:\n",
        "                cnt += 1\n",
        "            else:\n",
        "                if cnt == K:\n",
        "                    total_count += 1\n",
        "                cnt = 0\n",
        "        if cnt == K:\n",
        "            total_count += 1\n",
        "\n",
        "    print(f\"#{t} {total_count}\")  # 정답 출력"
      ],
      "metadata": {
        "id": "oM80sng1-Y_Y"
      },
      "execution_count": null,
      "outputs": []
    },
    {
      "cell_type": "markdown",
      "source": [
        "# 스도쿠 검증"
      ],
      "metadata": {
        "id": "ahy2uoT_-iOs"
      }
    },
    {
      "cell_type": "code",
      "source": [
        "T = int(input())\n",
        "\n",
        "for tc in range(1, T+1):\n",
        "    arr = [list(map(int, input().split())) for _ in range(9)]\n",
        "\n",
        "    ans1 = ans2 = ans3 = 1\n",
        "\n",
        "    # 가로 & 세로 검증 (중복 확인 포함)\n",
        "    for i in range(9):\n",
        "        if len(set(arr[i])) != 9:  # 행 중복 체크\n",
        "            ans1 = 0\n",
        "        if len(set(arr[j][i] for j in range(9))) != 9:  # 열 중복 체크\n",
        "            ans2 = 0\n",
        "\n",
        "    # 3x3 박스 검증\n",
        "    for x in range(0, 9, 3):\n",
        "        for y in range(0, 9, 3):\n",
        "            box = set()\n",
        "            for i in range(3):\n",
        "                for j in range(3):\n",
        "                    box.add(arr[x+i][y+j])\n",
        "            if len(box) != 9:\n",
        "                ans3 = 0\n",
        "\n",
        "    print(f\"#{tc} {1 if ans1 + ans2 + ans3 == 3 else 0}\")"
      ],
      "metadata": {
        "id": "hnokjGz_-jZN"
      },
      "execution_count": null,
      "outputs": []
    },
    {
      "cell_type": "markdown",
      "source": [
        "#두개의 숫자열"
      ],
      "metadata": {
        "id": "h1IvSV4C-pNn"
      }
    },
    {
      "cell_type": "code",
      "source": [
        "def my_multi(N, M, Ai, Bi):\n",
        "    if N > M:\n",
        "        N, M = M, N\n",
        "        Ai, Bi = Bi, Ai\n",
        "\n",
        "    max_multi = float('-inf')\n",
        "\n",
        "    for i in range(M - N + 1):  # M-N+1개의 가능한 위치 탐색\n",
        "        curr_multi = 0\n",
        "        for j in range(N):  # Ai와 Bi의 M-N 범위만큼 곱셈 수행\n",
        "            curr_multi += Ai[j] * Bi[i + j]\n",
        "\n",
        "        max_multi = max(max_multi, curr_multi)\n",
        "\n",
        "    return max_multi\n",
        "\n",
        "\n",
        "T = int(input())\n",
        "for t in range(1, T+1):\n",
        "    N, M = map(int, input().split())\n",
        "    Ai = list(map(int, input().split()))\n",
        "    Bi = list(map(int, input().split()))\n",
        "\n",
        "    result = my_multi(N, M, Ai, Bi)\n",
        "\n",
        "    print(f\"#{t} {result}\")"
      ],
      "metadata": {
        "id": "SviX5uRf-on1"
      },
      "execution_count": null,
      "outputs": []
    },
    {
      "cell_type": "markdown",
      "source": [
        "# Magnetic"
      ],
      "metadata": {
        "id": "45sBWunf-zW3"
      }
    },
    {
      "cell_type": "code",
      "source": [
        "T = 10\n",
        "\n",
        "for t in range(1, T + 1):\n",
        "    N = int(input())\n",
        "    magnet = [list(map(int, input().split())) for _ in range(N)]\n",
        "\n",
        "    count = 0\n",
        "\n",
        "    for j in range(N):\n",
        "        prev = 0\n",
        "        for i in range(N):\n",
        "            if magnet[i][j] == 1:\n",
        "                prev = 1\n",
        "            elif magnet[i][j] == 2 and prev == 1:\n",
        "                count += 1\n",
        "                prev = 0\n",
        "\n",
        "    print(f\"#{t} {count}\")"
      ],
      "metadata": {
        "id": "GLl7Pjf2-y9A"
      },
      "execution_count": null,
      "outputs": []
    }
  ]
}