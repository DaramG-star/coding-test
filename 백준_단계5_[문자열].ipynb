{
  "nbformat": 4,
  "nbformat_minor": 0,
  "metadata": {
    "colab": {
      "provenance": [],
      "authorship_tag": "ABX9TyOHvbN/Aar+D8rtfzuvIfT3",
      "include_colab_link": true
    },
    "kernelspec": {
      "name": "python3",
      "display_name": "Python 3"
    },
    "language_info": {
      "name": "python"
    }
  },
  "cells": [
    {
      "cell_type": "markdown",
      "metadata": {
        "id": "view-in-github",
        "colab_type": "text"
      },
      "source": [
        "<a href=\"https://colab.research.google.com/github/DaramG-star/coding-test/blob/main/%EB%B0%B1%EC%A4%80_%EB%8B%A8%EA%B3%845_%5B%EB%AC%B8%EC%9E%90%EC%97%B4%5D.ipynb\" target=\"_parent\"><img src=\"https://colab.research.google.com/assets/colab-badge.svg\" alt=\"Open In Colab\"/></a>"
      ]
    },
    {
      "cell_type": "markdown",
      "source": [
        "## 1. 문자와 문자열\n",
        "\n",
        "문제 :\n",
        "단어\n",
        "$S$와 정수\n",
        "$i$가 주어졌을 때,\n",
        "$S$의\n",
        "$i$번째 글자를 출력하는 프로그램을 작성하시오.\n",
        "\n",
        "입력 :\n",
        "첫째 줄에 영어 소문자와 대문자로만 이루어진 단어\n",
        "$S$가 주어진다. 단어의 길이는 최대\n",
        "$1\\,000$이다.\n",
        "\n",
        "둘째 줄에 정수\n",
        "$i$가 주어진다. (\n",
        "$1 \\le i \\le \\left|S\\right|$)\n",
        "\n",
        "출력 :\n",
        "\n",
        "$S$의\n",
        "$i$번째 글자를 출력한다."
      ],
      "metadata": {
        "id": "JR3MFTJlmASR"
      }
    },
    {
      "cell_type": "code",
      "execution_count": null,
      "metadata": {
        "colab": {
          "base_uri": "https://localhost:8080/"
        },
        "id": "PbIvy8xXl64d",
        "outputId": "8de145d9-aabe-4bda-b4de-62b28277e360"
      },
      "outputs": [
        {
          "output_type": "stream",
          "name": "stdout",
          "text": [
            "sprout\n",
            "3\n",
            "r\n"
          ]
        }
      ],
      "source": [
        "S = input().strip()\n",
        "\n",
        "N = int(input())\n",
        "\n",
        "print(S[N-1])"
      ]
    },
    {
      "cell_type": "markdown",
      "source": [
        "## 2. 단어 길이 재기\n",
        "\n",
        "문제 :\n",
        "알파벳으로만 이루어진 단어를 입력받아, 그 길이를 출력하는 프로그램을 작성하시오.\n",
        "\n",
        "입력 :\n",
        "첫째 줄에 영어 소문자와 대문자로만 이루어진 단어가 주어진다. 단어의 길이는 최대 100이다.\n",
        "\n",
        "출력 :\n",
        "첫째 줄에 입력으로 주어진 단어의 길이를 출력한다."
      ],
      "metadata": {
        "id": "_qU8HzJOmcNv"
      }
    },
    {
      "cell_type": "code",
      "source": [
        "S = input()\n",
        "\n",
        "print(len(S))"
      ],
      "metadata": {
        "colab": {
          "base_uri": "https://localhost:8080/"
        },
        "id": "eUZdM4grmhvf",
        "outputId": "6e50286b-c6cd-42d5-e38d-be253bd8e3cc"
      },
      "execution_count": null,
      "outputs": [
        {
          "output_type": "stream",
          "name": "stdout",
          "text": [
            "pulljima\n",
            "8\n"
          ]
        }
      ]
    },
    {
      "cell_type": "markdown",
      "source": [
        "## 3. 문자열\n",
        "\n",
        "문제 :\n",
        "문자열을 입력으로 주면 문자열의 첫 글자와 마지막 글자를 출력하는 프로그램을 작성하시오.\n",
        "\n",
        "입력 :\n",
        "입력의 첫 줄에는 테스트 케이스의 개수 T(1 ≤ T ≤ 10)가 주어진다. 각 테스트 케이스는 한 줄에 하나의 문자열이 주어진다. 문자열은 알파벳 A~Z 대문자로 이루어지며 알파벳 사이에 공백은 없으며 문자열의 길이는 1000보다 작다.\n",
        "\n",
        "출력 :\n",
        "각 테스트 케이스에 대해서 주어진 문자열의 첫 글자와 마지막 글자를 연속하여 출력한다."
      ],
      "metadata": {
        "id": "LG_uGB_qmqaX"
      }
    },
    {
      "cell_type": "code",
      "source": [
        "T = int(input())\n",
        "\n",
        "for _ in range(T):\n",
        "  S = input().strip()\n",
        "\n",
        "  print(S[0]+S[-1])"
      ],
      "metadata": {
        "colab": {
          "base_uri": "https://localhost:8080/"
        },
        "id": "mLyCQdU4mvl3",
        "outputId": "f28d8aa0-34b4-484c-b151-7971b15be927"
      },
      "execution_count": null,
      "outputs": [
        {
          "output_type": "stream",
          "name": "stdout",
          "text": [
            "2\n",
            "sprout\n",
            "st\n",
            "daram\n",
            "dm\n"
          ]
        }
      ]
    },
    {
      "cell_type": "markdown",
      "source": [
        "## 4. 아스키 코드\n",
        "\n",
        "문제 :\n",
        "알파벳 소문자, 대문자, 숫자 0-9중 하나가 주어졌을 때, 주어진 글자의 아스키 코드값을 출력하는 프로그램을 작성하시오.\n",
        "\n",
        "입력 :\n",
        "알파벳 소문자, 대문자, 숫자 0-9 중 하나가 첫째 줄에 주어진다.\n",
        "\n",
        "출력 :\n",
        "입력으로 주어진 글자의 아스키 코드 값을 출력한다."
      ],
      "metadata": {
        "id": "WAC6d4yToNV2"
      }
    },
    {
      "cell_type": "code",
      "source": [
        "Al = input().strip()\n",
        "\n",
        "print(ord(Al))"
      ],
      "metadata": {
        "colab": {
          "base_uri": "https://localhost:8080/"
        },
        "id": "slYAkKa4oXjV",
        "outputId": "970d70e0-43a8-4ec6-ffff-e649c27ce1d6"
      },
      "execution_count": null,
      "outputs": [
        {
          "output_type": "stream",
          "name": "stdout",
          "text": [
            "A\n",
            "65\n"
          ]
        }
      ]
    },
    {
      "cell_type": "markdown",
      "source": [
        "## 5. 숫자의 합\n",
        "\n",
        "문제 :\n",
        "N개의 숫자가 공백 없이 쓰여있다. 이 숫자를 모두 합해서 출력하는 프로그램을 작성하시오.\n",
        "\n",
        "입력 :\n",
        "첫째 줄에 숫자의 개수 N (1 ≤ N ≤ 100)이 주어진다. 둘째 줄에 숫자 N개가 공백없이 주어진다.\n",
        "\n",
        "출력 :\n",
        "입력으로 주어진 숫자 N개의 합을 출력한다."
      ],
      "metadata": {
        "id": "zBpHpc9yooJc"
      }
    },
    {
      "cell_type": "code",
      "source": [
        "T = int(input())\n",
        "\n",
        "#문자열로 입력받아서 정수로 변경\n",
        "S = list(map(int, str(input())))\n",
        "\n",
        "sum(S)"
      ],
      "metadata": {
        "colab": {
          "base_uri": "https://localhost:8080/"
        },
        "id": "iXOyaRS7pl4V",
        "outputId": "0acc9760-96dd-4a94-c832-3964afba744a"
      },
      "execution_count": null,
      "outputs": [
        {
          "name": "stdout",
          "output_type": "stream",
          "text": [
            "5\n",
            "54321\n"
          ]
        },
        {
          "output_type": "execute_result",
          "data": {
            "text/plain": [
              "15"
            ]
          },
          "metadata": {},
          "execution_count": 10
        }
      ]
    },
    {
      "cell_type": "markdown",
      "source": [
        "## 6. 알파벳 찾기\n",
        "\n",
        "문제 :\n",
        "알파벳 소문자로만 이루어진 단어 S가 주어진다. 각각의 알파벳에 대해서, 단어에 포함되어 있는 경우에는 처음 등장하는 위치를, 포함되어 있지 않은 경우에는 -1을 출력하는 프로그램을 작성하시오.\n",
        "\n",
        "입력 :\n",
        "첫째 줄에 단어 S가 주어진다. 단어의 길이는 100을 넘지 않으며, 알파벳 소문자로만 이루어져 있다.\n",
        "\n",
        "출력 :\n",
        "각각의 알파벳에 대해서, a가 처음 등장하는 위치, b가 처음 등장하는 위치, ... z가 처음 등장하는 위치를 공백으로 구분해서 출력한다.\n",
        "\n",
        "만약, 어떤 알파벳이 단어에 포함되어 있지 않다면 -1을 출력한다. 단어의 첫 번째 글자는 0번째 위치이고, 두 번째 글자는 1번째 위치이다."
      ],
      "metadata": {
        "id": "LxIDlnHBp0id"
      }
    },
    {
      "cell_type": "code",
      "source": [
        "T = input().strip()\n",
        "\n",
        "for char in range(ord('a'), ord('z')+1):\n",
        "  index = T.find(chr(char))\n",
        "\n",
        "  print(index, end = \" \")"
      ],
      "metadata": {
        "colab": {
          "base_uri": "https://localhost:8080/"
        },
        "id": "DQeOBIBtoqDU",
        "outputId": "d9b65f56-aadb-49e1-a698-ed464cd8d21d"
      },
      "execution_count": null,
      "outputs": [
        {
          "output_type": "stream",
          "name": "stdout",
          "text": [
            "daramg\n",
            "1 -1 -1 0 -1 -1 5 -1 -1 -1 -1 -1 4 -1 -1 -1 -1 2 -1 -1 -1 -1 -1 -1 -1 -1 "
          ]
        }
      ]
    },
    {
      "cell_type": "markdown",
      "source": [
        "## 7. 문자열 반복\n",
        "\n",
        "문제 :\n",
        "문자열 S를 입력받은 후에, 각 문자를 R번 반복해 새 문자열 P를 만든 후 출력하는 프로그램을 작성하시오. 즉, 첫 번째 문자를 R번 반복하고, 두 번째 문자를 R번 반복하는 식으로 P를 만들면 된다. S에는 QR Code \"alphanumeric\" 문자만 들어있다.\n",
        "\n",
        "QR Code \"alphanumeric\" 문자는 0123456789ABCDEFGHIJKLMNOPQRSTUVWXYZ\\$%*+-./: 이다.\n",
        "\n",
        "입력 :\n",
        "첫째 줄에 테스트 케이스의 개수 T(1 ≤ T ≤ 1,000)가 주어진다. 각 테스트 케이스는 반복 횟수 R(1 ≤ R ≤ 8), 문자열 S가 공백으로 구분되어 주어진다. S의 길이는 적어도 1이며, 20글자를 넘지 않는다.\n",
        "\n",
        "출력 :\n",
        "각 테스트 케이스에 대해 P를 출력한다."
      ],
      "metadata": {
        "id": "_3JoAtT085Vq"
      }
    },
    {
      "cell_type": "code",
      "source": [
        "T = int(input())\n",
        "\n",
        "for _ in range(T):\n",
        "  R, S = input().split()\n",
        "  R = int(R)\n",
        "\n",
        "  result = \"\"\n",
        "  for char in S:\n",
        "    result += char * R\n",
        "\n",
        "  print(result)"
      ],
      "metadata": {
        "colab": {
          "base_uri": "https://localhost:8080/"
        },
        "id": "VqvmqV-3840x",
        "outputId": "9cd0a0d5-015a-4997-fbb1-89c98e677297"
      },
      "execution_count": null,
      "outputs": [
        {
          "output_type": "stream",
          "name": "stdout",
          "text": [
            "2\n",
            "3 ABC\n",
            "AAABBBCCC\n",
            "5 /HTP\n",
            "/////HHHHHTTTTTPPPPP\n"
          ]
        }
      ]
    },
    {
      "cell_type": "markdown",
      "source": [
        "## 8. 단어의 개수\n",
        "\n",
        "문제 :\n",
        "영어 대소문자와 공백으로 이루어진 문자열이 주어진다. 이 문자열에는 몇 개의 단어가 있을까? 이를 구하는 프로그램을 작성하시오. 단, 한 단어가 여러 번 등장하면 등장한 횟수만큼 모두 세어야 한다.\n",
        "\n",
        "입력 :\n",
        "첫 줄에 영어 대소문자와 공백으로 이루어진 문자열이 주어진다. 이 문자열의 길이는 1,000,000을 넘지 않는다. 단어는 공백 한 개로 구분되며, 공백이 연속해서 나오는 경우는 없다. 또한 문자열은 공백으로 시작하거나 끝날 수 있다.\n",
        "\n",
        "출력 :\n",
        "첫째 줄에 단어의 개수를 출력한다."
      ],
      "metadata": {
        "id": "5-uY0f2G-z5J"
      }
    },
    {
      "cell_type": "code",
      "source": [
        "T = input()\n",
        "\n",
        "print(len(T.split()))"
      ],
      "metadata": {
        "colab": {
          "base_uri": "https://localhost:8080/"
        },
        "id": "jOC5vqwj-HOp",
        "outputId": "52ddf013-8170-4f02-946b-cc8d5fe3f62a"
      },
      "execution_count": null,
      "outputs": [
        {
          "output_type": "stream",
          "name": "stdout",
          "text": [
            "다 람 쥐\n",
            "3\n"
          ]
        }
      ]
    },
    {
      "cell_type": "markdown",
      "source": [
        "## 9. 상수\n",
        "\n",
        "문제 :\n",
        "상근이의 동생 상수는 수학을 정말 못한다. 상수는 숫자를 읽는데 문제가 있다. 이렇게 수학을 못하는 상수를 위해서 상근이는 수의 크기를 비교하는 문제를 내주었다. 상근이는 세 자리 수 두 개를 칠판에 써주었다. 그 다음에 크기가 큰 수를 말해보라고 했다.\n",
        "\n",
        "상수는 수를 다른 사람과 다르게 거꾸로 읽는다. 예를 들어, 734와 893을 칠판에 적었다면, 상수는 이 수를 437과 398로 읽는다. 따라서, 상수는 두 수중 큰 수인 437을 큰 수라고 말할 것이다.\n",
        "\n",
        "두 수가 주어졌을 때, 상수의 대답을 출력하는 프로그램을 작성하시오.\n",
        "\n",
        "입력 :\n",
        "첫째 줄에 상근이가 칠판에 적은 두 수 A와 B가 주어진다. 두 수는 같지 않은 세 자리 수이며, 0이 포함되어 있지 않다.\n",
        "\n",
        "출력 :\n",
        "첫째 줄에 상수의 대답을 출력한다."
      ],
      "metadata": {
        "id": "h7AgMV3F_cG7"
      }
    },
    {
      "cell_type": "code",
      "source": [
        "A, B = list(map(str, input().split()))\n",
        "\n",
        "# 문자열을 뒤집어서 비교\n",
        "rA = A[::-1]\n",
        "rB = B[::-1]\n",
        "\n",
        "if rA > rB:\n",
        "    print(rA)\n",
        "else:\n",
        "    print(rB)"
      ],
      "metadata": {
        "colab": {
          "base_uri": "https://localhost:8080/"
        },
        "id": "qcf4qDF-_bmG",
        "outputId": "683475a6-d3ee-49d0-dde1-4b42f690be2d"
      },
      "execution_count": null,
      "outputs": [
        {
          "output_type": "stream",
          "name": "stdout",
          "text": [
            "221 231\n",
            "132\n"
          ]
        }
      ]
    },
    {
      "cell_type": "markdown",
      "source": [
        "## 10. 다이얼\n",
        "\n",
        "문제 :\n",
        "상근이의 할머니는 아래 그림과 같이 오래된 다이얼 전화기를 사용한다.\n",
        "\n",
        "전화를 걸고 싶은 번호가 있다면, 숫자를 하나를 누른 다음에 금속 핀이 있는 곳 까지 시계방향으로 돌려야 한다. 숫자를 하나 누르면 다이얼이 처음 위치로 돌아가고, 다음 숫자를 누르려면 다이얼을 처음 위치에서 다시 돌려야 한다.\n",
        "\n",
        "숫자 1을 걸려면 총 2초가 필요하다. 1보다 큰 수를 거는데 걸리는 시간은 이보다 더 걸리며, 한 칸 옆에 있는 숫자를 걸기 위해선 1초씩 더 걸린다.\n",
        "\n",
        "상근이의 할머니는 전화 번호를 각 숫자에 해당하는 문자로 외운다. 즉, 어떤 단어를 걸 때, 각 알파벳에 해당하는 숫자를 걸면 된다. 예를 들어, UNUCIC는 868242와 같다.\n",
        "\n",
        "할머니가 외운 단어가 주어졌을 때, 이 전화를 걸기 위해서 필요한 최소 시간을 구하는 프로그램을 작성하시오.\n",
        "\n",
        "입력 :\n",
        "첫째 줄에 알파벳 대문자로 이루어진 단어가 주어진다. 단어의 길이는 2보다 크거나 같고, 15보다 작거나 같다.\n",
        "\n",
        "출력 :\n",
        "첫째 줄에 다이얼을 걸기 위해서 필요한 최소 시간을 출력한다."
      ],
      "metadata": {
        "id": "kzm2kSa0CbyO"
      }
    },
    {
      "cell_type": "code",
      "source": [
        "T = input().strip()\n",
        "\n",
        "nb = {\n",
        "    'A': 3, 'B': 3, 'C': 3,\n",
        "    'D': 4, 'E': 4, 'F': 4,\n",
        "    'G': 5, 'H': 5, 'I': 5,\n",
        "    'J': 6, 'K': 6, 'L': 6, 'M': 7,\n",
        "    'N': 7, 'O': 7, 'P': 8, 'Q': 8,\n",
        "    'R': 8, 'S': 8, 'T': 9, 'U': 9,\n",
        "    'V': 9, 'W': 10, 'X': 10, 'Y': 10, 'Z': 10\n",
        "}\n",
        "\n",
        "total_time = 0\n",
        "for char in T:\n",
        "  total_time += nb[char]\n",
        "\n",
        "print(total_time)"
      ],
      "metadata": {
        "colab": {
          "base_uri": "https://localhost:8080/"
        },
        "id": "wFdvKegZCaPQ",
        "outputId": "26267412-aeb6-479d-c6a0-6ec583f1d0d1"
      },
      "execution_count": null,
      "outputs": [
        {
          "output_type": "stream",
          "name": "stdout",
          "text": [
            "WA\n",
            "13\n"
          ]
        }
      ]
    },
    {
      "cell_type": "markdown",
      "source": [
        "## 11. 그대로 출력하기\n",
        "\n",
        "문제 :\n",
        "입력 받은 대로 출력하는 프로그램을 작성하시오.\n",
        "\n",
        "입력 :\n",
        "입력이 주어진다. 입력은 최대 100줄로 이루어져 있고, 알파벳 소문자, 대문자, 공백, 숫자로만 이루어져 있다. 각 줄은 100글자를 넘지 않으며, 빈 줄은 주어지지 않는다. 또, 각 줄은 공백으로 시작하지 않고, 공백으로 끝나지 않는다.\n",
        "\n",
        "출력 :\n",
        "입력받은 그대로 출력한다."
      ],
      "metadata": {
        "id": "WXf34cAfaDkG"
      }
    },
    {
      "cell_type": "code",
      "source": [
        "# 최대 100줄을 입력받아 그대로 출력\n",
        "while True:\n",
        "    try:\n",
        "        line = input()  # 한 줄씩 입력 받기\n",
        "        print(line)     # 그대로 출력\n",
        "    except EOFError:\n",
        "        break  # 입력 끝(EOF)일 때 종료"
      ],
      "metadata": {
        "colab": {
          "base_uri": "https://localhost:8080/"
        },
        "id": "xQPj4tyGaAGu",
        "outputId": "8262a8df-02cd-4201-8483-cb52841496dc"
      },
      "execution_count": null,
      "outputs": [
        {
          "output_type": "stream",
          "name": "stdout",
          "text": [
            "Baekjoon\n",
            "Baekjoon\n"
          ]
        }
      ]
    }
  ]
}